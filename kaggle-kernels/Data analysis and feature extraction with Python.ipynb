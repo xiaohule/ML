{
 "cells": [
  {
   "cell_type": "markdown",
   "metadata": {
    "_cell_guid": "2ed88b1f-380e-4b02-a694-04f003453e65",
    "_uuid": "0b05f17541802c7a3736f5f8e306d32dbeb7c9b6"
   },
   "source": [
    "# Exploratory data analysis and feature extraction with Python\n",
    "\n",
    "Using **data visualization**, **feature engineering** and **feature selection** to make a simple **logistic regression** look powerful!\n",
    "\n",
    "[Pedro Marcelino](http://pmarcelino.com/) - April 2018\n",
    "\n",
    "Other Kernels: [Comprehensive data exploration in Python](https://www.kaggle.com/pmarcelino/comprehensive-data-exploration-with-python)\n",
    "\n",
    "---"
   ]
  },
  {
   "cell_type": "markdown",
   "metadata": {
    "_cell_guid": "8f575fa1-5db4-46f5-86cb-d84b9194a117",
    "_uuid": "16e35ed33ca4dfb9fb21138f5bbe0398bc5b971f"
   },
   "source": [
    "I was a kid when the movie 'Titanic' was released. In my mind, I still keep a picture of all those people, outside the cinema, in the queue to buy tickets. Back then, Leonardo DiCaprio and Kate Winslet were just two young kids with nice haircuts and online tickets were science fiction.\n",
    "\n",
    "According to engineers, a class to which I proudly belong, the Titanic was the unsinkable ship. It was beautiful, luxurious and fitted with the best of the technology. Titanic was the state-of-the-art cruiser. It just wasn't that unsinkable.\n",
    "\n",
    "After 100 years, the Titanic still remains a discussion subject in the most diverse areas. For example, you can find [books](https://amzn.to/2Gie0Pv) where the author take leadership lessons from the Titanic to apply in business; you can find interesting [AI projects](http://fortune.com/2018/03/26/china-titanic-artificial-intelligence-sensetime/) that apply deep learning to distinguish Titanic’s romantic scenes from disaster scenes; or you can find extensive exercises of creative thinking regarding [what really happened with the Titanic](https://www.bustle.com/p/6-titanic-conspiracy-theories-that-are-still-fascinating-today-28519).\n",
    "\n",
    "We will also use Titanic for a specific purpose: to learn **exploratory data analysis** and **feature extraction** techniques. Through a complete analysis of the Kaggle's Titanic problem, we will see what to do, where to begin and how to proceed in a data science problem. Topics like **data visualization**, **missing data imputation**, **feature engineering**, **feature selection**, and **logistic regression** will be addressed, serving you repeatedly because after you see what's involved, you'll be able to apply these techniques to any kind of data science problem.\n",
    "\n",
    "Since I'm a true believer of the transforming power of startups, and seeing obvious similarities between what startups do and what a data scientist does, several references to startup methods are present in the text. Also, you'll find some Titanic jokes. Not that I'm a believer in their power to make someone laugh, but just because they are terrific icebreakers...\n",
    "\n",
    "This kernel has been divided into four parts. The first part deals with the development of a baseline model. This model should allow us to quickly understand the problem and the data. Afterwards, we will go into detail. Data will be studied and enriched through exploratory data analysis and feature extraction, to improve the performance of our machine learning model. Finally, some conclusions will be drawn from this kernel and its impact in our data science journey.\n",
    "\n",
    "**Index**\n",
    "\n",
    "1. [The lean data set](#1.-The-lean-data-set)\n",
    "\n",
    " 1.1. [Doing the pitch](#1.1.-Doing-the-pitch)\n",
    " \n",
    " 1.2. [Showing the numbers](#1.2.-Showing-the-numbers)\n",
    " \n",
    " 1.3. [Filling the gaps](#1.3.-Filling-the-gaps)\n",
    " \n",
    " 1.4. [Minimum viable model](#1.4.-Minimum-viable-model)\n",
    " \n",
    "2. [The chubby data set](#2.-The-chubby-data-set)\n",
    " \n",
    " 2.1. [Imputation of 'Age' missing data](#2.1.-Imputation-of-'Age'-missing-data)\n",
    " \n",
    " 2.2. [Exploratory data analysis](#2.2.-Exploratory-data-analysis)\n",
    " \n",
    " 2.3. [Feature extraction](#2.3.-Feature-extraction)\n",
    " \n",
    "3. [Unicorn model](#3.-Unicorn-model)\n",
    "\n",
    " 3.1. [Fit model for best feature combination](#3.1.-Fit-model-for-best-feature-combination)\n",
    " \n",
    " 3.2. [Learning curve](#3.2.-Learning-curve)\n",
    " \n",
    " 3.3. [Validation curve](#3.3.-Validation-curve)\n",
    " \n",
    " 3.4. [Submit predictions](#3.4.-Submit-predictions)\n",
    " \n",
    "4. [Conclusion](#4.-Conclusion)\n",
    "\n",
    "**Warning:** This will be a long read. Get prepared. Bring your notebook, sit on your favorite chair, and pour Cola into a glass full of ice. Ice is important because cola always goes down well with ice. Just like the Titanic (I told you).\n",
    "\n",
    "---"
   ]
  },
  {
   "cell_type": "markdown",
   "metadata": {
    "_cell_guid": "543674f5-aaf8-47fb-a17c-668a89c6a7f7",
    "_uuid": "62d9979ba27bc6c2ed36deed1a0ea0a0bdb68f76"
   },
   "source": [
    "# 0. Belfast, an earlier incubator"
   ]
  },
  {
   "cell_type": "markdown",
   "metadata": {
    "_cell_guid": "c6bee3e3-3756-40ed-8516-1887b494794a",
    "_uuid": "94ab674f2a935da4aab5cd0dbf2086d1b6c12ac1"
   },
   "source": [
    "Incubators are companies that support the creation of startups and their first years of activity. They are important because they help entrepreneurs solve some issues commonly associated with running a business, such as workspace, training, and seed funding.\n",
    "\n",
    "Our engineering masterpiece also needs a starting point. In this section, we start the assemblage of our work by importing some libraries and general functions."
   ]
  },
  {
   "cell_type": "markdown",
   "metadata": {
    "_cell_guid": "7ea5a751-3bc7-40bb-a789-d01d87ab2f12",
    "_uuid": "4454f0dc3023c06875737d99e12d9ba40c3d7813"
   },
   "source": [
    "## Imports"
   ]
  },
  {
   "cell_type": "code",
   "execution_count": 1,
   "metadata": {
    "_cell_guid": "24eda48f-f136-40ff-9bec-27ba612cce6b",
    "_uuid": "1222390a7e9d88443a5d8d8c0489292e9f052e61"
   },
   "outputs": [],
   "source": [
    "# Import libraries\n",
    "import pandas as pd\n",
    "import numpy as np\n",
    "import seaborn as sns\n",
    "import matplotlib.pyplot as plt\n",
    "%matplotlib inline\n",
    "\n",
    "# Put this when it's called\n",
    "from sklearn.model_selection import train_test_split\n",
    "from sklearn.model_selection import learning_curve\n",
    "from sklearn.model_selection import validation_curve\n",
    "from sklearn.model_selection import cross_val_score\n",
    "from sklearn.linear_model import LogisticRegression"
   ]
  },
  {
   "cell_type": "markdown",
   "metadata": {
    "_cell_guid": "dd306186-a9b2-4e62-bf1a-a40535411212",
    "_uuid": "22332c7b42cc1783e12fbe1a0f957224181083e6"
   },
   "source": [
    "## Functions"
   ]
  },
  {
   "cell_type": "code",
   "execution_count": 2,
   "metadata": {
    "_cell_guid": "7d098a03-2b97-41ce-9bea-eb7973830021",
    "_uuid": "a59bd292c30d8d1847573f79a869c5df6b4bca55"
   },
   "outputs": [],
   "source": [
    "# Create table for missing data analysis\n",
    "def draw_missing_data_table(df):\n",
    "    total = df.isnull().sum().sort_values(ascending=False)\n",
    "    percent = (df.isnull().sum()/df.isnull().count()).sort_values(ascending=False)\n",
    "    missing_data = pd.concat([total, percent], axis=1, keys=['Total', 'Percent'])\n",
    "    return missing_data"
   ]
  },
  {
   "cell_type": "code",
   "execution_count": 3,
   "metadata": {
    "_cell_guid": "842d0491-6d3b-4269-ad14-669af85e7b35",
    "_uuid": "2a8bbef09541ed931997ab12fe511832d20d788e"
   },
   "outputs": [],
   "source": [
    "# Plot learning curve\n",
    "def plot_learning_curve(estimator, title, X, y, ylim=None, cv=None,\n",
    "                        n_jobs=1, train_sizes=np.linspace(.1, 1.0, 5)):\n",
    "    plt.figure()\n",
    "    plt.title(title)\n",
    "    if ylim is not None:\n",
    "        plt.ylim(*ylim)\n",
    "    plt.xlabel(\"Training examples\")\n",
    "    plt.ylabel(\"Score\")\n",
    "    train_sizes, train_scores, test_scores = learning_curve(\n",
    "        estimator, X, y, cv=cv, n_jobs=n_jobs, train_sizes=train_sizes)\n",
    "    train_scores_mean = np.mean(train_scores, axis=1)\n",
    "    train_scores_std = np.std(train_scores, axis=1)\n",
    "    test_scores_mean = np.mean(test_scores, axis=1)\n",
    "    test_scores_std = np.std(test_scores, axis=1)\n",
    "    plt.grid()\n",
    "\n",
    "    plt.fill_between(train_sizes, train_scores_mean - train_scores_std,\n",
    "                     train_scores_mean + train_scores_std, alpha=0.1,\n",
    "                     color=\"r\")\n",
    "    plt.fill_between(train_sizes, test_scores_mean - test_scores_std,\n",
    "                     test_scores_mean + test_scores_std, alpha=0.1, color=\"g\")\n",
    "    plt.plot(train_sizes, train_scores_mean, 'o-', color=\"r\",\n",
    "             label=\"Training score\")\n",
    "    plt.plot(train_sizes, test_scores_mean, 'o-', color=\"g\",\n",
    "             label=\"Validation score\")\n",
    "\n",
    "    plt.legend(loc=\"best\")\n",
    "    return plt"
   ]
  },
  {
   "cell_type": "code",
   "execution_count": 4,
   "metadata": {
    "_cell_guid": "f03c3d33-d71f-41f5-909e-e35f3b18b2de",
    "_uuid": "605f7f90ae0f19cc61fb2f46846a483983f63ebf"
   },
   "outputs": [],
   "source": [
    "# Plot validation curve\n",
    "def plot_validation_curve(estimator, title, X, y, param_name, param_range, ylim=None, cv=None,\n",
    "                        n_jobs=1, train_sizes=np.linspace(.1, 1.0, 5)):\n",
    "    train_scores, test_scores = validation_curve(estimator, X, y, param_name, param_range, cv)\n",
    "    train_mean = np.mean(train_scores, axis=1)\n",
    "    train_std = np.std(train_scores, axis=1)\n",
    "    test_mean = np.mean(test_scores, axis=1)\n",
    "    test_std = np.std(test_scores, axis=1)\n",
    "    plt.plot(param_range, train_mean, color='r', marker='o', markersize=5, label='Training score')\n",
    "    plt.fill_between(param_range, train_mean + train_std, train_mean - train_std, alpha=0.15, color='r')\n",
    "    plt.plot(param_range, test_mean, color='g', linestyle='--', marker='s', markersize=5, label='Validation score')\n",
    "    plt.fill_between(param_range, test_mean + test_std, test_mean - test_std, alpha=0.15, color='g')\n",
    "    plt.grid() \n",
    "    plt.xscale('log')\n",
    "    plt.legend(loc='best') \n",
    "    plt.xlabel('Parameter') \n",
    "    plt.ylabel('Score') \n",
    "    plt.ylim(ylim)"
   ]
  },
  {
   "cell_type": "markdown",
   "metadata": {
    "_cell_guid": "7cd18981-748d-4a44-862e-d012970223ff",
    "_uuid": "59a9cb76453cd6b6b73710b1285342209906226f"
   },
   "source": [
    "---"
   ]
  },
  {
   "cell_type": "markdown",
   "metadata": {
    "_cell_guid": "bea8dcd8-6bb9-48ab-afe8-2106e0d3b718",
    "_uuid": "6a99d1c90455c0502b3f9dcc41413389246aa813"
   },
   "source": [
    "# 1. The lean data set"
   ]
  },
  {
   "cell_type": "markdown",
   "metadata": {
    "_cell_guid": "7fd25c6d-d20c-4d68-b283-ee6cf4d3313f",
    "_uuid": "68c1fb7bcf60ac0a5dd7931e1c528ad1df7fb207"
   },
   "source": [
    "In the book ['The Lean Startup'](https://amzn.to/2sHpnvP), Eric Ries tells us his personal experiences adapting lean management principles to high-tech startup companies. Through a series of anecdotes and stories, Ries teaches us all we need to know about agility and lean methodology in the startup world.\n",
    "\n",
    "While a set of important principles are taught throughout the book, the truth is that the lean startup methodology always ends up in an attempt to answer to the question: 'Should this product be built?' \n",
    "\n",
    "To answer this question, the lean startup approach relies on a Build-Measure-Learn process. This process emphasizes rapid iteration as a critical ingredient to product development. It goes through the following phases:\n",
    "1. **Build**. Figure out the problem that needs to be solved, generate ideas about how to solve it, and select the best one. Turn your best idea into a Minimum Viable Product (MVP).\n",
    "2. **Measure**. Test your product. Go to your customers and measure their reactions and behaviors against your product.  \n",
    "3. **Learn**. Analyse the data you collected when testing the product with your customers. Draw conclusions from the experiment and decide what to do next.\n",
    "In other words, this is a validated learning process that quickly builds, tests, and rebuilds products, according to users' feedback. This reduces your market risks by failing fast and cheap, to get you closer and closer to what the market really needs.\n",
    "\n",
    "This kernel does something similar. We will try to fail fast and cheap by quickly building a working end-to-end pipeline (Build). Then, we will instrument the system to evaluate its performance (Measure). Finally, we will make incremental changes to improve the system's performance (Learn). Note that this practical methodology was adapted from Goodfellow et al. (2016), a book you can access for free [here](http://www.deeplearningbook.org/).\n",
    "\n",
    "Initially, we will not invest much time with exploratory data analysis. We will just do the minimum viable effort to implement a reasonable model. This model will be our 'Minimum Viable Model'. Later, we will try to beat this model by enriching our data.\n",
    "\n",
    "**Pop quiz:** was the Titanic a MVP?"
   ]
  },
  {
   "cell_type": "markdown",
   "metadata": {
    "_cell_guid": "0b6446e6-2c25-476f-97a9-fb4ed0d78535",
    "_uuid": "1342848d65a2cd7a2334e2b6545398c94ac0bbd6"
   },
   "source": [
    "## 1.1. Doing the pitch"
   ]
  },
  {
   "cell_type": "markdown",
   "metadata": {
    "_cell_guid": "6a356067-9714-4b3f-87c0-2423d749e401",
    "_uuid": "88b59df036f54ab10297394bdb3344f48c700ed5"
   },
   "source": [
    "Startups use pitches to sell their idea. Accordingly, their pitch should be clear and concise, answering questions such as 'what do you do?', 'what do you want?', and 'who's on your team?'. The pitch is important because investors are more willing to invest when they understand what you're doing. \n",
    "\n",
    "Let's return the first rows of our data set to get a clear and concise picture of what is there and what we can do with it."
   ]
  },
  {
   "cell_type": "code",
   "execution_count": 5,
   "metadata": {
    "_cell_guid": "5af9f619-5892-45b7-a75b-8402db274527",
    "_uuid": "f54e57ad0a4c79f81b5c8049ae3a54d82d6b71d4"
   },
   "outputs": [],
   "source": [
    "# Import data\n",
    "df = pd.read_csv('input/train.csv')\n",
    "df_raw = df.copy()  # Save original data set, just in case."
   ]
  },
  {
   "cell_type": "code",
   "execution_count": 6,
   "metadata": {
    "_cell_guid": "d6251fb6-efb6-4659-b6ff-577e8d489374",
    "_uuid": "cbdb3b1ff3273b7f0f8159fc038390057d5c9a2d"
   },
   "outputs": [
    {
     "data": {
      "text/html": [
       "<div>\n",
       "<style scoped>\n",
       "    .dataframe tbody tr th:only-of-type {\n",
       "        vertical-align: middle;\n",
       "    }\n",
       "\n",
       "    .dataframe tbody tr th {\n",
       "        vertical-align: top;\n",
       "    }\n",
       "\n",
       "    .dataframe thead th {\n",
       "        text-align: right;\n",
       "    }\n",
       "</style>\n",
       "<table border=\"1\" class=\"dataframe\">\n",
       "  <thead>\n",
       "    <tr style=\"text-align: right;\">\n",
       "      <th></th>\n",
       "      <th>PassengerId</th>\n",
       "      <th>Survived</th>\n",
       "      <th>Pclass</th>\n",
       "      <th>Name</th>\n",
       "      <th>Sex</th>\n",
       "      <th>Age</th>\n",
       "      <th>SibSp</th>\n",
       "      <th>Parch</th>\n",
       "      <th>Ticket</th>\n",
       "      <th>Fare</th>\n",
       "      <th>Cabin</th>\n",
       "      <th>Embarked</th>\n",
       "    </tr>\n",
       "  </thead>\n",
       "  <tbody>\n",
       "    <tr>\n",
       "      <th>0</th>\n",
       "      <td>1</td>\n",
       "      <td>0</td>\n",
       "      <td>3</td>\n",
       "      <td>Braund, Mr. Owen Harris</td>\n",
       "      <td>male</td>\n",
       "      <td>22.0</td>\n",
       "      <td>1</td>\n",
       "      <td>0</td>\n",
       "      <td>A/5 21171</td>\n",
       "      <td>7.2500</td>\n",
       "      <td>NaN</td>\n",
       "      <td>S</td>\n",
       "    </tr>\n",
       "    <tr>\n",
       "      <th>1</th>\n",
       "      <td>2</td>\n",
       "      <td>1</td>\n",
       "      <td>1</td>\n",
       "      <td>Cumings, Mrs. John Bradley (Florence Briggs Th...</td>\n",
       "      <td>female</td>\n",
       "      <td>38.0</td>\n",
       "      <td>1</td>\n",
       "      <td>0</td>\n",
       "      <td>PC 17599</td>\n",
       "      <td>71.2833</td>\n",
       "      <td>C85</td>\n",
       "      <td>C</td>\n",
       "    </tr>\n",
       "    <tr>\n",
       "      <th>2</th>\n",
       "      <td>3</td>\n",
       "      <td>1</td>\n",
       "      <td>3</td>\n",
       "      <td>Heikkinen, Miss. Laina</td>\n",
       "      <td>female</td>\n",
       "      <td>26.0</td>\n",
       "      <td>0</td>\n",
       "      <td>0</td>\n",
       "      <td>STON/O2. 3101282</td>\n",
       "      <td>7.9250</td>\n",
       "      <td>NaN</td>\n",
       "      <td>S</td>\n",
       "    </tr>\n",
       "    <tr>\n",
       "      <th>3</th>\n",
       "      <td>4</td>\n",
       "      <td>1</td>\n",
       "      <td>1</td>\n",
       "      <td>Futrelle, Mrs. Jacques Heath (Lily May Peel)</td>\n",
       "      <td>female</td>\n",
       "      <td>35.0</td>\n",
       "      <td>1</td>\n",
       "      <td>0</td>\n",
       "      <td>113803</td>\n",
       "      <td>53.1000</td>\n",
       "      <td>C123</td>\n",
       "      <td>S</td>\n",
       "    </tr>\n",
       "    <tr>\n",
       "      <th>4</th>\n",
       "      <td>5</td>\n",
       "      <td>0</td>\n",
       "      <td>3</td>\n",
       "      <td>Allen, Mr. William Henry</td>\n",
       "      <td>male</td>\n",
       "      <td>35.0</td>\n",
       "      <td>0</td>\n",
       "      <td>0</td>\n",
       "      <td>373450</td>\n",
       "      <td>8.0500</td>\n",
       "      <td>NaN</td>\n",
       "      <td>S</td>\n",
       "    </tr>\n",
       "  </tbody>\n",
       "</table>\n",
       "</div>"
      ],
      "text/plain": [
       "   PassengerId  Survived  Pclass  \\\n",
       "0            1         0       3   \n",
       "1            2         1       1   \n",
       "2            3         1       3   \n",
       "3            4         1       1   \n",
       "4            5         0       3   \n",
       "\n",
       "                                                Name     Sex   Age  SibSp  \\\n",
       "0                            Braund, Mr. Owen Harris    male  22.0      1   \n",
       "1  Cumings, Mrs. John Bradley (Florence Briggs Th...  female  38.0      1   \n",
       "2                             Heikkinen, Miss. Laina  female  26.0      0   \n",
       "3       Futrelle, Mrs. Jacques Heath (Lily May Peel)  female  35.0      1   \n",
       "4                           Allen, Mr. William Henry    male  35.0      0   \n",
       "\n",
       "   Parch            Ticket     Fare Cabin Embarked  \n",
       "0      0         A/5 21171   7.2500   NaN        S  \n",
       "1      0          PC 17599  71.2833   C85        C  \n",
       "2      0  STON/O2. 3101282   7.9250   NaN        S  \n",
       "3      0            113803  53.1000  C123        S  \n",
       "4      0            373450   8.0500   NaN        S  "
      ]
     },
     "execution_count": 6,
     "metadata": {},
     "output_type": "execute_result"
    }
   ],
   "source": [
    "# Overview\n",
    "df.head()"
   ]
  },
  {
   "cell_type": "markdown",
   "metadata": {
    "_cell_guid": "497872d5-6e5d-49b8-af2e-a5541f865e5a",
    "_uuid": "0ae55aabfaf461bc58be6b04e124f80bd674a805"
   },
   "source": [
    "Definitions and quick thoughts: \n",
    "\n",
    "* **PassengerId**. Unique identification of the passenger. It shouldn't be necessary for the machine learning model.\n",
    "* **Survived**. Survival (0 = No, 1 = Yes). Binary variable that will be our target variable.\n",
    "* **Pclass**. Ticket class (1 = 1st, 2 = 2nd, 3 = 3rd). Ready to go.\n",
    "* **Name**. Name of the passenger. We need to parse before using it.\n",
    "* **Sex**. Sex. Categorical variable that should be [encoded](http://scikit-learn.org/stable/modules/preprocessing.html#preprocessing-categorical-features).\n",
    "* **Age**. Age in years. Ready to go.\n",
    "* **SibSp**. # of siblings / spouses aboard the Titanic. Ready to go.\n",
    "* **Parch**. # of parents / children aboard the Titanic. Ready to go.\n",
    "* **Ticket**. Ticket number. Big mess. We need to understand its structure first.\n",
    "* **Fare**. Passenger fare. Ready to go.\n",
    "* **Cabin**. Cabin number. It needs to be parsed.\n",
    "* **Embarked**. Port of Embarkation (C = Cherbourg, Q = Queenstown, S = Southampton). Categorical feature that should be encoded.\n",
    "\n",
    "The main conclusion is that we already have a set of features that we can easily use in our machine learning model. Other features, like 'Name', 'Ticket', and 'Fare', require an additional effort before we can integrate them."
   ]
  },
  {
   "cell_type": "markdown",
   "metadata": {
    "_cell_guid": "1d128c91-6b56-4674-994e-2f36f8056e70",
    "_uuid": "fad001a83d87c292d396064cd26a8c6b6274a236"
   },
   "source": [
    "## 1.2. Showing the numbers"
   ]
  },
  {
   "cell_type": "markdown",
   "metadata": {
    "_cell_guid": "48fae33f-abc7-4c73-af75-8c857fab1901",
    "_uuid": "6b1e7c2a4e524914d5a63cc28d9664637650aafd"
   },
   "source": [
    "Numbers are crucial to set goals, to make sound business decisions, and to obtain money from investors. With numbers you can project the future of your startup, so that everyone can understand which are the expectations around your idea.\n",
    "\n",
    "In the same way, we will generate the descriptive statistics to get the basic quantitative information about the features of our data set. "
   ]
  },
  {
   "cell_type": "code",
   "execution_count": 7,
   "metadata": {
    "_cell_guid": "9c5d5bdc-d6b7-4b2f-98c8-62673846ec06",
    "_uuid": "c85c2be0d128e0bf64d330cfa1c43f721ea51ffd"
   },
   "outputs": [
    {
     "data": {
      "text/html": [
       "<div>\n",
       "<style scoped>\n",
       "    .dataframe tbody tr th:only-of-type {\n",
       "        vertical-align: middle;\n",
       "    }\n",
       "\n",
       "    .dataframe tbody tr th {\n",
       "        vertical-align: top;\n",
       "    }\n",
       "\n",
       "    .dataframe thead th {\n",
       "        text-align: right;\n",
       "    }\n",
       "</style>\n",
       "<table border=\"1\" class=\"dataframe\">\n",
       "  <thead>\n",
       "    <tr style=\"text-align: right;\">\n",
       "      <th></th>\n",
       "      <th>PassengerId</th>\n",
       "      <th>Survived</th>\n",
       "      <th>Pclass</th>\n",
       "      <th>Age</th>\n",
       "      <th>SibSp</th>\n",
       "      <th>Parch</th>\n",
       "      <th>Fare</th>\n",
       "    </tr>\n",
       "  </thead>\n",
       "  <tbody>\n",
       "    <tr>\n",
       "      <th>count</th>\n",
       "      <td>891.000000</td>\n",
       "      <td>891.000000</td>\n",
       "      <td>891.000000</td>\n",
       "      <td>714.000000</td>\n",
       "      <td>891.000000</td>\n",
       "      <td>891.000000</td>\n",
       "      <td>891.000000</td>\n",
       "    </tr>\n",
       "    <tr>\n",
       "      <th>mean</th>\n",
       "      <td>446.000000</td>\n",
       "      <td>0.383838</td>\n",
       "      <td>2.308642</td>\n",
       "      <td>29.699118</td>\n",
       "      <td>0.523008</td>\n",
       "      <td>0.381594</td>\n",
       "      <td>32.204208</td>\n",
       "    </tr>\n",
       "    <tr>\n",
       "      <th>std</th>\n",
       "      <td>257.353842</td>\n",
       "      <td>0.486592</td>\n",
       "      <td>0.836071</td>\n",
       "      <td>14.526497</td>\n",
       "      <td>1.102743</td>\n",
       "      <td>0.806057</td>\n",
       "      <td>49.693429</td>\n",
       "    </tr>\n",
       "    <tr>\n",
       "      <th>min</th>\n",
       "      <td>1.000000</td>\n",
       "      <td>0.000000</td>\n",
       "      <td>1.000000</td>\n",
       "      <td>0.420000</td>\n",
       "      <td>0.000000</td>\n",
       "      <td>0.000000</td>\n",
       "      <td>0.000000</td>\n",
       "    </tr>\n",
       "    <tr>\n",
       "      <th>25%</th>\n",
       "      <td>223.500000</td>\n",
       "      <td>0.000000</td>\n",
       "      <td>2.000000</td>\n",
       "      <td>20.125000</td>\n",
       "      <td>0.000000</td>\n",
       "      <td>0.000000</td>\n",
       "      <td>7.910400</td>\n",
       "    </tr>\n",
       "    <tr>\n",
       "      <th>50%</th>\n",
       "      <td>446.000000</td>\n",
       "      <td>0.000000</td>\n",
       "      <td>3.000000</td>\n",
       "      <td>28.000000</td>\n",
       "      <td>0.000000</td>\n",
       "      <td>0.000000</td>\n",
       "      <td>14.454200</td>\n",
       "    </tr>\n",
       "    <tr>\n",
       "      <th>75%</th>\n",
       "      <td>668.500000</td>\n",
       "      <td>1.000000</td>\n",
       "      <td>3.000000</td>\n",
       "      <td>38.000000</td>\n",
       "      <td>1.000000</td>\n",
       "      <td>0.000000</td>\n",
       "      <td>31.000000</td>\n",
       "    </tr>\n",
       "    <tr>\n",
       "      <th>max</th>\n",
       "      <td>891.000000</td>\n",
       "      <td>1.000000</td>\n",
       "      <td>3.000000</td>\n",
       "      <td>80.000000</td>\n",
       "      <td>8.000000</td>\n",
       "      <td>6.000000</td>\n",
       "      <td>512.329200</td>\n",
       "    </tr>\n",
       "  </tbody>\n",
       "</table>\n",
       "</div>"
      ],
      "text/plain": [
       "       PassengerId    Survived      Pclass         Age       SibSp  \\\n",
       "count   891.000000  891.000000  891.000000  714.000000  891.000000   \n",
       "mean    446.000000    0.383838    2.308642   29.699118    0.523008   \n",
       "std     257.353842    0.486592    0.836071   14.526497    1.102743   \n",
       "min       1.000000    0.000000    1.000000    0.420000    0.000000   \n",
       "25%     223.500000    0.000000    2.000000   20.125000    0.000000   \n",
       "50%     446.000000    0.000000    3.000000   28.000000    0.000000   \n",
       "75%     668.500000    1.000000    3.000000   38.000000    1.000000   \n",
       "max     891.000000    1.000000    3.000000   80.000000    8.000000   \n",
       "\n",
       "            Parch        Fare  \n",
       "count  891.000000  891.000000  \n",
       "mean     0.381594   32.204208  \n",
       "std      0.806057   49.693429  \n",
       "min      0.000000    0.000000  \n",
       "25%      0.000000    7.910400  \n",
       "50%      0.000000   14.454200  \n",
       "75%      0.000000   31.000000  \n",
       "max      6.000000  512.329200  "
      ]
     },
     "execution_count": 7,
     "metadata": {},
     "output_type": "execute_result"
    }
   ],
   "source": [
    "# Descriptive statistics\n",
    "df.describe()"
   ]
  },
  {
   "cell_type": "markdown",
   "metadata": {
    "_cell_guid": "d6a15f54-8e0f-4fea-afcb-5941fbaaedad",
    "_uuid": "8cd71bba96b1769b22157cee1a84003063593eed"
   },
   "source": [
    "There are three aspects that usually catch my attention when I analyse descriptive statistics:\n",
    "1. **Min and max values**. This can give us an idea about the range of values and is helpful to detect outliers. In our case, all the min and max values seem reasonable and in a reasonable range of values. The only exception could eventually be the max value of 'Fare', but for now we will leave it as it is.\n",
    "2. **Mean and standard deviation**. The mean shows us the central tendency of the distribution, while the standard deviation quantifies its amount of variation. For example, a low standard deviation suggests that data points tend to be close to the mean. Giving a quick look to our values, there's nothing that looks like obviously wrong.\n",
    "3. **Count**. This is important to give us a first perception about the volume of missing data. Here, we can see that some 'Age' data is missing.\n",
    "\n",
    "Since there's nothing shocking about the variables, let's proceed to the next step: missing data."
   ]
  },
  {
   "cell_type": "markdown",
   "metadata": {
    "_cell_guid": "74aa736b-1254-4f60-95a7-da10a3bfbdd7",
    "_uuid": "099f68e75192e6f96d14deb616b02de8966c6e07"
   },
   "source": [
    "## 1.3. Filling the gaps"
   ]
  },
  {
   "cell_type": "markdown",
   "metadata": {
    "_cell_guid": "2f8e3feb-8ac9-4fe9-8434-2481c6d0bcb0",
    "_uuid": "bb694a1ba0d01b026588d5dce1d0ffecbd145021"
   },
   "source": [
    "One of my favourite definitions of startup belongs to Eric Ries: 'a startup is a human institution designed to create a new product or service under conditions of extreme uncertainty'.\n",
    "\n",
    "The word 'uncertainty' is key in this definition and it's also key in missing data. Missing data occurs when no data value on one or more variables is available. Consequently, it reduces the size of the data set and is a possible source of bias, since some non-random mechanism can be generating the missing data. As a result, missing data introduces uncertainty in our analysis.\n",
    "\n",
    "There are several strategies to deal with missing data. Some of the most common are: \n",
    "* Use only valid data, deleting the cases where data is missing.  \n",
    "* Impute data using values from similar cases or using the mean value. \n",
    "* Impute data using model-based methods, in which models are defined to predict the missing values.\n",
    "\n",
    "Until today, I've never found a 'one size fits all' solution. I have some dogmas (e.g. I usually exclude variables with more than 25% of missing data), but what usually guides my analysis is intuition, critical thinking and need (sometimes we need to leave our dogmas at the door, if we want to generate some results).\n",
    "\n",
    "My practical advice to handle missing data is to learn a different set of tools. Play with them according to your needs, test them and you should be fine. A good introduction to the subject can be found in [Hair et al. (2013)](https://amzn.to/2M9v0uW). This book has a practical summary about missing data and provides a framework that you can apply in almost all situations. Also, I wrote a technical paper comparing different imputation techniques, which I can share with you if you want.\n",
    "\n",
    "Now that we can see the tip of the iceberg, let's dive into the subject."
   ]
  },
  {
   "cell_type": "code",
   "execution_count": 16,
   "metadata": {
    "_cell_guid": "ee32f22a-c620-449c-975c-53b7cfe5900f",
    "_uuid": "d31401ab943a22b62e3c9de19735e1d9bb8536c9"
   },
   "outputs": [
    {
     "data": {
      "text/html": [
       "<div>\n",
       "<style scoped>\n",
       "    .dataframe tbody tr th:only-of-type {\n",
       "        vertical-align: middle;\n",
       "    }\n",
       "\n",
       "    .dataframe tbody tr th {\n",
       "        vertical-align: top;\n",
       "    }\n",
       "\n",
       "    .dataframe thead th {\n",
       "        text-align: right;\n",
       "    }\n",
       "</style>\n",
       "<table border=\"1\" class=\"dataframe\">\n",
       "  <thead>\n",
       "    <tr style=\"text-align: right;\">\n",
       "      <th></th>\n",
       "      <th>Total</th>\n",
       "      <th>Percent</th>\n",
       "    </tr>\n",
       "  </thead>\n",
       "  <tbody>\n",
       "    <tr>\n",
       "      <th>Cabin</th>\n",
       "      <td>687</td>\n",
       "      <td>0.771044</td>\n",
       "    </tr>\n",
       "    <tr>\n",
       "      <th>Age</th>\n",
       "      <td>177</td>\n",
       "      <td>0.198653</td>\n",
       "    </tr>\n",
       "    <tr>\n",
       "      <th>Embarked</th>\n",
       "      <td>2</td>\n",
       "      <td>0.002245</td>\n",
       "    </tr>\n",
       "    <tr>\n",
       "      <th>Fare</th>\n",
       "      <td>0</td>\n",
       "      <td>0.000000</td>\n",
       "    </tr>\n",
       "    <tr>\n",
       "      <th>Ticket</th>\n",
       "      <td>0</td>\n",
       "      <td>0.000000</td>\n",
       "    </tr>\n",
       "    <tr>\n",
       "      <th>Parch</th>\n",
       "      <td>0</td>\n",
       "      <td>0.000000</td>\n",
       "    </tr>\n",
       "    <tr>\n",
       "      <th>SibSp</th>\n",
       "      <td>0</td>\n",
       "      <td>0.000000</td>\n",
       "    </tr>\n",
       "    <tr>\n",
       "      <th>Sex</th>\n",
       "      <td>0</td>\n",
       "      <td>0.000000</td>\n",
       "    </tr>\n",
       "    <tr>\n",
       "      <th>Name</th>\n",
       "      <td>0</td>\n",
       "      <td>0.000000</td>\n",
       "    </tr>\n",
       "    <tr>\n",
       "      <th>Pclass</th>\n",
       "      <td>0</td>\n",
       "      <td>0.000000</td>\n",
       "    </tr>\n",
       "    <tr>\n",
       "      <th>Survived</th>\n",
       "      <td>0</td>\n",
       "      <td>0.000000</td>\n",
       "    </tr>\n",
       "    <tr>\n",
       "      <th>PassengerId</th>\n",
       "      <td>0</td>\n",
       "      <td>0.000000</td>\n",
       "    </tr>\n",
       "  </tbody>\n",
       "</table>\n",
       "</div>"
      ],
      "text/plain": [
       "             Total   Percent\n",
       "Cabin          687  0.771044\n",
       "Age            177  0.198653\n",
       "Embarked         2  0.002245\n",
       "Fare             0  0.000000\n",
       "Ticket           0  0.000000\n",
       "Parch            0  0.000000\n",
       "SibSp            0  0.000000\n",
       "Sex              0  0.000000\n",
       "Name             0  0.000000\n",
       "Pclass           0  0.000000\n",
       "Survived         0  0.000000\n",
       "PassengerId      0  0.000000"
      ]
     },
     "execution_count": 16,
     "metadata": {},
     "output_type": "execute_result"
    }
   ],
   "source": [
    "# Analyse missing data\n",
    "draw_missing_data_table(df)"
   ]
  },
  {
   "cell_type": "markdown",
   "metadata": {
    "_cell_guid": "e1064e09-c8bf-42da-82da-ba55918a01a2",
    "_uuid": "2af9ecbab206a2fe3aa1aaa0b87d0e6c3aaafff7"
   },
   "source": [
    "First thoughts:\n",
    "\n",
    "* 'Cabin' has too many missing values (>25%). Dogma! We need to delete this variable right away.\n",
    "* 'Age' can be imputed. For now, I'll associate a value that allows me to know that I'm imputing data. Later, I'll revise this strategy.\n",
    "* Due to the low percentage of missing values, I'll delete the observations where we don't know 'Embarked'."
   ]
  },
  {
   "cell_type": "code",
   "execution_count": 17,
   "metadata": {
    "_cell_guid": "e8af5f35-6d52-478e-92e8-fa7491da1cd3",
    "_uuid": "7f08c40f910df8565fb7d247c905d315e6f52ac4"
   },
   "outputs": [
    {
     "data": {
      "text/html": [
       "<div>\n",
       "<style scoped>\n",
       "    .dataframe tbody tr th:only-of-type {\n",
       "        vertical-align: middle;\n",
       "    }\n",
       "\n",
       "    .dataframe tbody tr th {\n",
       "        vertical-align: top;\n",
       "    }\n",
       "\n",
       "    .dataframe thead th {\n",
       "        text-align: right;\n",
       "    }\n",
       "</style>\n",
       "<table border=\"1\" class=\"dataframe\">\n",
       "  <thead>\n",
       "    <tr style=\"text-align: right;\">\n",
       "      <th></th>\n",
       "      <th>PassengerId</th>\n",
       "      <th>Survived</th>\n",
       "      <th>Pclass</th>\n",
       "      <th>Name</th>\n",
       "      <th>Sex</th>\n",
       "      <th>Age</th>\n",
       "      <th>SibSp</th>\n",
       "      <th>Parch</th>\n",
       "      <th>Ticket</th>\n",
       "      <th>Fare</th>\n",
       "      <th>Embarked</th>\n",
       "    </tr>\n",
       "  </thead>\n",
       "  <tbody>\n",
       "    <tr>\n",
       "      <th>0</th>\n",
       "      <td>1</td>\n",
       "      <td>0</td>\n",
       "      <td>3</td>\n",
       "      <td>Braund, Mr. Owen Harris</td>\n",
       "      <td>male</td>\n",
       "      <td>22.0</td>\n",
       "      <td>1</td>\n",
       "      <td>0</td>\n",
       "      <td>A/5 21171</td>\n",
       "      <td>7.2500</td>\n",
       "      <td>S</td>\n",
       "    </tr>\n",
       "    <tr>\n",
       "      <th>1</th>\n",
       "      <td>2</td>\n",
       "      <td>1</td>\n",
       "      <td>1</td>\n",
       "      <td>Cumings, Mrs. John Bradley (Florence Briggs Th...</td>\n",
       "      <td>female</td>\n",
       "      <td>38.0</td>\n",
       "      <td>1</td>\n",
       "      <td>0</td>\n",
       "      <td>PC 17599</td>\n",
       "      <td>71.2833</td>\n",
       "      <td>C</td>\n",
       "    </tr>\n",
       "    <tr>\n",
       "      <th>2</th>\n",
       "      <td>3</td>\n",
       "      <td>1</td>\n",
       "      <td>3</td>\n",
       "      <td>Heikkinen, Miss. Laina</td>\n",
       "      <td>female</td>\n",
       "      <td>26.0</td>\n",
       "      <td>0</td>\n",
       "      <td>0</td>\n",
       "      <td>STON/O2. 3101282</td>\n",
       "      <td>7.9250</td>\n",
       "      <td>S</td>\n",
       "    </tr>\n",
       "    <tr>\n",
       "      <th>3</th>\n",
       "      <td>4</td>\n",
       "      <td>1</td>\n",
       "      <td>1</td>\n",
       "      <td>Futrelle, Mrs. Jacques Heath (Lily May Peel)</td>\n",
       "      <td>female</td>\n",
       "      <td>35.0</td>\n",
       "      <td>1</td>\n",
       "      <td>0</td>\n",
       "      <td>113803</td>\n",
       "      <td>53.1000</td>\n",
       "      <td>S</td>\n",
       "    </tr>\n",
       "    <tr>\n",
       "      <th>4</th>\n",
       "      <td>5</td>\n",
       "      <td>0</td>\n",
       "      <td>3</td>\n",
       "      <td>Allen, Mr. William Henry</td>\n",
       "      <td>male</td>\n",
       "      <td>35.0</td>\n",
       "      <td>0</td>\n",
       "      <td>0</td>\n",
       "      <td>373450</td>\n",
       "      <td>8.0500</td>\n",
       "      <td>S</td>\n",
       "    </tr>\n",
       "  </tbody>\n",
       "</table>\n",
       "</div>"
      ],
      "text/plain": [
       "   PassengerId  Survived  Pclass  \\\n",
       "0            1         0       3   \n",
       "1            2         1       1   \n",
       "2            3         1       3   \n",
       "3            4         1       1   \n",
       "4            5         0       3   \n",
       "\n",
       "                                                Name     Sex   Age  SibSp  \\\n",
       "0                            Braund, Mr. Owen Harris    male  22.0      1   \n",
       "1  Cumings, Mrs. John Bradley (Florence Briggs Th...  female  38.0      1   \n",
       "2                             Heikkinen, Miss. Laina  female  26.0      0   \n",
       "3       Futrelle, Mrs. Jacques Heath (Lily May Peel)  female  35.0      1   \n",
       "4                           Allen, Mr. William Henry    male  35.0      0   \n",
       "\n",
       "   Parch            Ticket     Fare Embarked  \n",
       "0      0         A/5 21171   7.2500        S  \n",
       "1      0          PC 17599  71.2833        C  \n",
       "2      0  STON/O2. 3101282   7.9250        S  \n",
       "3      0            113803  53.1000        S  \n",
       "4      0            373450   8.0500        S  "
      ]
     },
     "execution_count": 17,
     "metadata": {},
     "output_type": "execute_result"
    }
   ],
   "source": [
    "# Drop Cabin\n",
    "df.drop('Cabin', axis=1, inplace=True)\n",
    "df.head()"
   ]
  },
  {
   "cell_type": "code",
   "execution_count": 18,
   "metadata": {
    "_cell_guid": "263da52c-1d79-43bb-a5d2-40fbedac791d",
    "_uuid": "10d5478459e6cfe6472ccb6d25b47763b63026b1"
   },
   "outputs": [
    {
     "data": {
      "text/plain": [
       "1000.0"
      ]
     },
     "execution_count": 18,
     "metadata": {},
     "output_type": "execute_result"
    }
   ],
   "source": [
    "# Fill missing values in Age with a specific value\n",
    "value = 1000\n",
    "df['Age'].fillna(1000, inplace=True)\n",
    "df['Age'].max()"
   ]
  },
  {
   "cell_type": "code",
   "execution_count": 19,
   "metadata": {
    "_cell_guid": "423559d6-fe20-47de-a75c-a8b906f278a5",
    "_uuid": "f7a0d23428db9bd6322f031785da93fa3c63c98a"
   },
   "outputs": [
    {
     "data": {
      "text/html": [
       "<div>\n",
       "<style scoped>\n",
       "    .dataframe tbody tr th:only-of-type {\n",
       "        vertical-align: middle;\n",
       "    }\n",
       "\n",
       "    .dataframe tbody tr th {\n",
       "        vertical-align: top;\n",
       "    }\n",
       "\n",
       "    .dataframe thead th {\n",
       "        text-align: right;\n",
       "    }\n",
       "</style>\n",
       "<table border=\"1\" class=\"dataframe\">\n",
       "  <thead>\n",
       "    <tr style=\"text-align: right;\">\n",
       "      <th></th>\n",
       "      <th>PassengerId</th>\n",
       "      <th>Survived</th>\n",
       "      <th>Pclass</th>\n",
       "      <th>Name</th>\n",
       "      <th>Sex</th>\n",
       "      <th>Age</th>\n",
       "      <th>SibSp</th>\n",
       "      <th>Parch</th>\n",
       "      <th>Ticket</th>\n",
       "      <th>Fare</th>\n",
       "      <th>Embarked</th>\n",
       "    </tr>\n",
       "  </thead>\n",
       "  <tbody>\n",
       "  </tbody>\n",
       "</table>\n",
       "</div>"
      ],
      "text/plain": [
       "Empty DataFrame\n",
       "Columns: [PassengerId, Survived, Pclass, Name, Sex, Age, SibSp, Parch, Ticket, Fare, Embarked]\n",
       "Index: []"
      ]
     },
     "execution_count": 19,
     "metadata": {},
     "output_type": "execute_result"
    }
   ],
   "source": [
    "# Delete observations without Embarked\n",
    "df.drop(df[pd.isnull(df['Embarked'])].index, inplace=True)  # Get index of points where Embarked is null\n",
    "df[pd.isnull(df['Embarked'])]"
   ]
  },
  {
   "cell_type": "markdown",
   "metadata": {
    "_cell_guid": "4034a188-7273-40f0-bb4e-9ce02560333d",
    "_uuid": "31b68a30e8e4f64a06fa099a6ded19fd3b3eee2b"
   },
   "source": [
    "## 1.4. Minimum viable model"
   ]
  },
  {
   "cell_type": "markdown",
   "metadata": {
    "_cell_guid": "6b076d84-98ef-45ce-8b82-d3075d568f67",
    "_uuid": "29154265d94ed9ddff7c94c24827c1bfce5a2c47"
   },
   "source": [
    "The 'Minimum Viable Product' (MVP) is a key concept for any lean startup. Once the problem to solve is figured out, the focus of the startup should be in the development of a solution, the MVP, as fast as they can. Thanks to the MVP, it is possible to begin the learning process and improve the solution towards users needs.\n",
    "\n",
    "[Goodfellow et al. (2016)](http://www.deeplearningbook.org/contents/guidelines.html) proposes an analogous approach for the application of machine learning models. As the authors point out, the successful application of machine learning techniques goes beyond the knowledge of algorithms and their principles. To successfully apply machine learning techniques, we need to start with a simple model that we can master and understand. Only then we should move to more complex algorithms.\n",
    "\n",
    "The authors propose a practical four-steps methodology:\n",
    "1. Select a performance metric and a target value for this metric. This metric will guide your work and allow you to know how well you're performing. In our case, our performance metric will be 'accuracy' because it is the one defined by [Kaggle](https://www.kaggle.com/c/titanic#evaluation).\n",
    "2. Quickly set up a working end-to-end pipeline. This should allow you to estimate the selected performance metric.\n",
    "3. Monitor the system to understand its behaviour, in particular to understand whether its poor performance is related to underfitting, overfitting or defects.\n",
    "4. Improve the system by iteration. Here we can apply feature engineering, tune hyperparameters or even change the algorithm, according to the outputs of our monitoring system.\n",
    "\n",
    "We will follow this methodology. Accordingly, our aim will be to get an initial model that we can use as a first baseline approach. This model will be our 'Minimum Viable Model' (MVM). Note that right now it doesn't matter much how well the model performs. We just need a starting point. All in all, we're entrepreneurs. Worst case scenario, we name this model as 'beta version' :P\n",
    "\n",
    "Ok, let's prepare the data for the MVM launching, fit a logistic regression to it, and analyse the performance of the model through [learning and validation curves](http://scikit-learn.org/stable/modules/learning_curve.html)."
   ]
  },
  {
   "cell_type": "markdown",
   "metadata": {
    "_cell_guid": "39627508-4f51-4197-9085-2cc696894cd7",
    "_uuid": "c6d91fc0cdde9eb1e230c38390f5ddf9127808bb"
   },
   "source": [
    "### 1.4.1. Preparing the data"
   ]
  },
  {
   "cell_type": "code",
   "execution_count": 20,
   "metadata": {
    "_cell_guid": "8b022c48-64e7-4e99-bde9-21d0bb738f99",
    "_uuid": "09d36014314a1c9d0612e89dc538ae32042e22a2"
   },
   "outputs": [
    {
     "data": {
      "text/plain": [
       "PassengerId      int64\n",
       "Survived         int64\n",
       "Pclass           int64\n",
       "Name            object\n",
       "Sex             object\n",
       "Age            float64\n",
       "SibSp            int64\n",
       "Parch            int64\n",
       "Ticket          object\n",
       "Fare           float64\n",
       "Embarked        object\n",
       "dtype: object"
      ]
     },
     "execution_count": 20,
     "metadata": {},
     "output_type": "execute_result"
    }
   ],
   "source": [
    "# Data types\n",
    "df.dtypes"
   ]
  },
  {
   "cell_type": "markdown",
   "metadata": {
    "_cell_guid": "b7b5679f-a895-42d0-b8d7-95b6f56f86b5",
    "_uuid": "42ee64ebbc93c98b997a860913776c92a7f10551"
   },
   "source": [
    "* We don't need 'PassengerId' for prediction purposes, so we will exclude it.\n",
    "* 'Sex', 'Embarked', and 'Pclass' should be categorical. I'll not consider 'Survived' as categorical because it's the output variable.\n",
    "* We need to parse 'Name' and 'Ticket'. For now, I'll ignore these features.\n",
    "* 'SibSp' could be grouped with 'Parch' to create a 'Family' feature. For now, I'll just identify if the passenger is travelling alone or with family."
   ]
  },
  {
   "cell_type": "code",
   "execution_count": 21,
   "metadata": {
    "_cell_guid": "b56d95ea-a955-4ec1-8545-3aae3049c806",
    "_uuid": "79b2b437911018acce12975612bb8bce64c8a535"
   },
   "outputs": [
    {
     "data": {
      "text/html": [
       "<div>\n",
       "<style scoped>\n",
       "    .dataframe tbody tr th:only-of-type {\n",
       "        vertical-align: middle;\n",
       "    }\n",
       "\n",
       "    .dataframe tbody tr th {\n",
       "        vertical-align: top;\n",
       "    }\n",
       "\n",
       "    .dataframe thead th {\n",
       "        text-align: right;\n",
       "    }\n",
       "</style>\n",
       "<table border=\"1\" class=\"dataframe\">\n",
       "  <thead>\n",
       "    <tr style=\"text-align: right;\">\n",
       "      <th></th>\n",
       "      <th>Survived</th>\n",
       "      <th>Pclass</th>\n",
       "      <th>Name</th>\n",
       "      <th>Sex</th>\n",
       "      <th>Age</th>\n",
       "      <th>SibSp</th>\n",
       "      <th>Parch</th>\n",
       "      <th>Ticket</th>\n",
       "      <th>Fare</th>\n",
       "      <th>Embarked</th>\n",
       "    </tr>\n",
       "  </thead>\n",
       "  <tbody>\n",
       "    <tr>\n",
       "      <th>0</th>\n",
       "      <td>0</td>\n",
       "      <td>3</td>\n",
       "      <td>Braund, Mr. Owen Harris</td>\n",
       "      <td>male</td>\n",
       "      <td>22.0</td>\n",
       "      <td>1</td>\n",
       "      <td>0</td>\n",
       "      <td>A/5 21171</td>\n",
       "      <td>7.2500</td>\n",
       "      <td>S</td>\n",
       "    </tr>\n",
       "    <tr>\n",
       "      <th>1</th>\n",
       "      <td>1</td>\n",
       "      <td>1</td>\n",
       "      <td>Cumings, Mrs. John Bradley (Florence Briggs Th...</td>\n",
       "      <td>female</td>\n",
       "      <td>38.0</td>\n",
       "      <td>1</td>\n",
       "      <td>0</td>\n",
       "      <td>PC 17599</td>\n",
       "      <td>71.2833</td>\n",
       "      <td>C</td>\n",
       "    </tr>\n",
       "    <tr>\n",
       "      <th>2</th>\n",
       "      <td>1</td>\n",
       "      <td>3</td>\n",
       "      <td>Heikkinen, Miss. Laina</td>\n",
       "      <td>female</td>\n",
       "      <td>26.0</td>\n",
       "      <td>0</td>\n",
       "      <td>0</td>\n",
       "      <td>STON/O2. 3101282</td>\n",
       "      <td>7.9250</td>\n",
       "      <td>S</td>\n",
       "    </tr>\n",
       "    <tr>\n",
       "      <th>3</th>\n",
       "      <td>1</td>\n",
       "      <td>1</td>\n",
       "      <td>Futrelle, Mrs. Jacques Heath (Lily May Peel)</td>\n",
       "      <td>female</td>\n",
       "      <td>35.0</td>\n",
       "      <td>1</td>\n",
       "      <td>0</td>\n",
       "      <td>113803</td>\n",
       "      <td>53.1000</td>\n",
       "      <td>S</td>\n",
       "    </tr>\n",
       "    <tr>\n",
       "      <th>4</th>\n",
       "      <td>0</td>\n",
       "      <td>3</td>\n",
       "      <td>Allen, Mr. William Henry</td>\n",
       "      <td>male</td>\n",
       "      <td>35.0</td>\n",
       "      <td>0</td>\n",
       "      <td>0</td>\n",
       "      <td>373450</td>\n",
       "      <td>8.0500</td>\n",
       "      <td>S</td>\n",
       "    </tr>\n",
       "  </tbody>\n",
       "</table>\n",
       "</div>"
      ],
      "text/plain": [
       "   Survived  Pclass                                               Name  \\\n",
       "0         0       3                            Braund, Mr. Owen Harris   \n",
       "1         1       1  Cumings, Mrs. John Bradley (Florence Briggs Th...   \n",
       "2         1       3                             Heikkinen, Miss. Laina   \n",
       "3         1       1       Futrelle, Mrs. Jacques Heath (Lily May Peel)   \n",
       "4         0       3                           Allen, Mr. William Henry   \n",
       "\n",
       "      Sex   Age  SibSp  Parch            Ticket     Fare Embarked  \n",
       "0    male  22.0      1      0         A/5 21171   7.2500        S  \n",
       "1  female  38.0      1      0          PC 17599  71.2833        C  \n",
       "2  female  26.0      0      0  STON/O2. 3101282   7.9250        S  \n",
       "3  female  35.0      1      0            113803  53.1000        S  \n",
       "4    male  35.0      0      0            373450   8.0500        S  "
      ]
     },
     "execution_count": 21,
     "metadata": {},
     "output_type": "execute_result"
    }
   ],
   "source": [
    "# Drop PassengerId\n",
    "df.drop('PassengerId', axis=1, inplace=True)\n",
    "df.head()"
   ]
  },
  {
   "cell_type": "code",
   "execution_count": 22,
   "metadata": {
    "_cell_guid": "fbef3502-3471-49b9-bddc-497965b017b7",
    "_uuid": "b94f44f7713d046560c0242b08550de0bee02366"
   },
   "outputs": [],
   "source": [
    "# Define categorical variables\n",
    "df['Sex'] = pd.Categorical(df['Sex'])\n",
    "df['Embarked'] = pd.Categorical(df['Embarked'])"
   ]
  },
  {
   "cell_type": "code",
   "execution_count": 25,
   "metadata": {
    "_cell_guid": "83859041-24f4-4fcc-9ede-b046313c9e9d",
    "_uuid": "82f2d8f11adfba53636be799e1ca3210a5e8d247"
   },
   "outputs": [
    {
     "data": {
      "text/html": [
       "<div>\n",
       "<style scoped>\n",
       "    .dataframe tbody tr th:only-of-type {\n",
       "        vertical-align: middle;\n",
       "    }\n",
       "\n",
       "    .dataframe tbody tr th {\n",
       "        vertical-align: top;\n",
       "    }\n",
       "\n",
       "    .dataframe thead th {\n",
       "        text-align: right;\n",
       "    }\n",
       "</style>\n",
       "<table border=\"1\" class=\"dataframe\">\n",
       "  <thead>\n",
       "    <tr style=\"text-align: right;\">\n",
       "      <th></th>\n",
       "      <th>Survived</th>\n",
       "      <th>Pclass</th>\n",
       "      <th>Name</th>\n",
       "      <th>Sex</th>\n",
       "      <th>Age</th>\n",
       "      <th>SibSp</th>\n",
       "      <th>Parch</th>\n",
       "      <th>Ticket</th>\n",
       "      <th>Fare</th>\n",
       "      <th>Embarked</th>\n",
       "      <th>FamilySize</th>\n",
       "    </tr>\n",
       "  </thead>\n",
       "  <tbody>\n",
       "    <tr>\n",
       "      <th>0</th>\n",
       "      <td>0</td>\n",
       "      <td>3</td>\n",
       "      <td>Braund, Mr. Owen Harris</td>\n",
       "      <td>male</td>\n",
       "      <td>22.0</td>\n",
       "      <td>1</td>\n",
       "      <td>0</td>\n",
       "      <td>A/5 21171</td>\n",
       "      <td>7.2500</td>\n",
       "      <td>S</td>\n",
       "      <td>1</td>\n",
       "    </tr>\n",
       "    <tr>\n",
       "      <th>1</th>\n",
       "      <td>1</td>\n",
       "      <td>1</td>\n",
       "      <td>Cumings, Mrs. John Bradley (Florence Briggs Th...</td>\n",
       "      <td>female</td>\n",
       "      <td>38.0</td>\n",
       "      <td>1</td>\n",
       "      <td>0</td>\n",
       "      <td>PC 17599</td>\n",
       "      <td>71.2833</td>\n",
       "      <td>C</td>\n",
       "      <td>1</td>\n",
       "    </tr>\n",
       "    <tr>\n",
       "      <th>2</th>\n",
       "      <td>1</td>\n",
       "      <td>3</td>\n",
       "      <td>Heikkinen, Miss. Laina</td>\n",
       "      <td>female</td>\n",
       "      <td>26.0</td>\n",
       "      <td>0</td>\n",
       "      <td>0</td>\n",
       "      <td>STON/O2. 3101282</td>\n",
       "      <td>7.9250</td>\n",
       "      <td>S</td>\n",
       "      <td>0</td>\n",
       "    </tr>\n",
       "    <tr>\n",
       "      <th>3</th>\n",
       "      <td>1</td>\n",
       "      <td>1</td>\n",
       "      <td>Futrelle, Mrs. Jacques Heath (Lily May Peel)</td>\n",
       "      <td>female</td>\n",
       "      <td>35.0</td>\n",
       "      <td>1</td>\n",
       "      <td>0</td>\n",
       "      <td>113803</td>\n",
       "      <td>53.1000</td>\n",
       "      <td>S</td>\n",
       "      <td>1</td>\n",
       "    </tr>\n",
       "    <tr>\n",
       "      <th>4</th>\n",
       "      <td>0</td>\n",
       "      <td>3</td>\n",
       "      <td>Allen, Mr. William Henry</td>\n",
       "      <td>male</td>\n",
       "      <td>35.0</td>\n",
       "      <td>0</td>\n",
       "      <td>0</td>\n",
       "      <td>373450</td>\n",
       "      <td>8.0500</td>\n",
       "      <td>S</td>\n",
       "      <td>0</td>\n",
       "    </tr>\n",
       "  </tbody>\n",
       "</table>\n",
       "</div>"
      ],
      "text/plain": [
       "   Survived  Pclass                                               Name  \\\n",
       "0         0       3                            Braund, Mr. Owen Harris   \n",
       "1         1       1  Cumings, Mrs. John Bradley (Florence Briggs Th...   \n",
       "2         1       3                             Heikkinen, Miss. Laina   \n",
       "3         1       1       Futrelle, Mrs. Jacques Heath (Lily May Peel)   \n",
       "4         0       3                           Allen, Mr. William Henry   \n",
       "\n",
       "      Sex   Age  SibSp  Parch            Ticket     Fare Embarked  FamilySize  \n",
       "0    male  22.0      1      0         A/5 21171   7.2500        S           1  \n",
       "1  female  38.0      1      0          PC 17599  71.2833        C           1  \n",
       "2  female  26.0      0      0  STON/O2. 3101282   7.9250        S           0  \n",
       "3  female  35.0      1      0            113803  53.1000        S           1  \n",
       "4    male  35.0      0      0            373450   8.0500        S           0  "
      ]
     },
     "execution_count": 25,
     "metadata": {},
     "output_type": "execute_result"
    }
   ],
   "source": [
    "# Create Family feature\n",
    "df['FamilySize'] = df['SibSp'] + df['Parch']\n",
    "df.head()"
   ]
  },
  {
   "cell_type": "code",
   "execution_count": 28,
   "metadata": {
    "_cell_guid": "686b8e25-cad9-4e11-ba54-ca2daac1fc94",
    "_uuid": "33700ab050e3f52b5d03577a28c54c0c511499dc"
   },
   "outputs": [
    {
     "ename": "KeyError",
     "evalue": "\"['SibSp'] not found in axis\"",
     "output_type": "error",
     "traceback": [
      "\u001b[0;31m---------------------------------------------------------------------------\u001b[0m",
      "\u001b[0;31mKeyError\u001b[0m                                  Traceback (most recent call last)",
      "\u001b[0;32m<ipython-input-28-a74b7300c4f9>\u001b[0m in \u001b[0;36m<module>\u001b[0;34m\u001b[0m\n\u001b[1;32m      1\u001b[0m \u001b[0;31m# Drop SibSp and Parch\u001b[0m\u001b[0;34m\u001b[0m\u001b[0;34m\u001b[0m\u001b[0;34m\u001b[0m\u001b[0m\n\u001b[0;32m----> 2\u001b[0;31m \u001b[0mdf\u001b[0m\u001b[0;34m.\u001b[0m\u001b[0mdrop\u001b[0m\u001b[0;34m(\u001b[0m\u001b[0;34m'SibSp'\u001b[0m\u001b[0;34m,\u001b[0m\u001b[0maxis\u001b[0m\u001b[0;34m=\u001b[0m\u001b[0;36m1\u001b[0m\u001b[0;34m,\u001b[0m\u001b[0minplace\u001b[0m\u001b[0;34m=\u001b[0m\u001b[0;32mTrue\u001b[0m\u001b[0;34m)\u001b[0m\u001b[0;34m\u001b[0m\u001b[0;34m\u001b[0m\u001b[0m\n\u001b[0m\u001b[1;32m      3\u001b[0m \u001b[0mdf\u001b[0m\u001b[0;34m.\u001b[0m\u001b[0mdrop\u001b[0m\u001b[0;34m(\u001b[0m\u001b[0;34m'Parch'\u001b[0m\u001b[0;34m,\u001b[0m\u001b[0maxis\u001b[0m\u001b[0;34m=\u001b[0m\u001b[0;36m1\u001b[0m\u001b[0;34m,\u001b[0m\u001b[0minplace\u001b[0m\u001b[0;34m=\u001b[0m\u001b[0;32mTrue\u001b[0m\u001b[0;34m)\u001b[0m\u001b[0;34m\u001b[0m\u001b[0;34m\u001b[0m\u001b[0m\n\u001b[1;32m      4\u001b[0m \u001b[0mdf\u001b[0m\u001b[0;34m.\u001b[0m\u001b[0mhead\u001b[0m\u001b[0;34m(\u001b[0m\u001b[0;34m)\u001b[0m\u001b[0;34m\u001b[0m\u001b[0;34m\u001b[0m\u001b[0m\n",
      "\u001b[0;32m~/anaconda3/lib/python3.7/site-packages/pandas/core/frame.py\u001b[0m in \u001b[0;36mdrop\u001b[0;34m(self, labels, axis, index, columns, level, inplace, errors)\u001b[0m\n\u001b[1;32m   3695\u001b[0m                                            \u001b[0mindex\u001b[0m\u001b[0;34m=\u001b[0m\u001b[0mindex\u001b[0m\u001b[0;34m,\u001b[0m \u001b[0mcolumns\u001b[0m\u001b[0;34m=\u001b[0m\u001b[0mcolumns\u001b[0m\u001b[0;34m,\u001b[0m\u001b[0;34m\u001b[0m\u001b[0;34m\u001b[0m\u001b[0m\n\u001b[1;32m   3696\u001b[0m                                            \u001b[0mlevel\u001b[0m\u001b[0;34m=\u001b[0m\u001b[0mlevel\u001b[0m\u001b[0;34m,\u001b[0m \u001b[0minplace\u001b[0m\u001b[0;34m=\u001b[0m\u001b[0minplace\u001b[0m\u001b[0;34m,\u001b[0m\u001b[0;34m\u001b[0m\u001b[0;34m\u001b[0m\u001b[0m\n\u001b[0;32m-> 3697\u001b[0;31m                                            errors=errors)\n\u001b[0m\u001b[1;32m   3698\u001b[0m \u001b[0;34m\u001b[0m\u001b[0m\n\u001b[1;32m   3699\u001b[0m     @rewrite_axis_style_signature('mapper', [('copy', True),\n",
      "\u001b[0;32m~/anaconda3/lib/python3.7/site-packages/pandas/core/generic.py\u001b[0m in \u001b[0;36mdrop\u001b[0;34m(self, labels, axis, index, columns, level, inplace, errors)\u001b[0m\n\u001b[1;32m   3109\u001b[0m         \u001b[0;32mfor\u001b[0m \u001b[0maxis\u001b[0m\u001b[0;34m,\u001b[0m \u001b[0mlabels\u001b[0m \u001b[0;32min\u001b[0m \u001b[0maxes\u001b[0m\u001b[0;34m.\u001b[0m\u001b[0mitems\u001b[0m\u001b[0;34m(\u001b[0m\u001b[0;34m)\u001b[0m\u001b[0;34m:\u001b[0m\u001b[0;34m\u001b[0m\u001b[0;34m\u001b[0m\u001b[0m\n\u001b[1;32m   3110\u001b[0m             \u001b[0;32mif\u001b[0m \u001b[0mlabels\u001b[0m \u001b[0;32mis\u001b[0m \u001b[0;32mnot\u001b[0m \u001b[0;32mNone\u001b[0m\u001b[0;34m:\u001b[0m\u001b[0;34m\u001b[0m\u001b[0;34m\u001b[0m\u001b[0m\n\u001b[0;32m-> 3111\u001b[0;31m                 \u001b[0mobj\u001b[0m \u001b[0;34m=\u001b[0m \u001b[0mobj\u001b[0m\u001b[0;34m.\u001b[0m\u001b[0m_drop_axis\u001b[0m\u001b[0;34m(\u001b[0m\u001b[0mlabels\u001b[0m\u001b[0;34m,\u001b[0m \u001b[0maxis\u001b[0m\u001b[0;34m,\u001b[0m \u001b[0mlevel\u001b[0m\u001b[0;34m=\u001b[0m\u001b[0mlevel\u001b[0m\u001b[0;34m,\u001b[0m \u001b[0merrors\u001b[0m\u001b[0;34m=\u001b[0m\u001b[0merrors\u001b[0m\u001b[0;34m)\u001b[0m\u001b[0;34m\u001b[0m\u001b[0;34m\u001b[0m\u001b[0m\n\u001b[0m\u001b[1;32m   3112\u001b[0m \u001b[0;34m\u001b[0m\u001b[0m\n\u001b[1;32m   3113\u001b[0m         \u001b[0;32mif\u001b[0m \u001b[0minplace\u001b[0m\u001b[0;34m:\u001b[0m\u001b[0;34m\u001b[0m\u001b[0;34m\u001b[0m\u001b[0m\n",
      "\u001b[0;32m~/anaconda3/lib/python3.7/site-packages/pandas/core/generic.py\u001b[0m in \u001b[0;36m_drop_axis\u001b[0;34m(self, labels, axis, level, errors)\u001b[0m\n\u001b[1;32m   3141\u001b[0m                 \u001b[0mnew_axis\u001b[0m \u001b[0;34m=\u001b[0m \u001b[0maxis\u001b[0m\u001b[0;34m.\u001b[0m\u001b[0mdrop\u001b[0m\u001b[0;34m(\u001b[0m\u001b[0mlabels\u001b[0m\u001b[0;34m,\u001b[0m \u001b[0mlevel\u001b[0m\u001b[0;34m=\u001b[0m\u001b[0mlevel\u001b[0m\u001b[0;34m,\u001b[0m \u001b[0merrors\u001b[0m\u001b[0;34m=\u001b[0m\u001b[0merrors\u001b[0m\u001b[0;34m)\u001b[0m\u001b[0;34m\u001b[0m\u001b[0;34m\u001b[0m\u001b[0m\n\u001b[1;32m   3142\u001b[0m             \u001b[0;32melse\u001b[0m\u001b[0;34m:\u001b[0m\u001b[0;34m\u001b[0m\u001b[0;34m\u001b[0m\u001b[0m\n\u001b[0;32m-> 3143\u001b[0;31m                 \u001b[0mnew_axis\u001b[0m \u001b[0;34m=\u001b[0m \u001b[0maxis\u001b[0m\u001b[0;34m.\u001b[0m\u001b[0mdrop\u001b[0m\u001b[0;34m(\u001b[0m\u001b[0mlabels\u001b[0m\u001b[0;34m,\u001b[0m \u001b[0merrors\u001b[0m\u001b[0;34m=\u001b[0m\u001b[0merrors\u001b[0m\u001b[0;34m)\u001b[0m\u001b[0;34m\u001b[0m\u001b[0;34m\u001b[0m\u001b[0m\n\u001b[0m\u001b[1;32m   3144\u001b[0m             \u001b[0mresult\u001b[0m \u001b[0;34m=\u001b[0m \u001b[0mself\u001b[0m\u001b[0;34m.\u001b[0m\u001b[0mreindex\u001b[0m\u001b[0;34m(\u001b[0m\u001b[0;34m**\u001b[0m\u001b[0;34m{\u001b[0m\u001b[0maxis_name\u001b[0m\u001b[0;34m:\u001b[0m \u001b[0mnew_axis\u001b[0m\u001b[0;34m}\u001b[0m\u001b[0;34m)\u001b[0m\u001b[0;34m\u001b[0m\u001b[0;34m\u001b[0m\u001b[0m\n\u001b[1;32m   3145\u001b[0m \u001b[0;34m\u001b[0m\u001b[0m\n",
      "\u001b[0;32m~/anaconda3/lib/python3.7/site-packages/pandas/core/indexes/base.py\u001b[0m in \u001b[0;36mdrop\u001b[0;34m(self, labels, errors)\u001b[0m\n\u001b[1;32m   4402\u001b[0m             \u001b[0;32mif\u001b[0m \u001b[0merrors\u001b[0m \u001b[0;34m!=\u001b[0m \u001b[0;34m'ignore'\u001b[0m\u001b[0;34m:\u001b[0m\u001b[0;34m\u001b[0m\u001b[0;34m\u001b[0m\u001b[0m\n\u001b[1;32m   4403\u001b[0m                 raise KeyError(\n\u001b[0;32m-> 4404\u001b[0;31m                     '{} not found in axis'.format(labels[mask]))\n\u001b[0m\u001b[1;32m   4405\u001b[0m             \u001b[0mindexer\u001b[0m \u001b[0;34m=\u001b[0m \u001b[0mindexer\u001b[0m\u001b[0;34m[\u001b[0m\u001b[0;34m~\u001b[0m\u001b[0mmask\u001b[0m\u001b[0;34m]\u001b[0m\u001b[0;34m\u001b[0m\u001b[0;34m\u001b[0m\u001b[0m\n\u001b[1;32m   4406\u001b[0m         \u001b[0;32mreturn\u001b[0m \u001b[0mself\u001b[0m\u001b[0;34m.\u001b[0m\u001b[0mdelete\u001b[0m\u001b[0;34m(\u001b[0m\u001b[0mindexer\u001b[0m\u001b[0;34m)\u001b[0m\u001b[0;34m\u001b[0m\u001b[0;34m\u001b[0m\u001b[0m\n",
      "\u001b[0;31mKeyError\u001b[0m: \"['SibSp'] not found in axis\""
     ]
    }
   ],
   "source": [
    "# Drop SibSp and Parch\n",
    "df.drop('SibSp',axis=1,inplace=True)\n",
    "df.drop('Parch',axis=1,inplace=True)\n",
    "df.head()"
   ]
  },
  {
   "cell_type": "code",
   "execution_count": 29,
   "metadata": {
    "_cell_guid": "9cb9b91c-1a6f-49ab-b77a-1d24df6ad03e",
    "_uuid": "89bb69b267c2009626f029a7ddfc5a009eb99ce0"
   },
   "outputs": [
    {
     "ename": "KeyError",
     "evalue": "\"['Name'] not found in axis\"",
     "output_type": "error",
     "traceback": [
      "\u001b[0;31m---------------------------------------------------------------------------\u001b[0m",
      "\u001b[0;31mKeyError\u001b[0m                                  Traceback (most recent call last)",
      "\u001b[0;32m<ipython-input-29-949a4a8bcbba>\u001b[0m in \u001b[0;36m<module>\u001b[0;34m\u001b[0m\n\u001b[1;32m      1\u001b[0m \u001b[0;31m# Drop Name and Ticket\u001b[0m\u001b[0;34m\u001b[0m\u001b[0;34m\u001b[0m\u001b[0;34m\u001b[0m\u001b[0m\n\u001b[0;32m----> 2\u001b[0;31m \u001b[0mdf\u001b[0m\u001b[0;34m.\u001b[0m\u001b[0mdrop\u001b[0m\u001b[0;34m(\u001b[0m\u001b[0;34m'Name'\u001b[0m\u001b[0;34m,\u001b[0m \u001b[0maxis\u001b[0m\u001b[0;34m=\u001b[0m\u001b[0;36m1\u001b[0m\u001b[0;34m,\u001b[0m \u001b[0minplace\u001b[0m\u001b[0;34m=\u001b[0m\u001b[0;32mTrue\u001b[0m\u001b[0;34m)\u001b[0m\u001b[0;34m\u001b[0m\u001b[0;34m\u001b[0m\u001b[0m\n\u001b[0m\u001b[1;32m      3\u001b[0m \u001b[0mdf\u001b[0m\u001b[0;34m.\u001b[0m\u001b[0mdrop\u001b[0m\u001b[0;34m(\u001b[0m\u001b[0;34m'Ticket'\u001b[0m\u001b[0;34m,\u001b[0m \u001b[0maxis\u001b[0m\u001b[0;34m=\u001b[0m\u001b[0;36m1\u001b[0m\u001b[0;34m,\u001b[0m \u001b[0minplace\u001b[0m\u001b[0;34m=\u001b[0m\u001b[0;32mTrue\u001b[0m\u001b[0;34m)\u001b[0m\u001b[0;34m\u001b[0m\u001b[0;34m\u001b[0m\u001b[0m\n\u001b[1;32m      4\u001b[0m \u001b[0mdf\u001b[0m\u001b[0;34m.\u001b[0m\u001b[0mhead\u001b[0m\u001b[0;34m(\u001b[0m\u001b[0;34m)\u001b[0m\u001b[0;34m\u001b[0m\u001b[0;34m\u001b[0m\u001b[0m\n",
      "\u001b[0;32m~/anaconda3/lib/python3.7/site-packages/pandas/core/frame.py\u001b[0m in \u001b[0;36mdrop\u001b[0;34m(self, labels, axis, index, columns, level, inplace, errors)\u001b[0m\n\u001b[1;32m   3695\u001b[0m                                            \u001b[0mindex\u001b[0m\u001b[0;34m=\u001b[0m\u001b[0mindex\u001b[0m\u001b[0;34m,\u001b[0m \u001b[0mcolumns\u001b[0m\u001b[0;34m=\u001b[0m\u001b[0mcolumns\u001b[0m\u001b[0;34m,\u001b[0m\u001b[0;34m\u001b[0m\u001b[0;34m\u001b[0m\u001b[0m\n\u001b[1;32m   3696\u001b[0m                                            \u001b[0mlevel\u001b[0m\u001b[0;34m=\u001b[0m\u001b[0mlevel\u001b[0m\u001b[0;34m,\u001b[0m \u001b[0minplace\u001b[0m\u001b[0;34m=\u001b[0m\u001b[0minplace\u001b[0m\u001b[0;34m,\u001b[0m\u001b[0;34m\u001b[0m\u001b[0;34m\u001b[0m\u001b[0m\n\u001b[0;32m-> 3697\u001b[0;31m                                            errors=errors)\n\u001b[0m\u001b[1;32m   3698\u001b[0m \u001b[0;34m\u001b[0m\u001b[0m\n\u001b[1;32m   3699\u001b[0m     @rewrite_axis_style_signature('mapper', [('copy', True),\n",
      "\u001b[0;32m~/anaconda3/lib/python3.7/site-packages/pandas/core/generic.py\u001b[0m in \u001b[0;36mdrop\u001b[0;34m(self, labels, axis, index, columns, level, inplace, errors)\u001b[0m\n\u001b[1;32m   3109\u001b[0m         \u001b[0;32mfor\u001b[0m \u001b[0maxis\u001b[0m\u001b[0;34m,\u001b[0m \u001b[0mlabels\u001b[0m \u001b[0;32min\u001b[0m \u001b[0maxes\u001b[0m\u001b[0;34m.\u001b[0m\u001b[0mitems\u001b[0m\u001b[0;34m(\u001b[0m\u001b[0;34m)\u001b[0m\u001b[0;34m:\u001b[0m\u001b[0;34m\u001b[0m\u001b[0;34m\u001b[0m\u001b[0m\n\u001b[1;32m   3110\u001b[0m             \u001b[0;32mif\u001b[0m \u001b[0mlabels\u001b[0m \u001b[0;32mis\u001b[0m \u001b[0;32mnot\u001b[0m \u001b[0;32mNone\u001b[0m\u001b[0;34m:\u001b[0m\u001b[0;34m\u001b[0m\u001b[0;34m\u001b[0m\u001b[0m\n\u001b[0;32m-> 3111\u001b[0;31m                 \u001b[0mobj\u001b[0m \u001b[0;34m=\u001b[0m \u001b[0mobj\u001b[0m\u001b[0;34m.\u001b[0m\u001b[0m_drop_axis\u001b[0m\u001b[0;34m(\u001b[0m\u001b[0mlabels\u001b[0m\u001b[0;34m,\u001b[0m \u001b[0maxis\u001b[0m\u001b[0;34m,\u001b[0m \u001b[0mlevel\u001b[0m\u001b[0;34m=\u001b[0m\u001b[0mlevel\u001b[0m\u001b[0;34m,\u001b[0m \u001b[0merrors\u001b[0m\u001b[0;34m=\u001b[0m\u001b[0merrors\u001b[0m\u001b[0;34m)\u001b[0m\u001b[0;34m\u001b[0m\u001b[0;34m\u001b[0m\u001b[0m\n\u001b[0m\u001b[1;32m   3112\u001b[0m \u001b[0;34m\u001b[0m\u001b[0m\n\u001b[1;32m   3113\u001b[0m         \u001b[0;32mif\u001b[0m \u001b[0minplace\u001b[0m\u001b[0;34m:\u001b[0m\u001b[0;34m\u001b[0m\u001b[0;34m\u001b[0m\u001b[0m\n",
      "\u001b[0;32m~/anaconda3/lib/python3.7/site-packages/pandas/core/generic.py\u001b[0m in \u001b[0;36m_drop_axis\u001b[0;34m(self, labels, axis, level, errors)\u001b[0m\n\u001b[1;32m   3141\u001b[0m                 \u001b[0mnew_axis\u001b[0m \u001b[0;34m=\u001b[0m \u001b[0maxis\u001b[0m\u001b[0;34m.\u001b[0m\u001b[0mdrop\u001b[0m\u001b[0;34m(\u001b[0m\u001b[0mlabels\u001b[0m\u001b[0;34m,\u001b[0m \u001b[0mlevel\u001b[0m\u001b[0;34m=\u001b[0m\u001b[0mlevel\u001b[0m\u001b[0;34m,\u001b[0m \u001b[0merrors\u001b[0m\u001b[0;34m=\u001b[0m\u001b[0merrors\u001b[0m\u001b[0;34m)\u001b[0m\u001b[0;34m\u001b[0m\u001b[0;34m\u001b[0m\u001b[0m\n\u001b[1;32m   3142\u001b[0m             \u001b[0;32melse\u001b[0m\u001b[0;34m:\u001b[0m\u001b[0;34m\u001b[0m\u001b[0;34m\u001b[0m\u001b[0m\n\u001b[0;32m-> 3143\u001b[0;31m                 \u001b[0mnew_axis\u001b[0m \u001b[0;34m=\u001b[0m \u001b[0maxis\u001b[0m\u001b[0;34m.\u001b[0m\u001b[0mdrop\u001b[0m\u001b[0;34m(\u001b[0m\u001b[0mlabels\u001b[0m\u001b[0;34m,\u001b[0m \u001b[0merrors\u001b[0m\u001b[0;34m=\u001b[0m\u001b[0merrors\u001b[0m\u001b[0;34m)\u001b[0m\u001b[0;34m\u001b[0m\u001b[0;34m\u001b[0m\u001b[0m\n\u001b[0m\u001b[1;32m   3144\u001b[0m             \u001b[0mresult\u001b[0m \u001b[0;34m=\u001b[0m \u001b[0mself\u001b[0m\u001b[0;34m.\u001b[0m\u001b[0mreindex\u001b[0m\u001b[0;34m(\u001b[0m\u001b[0;34m**\u001b[0m\u001b[0;34m{\u001b[0m\u001b[0maxis_name\u001b[0m\u001b[0;34m:\u001b[0m \u001b[0mnew_axis\u001b[0m\u001b[0;34m}\u001b[0m\u001b[0;34m)\u001b[0m\u001b[0;34m\u001b[0m\u001b[0;34m\u001b[0m\u001b[0m\n\u001b[1;32m   3145\u001b[0m \u001b[0;34m\u001b[0m\u001b[0m\n",
      "\u001b[0;32m~/anaconda3/lib/python3.7/site-packages/pandas/core/indexes/base.py\u001b[0m in \u001b[0;36mdrop\u001b[0;34m(self, labels, errors)\u001b[0m\n\u001b[1;32m   4402\u001b[0m             \u001b[0;32mif\u001b[0m \u001b[0merrors\u001b[0m \u001b[0;34m!=\u001b[0m \u001b[0;34m'ignore'\u001b[0m\u001b[0;34m:\u001b[0m\u001b[0;34m\u001b[0m\u001b[0;34m\u001b[0m\u001b[0m\n\u001b[1;32m   4403\u001b[0m                 raise KeyError(\n\u001b[0;32m-> 4404\u001b[0;31m                     '{} not found in axis'.format(labels[mask]))\n\u001b[0m\u001b[1;32m   4405\u001b[0m             \u001b[0mindexer\u001b[0m \u001b[0;34m=\u001b[0m \u001b[0mindexer\u001b[0m\u001b[0;34m[\u001b[0m\u001b[0;34m~\u001b[0m\u001b[0mmask\u001b[0m\u001b[0;34m]\u001b[0m\u001b[0;34m\u001b[0m\u001b[0;34m\u001b[0m\u001b[0m\n\u001b[1;32m   4406\u001b[0m         \u001b[0;32mreturn\u001b[0m \u001b[0mself\u001b[0m\u001b[0;34m.\u001b[0m\u001b[0mdelete\u001b[0m\u001b[0;34m(\u001b[0m\u001b[0mindexer\u001b[0m\u001b[0;34m)\u001b[0m\u001b[0;34m\u001b[0m\u001b[0;34m\u001b[0m\u001b[0m\n",
      "\u001b[0;31mKeyError\u001b[0m: \"['Name'] not found in axis\""
     ]
    }
   ],
   "source": [
    "# Drop Name and Ticket\n",
    "df.drop('Name', axis=1, inplace=True)\n",
    "df.drop('Ticket', axis=1, inplace=True)\n",
    "df.head()"
   ]
  },
  {
   "cell_type": "markdown",
   "metadata": {
    "_cell_guid": "a830954a-a349-482b-aaf0-40a35a1b44e8",
    "_uuid": "c9502638180cb906dd3a9e22d87cbbc220b023b0"
   },
   "source": [
    "### 1.4.2. Launching the model"
   ]
  },
  {
   "cell_type": "markdown",
   "metadata": {
    "_cell_guid": "ab8ede75-513e-4ba5-b837-57c6e5dc1f39",
    "_uuid": "ac6783003b0024dc984a2384bde95c555674d51b"
   },
   "source": [
    "Ready... Set... [Go!](https://youtu.be/_YzNZE287QQ)"
   ]
  },
  {
   "cell_type": "code",
   "execution_count": 30,
   "metadata": {
    "_cell_guid": "9ab0f1c5-64d2-4621-8c5c-6943e73c9449",
    "_uuid": "181d8c10cc1657f8c024796288f9596c98a032ac"
   },
   "outputs": [
    {
     "data": {
      "text/html": [
       "<div>\n",
       "<style scoped>\n",
       "    .dataframe tbody tr th:only-of-type {\n",
       "        vertical-align: middle;\n",
       "    }\n",
       "\n",
       "    .dataframe tbody tr th {\n",
       "        vertical-align: top;\n",
       "    }\n",
       "\n",
       "    .dataframe thead th {\n",
       "        text-align: right;\n",
       "    }\n",
       "</style>\n",
       "<table border=\"1\" class=\"dataframe\">\n",
       "  <thead>\n",
       "    <tr style=\"text-align: right;\">\n",
       "      <th></th>\n",
       "      <th>Survived</th>\n",
       "      <th>Pclass</th>\n",
       "      <th>Age</th>\n",
       "      <th>Fare</th>\n",
       "      <th>FamilySize</th>\n",
       "      <th>Sex_male</th>\n",
       "      <th>Embarked_Q</th>\n",
       "      <th>Embarked_S</th>\n",
       "    </tr>\n",
       "  </thead>\n",
       "  <tbody>\n",
       "    <tr>\n",
       "      <th>0</th>\n",
       "      <td>0</td>\n",
       "      <td>3</td>\n",
       "      <td>22.0</td>\n",
       "      <td>7.2500</td>\n",
       "      <td>1</td>\n",
       "      <td>1</td>\n",
       "      <td>0</td>\n",
       "      <td>1</td>\n",
       "    </tr>\n",
       "    <tr>\n",
       "      <th>1</th>\n",
       "      <td>1</td>\n",
       "      <td>1</td>\n",
       "      <td>38.0</td>\n",
       "      <td>71.2833</td>\n",
       "      <td>1</td>\n",
       "      <td>0</td>\n",
       "      <td>0</td>\n",
       "      <td>0</td>\n",
       "    </tr>\n",
       "    <tr>\n",
       "      <th>2</th>\n",
       "      <td>1</td>\n",
       "      <td>3</td>\n",
       "      <td>26.0</td>\n",
       "      <td>7.9250</td>\n",
       "      <td>0</td>\n",
       "      <td>0</td>\n",
       "      <td>0</td>\n",
       "      <td>1</td>\n",
       "    </tr>\n",
       "    <tr>\n",
       "      <th>3</th>\n",
       "      <td>1</td>\n",
       "      <td>1</td>\n",
       "      <td>35.0</td>\n",
       "      <td>53.1000</td>\n",
       "      <td>1</td>\n",
       "      <td>0</td>\n",
       "      <td>0</td>\n",
       "      <td>1</td>\n",
       "    </tr>\n",
       "    <tr>\n",
       "      <th>4</th>\n",
       "      <td>0</td>\n",
       "      <td>3</td>\n",
       "      <td>35.0</td>\n",
       "      <td>8.0500</td>\n",
       "      <td>0</td>\n",
       "      <td>1</td>\n",
       "      <td>0</td>\n",
       "      <td>1</td>\n",
       "    </tr>\n",
       "  </tbody>\n",
       "</table>\n",
       "</div>"
      ],
      "text/plain": [
       "   Survived  Pclass   Age     Fare  FamilySize  Sex_male  Embarked_Q  \\\n",
       "0         0       3  22.0   7.2500           1         1           0   \n",
       "1         1       1  38.0  71.2833           1         0           0   \n",
       "2         1       3  26.0   7.9250           0         0           0   \n",
       "3         1       1  35.0  53.1000           1         0           0   \n",
       "4         0       3  35.0   8.0500           0         1           0   \n",
       "\n",
       "   Embarked_S  \n",
       "0           1  \n",
       "1           0  \n",
       "2           1  \n",
       "3           1  \n",
       "4           1  "
      ]
     },
     "execution_count": 30,
     "metadata": {},
     "output_type": "execute_result"
    }
   ],
   "source": [
    "# Transform categorical variables into dummy variables\n",
    "df = pd.get_dummies(df, drop_first=True)  # To avoid dummy trap\n",
    "df.head()"
   ]
  },
  {
   "cell_type": "markdown",
   "metadata": {
    "_cell_guid": "28752da9-accf-46e4-bc07-5fb57ab817da",
    "_uuid": "820ab4de5c972fef9f78a098be7262d2d75fc698"
   },
   "source": [
    "Extra: [What is the 'dummy variable trap'?](http://www.algosome.com/articles/dummy-variable-trap-regression.html)"
   ]
  },
  {
   "cell_type": "code",
   "execution_count": 31,
   "metadata": {
    "_cell_guid": "97de3798-60bb-4abe-93b5-a35251f078c1",
    "_uuid": "fa31f4467d79d93602f93edd36699c5ec9768c3b"
   },
   "outputs": [],
   "source": [
    "# Create data set to train data imputation methods\n",
    "X = df[df.loc[:, df.columns != 'Survived'].columns]\n",
    "y = df['Survived']\n",
    "X_train, X_test, y_train, y_test = train_test_split(X, y, test_size=.2, random_state=1)"
   ]
  },
  {
   "cell_type": "code",
   "execution_count": 32,
   "metadata": {
    "_cell_guid": "9ee8569e-9691-4b69-9533-9520e7ac3bba",
    "_uuid": "41c62a2953fc15413e6b0105e7d49d436ffe60f9"
   },
   "outputs": [
    {
     "name": "stdout",
     "output_type": "stream",
     "text": [
      "Inputs: \n",
      "      Pclass     Age      Fare  FamilySize  Sex_male  Embarked_Q  Embarked_S\n",
      "121       3  1000.0    8.0500           0         1           0           1\n",
      "687       3    19.0   10.1708           0         1           0           1\n",
      "790       3  1000.0    7.7500           0         1           1           0\n",
      "837       3  1000.0    8.0500           0         1           0           1\n",
      "659       1    58.0  113.2750           2         1           0           0\n",
      "Outputs: \n",
      " 121    0\n",
      "687    0\n",
      "790    0\n",
      "837    0\n",
      "659    0\n",
      "Name: Survived, dtype: int64\n"
     ]
    }
   ],
   "source": [
    "# Debug\n",
    "print('Inputs: \\n', X_train.head())\n",
    "print('Outputs: \\n', y_train.head())"
   ]
  },
  {
   "cell_type": "code",
   "execution_count": 33,
   "metadata": {
    "_cell_guid": "69b509c9-03e2-424a-808f-9e9f28ff46af",
    "_uuid": "37f0fb6f93fa855b8bcb34025709d0e9a1840dee"
   },
   "outputs": [
    {
     "data": {
      "text/plain": [
       "LogisticRegression(C=1.0, class_weight=None, dual=False, fit_intercept=True,\n",
       "          intercept_scaling=1, max_iter=100, multi_class='warn',\n",
       "          n_jobs=None, penalty='l2', random_state=None, solver='liblinear',\n",
       "          tol=0.0001, verbose=0, warm_start=False)"
      ]
     },
     "execution_count": 33,
     "metadata": {},
     "output_type": "execute_result"
    }
   ],
   "source": [
    "# Fit logistic regression\n",
    "logreg = LogisticRegression(solver=\"liblinear\")\n",
    "logreg.fit(X_train, y_train)"
   ]
  },
  {
   "cell_type": "code",
   "execution_count": 34,
   "metadata": {
    "_cell_guid": "76111680-eafc-4972-be4c-68457e350b3f",
    "_uuid": "e43d1cca08c5022f8319aa5f4f48347d0e3ea1c6"
   },
   "outputs": [
    {
     "name": "stdout",
     "output_type": "stream",
     "text": [
      "CV accuracy: 0.786 +/- 0.026\n"
     ]
    }
   ],
   "source": [
    "# Model performance\n",
    "scores = cross_val_score(logreg, X_train, y_train, cv=10)\n",
    "print('CV accuracy: %.3f +/- %.3f' % (np.mean(scores), np.std(scores)))"
   ]
  },
  {
   "cell_type": "markdown",
   "metadata": {
    "_cell_guid": "b6a4b442-19e5-4e2f-a986-aa797c2341c7",
    "_uuid": "1626cc74ca408a382afe58dcaf278922820ef493"
   },
   "source": [
    "### 1.4.3.  Assessing model performance"
   ]
  },
  {
   "cell_type": "code",
   "execution_count": 35,
   "metadata": {
    "_cell_guid": "b5a87776-c04a-43bd-a2f4-b600f444308e",
    "_uuid": "a7aefbeb3b1f7fc687bdd15dd222e30e9bb44831"
   },
   "outputs": [
    {
     "data": {
      "image/png": "[encoded data removed]",
      "text/plain": [
       "<Figure size 432x288 with 1 Axes>"
      ]
     },
     "metadata": {
      "needs_background": "light"
     },
     "output_type": "display_data"
    }
   ],
   "source": [
    "# Plot learning curves\n",
    "title = \"Learning Curves (Logistic Regression)\"\n",
    "cv = 10\n",
    "plot_learning_curve(logreg, title, X_train, y_train, ylim=(0.7, 1.01), cv=cv, n_jobs=1);"
   ]
  },
  {
   "cell_type": "markdown",
   "metadata": {
    "_cell_guid": "a541f404-488e-4769-b1d2-a1472b681c82",
    "_uuid": "0a8ef3e423e47618342e29893f10702b8c550924"
   },
   "source": [
    "Learning curves in a nutshell:\n",
    "* Learning curves allow us to diagnose if the model is **overfitting** or **underfitting**.\n",
    "* When the model **overfits**, it means that it performs well on the training set, but not not on the validation set. Accordingly, the model is not able to generalize to unseen data. If the model is overfitting, the learning curve will present a gap between the training and validation scores. Two common solutions for overfitting are reducing the complexity of the model and/or collect more data.\n",
    "* On the other hand, **underfitting** means that the model is not able to perform well in either training or validations sets. In those cases, the learning curves will converge to a low score value. When the model underfits, gathering more data is not helpful because the model is already not being able to learn the training data. Therefore, the best approaches for these cases are to improve the model (e.g., tuning the hyperparameters) or to improve the quality of the data (e.g., collecting a different set of features).\n",
    "\n",
    "Discussion of our results:\n",
    "* The model doesn't overfit. As we can see, the curves converge and no gap between the training and the validation score exists in the last points of the curve.\n",
    "* The model underfits. Our final score is about 0.786. Although our model does better predictions than a [flip-a-coin strategy](https://en.wikipedia.org/wiki/Flipism), it is still far from being an 'intelligent' model. For now, it's just an 'artificial' model."
   ]
  },
  {
   "cell_type": "code",
   "execution_count": 38,
   "metadata": {
    "_cell_guid": "4fa2c196-3f31-4cbd-894a-de53df3b3962",
    "_uuid": "2ef627a383f08b6eed66a8b5371e1c92e4b1a1d5"
   },
   "outputs": [
    {
     "name": "stderr",
     "output_type": "stream",
     "text": [
      "/home/jules/anaconda3/lib/python3.7/site-packages/sklearn/model_selection/_split.py:2053: FutureWarning: You should specify a value for 'cv' instead of relying on the default value. The default value will change from 3 to 5 in version 0.22.\n",
      "  warnings.warn(CV_WARNING, FutureWarning)\n"
     ]
    },
    {
     "data": {
      "image/png": "[encoded data removed]",
      "text/plain": [
       "<Figure size 432x288 with 1 Axes>"
      ]
     },
     "metadata": {
      "needs_background": "light"
     },
     "output_type": "display_data"
    }
   ],
   "source": [
    "# Plot validation curve\n",
    "title = 'Validation Curve (Logistic Regression)'\n",
    "param_name = 'C'\n",
    "param_range = [0.001, 0.01, 0.1, 1.0, 10.0, 100.0] \n",
    "cv = 10\n",
    "plot_validation_curve(estimator=logreg, title=title, X=X_train, y=y_train, param_name=param_name,\n",
    "                      ylim=(0.5, 1.01), param_range=param_range);"
   ]
  },
  {
   "cell_type": "markdown",
   "metadata": {
    "_cell_guid": "f562059d-80d6-4930-8983-fd6c44534c64",
    "_uuid": "c666b2a4b6bbe7a8f130ed54c984069e2f218303"
   },
   "source": [
    "Validation curves in a nutshell:\n",
    "* Validation curves are a tool that we can use to improve the performance of our model. It counts as a way of tuning our hyperparameters.\n",
    "* They are different from the learning curves. Here, the goal is to see how the model parameter impacts the training and validation scores. This allow us to choose a different value for the parameter, to improve the model.\n",
    "* Once again, if there is a gap between the training and the validation score, the model is probably overfitting. In contrast, if there is no gap but the score value is low, we can say that the model underfits.\n",
    "\n",
    "Discussion of our results:\n",
    "* The figure shows that there is no huge difference in model's performance as far as we choose a C value of $10^{-1}$ or higher. Note that in a logistic regression, C is the only model parameter that we can change [(see scikit-learn documentation)](http://scikit-learn.org/stable/modules/linear_model.html#logistic-regression). "
   ]
  },
  {
   "cell_type": "markdown",
   "metadata": {
    "_cell_guid": "a325f4fa-34f3-44ef-9401-3e2def89723b",
    "_uuid": "403af5a9f228e7caba9d4418edaadd4f21f5b761"
   },
   "source": [
    "---"
   ]
  },
  {
   "cell_type": "markdown",
   "metadata": {
    "_cell_guid": "c695e1eb-8a7b-4bba-bc3a-caba0cc1f9d5",
    "_uuid": "2a512172ed2746b1e7ec1598ee3ead43b574a7a4"
   },
   "source": [
    "# 2. The chubby data set"
   ]
  },
  {
   "cell_type": "markdown",
   "metadata": {
    "_cell_guid": "6e21a2d5-2e4b-4b1e-8ed6-62f8e8c13ad8",
    "_uuid": "42c0913ad47fb9bdbe40a4e1ac6b6ab4734e9840"
   },
   "source": [
    "At this point, our model:\n",
    "\n",
    "* Can achieve a 0.786 +/- 0.026 accuracy.\n",
    "* Is based on a logistic regression.\n",
    "* Uses 'Pclass', 'Age', 'Fare', 'FamilySize', 'Sex', and 'Embarked as inputs; and 'Survived' as output.\n",
    "\n",
    "Moreover, concerning the practical methodology that we mentioned before, we can say that:\n",
    "1. The choice of the performance metric is a closed topic because we're following Kaggle's specifications.\n",
    "2. Our current model can work as a baseline model and resulted from a working end-to-end pipeline.\n",
    "3. The learning and validation curves allow us to monitor system's performance.\n",
    "\n",
    "As a consequence, only the fourth and last step of the practical methodology is missing: to improve the model by iteration. This can be done by:\n",
    "\n",
    "* Improving the way how we handled 'Age' missing data. In our lean approach we decided to replace missing data by a unique value, but now we can go deeper and search for a better imputation strategy.\n",
    "* Exploring data to understand which features can have impact in the model and how they can be manipulated to boost that impact.\n",
    "* Building new features that can increase the predictive power of our model.\n",
    "\n",
    "This will lead us to a heavy data analysis process, which aims to improve model's performance just by the data quality side. In other words, we will not change our learning algorithm neither we will try to improve its parameters. We will only try to improve the performance of our model by enriching our data.\n",
    "\n",
    "That said, let's say goodbye to the lean approach and welcome the chubby approach!"
   ]
  },
  {
   "cell_type": "code",
   "execution_count": 25,
   "metadata": {
    "_cell_guid": "5f216dc7-53d3-44a1-ae56-0e396182d4ed",
    "_uuid": "eb6205ad0a55d933dded2878ebe4d6979d84ce8c"
   },
   "outputs": [
    {
     "data": {
      "text/html": [
       "<div>\n",
       "<style scoped>\n",
       "    .dataframe tbody tr th:only-of-type {\n",
       "        vertical-align: middle;\n",
       "    }\n",
       "\n",
       "    .dataframe tbody tr th {\n",
       "        vertical-align: top;\n",
       "    }\n",
       "\n",
       "    .dataframe thead th {\n",
       "        text-align: right;\n",
       "    }\n",
       "</style>\n",
       "<table border=\"1\" class=\"dataframe\">\n",
       "  <thead>\n",
       "    <tr style=\"text-align: right;\">\n",
       "      <th></th>\n",
       "      <th>PassengerId</th>\n",
       "      <th>Survived</th>\n",
       "      <th>Pclass</th>\n",
       "      <th>Name</th>\n",
       "      <th>Sex</th>\n",
       "      <th>Age</th>\n",
       "      <th>SibSp</th>\n",
       "      <th>Parch</th>\n",
       "      <th>Ticket</th>\n",
       "      <th>Fare</th>\n",
       "      <th>Cabin</th>\n",
       "      <th>Embarked</th>\n",
       "    </tr>\n",
       "  </thead>\n",
       "  <tbody>\n",
       "    <tr>\n",
       "      <th>0</th>\n",
       "      <td>1</td>\n",
       "      <td>0</td>\n",
       "      <td>3</td>\n",
       "      <td>Braund, Mr. Owen Harris</td>\n",
       "      <td>male</td>\n",
       "      <td>22.0</td>\n",
       "      <td>1</td>\n",
       "      <td>0</td>\n",
       "      <td>A/5 21171</td>\n",
       "      <td>7.2500</td>\n",
       "      <td>NaN</td>\n",
       "      <td>S</td>\n",
       "    </tr>\n",
       "    <tr>\n",
       "      <th>1</th>\n",
       "      <td>2</td>\n",
       "      <td>1</td>\n",
       "      <td>1</td>\n",
       "      <td>Cumings, Mrs. John Bradley (Florence Briggs Th...</td>\n",
       "      <td>female</td>\n",
       "      <td>38.0</td>\n",
       "      <td>1</td>\n",
       "      <td>0</td>\n",
       "      <td>PC 17599</td>\n",
       "      <td>71.2833</td>\n",
       "      <td>C85</td>\n",
       "      <td>C</td>\n",
       "    </tr>\n",
       "    <tr>\n",
       "      <th>2</th>\n",
       "      <td>3</td>\n",
       "      <td>1</td>\n",
       "      <td>3</td>\n",
       "      <td>Heikkinen, Miss. Laina</td>\n",
       "      <td>female</td>\n",
       "      <td>26.0</td>\n",
       "      <td>0</td>\n",
       "      <td>0</td>\n",
       "      <td>STON/O2. 3101282</td>\n",
       "      <td>7.9250</td>\n",
       "      <td>NaN</td>\n",
       "      <td>S</td>\n",
       "    </tr>\n",
       "    <tr>\n",
       "      <th>3</th>\n",
       "      <td>4</td>\n",
       "      <td>1</td>\n",
       "      <td>1</td>\n",
       "      <td>Futrelle, Mrs. Jacques Heath (Lily May Peel)</td>\n",
       "      <td>female</td>\n",
       "      <td>35.0</td>\n",
       "      <td>1</td>\n",
       "      <td>0</td>\n",
       "      <td>113803</td>\n",
       "      <td>53.1000</td>\n",
       "      <td>C123</td>\n",
       "      <td>S</td>\n",
       "    </tr>\n",
       "    <tr>\n",
       "      <th>4</th>\n",
       "      <td>5</td>\n",
       "      <td>0</td>\n",
       "      <td>3</td>\n",
       "      <td>Allen, Mr. William Henry</td>\n",
       "      <td>male</td>\n",
       "      <td>35.0</td>\n",
       "      <td>0</td>\n",
       "      <td>0</td>\n",
       "      <td>373450</td>\n",
       "      <td>8.0500</td>\n",
       "      <td>NaN</td>\n",
       "      <td>S</td>\n",
       "    </tr>\n",
       "  </tbody>\n",
       "</table>\n",
       "</div>"
      ],
      "text/plain": [
       "   PassengerId  Survived  Pclass  \\\n",
       "0            1         0       3   \n",
       "1            2         1       1   \n",
       "2            3         1       3   \n",
       "3            4         1       1   \n",
       "4            5         0       3   \n",
       "\n",
       "                                                Name     Sex   Age  SibSp  \\\n",
       "0                            Braund, Mr. Owen Harris    male  22.0      1   \n",
       "1  Cumings, Mrs. John Bradley (Florence Briggs Th...  female  38.0      1   \n",
       "2                             Heikkinen, Miss. Laina  female  26.0      0   \n",
       "3       Futrelle, Mrs. Jacques Heath (Lily May Peel)  female  35.0      1   \n",
       "4                           Allen, Mr. William Henry    male  35.0      0   \n",
       "\n",
       "   Parch            Ticket     Fare Cabin Embarked  \n",
       "0      0         A/5 21171   7.2500   NaN        S  \n",
       "1      0          PC 17599  71.2833   C85        C  \n",
       "2      0  STON/O2. 3101282   7.9250   NaN        S  \n",
       "3      0            113803  53.1000  C123        S  \n",
       "4      0            373450   8.0500   NaN        S  "
      ]
     },
     "execution_count": 25,
     "metadata": {},
     "output_type": "execute_result"
    }
   ],
   "source": [
    "# Restart data set\n",
    "df = df_raw.copy()\n",
    "df.head()"
   ]
  },
  {
   "cell_type": "code",
   "execution_count": 26,
   "metadata": {
    "_cell_guid": "1622ea5f-d72c-4c3f-91a6-2498232460c2",
    "_uuid": "74e5e742a5cdb1039b0bbab58ce2289deace311e"
   },
   "outputs": [
    {
     "data": {
      "text/html": [
       "<div>\n",
       "<style scoped>\n",
       "    .dataframe tbody tr th:only-of-type {\n",
       "        vertical-align: middle;\n",
       "    }\n",
       "\n",
       "    .dataframe tbody tr th {\n",
       "        vertical-align: top;\n",
       "    }\n",
       "\n",
       "    .dataframe thead th {\n",
       "        text-align: right;\n",
       "    }\n",
       "</style>\n",
       "<table border=\"1\" class=\"dataframe\">\n",
       "  <thead>\n",
       "    <tr style=\"text-align: right;\">\n",
       "      <th></th>\n",
       "      <th>PassengerId</th>\n",
       "      <th>Survived</th>\n",
       "      <th>Pclass</th>\n",
       "      <th>Name</th>\n",
       "      <th>Sex</th>\n",
       "      <th>Age</th>\n",
       "      <th>SibSp</th>\n",
       "      <th>Parch</th>\n",
       "      <th>Ticket</th>\n",
       "      <th>Fare</th>\n",
       "      <th>Cabin</th>\n",
       "      <th>Embarked</th>\n",
       "      <th>FamilySize</th>\n",
       "    </tr>\n",
       "  </thead>\n",
       "  <tbody>\n",
       "    <tr>\n",
       "      <th>0</th>\n",
       "      <td>1</td>\n",
       "      <td>0</td>\n",
       "      <td>3</td>\n",
       "      <td>Braund, Mr. Owen Harris</td>\n",
       "      <td>male</td>\n",
       "      <td>22.0</td>\n",
       "      <td>1</td>\n",
       "      <td>0</td>\n",
       "      <td>A/5 21171</td>\n",
       "      <td>7.2500</td>\n",
       "      <td>NaN</td>\n",
       "      <td>S</td>\n",
       "      <td>1</td>\n",
       "    </tr>\n",
       "    <tr>\n",
       "      <th>1</th>\n",
       "      <td>2</td>\n",
       "      <td>1</td>\n",
       "      <td>1</td>\n",
       "      <td>Cumings, Mrs. John Bradley (Florence Briggs Th...</td>\n",
       "      <td>female</td>\n",
       "      <td>38.0</td>\n",
       "      <td>1</td>\n",
       "      <td>0</td>\n",
       "      <td>PC 17599</td>\n",
       "      <td>71.2833</td>\n",
       "      <td>C85</td>\n",
       "      <td>C</td>\n",
       "      <td>1</td>\n",
       "    </tr>\n",
       "    <tr>\n",
       "      <th>2</th>\n",
       "      <td>3</td>\n",
       "      <td>1</td>\n",
       "      <td>3</td>\n",
       "      <td>Heikkinen, Miss. Laina</td>\n",
       "      <td>female</td>\n",
       "      <td>26.0</td>\n",
       "      <td>0</td>\n",
       "      <td>0</td>\n",
       "      <td>STON/O2. 3101282</td>\n",
       "      <td>7.9250</td>\n",
       "      <td>NaN</td>\n",
       "      <td>S</td>\n",
       "      <td>0</td>\n",
       "    </tr>\n",
       "    <tr>\n",
       "      <th>3</th>\n",
       "      <td>4</td>\n",
       "      <td>1</td>\n",
       "      <td>1</td>\n",
       "      <td>Futrelle, Mrs. Jacques Heath (Lily May Peel)</td>\n",
       "      <td>female</td>\n",
       "      <td>35.0</td>\n",
       "      <td>1</td>\n",
       "      <td>0</td>\n",
       "      <td>113803</td>\n",
       "      <td>53.1000</td>\n",
       "      <td>C123</td>\n",
       "      <td>S</td>\n",
       "      <td>1</td>\n",
       "    </tr>\n",
       "    <tr>\n",
       "      <th>4</th>\n",
       "      <td>5</td>\n",
       "      <td>0</td>\n",
       "      <td>3</td>\n",
       "      <td>Allen, Mr. William Henry</td>\n",
       "      <td>male</td>\n",
       "      <td>35.0</td>\n",
       "      <td>0</td>\n",
       "      <td>0</td>\n",
       "      <td>373450</td>\n",
       "      <td>8.0500</td>\n",
       "      <td>NaN</td>\n",
       "      <td>S</td>\n",
       "      <td>0</td>\n",
       "    </tr>\n",
       "  </tbody>\n",
       "</table>\n",
       "</div>"
      ],
      "text/plain": [
       "   PassengerId  Survived  Pclass  \\\n",
       "0            1         0       3   \n",
       "1            2         1       1   \n",
       "2            3         1       3   \n",
       "3            4         1       1   \n",
       "4            5         0       3   \n",
       "\n",
       "                                                Name     Sex   Age  SibSp  \\\n",
       "0                            Braund, Mr. Owen Harris    male  22.0      1   \n",
       "1  Cumings, Mrs. John Bradley (Florence Briggs Th...  female  38.0      1   \n",
       "2                             Heikkinen, Miss. Laina  female  26.0      0   \n",
       "3       Futrelle, Mrs. Jacques Heath (Lily May Peel)  female  35.0      1   \n",
       "4                           Allen, Mr. William Henry    male  35.0      0   \n",
       "\n",
       "   Parch            Ticket     Fare Cabin Embarked  FamilySize  \n",
       "0      0         A/5 21171   7.2500   NaN        S           1  \n",
       "1      0          PC 17599  71.2833   C85        C           1  \n",
       "2      0  STON/O2. 3101282   7.9250   NaN        S           0  \n",
       "3      0            113803  53.1000  C123        S           1  \n",
       "4      0            373450   8.0500   NaN        S           0  "
      ]
     },
     "execution_count": 26,
     "metadata": {},
     "output_type": "execute_result"
    }
   ],
   "source": [
    "# Family size feature\n",
    "df['FamilySize'] = df['SibSp'] + df['Parch']\n",
    "df.head()"
   ]
  },
  {
   "cell_type": "code",
   "execution_count": 27,
   "metadata": {
    "_cell_guid": "5b05a66d-1134-4bc1-98e3-4bfd5a7ea447",
    "_uuid": "43a8e8c438c99f32afff12e5345891ee384e5b90"
   },
   "outputs": [
    {
     "data": {
      "text/html": [
       "<div>\n",
       "<style scoped>\n",
       "    .dataframe tbody tr th:only-of-type {\n",
       "        vertical-align: middle;\n",
       "    }\n",
       "\n",
       "    .dataframe tbody tr th {\n",
       "        vertical-align: top;\n",
       "    }\n",
       "\n",
       "    .dataframe thead th {\n",
       "        text-align: right;\n",
       "    }\n",
       "</style>\n",
       "<table border=\"1\" class=\"dataframe\">\n",
       "  <thead>\n",
       "    <tr style=\"text-align: right;\">\n",
       "      <th></th>\n",
       "      <th>PassengerId</th>\n",
       "      <th>Survived</th>\n",
       "      <th>Pclass</th>\n",
       "      <th>Name</th>\n",
       "      <th>Sex</th>\n",
       "      <th>Age</th>\n",
       "      <th>Ticket</th>\n",
       "      <th>Fare</th>\n",
       "      <th>Cabin</th>\n",
       "      <th>Embarked</th>\n",
       "      <th>FamilySize</th>\n",
       "    </tr>\n",
       "  </thead>\n",
       "  <tbody>\n",
       "    <tr>\n",
       "      <th>0</th>\n",
       "      <td>1</td>\n",
       "      <td>0</td>\n",
       "      <td>3</td>\n",
       "      <td>Braund, Mr. Owen Harris</td>\n",
       "      <td>male</td>\n",
       "      <td>22.0</td>\n",
       "      <td>A/5 21171</td>\n",
       "      <td>7.2500</td>\n",
       "      <td>NaN</td>\n",
       "      <td>S</td>\n",
       "      <td>1</td>\n",
       "    </tr>\n",
       "    <tr>\n",
       "      <th>1</th>\n",
       "      <td>2</td>\n",
       "      <td>1</td>\n",
       "      <td>1</td>\n",
       "      <td>Cumings, Mrs. John Bradley (Florence Briggs Th...</td>\n",
       "      <td>female</td>\n",
       "      <td>38.0</td>\n",
       "      <td>PC 17599</td>\n",
       "      <td>71.2833</td>\n",
       "      <td>C85</td>\n",
       "      <td>C</td>\n",
       "      <td>1</td>\n",
       "    </tr>\n",
       "    <tr>\n",
       "      <th>2</th>\n",
       "      <td>3</td>\n",
       "      <td>1</td>\n",
       "      <td>3</td>\n",
       "      <td>Heikkinen, Miss. Laina</td>\n",
       "      <td>female</td>\n",
       "      <td>26.0</td>\n",
       "      <td>STON/O2. 3101282</td>\n",
       "      <td>7.9250</td>\n",
       "      <td>NaN</td>\n",
       "      <td>S</td>\n",
       "      <td>0</td>\n",
       "    </tr>\n",
       "    <tr>\n",
       "      <th>3</th>\n",
       "      <td>4</td>\n",
       "      <td>1</td>\n",
       "      <td>1</td>\n",
       "      <td>Futrelle, Mrs. Jacques Heath (Lily May Peel)</td>\n",
       "      <td>female</td>\n",
       "      <td>35.0</td>\n",
       "      <td>113803</td>\n",
       "      <td>53.1000</td>\n",
       "      <td>C123</td>\n",
       "      <td>S</td>\n",
       "      <td>1</td>\n",
       "    </tr>\n",
       "    <tr>\n",
       "      <th>4</th>\n",
       "      <td>5</td>\n",
       "      <td>0</td>\n",
       "      <td>3</td>\n",
       "      <td>Allen, Mr. William Henry</td>\n",
       "      <td>male</td>\n",
       "      <td>35.0</td>\n",
       "      <td>373450</td>\n",
       "      <td>8.0500</td>\n",
       "      <td>NaN</td>\n",
       "      <td>S</td>\n",
       "      <td>0</td>\n",
       "    </tr>\n",
       "  </tbody>\n",
       "</table>\n",
       "</div>"
      ],
      "text/plain": [
       "   PassengerId  Survived  Pclass  \\\n",
       "0            1         0       3   \n",
       "1            2         1       1   \n",
       "2            3         1       3   \n",
       "3            4         1       1   \n",
       "4            5         0       3   \n",
       "\n",
       "                                                Name     Sex   Age  \\\n",
       "0                            Braund, Mr. Owen Harris    male  22.0   \n",
       "1  Cumings, Mrs. John Bradley (Florence Briggs Th...  female  38.0   \n",
       "2                             Heikkinen, Miss. Laina  female  26.0   \n",
       "3       Futrelle, Mrs. Jacques Heath (Lily May Peel)  female  35.0   \n",
       "4                           Allen, Mr. William Henry    male  35.0   \n",
       "\n",
       "             Ticket     Fare Cabin Embarked  FamilySize  \n",
       "0         A/5 21171   7.2500   NaN        S           1  \n",
       "1          PC 17599  71.2833   C85        C           1  \n",
       "2  STON/O2. 3101282   7.9250   NaN        S           0  \n",
       "3            113803  53.1000  C123        S           1  \n",
       "4            373450   8.0500   NaN        S           0  "
      ]
     },
     "execution_count": 27,
     "metadata": {},
     "output_type": "execute_result"
    }
   ],
   "source": [
    "# Drop SibSp and Parch\n",
    "df.drop('SibSp',axis=1,inplace=True)\n",
    "df.drop('Parch',axis=1,inplace=True)\n",
    "df.head()"
   ]
  },
  {
   "cell_type": "code",
   "execution_count": 28,
   "metadata": {
    "_cell_guid": "951b794e-35df-42cd-8817-ddbcf84e637e",
    "_uuid": "bde6c8b5d415b80e9c5aa5ec873b894501d39af2"
   },
   "outputs": [
    {
     "data": {
      "text/html": [
       "<div>\n",
       "<style scoped>\n",
       "    .dataframe tbody tr th:only-of-type {\n",
       "        vertical-align: middle;\n",
       "    }\n",
       "\n",
       "    .dataframe tbody tr th {\n",
       "        vertical-align: top;\n",
       "    }\n",
       "\n",
       "    .dataframe thead th {\n",
       "        text-align: right;\n",
       "    }\n",
       "</style>\n",
       "<table border=\"1\" class=\"dataframe\">\n",
       "  <thead>\n",
       "    <tr style=\"text-align: right;\">\n",
       "      <th></th>\n",
       "      <th>PassengerId</th>\n",
       "      <th>Survived</th>\n",
       "      <th>Pclass</th>\n",
       "      <th>Sex</th>\n",
       "      <th>Age</th>\n",
       "      <th>Fare</th>\n",
       "      <th>Embarked</th>\n",
       "      <th>FamilySize</th>\n",
       "    </tr>\n",
       "  </thead>\n",
       "  <tbody>\n",
       "    <tr>\n",
       "      <th>0</th>\n",
       "      <td>1</td>\n",
       "      <td>0</td>\n",
       "      <td>3</td>\n",
       "      <td>male</td>\n",
       "      <td>22.0</td>\n",
       "      <td>7.2500</td>\n",
       "      <td>S</td>\n",
       "      <td>1</td>\n",
       "    </tr>\n",
       "    <tr>\n",
       "      <th>1</th>\n",
       "      <td>2</td>\n",
       "      <td>1</td>\n",
       "      <td>1</td>\n",
       "      <td>female</td>\n",
       "      <td>38.0</td>\n",
       "      <td>71.2833</td>\n",
       "      <td>C</td>\n",
       "      <td>1</td>\n",
       "    </tr>\n",
       "    <tr>\n",
       "      <th>2</th>\n",
       "      <td>3</td>\n",
       "      <td>1</td>\n",
       "      <td>3</td>\n",
       "      <td>female</td>\n",
       "      <td>26.0</td>\n",
       "      <td>7.9250</td>\n",
       "      <td>S</td>\n",
       "      <td>0</td>\n",
       "    </tr>\n",
       "    <tr>\n",
       "      <th>3</th>\n",
       "      <td>4</td>\n",
       "      <td>1</td>\n",
       "      <td>1</td>\n",
       "      <td>female</td>\n",
       "      <td>35.0</td>\n",
       "      <td>53.1000</td>\n",
       "      <td>S</td>\n",
       "      <td>1</td>\n",
       "    </tr>\n",
       "    <tr>\n",
       "      <th>4</th>\n",
       "      <td>5</td>\n",
       "      <td>0</td>\n",
       "      <td>3</td>\n",
       "      <td>male</td>\n",
       "      <td>35.0</td>\n",
       "      <td>8.0500</td>\n",
       "      <td>S</td>\n",
       "      <td>0</td>\n",
       "    </tr>\n",
       "  </tbody>\n",
       "</table>\n",
       "</div>"
      ],
      "text/plain": [
       "   PassengerId  Survived  Pclass     Sex   Age     Fare Embarked  FamilySize\n",
       "0            1         0       3    male  22.0   7.2500        S           1\n",
       "1            2         1       1  female  38.0  71.2833        C           1\n",
       "2            3         1       3  female  26.0   7.9250        S           0\n",
       "3            4         1       1  female  35.0  53.1000        S           1\n",
       "4            5         0       3    male  35.0   8.0500        S           0"
      ]
     },
     "execution_count": 28,
     "metadata": {},
     "output_type": "execute_result"
    }
   ],
   "source": [
    "# Drop irrelevant features\n",
    "df.drop(['Name','Ticket','Cabin'], axis=1, inplace=True)\n",
    "df.head()"
   ]
  },
  {
   "cell_type": "markdown",
   "metadata": {
    "_cell_guid": "bc1f1eb2-ba6d-4e27-a4cc-efcef69edf48",
    "_uuid": "c7df31e6d86d72347831b53734b6d317f472bdcf"
   },
   "source": [
    "## 2.1. Imputation of 'Age' missing data"
   ]
  },
  {
   "cell_type": "markdown",
   "metadata": {
    "_cell_guid": "2c36694c-80c6-48b3-be4b-23576b35942a",
    "_uuid": "1aa117116a8016565a8d62ad217aa20d87ce1e75"
   },
   "source": [
    "Our initial approach to estimate 'Age' missing values was to fill with a placeholder value (1000). This allowed us to quickly get a complete data set, in which was easy to identify imputed values. Since our goal was to have a working end-to-end pipeline as fast as possible, this approach was ok. However, it has several limitations. For example, we are using unrealistic replacement values, which are out of range and distort data distribution. Accordingly, now that we are improving the model, it makes sense to develop a different imputation method.\n",
    "\n",
    "One way to improve our imputation method is to estimate the missing values based on known relationships. In our case, we can do this by using the information in the variable 'Name'. Looking to 'Name' values, we can see person's name and title. Person's title is a relevant information to estimate ages. To give an example, we know that a person with the title 'Master' is someone under 13 years old, since ['a boy can be addressed as master only until age 12'](http://bit.ly/2HfFHZr). Therefore, employing the information in 'Name' we can improve our imputation method.\n",
    "\n",
    "The steps to implement this new imputation method are:\n",
    "* Extract titles from 'Name'.\n",
    "* Plot a figure with both features and confirm that there is a connection between titles and age.\n",
    "* For each title, get people's average age and use it to fill missing values.\n",
    "\n",
    "Let's see how this work, before you start with sinking feelings."
   ]
  },
  {
   "cell_type": "code",
   "execution_count": 29,
   "metadata": {
    "_cell_guid": "cc1c2eac-0f8d-4132-8914-eec28a1797f4",
    "_uuid": "5aacf45feaf5e6830486ce4f5eabbcbc498386c3"
   },
   "outputs": [
    {
     "data": {
      "text/plain": [
       "array(['Braund, Mr. Owen Harris',\n",
       "       'Cumings, Mrs. John Bradley (Florence Briggs Thayer)',\n",
       "       'Heikkinen, Miss. Laina',\n",
       "       'Futrelle, Mrs. Jacques Heath (Lily May Peel)',\n",
       "       'Allen, Mr. William Henry', 'Moran, Mr. James',\n",
       "       'McCarthy, Mr. Timothy J', 'Palsson, Master. Gosta Leonard',\n",
       "       'Johnson, Mrs. Oscar W (Elisabeth Vilhelmina Berg)',\n",
       "       'Nasser, Mrs. Nicholas (Adele Achem)'], dtype=object)"
      ]
     },
     "execution_count": 29,
     "metadata": {},
     "output_type": "execute_result"
    }
   ],
   "source": [
    "# Inspect names\n",
    "df_raw['Name'].unique()[:10]"
   ]
  },
  {
   "cell_type": "markdown",
   "metadata": {
    "_cell_guid": "6ba0e20f-1d27-4139-b9eb-2d74956f5b7e",
    "_uuid": "009fbc56d540e3a1f89210511dedf5eca8b9aadf"
   },
   "source": [
    "* The rule seems to be: *'last name'* + *','* + *'title'* + *'other names'*"
   ]
  },
  {
   "cell_type": "code",
   "execution_count": 30,
   "metadata": {
    "_cell_guid": "548251db-e3d9-4f7e-b2f4-4541d293f093",
    "_uuid": "16c8d75f775cd1666d7c76743e160a1e80240045"
   },
   "outputs": [
    {
     "data": {
      "text/html": [
       "<div>\n",
       "<style scoped>\n",
       "    .dataframe tbody tr th:only-of-type {\n",
       "        vertical-align: middle;\n",
       "    }\n",
       "\n",
       "    .dataframe tbody tr th {\n",
       "        vertical-align: top;\n",
       "    }\n",
       "\n",
       "    .dataframe thead th {\n",
       "        text-align: right;\n",
       "    }\n",
       "</style>\n",
       "<table border=\"1\" class=\"dataframe\">\n",
       "  <thead>\n",
       "    <tr style=\"text-align: right;\">\n",
       "      <th></th>\n",
       "      <th>PassengerId</th>\n",
       "      <th>Survived</th>\n",
       "      <th>Pclass</th>\n",
       "      <th>Sex</th>\n",
       "      <th>Age</th>\n",
       "      <th>Fare</th>\n",
       "      <th>Embarked</th>\n",
       "      <th>FamilySize</th>\n",
       "      <th>Title</th>\n",
       "    </tr>\n",
       "  </thead>\n",
       "  <tbody>\n",
       "    <tr>\n",
       "      <th>0</th>\n",
       "      <td>1</td>\n",
       "      <td>0</td>\n",
       "      <td>3</td>\n",
       "      <td>male</td>\n",
       "      <td>22.0</td>\n",
       "      <td>7.2500</td>\n",
       "      <td>S</td>\n",
       "      <td>1</td>\n",
       "      <td>Mr</td>\n",
       "    </tr>\n",
       "    <tr>\n",
       "      <th>1</th>\n",
       "      <td>2</td>\n",
       "      <td>1</td>\n",
       "      <td>1</td>\n",
       "      <td>female</td>\n",
       "      <td>38.0</td>\n",
       "      <td>71.2833</td>\n",
       "      <td>C</td>\n",
       "      <td>1</td>\n",
       "      <td>Mrs</td>\n",
       "    </tr>\n",
       "    <tr>\n",
       "      <th>2</th>\n",
       "      <td>3</td>\n",
       "      <td>1</td>\n",
       "      <td>3</td>\n",
       "      <td>female</td>\n",
       "      <td>26.0</td>\n",
       "      <td>7.9250</td>\n",
       "      <td>S</td>\n",
       "      <td>0</td>\n",
       "      <td>Miss</td>\n",
       "    </tr>\n",
       "    <tr>\n",
       "      <th>3</th>\n",
       "      <td>4</td>\n",
       "      <td>1</td>\n",
       "      <td>1</td>\n",
       "      <td>female</td>\n",
       "      <td>35.0</td>\n",
       "      <td>53.1000</td>\n",
       "      <td>S</td>\n",
       "      <td>1</td>\n",
       "      <td>Mrs</td>\n",
       "    </tr>\n",
       "    <tr>\n",
       "      <th>4</th>\n",
       "      <td>5</td>\n",
       "      <td>0</td>\n",
       "      <td>3</td>\n",
       "      <td>male</td>\n",
       "      <td>35.0</td>\n",
       "      <td>8.0500</td>\n",
       "      <td>S</td>\n",
       "      <td>0</td>\n",
       "      <td>Mr</td>\n",
       "    </tr>\n",
       "  </tbody>\n",
       "</table>\n",
       "</div>"
      ],
      "text/plain": [
       "   PassengerId  Survived  Pclass     Sex   Age     Fare Embarked  FamilySize  \\\n",
       "0            1         0       3    male  22.0   7.2500        S           1   \n",
       "1            2         1       1  female  38.0  71.2833        C           1   \n",
       "2            3         1       3  female  26.0   7.9250        S           0   \n",
       "3            4         1       1  female  35.0  53.1000        S           1   \n",
       "4            5         0       3    male  35.0   8.0500        S           0   \n",
       "\n",
       "  Title  \n",
       "0    Mr  \n",
       "1   Mrs  \n",
       "2  Miss  \n",
       "3   Mrs  \n",
       "4    Mr  "
      ]
     },
     "execution_count": 30,
     "metadata": {},
     "output_type": "execute_result"
    }
   ],
   "source": [
    "# Extract titles from name\n",
    "df['Title']=0\n",
    "for i in df:\n",
    "    df['Title']=df_raw['Name'].str.extract('([A-Za-z]+)\\.', expand=False)  # Use REGEX to define a search pattern\n",
    "df.head()"
   ]
  },
  {
   "cell_type": "code",
   "execution_count": 31,
   "metadata": {
    "_cell_guid": "7956bc9f-83f1-4ee5-9d41-06b5211df02d",
    "_uuid": "510da6e93fe40b26406b203cef5944ab5802a753"
   },
   "outputs": [
    {
     "data": {
      "text/plain": [
       "array(['Mr', 'Mrs', 'Miss', 'Master', 'Don', 'Rev', 'Dr', 'Mme', 'Ms',\n",
       "       'Major', 'Lady', 'Sir', 'Mlle', 'Col', 'Capt', 'Countess',\n",
       "       'Jonkheer'], dtype=object)"
      ]
     },
     "execution_count": 31,
     "metadata": {},
     "output_type": "execute_result"
    }
   ],
   "source": [
    "# Unique titles\n",
    "df['Title'].unique()"
   ]
  },
  {
   "cell_type": "code",
   "execution_count": 32,
   "metadata": {
    "_cell_guid": "6d922d6d-814d-4454-8e1d-0c9bca7cf2d8",
    "_uuid": "a1dfe995323f82cc5ad9119b3c30ea8c208a0541"
   },
   "outputs": [
    {
     "name": "stderr",
     "output_type": "stream",
     "text": [
      "/home/jules/anaconda3/lib/python3.7/site-packages/scipy/stats/stats.py:1713: FutureWarning: Using a non-tuple sequence for multidimensional indexing is deprecated; use `arr[tuple(seq)]` instead of `arr[seq]`. In the future this will be interpreted as an array index, `arr[np.array(seq)]`, which will result either in an error or a different result.\n",
      "  return np.add.reduce(sorted[indexer] * weights, axis=axis) / sumval\n"
     ]
    },
    {
     "data": {
      "image/png": "[encoded data removed]",
      "text/plain": [
       "<Figure size 1080x360 with 1 Axes>"
      ]
     },
     "metadata": {
      "needs_background": "light"
     },
     "output_type": "display_data"
    }
   ],
   "source": [
    "# Plot bar plot (titles, age and sex)\n",
    "plt.figure(figsize=(15,5))\n",
    "sns.barplot(x=df['Title'], y=df_raw['Age']);"
   ]
  },
  {
   "cell_type": "markdown",
   "metadata": {
    "_cell_guid": "40a41f11-2120-4a29-9d90-2e50e6a51b95",
    "_uuid": "52464b8ad28cd2eac259b8b6d86058498f7030fb"
   },
   "source": [
    "* Bar plot gives us an estimate of central tendency for a numeric variable (height of each rectangle) and an indication of the uncertainty around that estimate (error bars in black).\n",
    "* Apart from Rev and Dr, which have a larger error bar, the mean value seems to accurately represent the data of all the other features. This validates our approach.\n",
    "* [Here](https://www.biologyforlife.com/interpreting-error-bars.html) you can find a short and sweet intro to error bars interpretation."
   ]
  },
  {
   "cell_type": "code",
   "execution_count": 33,
   "metadata": {
    "_cell_guid": "16e5132b-59c8-4732-aed3-e1ba4cec6213",
    "_uuid": "b7dcc55a0f96fb02a515a85274828b616caf3736"
   },
   "outputs": [
    {
     "data": {
      "text/plain": [
       "Title\n",
       "Capt        70.0\n",
       "Col         58.0\n",
       "Countess    33.0\n",
       "Don         40.0\n",
       "Dr          42.0\n",
       "Name: Age, dtype: float64"
      ]
     },
     "execution_count": 33,
     "metadata": {},
     "output_type": "execute_result"
    }
   ],
   "source": [
    "# Means per title\n",
    "df_raw['Title'] = df['Title']  # To simplify data handling\n",
    "means = df_raw.groupby('Title')['Age'].mean()\n",
    "means.head()"
   ]
  },
  {
   "cell_type": "code",
   "execution_count": 34,
   "metadata": {
    "_cell_guid": "0f3ce996-4369-475b-84bc-058a6afc8b3f",
    "_uuid": "803777860322fd2d0c49338dd5ca63f7fc313eaa"
   },
   "outputs": [
    {
     "data": {
      "text/plain": [
       "{'Capt': 70.0,\n",
       " 'Col': 58.0,\n",
       " 'Countess': 33.0,\n",
       " 'Don': 40.0,\n",
       " 'Dr': 42.0,\n",
       " 'Jonkheer': 38.0,\n",
       " 'Lady': 48.0,\n",
       " 'Major': 48.5,\n",
       " 'Master': 4.574166666666667,\n",
       " 'Miss': 21.773972602739725,\n",
       " 'Mlle': 24.0,\n",
       " 'Mme': 24.0,\n",
       " 'Mr': 32.368090452261306,\n",
       " 'Mrs': 35.898148148148145,\n",
       " 'Ms': 28.0,\n",
       " 'Rev': 43.166666666666664,\n",
       " 'Sir': 49.0}"
      ]
     },
     "execution_count": 34,
     "metadata": {},
     "output_type": "execute_result"
    }
   ],
   "source": [
    "# Transform means into a dictionary for future mapping\n",
    "map_means = means.to_dict()\n",
    "map_means"
   ]
  },
  {
   "cell_type": "code",
   "execution_count": 35,
   "metadata": {
    "_cell_guid": "dc6b5b2b-41f4-4399-944d-5ccc7436298b",
    "_uuid": "ce9d5bc59668e17114a53690c312735807fccdad"
   },
   "outputs": [
    {
     "data": {
      "text/html": [
       "<div>\n",
       "<style scoped>\n",
       "    .dataframe tbody tr th:only-of-type {\n",
       "        vertical-align: middle;\n",
       "    }\n",
       "\n",
       "    .dataframe tbody tr th {\n",
       "        vertical-align: top;\n",
       "    }\n",
       "\n",
       "    .dataframe thead th {\n",
       "        text-align: right;\n",
       "    }\n",
       "</style>\n",
       "<table border=\"1\" class=\"dataframe\">\n",
       "  <thead>\n",
       "    <tr style=\"text-align: right;\">\n",
       "      <th></th>\n",
       "      <th>PassengerId</th>\n",
       "      <th>Survived</th>\n",
       "      <th>Pclass</th>\n",
       "      <th>Sex</th>\n",
       "      <th>Age</th>\n",
       "      <th>Fare</th>\n",
       "      <th>Embarked</th>\n",
       "      <th>FamilySize</th>\n",
       "      <th>Title</th>\n",
       "    </tr>\n",
       "  </thead>\n",
       "  <tbody>\n",
       "    <tr>\n",
       "      <th>0</th>\n",
       "      <td>1</td>\n",
       "      <td>0</td>\n",
       "      <td>3</td>\n",
       "      <td>male</td>\n",
       "      <td>22.0</td>\n",
       "      <td>7.2500</td>\n",
       "      <td>S</td>\n",
       "      <td>1</td>\n",
       "      <td>Mr</td>\n",
       "    </tr>\n",
       "    <tr>\n",
       "      <th>1</th>\n",
       "      <td>2</td>\n",
       "      <td>1</td>\n",
       "      <td>1</td>\n",
       "      <td>female</td>\n",
       "      <td>38.0</td>\n",
       "      <td>71.2833</td>\n",
       "      <td>C</td>\n",
       "      <td>1</td>\n",
       "      <td>Mrs</td>\n",
       "    </tr>\n",
       "    <tr>\n",
       "      <th>2</th>\n",
       "      <td>3</td>\n",
       "      <td>1</td>\n",
       "      <td>3</td>\n",
       "      <td>female</td>\n",
       "      <td>26.0</td>\n",
       "      <td>7.9250</td>\n",
       "      <td>S</td>\n",
       "      <td>0</td>\n",
       "      <td>Miss</td>\n",
       "    </tr>\n",
       "    <tr>\n",
       "      <th>3</th>\n",
       "      <td>4</td>\n",
       "      <td>1</td>\n",
       "      <td>1</td>\n",
       "      <td>female</td>\n",
       "      <td>35.0</td>\n",
       "      <td>53.1000</td>\n",
       "      <td>S</td>\n",
       "      <td>1</td>\n",
       "      <td>Mrs</td>\n",
       "    </tr>\n",
       "    <tr>\n",
       "      <th>4</th>\n",
       "      <td>5</td>\n",
       "      <td>0</td>\n",
       "      <td>3</td>\n",
       "      <td>male</td>\n",
       "      <td>35.0</td>\n",
       "      <td>8.0500</td>\n",
       "      <td>S</td>\n",
       "      <td>0</td>\n",
       "      <td>Mr</td>\n",
       "    </tr>\n",
       "  </tbody>\n",
       "</table>\n",
       "</div>"
      ],
      "text/plain": [
       "   PassengerId  Survived  Pclass     Sex   Age     Fare Embarked  FamilySize  \\\n",
       "0            1         0       3    male  22.0   7.2500        S           1   \n",
       "1            2         1       1  female  38.0  71.2833        C           1   \n",
       "2            3         1       3  female  26.0   7.9250        S           0   \n",
       "3            4         1       1  female  35.0  53.1000        S           1   \n",
       "4            5         0       3    male  35.0   8.0500        S           0   \n",
       "\n",
       "  Title  \n",
       "0    Mr  \n",
       "1   Mrs  \n",
       "2  Miss  \n",
       "3   Mrs  \n",
       "4    Mr  "
      ]
     },
     "execution_count": 35,
     "metadata": {},
     "output_type": "execute_result"
    }
   ],
   "source": [
    "# Impute ages based on titles\n",
    "idx_nan_age = df.loc[np.isnan(df['Age'])].index\n",
    "df.loc[idx_nan_age,'Age'].loc[idx_nan_age] = df['Title'].loc[idx_nan_age].map(map_means)\n",
    "df.head()"
   ]
  },
  {
   "cell_type": "code",
   "execution_count": 36,
   "metadata": {
    "_cell_guid": "5da28394-6dfc-4c2a-9a2f-b81a36b1bea5",
    "_uuid": "044c47fb3b0702ad77e281fba28032f83aa1f29d"
   },
   "outputs": [
    {
     "data": {
      "text/html": [
       "<div>\n",
       "<style scoped>\n",
       "    .dataframe tbody tr th:only-of-type {\n",
       "        vertical-align: middle;\n",
       "    }\n",
       "\n",
       "    .dataframe tbody tr th {\n",
       "        vertical-align: top;\n",
       "    }\n",
       "\n",
       "    .dataframe thead th {\n",
       "        text-align: right;\n",
       "    }\n",
       "</style>\n",
       "<table border=\"1\" class=\"dataframe\">\n",
       "  <thead>\n",
       "    <tr style=\"text-align: right;\">\n",
       "      <th></th>\n",
       "      <th>PassengerId</th>\n",
       "      <th>Survived</th>\n",
       "      <th>Pclass</th>\n",
       "      <th>Sex</th>\n",
       "      <th>Age</th>\n",
       "      <th>Fare</th>\n",
       "      <th>Embarked</th>\n",
       "      <th>FamilySize</th>\n",
       "      <th>Title</th>\n",
       "      <th>Imputed</th>\n",
       "    </tr>\n",
       "  </thead>\n",
       "  <tbody>\n",
       "    <tr>\n",
       "      <th>0</th>\n",
       "      <td>1</td>\n",
       "      <td>0</td>\n",
       "      <td>3</td>\n",
       "      <td>male</td>\n",
       "      <td>22.0</td>\n",
       "      <td>7.2500</td>\n",
       "      <td>S</td>\n",
       "      <td>1</td>\n",
       "      <td>Mr</td>\n",
       "      <td>0</td>\n",
       "    </tr>\n",
       "    <tr>\n",
       "      <th>1</th>\n",
       "      <td>2</td>\n",
       "      <td>1</td>\n",
       "      <td>1</td>\n",
       "      <td>female</td>\n",
       "      <td>38.0</td>\n",
       "      <td>71.2833</td>\n",
       "      <td>C</td>\n",
       "      <td>1</td>\n",
       "      <td>Mrs</td>\n",
       "      <td>0</td>\n",
       "    </tr>\n",
       "    <tr>\n",
       "      <th>2</th>\n",
       "      <td>3</td>\n",
       "      <td>1</td>\n",
       "      <td>3</td>\n",
       "      <td>female</td>\n",
       "      <td>26.0</td>\n",
       "      <td>7.9250</td>\n",
       "      <td>S</td>\n",
       "      <td>0</td>\n",
       "      <td>Miss</td>\n",
       "      <td>0</td>\n",
       "    </tr>\n",
       "    <tr>\n",
       "      <th>3</th>\n",
       "      <td>4</td>\n",
       "      <td>1</td>\n",
       "      <td>1</td>\n",
       "      <td>female</td>\n",
       "      <td>35.0</td>\n",
       "      <td>53.1000</td>\n",
       "      <td>S</td>\n",
       "      <td>1</td>\n",
       "      <td>Mrs</td>\n",
       "      <td>0</td>\n",
       "    </tr>\n",
       "    <tr>\n",
       "      <th>4</th>\n",
       "      <td>5</td>\n",
       "      <td>0</td>\n",
       "      <td>3</td>\n",
       "      <td>male</td>\n",
       "      <td>35.0</td>\n",
       "      <td>8.0500</td>\n",
       "      <td>S</td>\n",
       "      <td>0</td>\n",
       "      <td>Mr</td>\n",
       "      <td>0</td>\n",
       "    </tr>\n",
       "  </tbody>\n",
       "</table>\n",
       "</div>"
      ],
      "text/plain": [
       "   PassengerId  Survived  Pclass     Sex   Age     Fare Embarked  FamilySize  \\\n",
       "0            1         0       3    male  22.0   7.2500        S           1   \n",
       "1            2         1       1  female  38.0  71.2833        C           1   \n",
       "2            3         1       3  female  26.0   7.9250        S           0   \n",
       "3            4         1       1  female  35.0  53.1000        S           1   \n",
       "4            5         0       3    male  35.0   8.0500        S           0   \n",
       "\n",
       "  Title  Imputed  \n",
       "0    Mr        0  \n",
       "1   Mrs        0  \n",
       "2  Miss        0  \n",
       "3   Mrs        0  \n",
       "4    Mr        0  "
      ]
     },
     "execution_count": 36,
     "metadata": {},
     "output_type": "execute_result"
    }
   ],
   "source": [
    "# Identify imputed data\n",
    "df['Imputed'] = 0\n",
    "df.at[idx_nan_age.values, 'Imputed'] = 1\n",
    "df.head()"
   ]
  },
  {
   "cell_type": "markdown",
   "metadata": {
    "_cell_guid": "5750e80a-e3da-4382-b097-3e58ee27dba2",
    "_uuid": "257622ae4b7a57c5dcce3099ba03dffad65a8bb7"
   },
   "source": [
    "## 2.2. Exploratory data analysis"
   ]
  },
  {
   "cell_type": "markdown",
   "metadata": {
    "_cell_guid": "3578d65f-0c7a-4bc3-a7fa-e788e463e57f",
    "_uuid": "43547eb4335ee508e030bddcab7ab10d3d96531d"
   },
   "source": [
    "Exploratory data analysis is often mentioned as one of the most important steps in the data analysis process. However, it's fairly easy to fall into a 'data diving' trap (especially if you're solving problems about sunken ships) and get lost into the process. When that happens, your analysis can end up like [this](https://youtu.be/CIQI3isddbE).\n",
    "\n",
    "We can avoid this by following a hypothesis driven approach. The hypothesis driven approach consists in establishing hypothesis about the variables behaviour and their relationships, early in the process, to then focus on using data to prove (or disprove) those hypothesis. This makes our analysis very objective because we will be collecting just enough data to test specific hypothesis. As a result, we:\n",
    "* Increase speed. Since we will limit our analysis to some hypothesis and move forward.\n",
    "* Reduce effort. The amount of data and the number of tests will be only what is needed to verify your hypothesis. \n",
    "* Reduce risk. If you're right you succeed fast, if you're wrong you fail fast.\n",
    "\n",
    "[Here](http://gsl.mit.edu/media/programs/ghana-summer-2013/materials/problem_solving_grand_slam_7_steps_to_master_training_deck.pdf) you can find one of my favourite PowerPoint presentations about the benefits and procedures of a hypothesis driven approach in problem solving. Please note that, particularly when you really need to learn about the data set, it makes sense to put the diving cylinder and go dive into the depths of data analysis. However, if at the outset you can generate an educated guess of what the answer of your problem is, I think that you should test your hypothesis and learn from it as fast as you can.\n",
    "\n",
    "Ok, now that I convinced you that the hypothesis driven approach is the [last coke in the desert](http://bit.ly/2oYzJ7U), let me show you how to apply it. Cases like the one we have are easy targets for the hypothesis driven approach because we don't have many variables, so we can more or less guess their impact. Accordingly, we will start by listing each of the variables and generate hypothesis about their relationship with the target variable ('Survived'). Then, we will test those hypothesis through a set of exploratory data analysis tools. As a result, we'll end up with a comprehensive view about the variables that should belong to our prediction model.\n",
    "\n",
    "Let's get started:\n",
    "\n",
    "* **PassengerId**. This is just an unique identification of each passenger. It's not expected to be relevant to our analysis.\n",
    "* **Survived**. Target variable. To sink or not to sink is the question of this exercise.\n",
    "* **Pclass**. This is the ticket class. According to Karl Marx, this should affect our target variable. First class should have a higher survival rate.\n",
    "* **Name**. Names are a form of social tagging, especially when accompanied by a title. As a consequence, it can lead to different forms of treatment. Let's keep an eye on this.\n",
    "* **Sex**. Always important.\n",
    "* **Age**. It should make a difference. For example, children are usually evacuated first in a disaster, so that we can think about a solution in silence... Joking, the true reason why 'Age' matters is this [one](http://www.dailymail.co.uk/sciencetech/article-1254788/Why-women-children-saved-Titanic-Lusitania.html#ixzz54KETWEPr).\n",
    "* **SibSp**. Number of siblings/spouses aboard the Titanic. I'd say that it's easier to survive if you're with your family than if you're travelling alone. [Teamwork](https://youtu.be/1qzzYrCTKuk)!\n",
    "* **Parch**. Number of parents/children aboard the Titanic. It should play with 'SibSp'.\n",
    "* **Ticket**. This is the ticket number. Unless it has some information about places, it shouldn't be important for prediction purposes.\n",
    "* **Fare**. Same logic as 'Pclass'.\n",
    "* **Cabin**. The cabin number can indicate where people were during the disaster. It wouldn't be surprising if it had some influence in survival chances, but this variable was excluded due to the high percentage of missing values.\n",
    "* **Embarked**. When the sun rises, it rises for everyone. It's not expectable that people coming from Cherbourg are more unlucky than people coming from Southampton. Unless there is some second order effect, [like refusing to run away to keep your honor as a man](http://www.mindblowing-facts.org/2013/07/the-only-japanese-who-survived-the-titanic-lost-his-job-because-he-was-known-as-a-coward-in-japan-for-not-dying-with-the-other-passengers/), I would say that this variable is not important.\n",
    "\n",
    "Now, step by step, let's perform our analysis."
   ]
  },
  {
   "cell_type": "markdown",
   "metadata": {
    "_cell_guid": "77e1f23f-8a83-4be1-ab7b-314c8195d650",
    "_uuid": "29ab291a611e5f751d61fedeb4b09d88de342efc",
    "collapsed": true
   },
   "source": [
    "### 2.2.1. Pclass"
   ]
  },
  {
   "cell_type": "markdown",
   "metadata": {
    "_cell_guid": "36df07bb-179f-439a-9ccc-9203e91c2002",
    "_uuid": "6625171e3fcba6d055d028a455aee1741e5edfe6",
    "collapsed": true
   },
   "source": [
    "Our hypothesis is that the higher the class, the higher the chances of survival. This means that a person travelling in the first class has a higher chance of survival than a person traveling on the second or third class.\n",
    "\n",
    "To visualize if there is a relationship between 'Pclass' and 'Survival', let's do a bar plot."
   ]
  },
  {
   "cell_type": "code",
   "execution_count": 37,
   "metadata": {
    "_cell_guid": "c0fc1b34-7d55-486f-b6e6-458702fb33f4",
    "_uuid": "6a08ee4ded9d87a7eeef702f491846b7c1c649d5"
   },
   "outputs": [
    {
     "data": {
      "image/png": "[encoded data removed]",
      "text/plain": [
       "<Figure size 432x288 with 1 Axes>"
      ]
     },
     "metadata": {
      "needs_background": "light"
     },
     "output_type": "display_data"
    }
   ],
   "source": [
    "# Plot\n",
    "sns.barplot(df['Pclass'],df['Survived']);"
   ]
  },
  {
   "cell_type": "markdown",
   "metadata": {
    "_cell_guid": "1cbe0c7a-966e-40b5-8419-57d2d87f51cf",
    "_uuid": "ac21502d7afb4523802117077be271c33a3ac259",
    "collapsed": true
   },
   "source": [
    "As we can see, about 60% of the people travelling in the first class survived. In contrast, only approximately 25% of the people travelling in the third class survived. Accordingly, this plot suggests that the class in which people travel affects the chances of survival."
   ]
  },
  {
   "cell_type": "markdown",
   "metadata": {
    "_cell_guid": "4d2a67a0-6c27-40fe-89f5-027831f9e380",
    "_uuid": "4cc2638cb77faab3fadb4065b3f28e3ad94805e8",
    "collapsed": true
   },
   "source": [
    "### 2.2.2. Name/Title"
   ]
  },
  {
   "cell_type": "markdown",
   "metadata": {
    "_cell_guid": "b99ac5bc-8e76-423c-9548-64849e2d6ccb",
    "_uuid": "9f5fa19edf62b46ed4a274cf301754187cd09536"
   },
   "source": [
    "Our assumption is that people's title influences how they are treated. In our case, we have several titles, but only some of them are shared by a significant number of people. Accordingly, it would be interesting if we could group some of the titles and simplify our analysis. \n",
    "\n",
    "Let's analyse the title and see if we can can find a sensible way to group them. Then, we test our new groups and, if it works in an acceptable way, we keep it. For now, optimization will not be a goal. The focus is on getting something that can improve our current situation."
   ]
  },
  {
   "cell_type": "code",
   "execution_count": 38,
   "metadata": {
    "_cell_guid": "32db00e7-8bfa-4e97-9f68-d8857df8b577",
    "_uuid": "b83281cab9a1a6d75c8fd762208ba390db86f53b"
   },
   "outputs": [
    {
     "data": {
      "text/plain": [
       "Title\n",
       "Capt          1\n",
       "Col           2\n",
       "Countess      1\n",
       "Don           1\n",
       "Dr            7\n",
       "Jonkheer      1\n",
       "Lady          1\n",
       "Major         2\n",
       "Master       40\n",
       "Miss        182\n",
       "Mlle          2\n",
       "Mme           1\n",
       "Mr          517\n",
       "Mrs         125\n",
       "Ms            1\n",
       "Rev           6\n",
       "Sir           1\n",
       "Name: PassengerId, dtype: int64"
      ]
     },
     "execution_count": 38,
     "metadata": {},
     "output_type": "execute_result"
    }
   ],
   "source": [
    "# Count how many people have each of the titles\n",
    "df.groupby(['Title'])['PassengerId'].count()"
   ]
  },
  {
   "cell_type": "markdown",
   "metadata": {
    "_cell_guid": "c6f63af9-a582-4b60-bbe1-d0fa3fe184dd",
    "_uuid": "1672ae4ebf876cb8904808603c551aa404c900a6"
   },
   "source": [
    "From the results above we can see that:\n",
    "\n",
    "* Titles like 'Master', 'Miss', 'Mr', and 'Mrs', appear several times. Accordingly, we will not group them.\n",
    "* Regarding Mme and Mlle, we can see [here](https://www.frenchtoday.com/blog/french-culture/madame-or-mademoiselle-a-delicate-question) that they correspond to the categories Mrs and Miss, respectively. As a consequence, we will assign them to those titles.\n",
    "* Finally, we will group all the other titles in a new title named 'Other'. Then, we will define 'Title' as a categorical feature and plot it to see how it looks like. If it looks ok, we will proceed with this new categorization."
   ]
  },
  {
   "cell_type": "code",
   "execution_count": 39,
   "metadata": {
    "_cell_guid": "3269ceef-6139-4067-a876-518990c01d42",
    "_uuid": "c14e88a44d85b73a02aacf946f8b1a143c36eefc"
   },
   "outputs": [],
   "source": [
    "# Map of aggregated titles:\n",
    "titles_dict = {'Capt': 'Other',\n",
    "               'Major': 'Other',\n",
    "               'Jonkheer': 'Other',\n",
    "               'Don': 'Other',\n",
    "               'Sir': 'Other',\n",
    "               'Dr': 'Other',\n",
    "               'Rev': 'Other',\n",
    "               'Countess': 'Other',\n",
    "               'Dona': 'Other',\n",
    "               'Mme': 'Mrs',\n",
    "               'Mlle': 'Miss',\n",
    "               'Ms': 'Miss',\n",
    "               'Mr': 'Mr',\n",
    "               'Mrs': 'Mrs',\n",
    "               'Miss': 'Miss',\n",
    "               'Master': 'Master',\n",
    "               'Lady': 'Other'}"
   ]
  },
  {
   "cell_type": "code",
   "execution_count": 40,
   "metadata": {
    "_cell_guid": "3512b140-c3b3-4056-bd4d-7923ce6a68dc",
    "_uuid": "be1f32a067017ee70f0c98e53932d303327a102a"
   },
   "outputs": [
    {
     "data": {
      "text/plain": [
       "0      Mr\n",
       "1     Mrs\n",
       "2    Miss\n",
       "3     Mrs\n",
       "4      Mr\n",
       "Name: Title, dtype: object"
      ]
     },
     "execution_count": 40,
     "metadata": {},
     "output_type": "execute_result"
    }
   ],
   "source": [
    "# Group titles\n",
    "df['Title'] = df['Title'].map(titles_dict)\n",
    "df['Title'].head()"
   ]
  },
  {
   "cell_type": "code",
   "execution_count": 41,
   "metadata": {
    "_cell_guid": "7a9f787c-ba4f-45be-9e9e-50db2e7a5897",
    "_uuid": "83012b55fdc060ea08c1371051d0e747bd5e2525"
   },
   "outputs": [
    {
     "data": {
      "text/plain": [
       "PassengerId       int64\n",
       "Survived          int64\n",
       "Pclass            int64\n",
       "Sex              object\n",
       "Age             float64\n",
       "Fare            float64\n",
       "Embarked         object\n",
       "FamilySize        int64\n",
       "Title          category\n",
       "Imputed           int64\n",
       "dtype: object"
      ]
     },
     "execution_count": 41,
     "metadata": {},
     "output_type": "execute_result"
    }
   ],
   "source": [
    "# Transform into categorical\n",
    "df['Title'] = pd.Categorical(df['Title'])\n",
    "df.dtypes"
   ]
  },
  {
   "cell_type": "code",
   "execution_count": 42,
   "metadata": {
    "_cell_guid": "616dcff2-71f1-4bb4-8fb1-24aa087ce3b8",
    "_uuid": "393b112f48ee465800e8f6c8d7319f5ee7c80c61"
   },
   "outputs": [
    {
     "data": {
      "image/png": "[encoded data removed]",
      "text/plain": [
       "<Figure size 432x288 with 1 Axes>"
      ]
     },
     "metadata": {
      "needs_background": "light"
     },
     "output_type": "display_data"
    }
   ],
   "source": [
    "# Plot\n",
    "sns.barplot(x='Title', y='Survived', data=df);"
   ]
  },
  {
   "cell_type": "markdown",
   "metadata": {
    "_cell_guid": "04aae632-7fbd-4576-a0ef-38216081f755",
    "_uuid": "f3a6a1909ad7674a658db651b0b2c09e17ff6c61",
    "collapsed": true
   },
   "source": [
    "As we already know, the bar plot shows us an estimate of the mean value (height of each rectangle) and an indication of the uncertainty around that central tendency (error bars).\n",
    "\n",
    "Our results suggest that:\n",
    "* People with the title 'Mr' survived less than people with any other title. \n",
    "* Titles with a survival rate higher than 50% are those that correspond to female (Miss or Mrs) or children (Master) titles.\n",
    "* Our new category, 'Other', should be more discretized. As we can see by the error bar (black line), there is a significant uncertainty around the mean value. Probably, one of the problems is that we are mixing male and female titles in the 'Other' category. We should proceed with a more detailed analysis to sort this out. Also, the category 'Master' seems to have a similar problem. For now, we will not make any changes, but we will keep these two situations in our mind for future improvement of our data set."
   ]
  },
  {
   "cell_type": "markdown",
   "metadata": {
    "_cell_guid": "625d1104-cb15-496a-9523-db90953ef3ca",
    "_uuid": "d39d9265f11fd62e0bb9bea1f622e8058b20458c",
    "collapsed": true
   },
   "source": [
    "### 2.2.3. Sex"
   ]
  },
  {
   "cell_type": "markdown",
   "metadata": {
    "_cell_guid": "087d5dd6-96ca-4fa6-bd95-b7ce40019543",
    "_uuid": "e7db8896bf50d1c307555eeb6970b60997df0b7e",
    "collapsed": true
   },
   "source": [
    "Sex is one of the most discussed topics in Human history. There are several perspective about the topic, but I must confess that Freud's perspectives had a significant impact on me because they have shown me the subject in a new perspective. What's new about Freud is that he associated many 'normal' behaviours to sexual drives, almost to the point of making us question everything we do. In the end, Freud realized that not everything was about sex. As he said, 'sometimes a cigar is just a cigar' (Freud used to smoke cigars).\n",
    "\n",
    "Preambles aside, what we really need to know is if sometimes a cigar is just a cigar or not. We already have some clues that, in Titanic, women had a higher survival rate. But, nothing better than a plot to see what's going on."
   ]
  },
  {
   "cell_type": "code",
   "execution_count": 43,
   "metadata": {
    "_cell_guid": "c2a27fc2-f5b0-486c-90e9-64a93fd1f3df",
    "_uuid": "ab9a73dc86033a709449ab4c02a309f822c641f2"
   },
   "outputs": [],
   "source": [
    "# Transform into categorical\n",
    "df['Sex'] = pd.Categorical(df['Sex'])"
   ]
  },
  {
   "cell_type": "code",
   "execution_count": 44,
   "metadata": {
    "_cell_guid": "94c68aa1-d4af-4d52-9806-846c69c35e95",
    "_uuid": "07bfbb7714d8b69e344a959bdf638717e8b84fb4"
   },
   "outputs": [
    {
     "data": {
      "image/png": "[encoded data removed]",
      "text/plain": [
       "<Figure size 432x288 with 1 Axes>"
      ]
     },
     "metadata": {
      "needs_background": "light"
     },
     "output_type": "display_data"
    }
   ],
   "source": [
    "# Plot\n",
    "sns.barplot(df['Sex'],df['Survived']);"
   ]
  },
  {
   "cell_type": "markdown",
   "metadata": {
    "_cell_guid": "3c76cfbe-dddf-4295-bbe6-9b4936bbc555",
    "_uuid": "12b6efd42b011b8c6ef3447dbea7dd6981c70a3a",
    "collapsed": true
   },
   "source": [
    "Our hypothesis seems to be right. The world belongs to women, and so does the Titanic."
   ]
  },
  {
   "cell_type": "markdown",
   "metadata": {
    "_cell_guid": "0c4ad2b1-c3bc-4e17-9d3d-dbd41b511bc9",
    "_uuid": "670abc340c5b39e33f7678d79c9cee991dd4ae35",
    "collapsed": true
   },
   "source": [
    "### 2.2.4. Age"
   ]
  },
  {
   "cell_type": "markdown",
   "metadata": {
    "_cell_guid": "96b3ab57-51c2-4617-9964-08d6a71f9ed3",
    "_uuid": "9398e7c00d9ca9f302e1b57b702ac9c13f7f2e5f"
   },
   "source": [
    "'Age' is the next variable in the list. Our hypothesis is that children are more prone to survive, while people in its adult life may have a lower rate of survival. Personally, I don't have any special intuition about elders, since they are the most vulnerable. This can play for both sides: either people help elders because they are more vulnerable, or they they are not able to cope with the challenges posed by the wreck of a ship.\n",
    "\n",
    "Let's call the usual suspect (bar plot) to help us understanding the situation."
   ]
  },
  {
   "cell_type": "code",
   "execution_count": 45,
   "metadata": {
    "_cell_guid": "9feef137-8257-49e4-92f6-7e42e91dbf7d",
    "_uuid": "afd193d3a3b865f45df21310dbec50b894b42e2e"
   },
   "outputs": [
    {
     "data": {
      "image/png": "[encoded data removed]",
      "text/plain": [
       "<Figure size 1800x720 with 1 Axes>"
      ]
     },
     "metadata": {
      "needs_background": "light"
     },
     "output_type": "display_data"
    }
   ],
   "source": [
    "# Plot\n",
    "plt.figure(figsize=(25,10))\n",
    "sns.barplot(df['Age'],df['Survived'], ci=None)\n",
    "plt.xticks(rotation=90);"
   ]
  },
  {
   "cell_type": "markdown",
   "metadata": {
    "_cell_guid": "ea258a36-30c9-4f6a-b797-6bbf995f2668",
    "_uuid": "d0cc09e0d31bca2edcf49299dc2348f02202cbb7"
   },
   "source": [
    "With a little bit of creativity, we can say that the plot has three regions: \n",
    "\n",
    "1. One region that goes between age 0 and 15; \n",
    "2. One between age 15 and 48;\n",
    "3. A last one between age 48 and 80. \n",
    "\n",
    "I know that this division is arguable, especially in what concerns the last two categories. However, the point is that this categories split fits into what we know about the way our society is organized: childrens, adults and elders. For now, let's proceed this way."
   ]
  },
  {
   "cell_type": "code",
   "execution_count": 46,
   "metadata": {
    "_cell_guid": "4d505047-b82b-4d06-b680-8f62b3e307b7",
    "_uuid": "7f3bb9e09c00899427997213426e445b9fc2a125"
   },
   "outputs": [
    {
     "data": {
      "image/png": "[encoded data removed]",
      "text/plain": [
       "<Figure size 1800x720 with 1 Axes>"
      ]
     },
     "metadata": {
      "needs_background": "light"
     },
     "output_type": "display_data"
    }
   ],
   "source": [
    "# Plot\n",
    "'''\n",
    "Probably, there is an easier way to do this plot. I had a problem using\n",
    "plt.axvspan because the xmin and xmax values weren't\n",
    "being plotted correctly. For example, I would define xmax = 12 and only \n",
    "the area between 0 and 7 would be filled. This was happening because my \n",
    "X-axis don't follow a regular (0, 1, ..., n) sequence. After some trial\n",
    "and error, I noticed that xmin and xmax refer to the number of elements in\n",
    "the X-axis coordinate that should be filled. Accordingly, I defined two \n",
    "variables, x_limit_1 and x_limit_2, that count the number of elements that\n",
    "should be filled in each interval. Sounds confusing? To me too.\n",
    "'''\n",
    "limit_1 = 12\n",
    "limit_2 = 50\n",
    "\n",
    "x_limit_1 = np.size(df[df['Age'] < limit_1]['Age'].unique())\n",
    "x_limit_2 = np.size(df[df['Age'] < limit_2]['Age'].unique())\n",
    "\n",
    "plt.figure(figsize=(25,10))\n",
    "sns.barplot(df['Age'],df['Survived'], ci=None)\n",
    "\n",
    "plt.axvspan(-1, x_limit_1, alpha=0.25, color='green')\n",
    "plt.axvspan(x_limit_1, x_limit_2, alpha=0.25, color='red')\n",
    "plt.axvspan(x_limit_2, 100, alpha=0.25, color='yellow')\n",
    "\n",
    "plt.xticks(rotation=90);"
   ]
  },
  {
   "cell_type": "code",
   "execution_count": 47,
   "metadata": {
    "_cell_guid": "f056b07e-5c0d-4252-8fc5-69e72b3ce70b",
    "_uuid": "8290015f8eb5b5dc1ad99a906be55dd3361b8f77"
   },
   "outputs": [
    {
     "data": {
      "text/plain": [
       "0    Adult\n",
       "1    Adult\n",
       "2    Adult\n",
       "3    Adult\n",
       "4    Adult\n",
       "Name: Age, dtype: category\n",
       "Categories (3, object): [Child < Adult < Elder]"
      ]
     },
     "execution_count": 47,
     "metadata": {},
     "output_type": "execute_result"
    }
   ],
   "source": [
    "# Bin data\n",
    "df['Age'] = pd.cut(df['Age'], bins=[0, 12, 50, 200], labels=['Child','Adult','Elder'])\n",
    "df['Age'].head()"
   ]
  },
  {
   "cell_type": "code",
   "execution_count": 48,
   "metadata": {
    "_cell_guid": "88c3ca8f-8374-469d-9700-ae537f11f01d",
    "_uuid": "65ed4dd726cb3ef82024d73f7a049fd289455737"
   },
   "outputs": [
    {
     "data": {
      "image/png": "[encoded data removed]",
      "text/plain": [
       "<Figure size 432x288 with 1 Axes>"
      ]
     },
     "metadata": {
      "needs_background": "light"
     },
     "output_type": "display_data"
    }
   ],
   "source": [
    "# Plot\n",
    "sns.barplot(df['Age'], df['Survived']);"
   ]
  },
  {
   "cell_type": "markdown",
   "metadata": {
    "_cell_guid": "1978ab71-a551-48ec-99f4-481ad8d29cfc",
    "_uuid": "969f45f01389ea696146ca0cbbd4d7e9922930e5"
   },
   "source": [
    "The plot shows that children have a higher survival rate. It also shows that, in terms of survival, there is not a significant difference between the categories 'Adult' and 'Elder'. For now, we will not make any change because there is a theoretical rationale behind this categorization. Nonetheless, it seems that it would be enough to just distinguish between children and adults."
   ]
  },
  {
   "cell_type": "markdown",
   "metadata": {
    "_cell_guid": "eb4ded78-f48e-4155-9fe2-9778f66a05a2",
    "_uuid": "f4d5198a277f4609e8143328f1baa46e1f80fe70"
   },
   "source": [
    "### 2.2.5. FamilySize"
   ]
  },
  {
   "cell_type": "markdown",
   "metadata": {
    "_cell_guid": "ec7f5aa5-1d81-4047-b934-b7abf570c3a6",
    "_uuid": "349129f045e588758e844cad810f39d76413838f"
   },
   "source": [
    "Regarding family size, our hypothesis is that those who travel alone, have a lower survival rate. The idea is that people with family can collaborate and help each other escaping.\n",
    "\n",
    "Let's see if that makes sense using our [beautiful and only friend](https://youtu.be/LsQtnBu3p7Y), the bar plot."
   ]
  },
  {
   "cell_type": "code",
   "execution_count": 49,
   "metadata": {
    "_cell_guid": "f48b71af-0c3d-4da0-9ad2-aecdaf2e3c1d",
    "_uuid": "e7391a4547c02a0a5ccde9262fbfa36ff086cf56"
   },
   "outputs": [
    {
     "data": {
      "image/png": "[encoded data removed]",
      "text/plain": [
       "<Figure size 432x288 with 1 Axes>"
      ]
     },
     "metadata": {
      "needs_background": "light"
     },
     "output_type": "display_data"
    }
   ],
   "source": [
    "# Plot\n",
    "sns.barplot(df['FamilySize'], df['Survived']);"
   ]
  },
  {
   "cell_type": "markdown",
   "metadata": {
    "_cell_guid": "dc9f94fb-2cdc-4a7a-912b-778ba047f574",
    "_uuid": "59bc0b145672167461e2fe4f34dae840ae9eafb2"
   },
   "source": [
    "As we can see, when 'FamilySize' is between 0 and 3, our hypothesis finds some support. People that are travelling alone have a lower survival rate than people who are travelling with one, two or three people more. \n",
    "\n",
    "However, when FamilySize is between 4 and 10, things start to change. Despite the large variability of the results, the survival rate drops. This may suggest that our hypothesis should be revised when 'FamilySize' is higher than 3. \n",
    "\n",
    "This variable seems to be more complex than expected. Accordingly, we will not make any transformation in this variable and we will leave it as a continuous variable to preserve all the information it has."
   ]
  },
  {
   "cell_type": "markdown",
   "metadata": {
    "_cell_guid": "060f7118-17a2-4a31-9295-34332529ada0",
    "_uuid": "3468173b1accdddb98d5300c71e0a97437c61bd9"
   },
   "source": [
    "### 2.2.6. Fare"
   ]
  },
  {
   "cell_type": "markdown",
   "metadata": {
    "_cell_guid": "5f0336d5-8ed9-4ba5-b8ea-22975aaca19a",
    "_uuid": "4fbfd7b50aca244528b9285c4c7add374f925525"
   },
   "source": [
    "The same logic applied to 'Pclass' should work for 'Fare': higher fares, higher survival rate.\n",
    "\n",
    "Since now we want to establish comparisons across different levels of a categorical variable, we will use a box plot instead of a bar plot."
   ]
  },
  {
   "cell_type": "code",
   "execution_count": 50,
   "metadata": {
    "_cell_guid": "09e1f13c-b3fb-499d-a941-9e46fffa26fc",
    "_uuid": "1446a7dd99fe3e7ba00d27e5fbceec5e1c2be602"
   },
   "outputs": [
    {
     "data": {
      "image/png": "[encoded data removed]",
      "text/plain": [
       "<Figure size 540x360 with 1 Axes>"
      ]
     },
     "metadata": {
      "needs_background": "light"
     },
     "output_type": "display_data"
    }
   ],
   "source": [
    "# Plot\n",
    "plt.figure(figsize=(7.5,5))\n",
    "sns.boxplot(df['Survived'], df['Fare']);"
   ]
  },
  {
   "cell_type": "markdown",
   "metadata": {
    "_cell_guid": "c3536758-0482-4d0e-8054-0c31caaeb650",
    "_uuid": "fb35593f956aaec48156e1cc0c6aeb1950adaa4f"
   },
   "source": [
    "The plot suggests that those who survived paid a higher fare. Since we believe this variable is connected with 'Pclass', let's see how they work together."
   ]
  },
  {
   "cell_type": "code",
   "execution_count": 51,
   "metadata": {
    "_cell_guid": "18aef4b4-86e4-4dde-b565-c1958ed28d3e",
    "_uuid": "bf8346f9fb228927a41c219e36c366dd9c026fff"
   },
   "outputs": [
    {
     "data": {
      "image/png": "[encoded data removed]",
      "text/plain": [
       "<Figure size 432x288 with 1 Axes>"
      ]
     },
     "metadata": {
      "needs_background": "light"
     },
     "output_type": "display_data"
    }
   ],
   "source": [
    "# Plot\n",
    "sns.barplot(df['Survived'], df['Fare'], df['Pclass']);"
   ]
  },
  {
   "cell_type": "markdown",
   "metadata": {
    "_cell_guid": "0a0fe60c-9092-4c6e-8441-8698c5da48d6",
    "_uuid": "01ebc56582a8698858bf5c5ef243413f07721171"
   },
   "source": [
    "Here we have an interesting result. It seems that 'Fare' doesn't make difference, in terms of survival, if you are travelling in second or third class. However, if you are travelling in first class, the higher the fare, the higher the chances of survival. Considering this, it would make sense to create interaction features between 'Fare' and 'Pclass'."
   ]
  },
  {
   "cell_type": "markdown",
   "metadata": {
    "_cell_guid": "ebff0f2a-283d-4b77-938c-d5f4a6b3e14d",
    "_uuid": "19ef6fc7013e030fb4de1c809d5c3b814457f9c5"
   },
   "source": [
    "### 2.2.7. Embarked"
   ]
  },
  {
   "cell_type": "markdown",
   "metadata": {
    "_cell_guid": "68a4e07b-5fc0-4d00-89d4-4a2ff21f2f4e",
    "_uuid": "e68cf9b8780bf85491d60d10439e82533a6280de"
   },
   "source": [
    "The hypothesis regarding 'Embarked' is that it doesn't influence the chances of survival. It is hard to imagine a scenario in which people from Southampton, for instance, would such a competitive advantage, that it would make them more apt for survival than people from Queensland. Yes, in [Darwin](https://en.wikipedia.org/wiki/Natural_selection) we believe.\n",
    "\n",
    "A simple plot can enlighten us."
   ]
  },
  {
   "cell_type": "code",
   "execution_count": 52,
   "metadata": {
    "_cell_guid": "755156f5-0d24-445b-a3ff-24bcce90c00b",
    "_uuid": "03523e904b2bea5c90e008368b8c754a20597089"
   },
   "outputs": [
    {
     "data": {
      "image/png": "[encoded data removed]",
      "text/plain": [
       "<Figure size 432x288 with 1 Axes>"
      ]
     },
     "metadata": {
      "needs_background": "light"
     },
     "output_type": "display_data"
    }
   ],
   "source": [
    "# Plot\n",
    "sns.barplot(df['Embarked'], df['Survived']);"
   ]
  },
  {
   "cell_type": "markdown",
   "metadata": {
    "_cell_guid": "9771a658-9339-4cee-95d4-2c04780ba602",
    "_uuid": "8c62a536cbb6a7d64dcdc51089a6f9c1666bac3b"
   },
   "source": [
    "Ups... It seems that people embarking on C were selected by a superior entity to survive. This is strange and may be hidding some relationship that is not obvious with this plot (e.g. people embarking on C were mostly women). \n",
    "\n",
    "Let's dive deeper. "
   ]
  },
  {
   "cell_type": "code",
   "execution_count": 53,
   "metadata": {
    "_cell_guid": "f43582d1-8ab3-4b42-8764-ce602456ce2f",
    "_uuid": "55bbd0304881dd12cbb52d29a4218180f247933c"
   },
   "outputs": [
    {
     "data": {
      "text/html": [
       "<div>\n",
       "<style scoped>\n",
       "    .dataframe tbody tr th:only-of-type {\n",
       "        vertical-align: middle;\n",
       "    }\n",
       "\n",
       "    .dataframe tbody tr th {\n",
       "        vertical-align: top;\n",
       "    }\n",
       "\n",
       "    .dataframe thead th {\n",
       "        text-align: right;\n",
       "    }\n",
       "</style>\n",
       "<table border=\"1\" class=\"dataframe\">\n",
       "  <thead>\n",
       "    <tr style=\"text-align: right;\">\n",
       "      <th></th>\n",
       "      <th>PassengerId</th>\n",
       "      <th>Survived</th>\n",
       "      <th>Pclass</th>\n",
       "      <th>Fare</th>\n",
       "      <th>FamilySize</th>\n",
       "      <th>Imputed</th>\n",
       "    </tr>\n",
       "    <tr>\n",
       "      <th>Embarked</th>\n",
       "      <th></th>\n",
       "      <th></th>\n",
       "      <th></th>\n",
       "      <th></th>\n",
       "      <th></th>\n",
       "      <th></th>\n",
       "    </tr>\n",
       "  </thead>\n",
       "  <tbody>\n",
       "    <tr>\n",
       "      <th>C</th>\n",
       "      <td>445.357143</td>\n",
       "      <td>0.553571</td>\n",
       "      <td>1.886905</td>\n",
       "      <td>59.954144</td>\n",
       "      <td>0.750000</td>\n",
       "      <td>0.226190</td>\n",
       "    </tr>\n",
       "    <tr>\n",
       "      <th>Q</th>\n",
       "      <td>417.896104</td>\n",
       "      <td>0.389610</td>\n",
       "      <td>2.909091</td>\n",
       "      <td>13.276030</td>\n",
       "      <td>0.597403</td>\n",
       "      <td>0.636364</td>\n",
       "    </tr>\n",
       "    <tr>\n",
       "      <th>S</th>\n",
       "      <td>449.527950</td>\n",
       "      <td>0.336957</td>\n",
       "      <td>2.350932</td>\n",
       "      <td>27.079812</td>\n",
       "      <td>0.984472</td>\n",
       "      <td>0.139752</td>\n",
       "    </tr>\n",
       "  </tbody>\n",
       "</table>\n",
       "</div>"
      ],
      "text/plain": [
       "          PassengerId  Survived    Pclass       Fare  FamilySize   Imputed\n",
       "Embarked                                                                  \n",
       "C          445.357143  0.553571  1.886905  59.954144    0.750000  0.226190\n",
       "Q          417.896104  0.389610  2.909091  13.276030    0.597403  0.636364\n",
       "S          449.527950  0.336957  2.350932  27.079812    0.984472  0.139752"
      ]
     },
     "execution_count": 53,
     "metadata": {},
     "output_type": "execute_result"
    }
   ],
   "source": [
    "# Compare with other variables\n",
    "df.groupby(['Embarked']).mean()"
   ]
  },
  {
   "cell_type": "markdown",
   "metadata": {
    "_cell_guid": "e52b4157-b99d-4b8b-9740-680d7a6c5d21",
    "_uuid": "27fc68b077f7cdda4fdd1f8d4cc7f29950fbdd38"
   },
   "source": [
    "It seems that people embarking on C were paying more and travelling in a better class than people embarking on Q and S."
   ]
  },
  {
   "cell_type": "code",
   "execution_count": 54,
   "metadata": {
    "_cell_guid": "09a5ff2f-08e3-4d9f-92d3-7ba3efb4322c",
    "_uuid": "63f51d0c2a9846fbfa81e1371077a0d687a77987"
   },
   "outputs": [
    {
     "data": {
      "text/plain": [
       "Embarked  Age  \n",
       "C         Child     11\n",
       "          Adult    104\n",
       "          Elder     15\n",
       "Q         Child      4\n",
       "          Adult     21\n",
       "          Elder      3\n",
       "S         Child     54\n",
       "          Adult    455\n",
       "          Elder     45\n",
       "Name: PassengerId, dtype: int64"
      ]
     },
     "execution_count": 54,
     "metadata": {},
     "output_type": "execute_result"
    }
   ],
   "source": [
    "# Relationship with age\n",
    "df.groupby(['Embarked','Age'])['PassengerId'].count()"
   ]
  },
  {
   "cell_type": "markdown",
   "metadata": {
    "_cell_guid": "a2e5cffe-de90-49d4-aa60-c66801ebb6be",
    "_uuid": "81d8eac557a3aa273c016a23b5d794bd9b6a97d2"
   },
   "source": [
    "No significant differences can be found."
   ]
  },
  {
   "cell_type": "code",
   "execution_count": 55,
   "metadata": {
    "_cell_guid": "db6bfd59-16d1-4102-bafb-d0c52bc8505e",
    "_uuid": "3d7f1fb46f04dcabc53f3fe89bb0af5e90260b7e"
   },
   "outputs": [
    {
     "data": {
      "text/plain": [
       "Embarked  Sex   \n",
       "C         female     73\n",
       "          male       95\n",
       "Q         female     36\n",
       "          male       41\n",
       "S         female    203\n",
       "          male      441\n",
       "Name: PassengerId, dtype: int64"
      ]
     },
     "execution_count": 55,
     "metadata": {},
     "output_type": "execute_result"
    }
   ],
   "source": [
    "# Relationship with sex\n",
    "df.groupby(['Embarked','Sex'])['PassengerId'].count()"
   ]
  },
  {
   "cell_type": "markdown",
   "metadata": {
    "_cell_guid": "2c0cae6c-758e-4f7f-b90a-22dd37e79b42",
    "_uuid": "6cfa14a2364db1a93d8eeddc575a235ba4c66b39"
   },
   "source": [
    "No significant differences can be found."
   ]
  },
  {
   "cell_type": "markdown",
   "metadata": {
    "_cell_guid": "0c8eed9c-6788-4020-8760-38d28d0b38b7",
    "_uuid": "c1f87ad7f1a9c93287fa5702590efc48e671e913"
   },
   "source": [
    "Considering the results above, I feel tempted to say that the embarkment point doesn't influence the survival rate. What really seems to be influencing is the class where people were travelling and how much they were spending.\n",
    "\n",
    "For now, I will not delete the variable because I feel that I'm a little bit biased and trying to force a conclusion. However, let's keep in mind that maybe 'Embarked' doesn't affect 'Survived'."
   ]
  },
  {
   "cell_type": "markdown",
   "metadata": {
    "_cell_guid": "16c2313a-3eec-4583-92f8-bef922adc34b",
    "_uuid": "56c63a287552a294fa26efba6061215e468c5858"
   },
   "source": [
    "## 2.3. Feature extraction"
   ]
  },
  {
   "cell_type": "markdown",
   "metadata": {
    "_cell_guid": "093d98a3-0e28-447f-8f2f-add482629766",
    "_uuid": "df5b074c2a1e9c502e54ea2527ca74743a9fc7c9"
   },
   "source": [
    "In the book ['How Google Works'](https://amzn.to/2M9hvv7), Eric Schmidt and Jonathan Rosenberg refer that Google's secret sauce is 'technical insight'. According to the authors, it is fundamental technical insight that allows companies to create great products, which provide real value to the customers. For example, [PageRank](http://www.cs.princeton.edu/~chazelle/courses/BIB/pagerank.htm) gave an incredible competitive advantage to Google in relation to other search engines, by providing a far better way to rank search results on the web.\n",
    "\n",
    "Feature extraction is our technological insight in machine learning. It addresses the problem of attaining the most informative and compact set of features, to improve the performance of machine learning models. Let's go step-by-step. First, we are talking about 'informative'. This means that we are looking for features that can characterize the behaviour of what we are trying to model. For instance, if we want to model the weather, features like temperature, humidity and wind are informative (they are related to the problem). By contrast, the result of a football game will not be an informative feature because it doesn't affect the weather.\n",
    "\n",
    "Regarding 'compact', what we mean is that we want to exclude irrelevant features from our model. There are several reasons to exclude irrelevant features. In our case, I'd say that the most important is to reduce overfitting. Taking the weather example again: we know that football scores do not affect weather, but suppose that all rain instances in our training set happen to occur after a [Benfica](https://youtu.be/qX0D7xkF33s) victory. Then, our model might learn that rain is related to Benfica's victories, which is not true. Such an incorrect generalization from an irrelevant feature of the training set would result in a machine learning model that fits a particular set of data, but fails to predict future observations reliably (overfitting). \n",
    "\n",
    "These two main issues are addressed in the following sub-sections:\n",
    "1. Feature engineering, which is related to the generation of informative features; \n",
    "2. Feature selection, which regards the choice of a compact set of features."
   ]
  },
  {
   "cell_type": "markdown",
   "metadata": {
    "_cell_guid": "e36d5980-601d-41d1-bba8-7198981aeefc",
    "_uuid": "409c1d3ab404db634aefe8bda35244ea63be29e4"
   },
   "source": [
    "### 2.3.1. Feature engineering"
   ]
  },
  {
   "cell_type": "markdown",
   "metadata": {
    "_cell_guid": "52c60034-20da-404d-8ef5-6f1689b5222f",
    "_uuid": "3ef1d8f74e939815b6203162aaef0b05dd8f2041"
   },
   "source": [
    "Feature engineering is the art of converting raw data into useful features. There are several feature engineering techniques that you can apply to be an artist. A comprehensive list of them is presented by [Heaton (2016)](https://arxiv.org/pdf/1701.07852.pdf). We will use just two techniques:\n",
    "* Box-Cox transformations [(Box & Cox 1964)](https://www.nuffield.ox.ac.uk/users/cox/cox72.pdf);\n",
    "* Polynomials generation through non-linear expansions.\n",
    "\n",
    "Before the application of these techniques, we will just make some adjustments to the data, in order to prepare it for the modelling process."
   ]
  },
  {
   "cell_type": "markdown",
   "metadata": {
    "_cell_guid": "9ce8a0ad-5499-4d86-8220-f3151ae0a592",
    "_uuid": "971426b7c688eb8034ea1e171a00b1b8153afff4"
   },
   "source": [
    "#### Data preparation"
   ]
  },
  {
   "cell_type": "code",
   "execution_count": 56,
   "metadata": {
    "_cell_guid": "233a622d-2f95-4233-abfa-f559d4c22bf0",
    "_uuid": "03810a5fd9ec6527856fdd983f7dcc4bbe8c88c3"
   },
   "outputs": [
    {
     "data": {
      "text/html": [
       "<div>\n",
       "<style scoped>\n",
       "    .dataframe tbody tr th:only-of-type {\n",
       "        vertical-align: middle;\n",
       "    }\n",
       "\n",
       "    .dataframe tbody tr th {\n",
       "        vertical-align: top;\n",
       "    }\n",
       "\n",
       "    .dataframe thead th {\n",
       "        text-align: right;\n",
       "    }\n",
       "</style>\n",
       "<table border=\"1\" class=\"dataframe\">\n",
       "  <thead>\n",
       "    <tr style=\"text-align: right;\">\n",
       "      <th></th>\n",
       "      <th>PassengerId</th>\n",
       "      <th>Survived</th>\n",
       "      <th>Pclass</th>\n",
       "      <th>Sex</th>\n",
       "      <th>Age</th>\n",
       "      <th>Fare</th>\n",
       "      <th>Embarked</th>\n",
       "      <th>FamilySize</th>\n",
       "      <th>Title</th>\n",
       "      <th>Imputed</th>\n",
       "    </tr>\n",
       "  </thead>\n",
       "  <tbody>\n",
       "    <tr>\n",
       "      <th>0</th>\n",
       "      <td>1</td>\n",
       "      <td>0</td>\n",
       "      <td>3</td>\n",
       "      <td>male</td>\n",
       "      <td>Adult</td>\n",
       "      <td>7.2500</td>\n",
       "      <td>S</td>\n",
       "      <td>1</td>\n",
       "      <td>Mr</td>\n",
       "      <td>0</td>\n",
       "    </tr>\n",
       "    <tr>\n",
       "      <th>1</th>\n",
       "      <td>2</td>\n",
       "      <td>1</td>\n",
       "      <td>1</td>\n",
       "      <td>female</td>\n",
       "      <td>Adult</td>\n",
       "      <td>71.2833</td>\n",
       "      <td>C</td>\n",
       "      <td>1</td>\n",
       "      <td>Mrs</td>\n",
       "      <td>0</td>\n",
       "    </tr>\n",
       "    <tr>\n",
       "      <th>2</th>\n",
       "      <td>3</td>\n",
       "      <td>1</td>\n",
       "      <td>3</td>\n",
       "      <td>female</td>\n",
       "      <td>Adult</td>\n",
       "      <td>7.9250</td>\n",
       "      <td>S</td>\n",
       "      <td>0</td>\n",
       "      <td>Miss</td>\n",
       "      <td>0</td>\n",
       "    </tr>\n",
       "    <tr>\n",
       "      <th>3</th>\n",
       "      <td>4</td>\n",
       "      <td>1</td>\n",
       "      <td>1</td>\n",
       "      <td>female</td>\n",
       "      <td>Adult</td>\n",
       "      <td>53.1000</td>\n",
       "      <td>S</td>\n",
       "      <td>1</td>\n",
       "      <td>Mrs</td>\n",
       "      <td>0</td>\n",
       "    </tr>\n",
       "    <tr>\n",
       "      <th>4</th>\n",
       "      <td>5</td>\n",
       "      <td>0</td>\n",
       "      <td>3</td>\n",
       "      <td>male</td>\n",
       "      <td>Adult</td>\n",
       "      <td>8.0500</td>\n",
       "      <td>S</td>\n",
       "      <td>0</td>\n",
       "      <td>Mr</td>\n",
       "      <td>0</td>\n",
       "    </tr>\n",
       "  </tbody>\n",
       "</table>\n",
       "</div>"
      ],
      "text/plain": [
       "   PassengerId  Survived  Pclass     Sex    Age     Fare Embarked  FamilySize  \\\n",
       "0            1         0       3    male  Adult   7.2500        S           1   \n",
       "1            2         1       1  female  Adult  71.2833        C           1   \n",
       "2            3         1       3  female  Adult   7.9250        S           0   \n",
       "3            4         1       1  female  Adult  53.1000        S           1   \n",
       "4            5         0       3    male  Adult   8.0500        S           0   \n",
       "\n",
       "  Title  Imputed  \n",
       "0    Mr        0  \n",
       "1   Mrs        0  \n",
       "2  Miss        0  \n",
       "3   Mrs        0  \n",
       "4    Mr        0  "
      ]
     },
     "execution_count": 56,
     "metadata": {},
     "output_type": "execute_result"
    }
   ],
   "source": [
    "# Overview\n",
    "df.head()"
   ]
  },
  {
   "cell_type": "code",
   "execution_count": 57,
   "metadata": {
    "_cell_guid": "976964d6-8d83-4c31-a9b2-82e0b5d403ca",
    "_uuid": "b32802845c149a64462f0a1a02e96a89f4e247d1"
   },
   "outputs": [],
   "source": [
    "# Drop feature\n",
    "df.drop('PassengerId', axis=1, inplace=True)"
   ]
  },
  {
   "cell_type": "code",
   "execution_count": 58,
   "metadata": {
    "_cell_guid": "60af4c71-c20a-4a1c-a028-5b738eab617b",
    "_uuid": "22dc3d3904d48970974191c9d332773e3266d215"
   },
   "outputs": [
    {
     "data": {
      "text/plain": [
       "Survived         int64\n",
       "Pclass           int64\n",
       "Sex           category\n",
       "Age           category\n",
       "Fare           float64\n",
       "Embarked        object\n",
       "FamilySize       int64\n",
       "Title         category\n",
       "Imputed          int64\n",
       "dtype: object"
      ]
     },
     "execution_count": 58,
     "metadata": {},
     "output_type": "execute_result"
    }
   ],
   "source": [
    "# Check features type\n",
    "df.dtypes"
   ]
  },
  {
   "cell_type": "code",
   "execution_count": 59,
   "metadata": {
    "_cell_guid": "9d9001bd-7311-44ab-8474-a545ef47049b",
    "_uuid": "92e0c5844b5615d5903ca7286607bee72b42e68c"
   },
   "outputs": [
    {
     "data": {
      "text/plain": [
       "Survived         int64\n",
       "Pclass        category\n",
       "Sex           category\n",
       "Age           category\n",
       "Fare           float64\n",
       "Embarked      category\n",
       "FamilySize       int64\n",
       "Title         category\n",
       "Imputed          int64\n",
       "dtype: object"
      ]
     },
     "execution_count": 59,
     "metadata": {},
     "output_type": "execute_result"
    }
   ],
   "source": [
    "# Transform object into categorical\n",
    "df['Embarked'] = pd.Categorical(df['Embarked'])\n",
    "df['Pclass'] = pd.Categorical(df['Pclass'])\n",
    "df.dtypes"
   ]
  },
  {
   "cell_type": "code",
   "execution_count": 60,
   "metadata": {
    "_cell_guid": "d53a5c89-5043-401c-948c-a9e4be7caa7a",
    "_uuid": "2c332a0e0a0c779a5204f52aef08c0eb65cd8141"
   },
   "outputs": [
    {
     "data": {
      "text/html": [
       "<div>\n",
       "<style scoped>\n",
       "    .dataframe tbody tr th:only-of-type {\n",
       "        vertical-align: middle;\n",
       "    }\n",
       "\n",
       "    .dataframe tbody tr th {\n",
       "        vertical-align: top;\n",
       "    }\n",
       "\n",
       "    .dataframe thead th {\n",
       "        text-align: right;\n",
       "    }\n",
       "</style>\n",
       "<table border=\"1\" class=\"dataframe\">\n",
       "  <thead>\n",
       "    <tr style=\"text-align: right;\">\n",
       "      <th></th>\n",
       "      <th>Survived</th>\n",
       "      <th>Fare</th>\n",
       "      <th>FamilySize</th>\n",
       "      <th>Imputed</th>\n",
       "      <th>Pclass_2</th>\n",
       "      <th>Pclass_3</th>\n",
       "      <th>Sex_male</th>\n",
       "      <th>Age_Adult</th>\n",
       "      <th>Age_Elder</th>\n",
       "      <th>Embarked_Q</th>\n",
       "      <th>Embarked_S</th>\n",
       "      <th>Title_Miss</th>\n",
       "      <th>Title_Mr</th>\n",
       "      <th>Title_Mrs</th>\n",
       "      <th>Title_Other</th>\n",
       "    </tr>\n",
       "  </thead>\n",
       "  <tbody>\n",
       "    <tr>\n",
       "      <th>0</th>\n",
       "      <td>0</td>\n",
       "      <td>7.2500</td>\n",
       "      <td>1</td>\n",
       "      <td>0</td>\n",
       "      <td>0</td>\n",
       "      <td>1</td>\n",
       "      <td>1</td>\n",
       "      <td>1</td>\n",
       "      <td>0</td>\n",
       "      <td>0</td>\n",
       "      <td>1</td>\n",
       "      <td>0</td>\n",
       "      <td>1</td>\n",
       "      <td>0</td>\n",
       "      <td>0</td>\n",
       "    </tr>\n",
       "    <tr>\n",
       "      <th>1</th>\n",
       "      <td>1</td>\n",
       "      <td>71.2833</td>\n",
       "      <td>1</td>\n",
       "      <td>0</td>\n",
       "      <td>0</td>\n",
       "      <td>0</td>\n",
       "      <td>0</td>\n",
       "      <td>1</td>\n",
       "      <td>0</td>\n",
       "      <td>0</td>\n",
       "      <td>0</td>\n",
       "      <td>0</td>\n",
       "      <td>0</td>\n",
       "      <td>1</td>\n",
       "      <td>0</td>\n",
       "    </tr>\n",
       "    <tr>\n",
       "      <th>2</th>\n",
       "      <td>1</td>\n",
       "      <td>7.9250</td>\n",
       "      <td>0</td>\n",
       "      <td>0</td>\n",
       "      <td>0</td>\n",
       "      <td>1</td>\n",
       "      <td>0</td>\n",
       "      <td>1</td>\n",
       "      <td>0</td>\n",
       "      <td>0</td>\n",
       "      <td>1</td>\n",
       "      <td>1</td>\n",
       "      <td>0</td>\n",
       "      <td>0</td>\n",
       "      <td>0</td>\n",
       "    </tr>\n",
       "    <tr>\n",
       "      <th>3</th>\n",
       "      <td>1</td>\n",
       "      <td>53.1000</td>\n",
       "      <td>1</td>\n",
       "      <td>0</td>\n",
       "      <td>0</td>\n",
       "      <td>0</td>\n",
       "      <td>0</td>\n",
       "      <td>1</td>\n",
       "      <td>0</td>\n",
       "      <td>0</td>\n",
       "      <td>1</td>\n",
       "      <td>0</td>\n",
       "      <td>0</td>\n",
       "      <td>1</td>\n",
       "      <td>0</td>\n",
       "    </tr>\n",
       "    <tr>\n",
       "      <th>4</th>\n",
       "      <td>0</td>\n",
       "      <td>8.0500</td>\n",
       "      <td>0</td>\n",
       "      <td>0</td>\n",
       "      <td>0</td>\n",
       "      <td>1</td>\n",
       "      <td>1</td>\n",
       "      <td>1</td>\n",
       "      <td>0</td>\n",
       "      <td>0</td>\n",
       "      <td>1</td>\n",
       "      <td>0</td>\n",
       "      <td>1</td>\n",
       "      <td>0</td>\n",
       "      <td>0</td>\n",
       "    </tr>\n",
       "  </tbody>\n",
       "</table>\n",
       "</div>"
      ],
      "text/plain": [
       "   Survived     Fare  FamilySize  Imputed  Pclass_2  Pclass_3  Sex_male  \\\n",
       "0         0   7.2500           1        0         0         1         1   \n",
       "1         1  71.2833           1        0         0         0         0   \n",
       "2         1   7.9250           0        0         0         1         0   \n",
       "3         1  53.1000           1        0         0         0         0   \n",
       "4         0   8.0500           0        0         0         1         1   \n",
       "\n",
       "   Age_Adult  Age_Elder  Embarked_Q  Embarked_S  Title_Miss  Title_Mr  \\\n",
       "0          1          0           0           1           0         1   \n",
       "1          1          0           0           0           0         0   \n",
       "2          1          0           0           1           1         0   \n",
       "3          1          0           0           1           0         0   \n",
       "4          1          0           0           1           0         1   \n",
       "\n",
       "   Title_Mrs  Title_Other  \n",
       "0          0            0  \n",
       "1          1            0  \n",
       "2          0            0  \n",
       "3          1            0  \n",
       "4          0            0  "
      ]
     },
     "execution_count": 60,
     "metadata": {},
     "output_type": "execute_result"
    }
   ],
   "source": [
    "# Transform categorical features into dummy variables\n",
    "df = pd.get_dummies(df, drop_first=1)  \n",
    "df.head()"
   ]
  },
  {
   "cell_type": "code",
   "execution_count": 61,
   "metadata": {
    "_cell_guid": "58c13871-0b97-477b-92e1-43bde05dc27c",
    "_uuid": "ad3884b307f0d45ef332a4da46d32bf1589154b4"
   },
   "outputs": [],
   "source": [
    "# Get training and test sets\n",
    "from sklearn.model_selection import train_test_split\n",
    "\n",
    "X = df[df.loc[:, df.columns != 'Survived'].columns]\n",
    "y = df['Survived']\n",
    "X_train, X_test, y_train, y_test = train_test_split(X, y, test_size=.2, random_state=0)"
   ]
  },
  {
   "cell_type": "markdown",
   "metadata": {
    "_cell_guid": "4b55aad6-b65f-4349-a73f-72302ef55e07",
    "_uuid": "d1b53a233fb4f0d7aede88e612c9bb3efe3bffdb"
   },
   "source": [
    "#### Box-Cox transformations"
   ]
  },
  {
   "cell_type": "markdown",
   "metadata": {
    "_cell_guid": "b29a1f6f-f863-4314-ba25-0748ccc292de",
    "_uuid": "dc50b06d26575c3c363cbcbfc3f8dda95807f054"
   },
   "source": [
    "Box-Cox transformations aim to normalize variables. These transformations are an alternative to the typical transformations, such as square root transformations, log transformations, and inverse transformations. The main advantage of Box-Cox transformations is that they optimally normalize the chosen variable. Thus, they avoid the need to randomly try different transformations and automatize the data transformation process."
   ]
  },
  {
   "cell_type": "code",
   "execution_count": 62,
   "metadata": {
    "_cell_guid": "062912ef-bd0f-496f-9d13-d2a883e3375c",
    "_uuid": "fbc6351ab708e981d048abdda80e17b6b1bfd252"
   },
   "outputs": [],
   "source": [
    "# Apply Box-Cox transformation\n",
    "from scipy.stats import boxcox\n",
    "\n",
    "X_train_transformed = X_train.copy()\n",
    "X_train_transformed['Fare'] = boxcox(X_train_transformed['Fare'] + 1)[0]\n",
    "X_test_transformed = X_test.copy()\n",
    "X_test_transformed['Fare'] = boxcox(X_test_transformed['Fare'] + 1)[0]"
   ]
  },
  {
   "cell_type": "markdown",
   "metadata": {
    "_cell_guid": "8fbc93dc-ea8e-435c-a124-9522c6be498f",
    "_uuid": "307a99182a9b4a9af3cf117665b1c7d9aebcbe8d"
   },
   "source": [
    "#### Polynomials"
   ]
  },
  {
   "cell_type": "markdown",
   "metadata": {
    "_cell_guid": "ef8f485d-fe3f-4753-bc6f-008a4bad8ffd",
    "_uuid": "74701e7b0fddc9f955f0f160e9df7191be875721"
   },
   "source": [
    "One standard way to enrich our set of features is to generate polynomials. Polynomial expansion creates interactions between features, as well as creates powers (e.g. square of a feature). This way we introduce a nonlinear dimension to our data set, which can improve the predictive power of our model.\n",
    "\n",
    "We should scale our features when we have polynomial or interaction terms in our model. These terms tend to produce [multicollinearity](https://en.wikipedia.org/wiki/Multicollinearity), which can make our estimates very sensitive to minor changes in the model. Scaling features to a range allow us to reduce multicollinearity and its problems.\n",
    "\n",
    "To scale the features, we will transform the data so that it lies between a given minimum and maximum value. We will follow the common practice and say that our minimum value is zero, and our maximum value is one."
   ]
  },
  {
   "cell_type": "code",
   "execution_count": 63,
   "metadata": {
    "_cell_guid": "8798cdd4-423b-41ae-84eb-cd6a9d6d175b",
    "_uuid": "2988268bb20715ac9c60efa896b5da21ba858b67"
   },
   "outputs": [
    {
     "name": "stderr",
     "output_type": "stream",
     "text": [
      "/home/jules/anaconda3/lib/python3.7/site-packages/sklearn/preprocessing/data.py:323: DataConversionWarning: Data with input dtype uint8, int64, float64 were all converted to float64 by MinMaxScaler.\n",
      "  return self.partial_fit(X, y)\n"
     ]
    }
   ],
   "source": [
    "# Rescale data\n",
    "from sklearn.preprocessing import MinMaxScaler\n",
    "\n",
    "scaler = MinMaxScaler()\n",
    "X_train_transformed_scaled = scaler.fit_transform(X_train_transformed)\n",
    "X_test_transformed_scaled = scaler.transform(X_test_transformed)"
   ]
  },
  {
   "cell_type": "code",
   "execution_count": 64,
   "metadata": {
    "_cell_guid": "2726c248-29c1-4b52-a406-034278016cc6",
    "_uuid": "723bb510ae8075c9138867cd0bc68b12b8eefe5b"
   },
   "outputs": [],
   "source": [
    "# Get polynomial features\n",
    "from sklearn.preprocessing import PolynomialFeatures\n",
    "\n",
    "poly = PolynomialFeatures(degree=2).fit(X_train_transformed)\n",
    "X_train_poly = poly.transform(X_train_transformed_scaled)\n",
    "X_test_poly = poly.transform(X_test_transformed_scaled)"
   ]
  },
  {
   "cell_type": "code",
   "execution_count": 65,
   "metadata": {
    "_cell_guid": "799cf33a-ab05-44dc-b717-90b9d2dbd2a4",
    "_uuid": "3fdd9c97dc3dbd9fd2f5c903a9a53edf68198d5f"
   },
   "outputs": [
    {
     "name": "stdout",
     "output_type": "stream",
     "text": [
      "['1', 'x0', 'x1', 'x2', 'x3', 'x4', 'x5', 'x6', 'x7', 'x8', 'x9', 'x10', 'x11', 'x12', 'x13', 'x0^2', 'x0 x1', 'x0 x2', 'x0 x3', 'x0 x4', 'x0 x5', 'x0 x6', 'x0 x7', 'x0 x8', 'x0 x9', 'x0 x10', 'x0 x11', 'x0 x12', 'x0 x13', 'x1^2', 'x1 x2', 'x1 x3', 'x1 x4', 'x1 x5', 'x1 x6', 'x1 x7', 'x1 x8', 'x1 x9', 'x1 x10', 'x1 x11', 'x1 x12', 'x1 x13', 'x2^2', 'x2 x3', 'x2 x4', 'x2 x5', 'x2 x6', 'x2 x7', 'x2 x8', 'x2 x9', 'x2 x10', 'x2 x11', 'x2 x12', 'x2 x13', 'x3^2', 'x3 x4', 'x3 x5', 'x3 x6', 'x3 x7', 'x3 x8', 'x3 x9', 'x3 x10', 'x3 x11', 'x3 x12', 'x3 x13', 'x4^2', 'x4 x5', 'x4 x6', 'x4 x7', 'x4 x8', 'x4 x9', 'x4 x10', 'x4 x11', 'x4 x12', 'x4 x13', 'x5^2', 'x5 x6', 'x5 x7', 'x5 x8', 'x5 x9', 'x5 x10', 'x5 x11', 'x5 x12', 'x5 x13', 'x6^2', 'x6 x7', 'x6 x8', 'x6 x9', 'x6 x10', 'x6 x11', 'x6 x12', 'x6 x13', 'x7^2', 'x7 x8', 'x7 x9', 'x7 x10', 'x7 x11', 'x7 x12', 'x7 x13', 'x8^2', 'x8 x9', 'x8 x10', 'x8 x11', 'x8 x12', 'x8 x13', 'x9^2', 'x9 x10', 'x9 x11', 'x9 x12', 'x9 x13', 'x10^2', 'x10 x11', 'x10 x12', 'x10 x13', 'x11^2', 'x11 x12', 'x11 x13', 'x12^2', 'x12 x13', 'x13^2']\n"
     ]
    }
   ],
   "source": [
    "# Debug\n",
    "print(poly.get_feature_names())"
   ]
  },
  {
   "cell_type": "markdown",
   "metadata": {
    "_cell_guid": "ee8f4a27-42f1-418e-9a84-ff2882c0e8e1",
    "_uuid": "90cc0fe283b0c6226bcfa30615dc00b923bfe6c3"
   },
   "source": [
    "### 2.3.2. Feature selection"
   ]
  },
  {
   "cell_type": "markdown",
   "metadata": {
    "_cell_guid": "29c7f79f-67a9-4128-9974-14d2e32b6625",
    "_uuid": "0b8fd7942e23c275247494498e2692535e0c555b",
    "collapsed": true
   },
   "source": [
    "The next step is to perform feature selection. Feature selection is about chosing the relevant information. It is good to add and generate features, but at some point we need to exclude irrelevant features. Otherwise, we will be penalizing the predictive power of our model. You can find a concise introduction to the feature selection subject in [Guyon & Elisseeff (2003)](http://www.jmlr.org/papers/volume3/guyon03a/guyon03a.pdf).\n",
    "\n",
    "In this work, we will use a univariate statistics approach. This approach selects features based on univariate statistical tests between each feature and the target variable. The intuition is that features that are independent from the target variable, are irrelevant for classification.\n",
    "\n",
    "We will use the chi-squared test for feature selection. This means that we have to choose the number of features that we want in the model. For example, if we want to have three features in our model, the method will select the three features with highest $\\chi^2$ score.\n",
    "\n",
    "Since we don't know the ideal number of features, we will test the method with all the possible number of features and choose the number of features with better performance."
   ]
  },
  {
   "cell_type": "markdown",
   "metadata": {
    "_cell_guid": "3c385be1-82b0-4855-995b-62945d002963",
    "_uuid": "3c5362e1267dc6f27db0ffa0c26a7826ec1c7260",
    "collapsed": true
   },
   "source": [
    "#### Univariate statistics"
   ]
  },
  {
   "cell_type": "code",
   "execution_count": 85,
   "metadata": {
    "_cell_guid": "f745b00f-d0f7-4944-a276-c62035876bca",
    "_uuid": "cecdfd015c0359c6869284f1ddaf34c1cc48499e"
   },
   "outputs": [
    {
     "name": "stdout",
     "output_type": "stream",
     "text": [
      "CV accuracy (original): 0.822 +/- 0.035\n",
      "CV accuracy (number of features = 1): 0.789 +/- 0.049\n",
      "CV accuracy (number of features = 2): 0.789 +/- 0.049\n",
      "CV accuracy (number of features = 3): 0.789 +/- 0.049\n",
      "CV accuracy (number of features = 4): 0.789 +/- 0.049\n",
      "CV accuracy (number of features = 5): 0.789 +/- 0.049\n",
      "CV accuracy (number of features = 6): 0.789 +/- 0.049\n",
      "CV accuracy (number of features = 7): 0.785 +/- 0.043\n",
      "CV accuracy (number of features = 8): 0.785 +/- 0.043\n",
      "CV accuracy (number of features = 9): 0.785 +/- 0.043\n",
      "CV accuracy (number of features = 10): 0.798 +/- 0.042\n",
      "CV accuracy (number of features = 11): 0.798 +/- 0.042\n",
      "CV accuracy (number of features = 12): 0.798 +/- 0.042\n",
      "CV accuracy (number of features = 13): 0.798 +/- 0.042\n",
      "CV accuracy (number of features = 14): 0.798 +/- 0.042\n",
      "CV accuracy (number of features = 15): 0.798 +/- 0.042\n",
      "CV accuracy (number of features = 16): 0.795 +/- 0.038\n",
      "CV accuracy (number of features = 17): 0.795 +/- 0.038\n",
      "CV accuracy (number of features = 18): 0.795 +/- 0.038\n",
      "CV accuracy (number of features = 19): 0.795 +/- 0.038\n",
      "CV accuracy (number of features = 20): 0.795 +/- 0.038\n",
      "CV accuracy (number of features = 21): 0.805 +/- 0.036\n",
      "CV accuracy (number of features = 22): 0.805 +/- 0.036\n",
      "CV accuracy (number of features = 23): 0.802 +/- 0.040\n",
      "CV accuracy (number of features = 24): 0.801 +/- 0.038\n",
      "CV accuracy (number of features = 25): 0.801 +/- 0.038\n",
      "CV accuracy (number of features = 26): 0.798 +/- 0.038\n",
      "CV accuracy (number of features = 27): 0.798 +/- 0.038\n",
      "CV accuracy (number of features = 28): 0.809 +/- 0.042\n",
      "CV accuracy (number of features = 29): 0.810 +/- 0.044\n",
      "CV accuracy (number of features = 30): 0.812 +/- 0.044\n",
      "CV accuracy (number of features = 31): 0.819 +/- 0.042\n",
      "CV accuracy (number of features = 32): 0.819 +/- 0.042\n",
      "CV accuracy (number of features = 33): 0.819 +/- 0.042\n",
      "CV accuracy (number of features = 34): 0.819 +/- 0.042\n",
      "CV accuracy (number of features = 35): 0.817 +/- 0.043\n",
      "CV accuracy (number of features = 36): 0.820 +/- 0.044\n",
      "CV accuracy (number of features = 37): 0.820 +/- 0.044\n",
      "CV accuracy (number of features = 38): 0.819 +/- 0.045\n",
      "CV accuracy (number of features = 39): 0.819 +/- 0.045\n",
      "CV accuracy (number of features = 40): 0.820 +/- 0.046\n",
      "CV accuracy (number of features = 41): 0.820 +/- 0.046\n",
      "CV accuracy (number of features = 42): 0.820 +/- 0.047\n",
      "CV accuracy (number of features = 43): 0.820 +/- 0.047\n",
      "CV accuracy (number of features = 44): 0.819 +/- 0.045\n",
      "CV accuracy (number of features = 45): 0.819 +/- 0.045\n",
      "CV accuracy (number of features = 46): 0.819 +/- 0.045\n",
      "CV accuracy (number of features = 47): 0.815 +/- 0.037\n",
      "CV accuracy (number of features = 48): 0.810 +/- 0.038\n",
      "CV accuracy (number of features = 49): 0.812 +/- 0.037\n",
      "CV accuracy (number of features = 50): 0.812 +/- 0.039\n",
      "CV accuracy (number of features = 51): 0.812 +/- 0.039\n",
      "CV accuracy (number of features = 52): 0.812 +/- 0.039\n",
      "CV accuracy (number of features = 53): 0.813 +/- 0.039\n",
      "CV accuracy (number of features = 54): 0.813 +/- 0.039\n",
      "CV accuracy (number of features = 55): 0.813 +/- 0.039\n",
      "CV accuracy (number of features = 56): 0.813 +/- 0.039\n",
      "CV accuracy (number of features = 57): 0.813 +/- 0.039\n",
      "CV accuracy (number of features = 58): 0.815 +/- 0.038\n",
      "CV accuracy (number of features = 59): 0.816 +/- 0.038\n",
      "CV accuracy (number of features = 60): 0.816 +/- 0.038\n",
      "CV accuracy (number of features = 61): 0.816 +/- 0.038\n",
      "CV accuracy (number of features = 62): 0.816 +/- 0.038\n",
      "CV accuracy (number of features = 63): 0.813 +/- 0.040\n",
      "CV accuracy (number of features = 64): 0.813 +/- 0.040\n",
      "CV accuracy (number of features = 65): 0.816 +/- 0.039\n",
      "CV accuracy (number of features = 66): 0.815 +/- 0.038\n",
      "CV accuracy (number of features = 67): 0.816 +/- 0.039\n",
      "CV accuracy (number of features = 68): 0.816 +/- 0.039\n",
      "CV accuracy (number of features = 69): 0.816 +/- 0.039\n",
      "CV accuracy (number of features = 70): 0.816 +/- 0.039\n",
      "CV accuracy (number of features = 71): 0.818 +/- 0.038\n",
      "CV accuracy (number of features = 72): 0.818 +/- 0.038\n",
      "CV accuracy (number of features = 73): 0.818 +/- 0.038\n",
      "CV accuracy (number of features = 74): 0.818 +/- 0.038\n",
      "CV accuracy (number of features = 75): 0.815 +/- 0.038\n",
      "CV accuracy (number of features = 76): 0.817 +/- 0.036\n",
      "CV accuracy (number of features = 77): 0.817 +/- 0.036\n",
      "CV accuracy (number of features = 78): 0.817 +/- 0.036\n",
      "CV accuracy (number of features = 79): 0.817 +/- 0.036\n",
      "CV accuracy (number of features = 80): 0.819 +/- 0.036\n",
      "CV accuracy (number of features = 81): 0.819 +/- 0.036\n",
      "CV accuracy (number of features = 82): 0.819 +/- 0.038\n",
      "CV accuracy (number of features = 83): 0.819 +/- 0.038\n",
      "CV accuracy (number of features = 84): 0.819 +/- 0.038\n",
      "CV accuracy (number of features = 85): 0.819 +/- 0.038\n",
      "CV accuracy (number of features = 86): 0.819 +/- 0.038\n",
      "CV accuracy (number of features = 87): 0.819 +/- 0.038\n",
      "CV accuracy (number of features = 88): 0.823 +/- 0.040\n",
      "CV accuracy (number of features = 89): 0.822 +/- 0.038\n",
      "CV accuracy (number of features = 90): 0.822 +/- 0.038\n",
      "CV accuracy (number of features = 91): 0.823 +/- 0.039\n",
      "CV accuracy (number of features = 92): 0.825 +/- 0.041\n",
      "CV accuracy (number of features = 93): 0.823 +/- 0.040\n",
      "CV accuracy (number of features = 94): 0.825 +/- 0.041\n",
      "CV accuracy (number of features = 95): 0.825 +/- 0.041\n",
      "CV accuracy (number of features = 96): 0.825 +/- 0.041\n",
      "CV accuracy (number of features = 97): 0.825 +/- 0.041\n",
      "CV accuracy (number of features = 98): 0.825 +/- 0.041\n",
      "CV accuracy (number of features = 99): 0.825 +/- 0.041\n",
      "CV accuracy (number of features = 100): 0.823 +/- 0.040\n",
      "CV accuracy (number of features = 101): 0.823 +/- 0.040\n",
      "CV accuracy (number of features = 102): 0.823 +/- 0.040\n",
      "CV accuracy (number of features = 103): 0.823 +/- 0.040\n",
      "CV accuracy (number of features = 104): 0.825 +/- 0.040\n",
      "CV accuracy (number of features = 105): 0.825 +/- 0.040\n",
      "CV accuracy (number of features = 106): 0.825 +/- 0.040\n",
      "CV accuracy (number of features = 107): 0.825 +/- 0.040\n",
      "CV accuracy (number of features = 108): 0.825 +/- 0.040\n",
      "CV accuracy (number of features = 109): 0.825 +/- 0.040\n",
      "CV accuracy (number of features = 110): 0.825 +/- 0.040\n",
      "CV accuracy (number of features = 111): 0.825 +/- 0.040\n",
      "CV accuracy (number of features = 112): 0.825 +/- 0.040\n",
      "CV accuracy (number of features = 113): 0.825 +/- 0.040\n",
      "CV accuracy (number of features = 114): 0.825 +/- 0.040\n",
      "CV accuracy (number of features = 115): 0.825 +/- 0.040\n",
      "CV accuracy (number of features = 116): 0.825 +/- 0.040\n",
      "CV accuracy (number of features = 117): 0.825 +/- 0.040\n",
      "CV accuracy (number of features = 118): 0.825 +/- 0.040\n",
      "CV accuracy (number of features = 119): 0.825 +/- 0.040\n",
      "CV accuracy (number of features = 120): 0.825 +/- 0.040\n",
      "Number of features when highest score: 92\n"
     ]
    }
   ],
   "source": [
    "# Select features using chi-squared test\n",
    "from sklearn.feature_selection import SelectKBest\n",
    "from sklearn.feature_selection import chi2\n",
    "\n",
    "## Get score using original model\n",
    "logreg = LogisticRegression(C=1, solver=\"liblinear\")\n",
    "logreg.fit(X_train, y_train)\n",
    "scores = cross_val_score(logreg, X_train, y_train, cv=10)\n",
    "print('CV accuracy (original): %.3f +/- %.3f' % (np.mean(scores), np.std(scores)))\n",
    "highest_score = np.mean(scores)\n",
    "\n",
    "## Get score using models with feature selection\n",
    "for i in range(1, X_train_poly.shape[1]+1, 1):\n",
    "    # Select i features\n",
    "    select = SelectKBest(score_func=chi2, k=i)\n",
    "    select.fit(X_train_poly, y_train)\n",
    "    X_train_poly_selected = select.transform(X_train_poly)\n",
    "\n",
    "    # Model with i features selected\n",
    "    logreg.fit(X_train_poly_selected, y_train)\n",
    "    scores = cross_val_score(logreg, X_train_poly_selected, y_train, cv=10)\n",
    "    print('CV accuracy (number of features = %i): %.3f +/- %.3f' % (i, \n",
    "                                                                     np.mean(scores), \n",
    "                                                                     np.std(scores)))\n",
    "    \n",
    "    # Save results if best score\n",
    "    if np.mean(scores) > highest_score:\n",
    "        highest_score = np.mean(scores)\n",
    "        std = np.std(scores)\n",
    "        k_features_highest_score = i\n",
    "    elif np.mean(scores) == highest_score:\n",
    "        if np.std(scores) < std:\n",
    "            highest_score = np.mean(scores)\n",
    "            std = np.std(scores)\n",
    "            k_features_highest_score = i\n",
    "        \n",
    "# Print the number of features\n",
    "print('Number of features when highest score: %i' % k_features_highest_score)"
   ]
  },
  {
   "cell_type": "markdown",
   "metadata": {
    "_cell_guid": "5da908fb-dc93-444a-b5c2-30f18e43c9b6",
    "_uuid": "c084561c2604dbed0b19f1e8a7849f2b646b62e4"
   },
   "source": [
    "---"
   ]
  },
  {
   "cell_type": "markdown",
   "metadata": {
    "_cell_guid": "654739a7-2abd-4570-bc4f-7086871ad22b",
    "_uuid": "8e77b5aeff28b08030a3c10b7a8440a710b8f43a"
   },
   "source": [
    "# 3. Unicorn model"
   ]
  },
  {
   "cell_type": "markdown",
   "metadata": {
    "_cell_guid": "9f9fa0dd-5785-4716-9abf-43a3531b4bbe",
    "_uuid": "c36a40b44a19385ec7127eb0d8a489341f0308b0"
   },
   "source": [
    "Startups use the term 'unicorn' to describe a startup that is valued at one billion dollars or more. Regardless of whether it is a [European or American billion](http://mathforum.org/library/drmath/view/52579.html), one billion is a big number. Actually, it is so big and rare that when we find startups with such value, we associate them to those mythical creatures that are the unicorns.\n",
    "\n",
    "We've been through a long journey since we started solving this problem. Since our start with a lean model, we've been scaling our startup: we imputed missing data, we performed an exploratory data analysis and we extracted features. We also had to deal with terrible Titanic jokes that take some time to sink in.\n",
    "\n",
    "Now it's time to turn all this work into a highly accurate model, our 'unicorn' model."
   ]
  },
  {
   "cell_type": "markdown",
   "metadata": {
    "_cell_guid": "d7f03e62-347d-4101-832c-b4e7f582b24d",
    "_uuid": "4e584e021e75498b336fc906044f160d1afbfe91"
   },
   "source": [
    "## 3.1. Fit model for best feature combination"
   ]
  },
  {
   "cell_type": "code",
   "execution_count": 67,
   "metadata": {
    "_cell_guid": "f879ef7f-0e75-4fcc-8038-e7287412ddc9",
    "_uuid": "c3948099bfcae0640f81daea45d3c13a1169f5f6"
   },
   "outputs": [],
   "source": [
    "# Select features\n",
    "select = SelectKBest(score_func=chi2, k=k_features_highest_score)\n",
    "select.fit(X_train_poly, y_train)\n",
    "X_train_poly_selected = select.transform(X_train_poly)"
   ]
  },
  {
   "cell_type": "code",
   "execution_count": 86,
   "metadata": {
    "_cell_guid": "792f9ec4-2d7f-4a48-9386-4ff5cfb0fc49",
    "_uuid": "6be7282799d01d81ebc3c3e4470fa3394895ae7f"
   },
   "outputs": [
    {
     "data": {
      "text/plain": [
       "LogisticRegression(C=1, class_weight=None, dual=False, fit_intercept=True,\n",
       "          intercept_scaling=1, max_iter=100, multi_class='warn',\n",
       "          n_jobs=None, penalty='l2', random_state=None, solver='liblinear',\n",
       "          tol=0.0001, verbose=0, warm_start=False)"
      ]
     },
     "execution_count": 86,
     "metadata": {},
     "output_type": "execute_result"
    }
   ],
   "source": [
    "# Fit model\n",
    "logreg = LogisticRegression(C=1, solver=\"liblinear\")\n",
    "logreg.fit(X_train_poly_selected, y_train)"
   ]
  },
  {
   "cell_type": "code",
   "execution_count": 87,
   "metadata": {
    "_cell_guid": "c7a2da1a-0bf9-4f87-ab9d-68eb8c6ab29a",
    "_uuid": "2ea9009a51d43e3a05cb2052d053d1b80aef521f"
   },
   "outputs": [
    {
     "name": "stdout",
     "output_type": "stream",
     "text": [
      "CV accuracy: 0.825 +/- 0.040\n"
     ]
    }
   ],
   "source": [
    "# Model performance\n",
    "scores = cross_val_score(logreg, X_train_poly_selected, y_train, cv=10)\n",
    "print('CV accuracy: %.3f +/- %.3f' % (np.mean(scores), np.std(scores)))"
   ]
  },
  {
   "cell_type": "markdown",
   "metadata": {
    "_cell_guid": "c312a999-7f25-43a4-8a99-ab0023775cf2",
    "_uuid": "9d88e9b61cc80315df7d0e25ae7dfd69dd0e5f6c"
   },
   "source": [
    "## 3.2. Learning curve"
   ]
  },
  {
   "cell_type": "code",
   "execution_count": 88,
   "metadata": {
    "_cell_guid": "8b7a4e42-2a66-4858-908e-736ed1ec0413",
    "_uuid": "04102938ca057efa337a976e43a4327a9391b42c"
   },
   "outputs": [
    {
     "data": {
      "image/png": "[encoded data removed]",
      "text/plain": [
       "<Figure size 432x288 with 1 Axes>"
      ]
     },
     "metadata": {
      "needs_background": "light"
     },
     "output_type": "display_data"
    }
   ],
   "source": [
    "# Plot learning curves\n",
    "title = \"Learning Curves (Logistic Regression)\"\n",
    "cv = 10\n",
    "plot_learning_curve(logreg, title, X_train_poly_selected, \n",
    "                    y_train, ylim=(0.7, 1.01), cv=cv, n_jobs=1);"
   ]
  },
  {
   "cell_type": "markdown",
   "metadata": {
    "_cell_guid": "08281286-a20f-46f6-aefa-1bf2878548b2",
    "_uuid": "a124faac987e2def59774489b290d33742132d23"
   },
   "source": [
    "No signs of overfitting or underfitting."
   ]
  },
  {
   "cell_type": "markdown",
   "metadata": {
    "_cell_guid": "20892bbf-6f2a-4016-927c-3c2de71ce91c",
    "_uuid": "e32ca6dd7ec5aa3c3f22e4f57453f94e80cef600"
   },
   "source": [
    "## 3.3. Validation curve"
   ]
  },
  {
   "cell_type": "code",
   "execution_count": 89,
   "metadata": {
    "_cell_guid": "6e36decd-4199-4595-af5d-bdb1b4938691",
    "_uuid": "0ea8f8a43216ca7f2e8b38e21c7bd0b7167dd9a1"
   },
   "outputs": [
    {
     "name": "stderr",
     "output_type": "stream",
     "text": [
      "/home/jules/anaconda3/lib/python3.7/site-packages/sklearn/model_selection/_split.py:2053: FutureWarning: You should specify a value for 'cv' instead of relying on the default value. The default value will change from 3 to 5 in version 0.22.\n",
      "  warnings.warn(CV_WARNING, FutureWarning)\n"
     ]
    },
    {
     "data": {
      "image/png": "[encoded data removed]",
      "text/plain": [
       "<Figure size 432x288 with 1 Axes>"
      ]
     },
     "metadata": {
      "needs_background": "light"
     },
     "output_type": "display_data"
    }
   ],
   "source": [
    "# Plot validation curve\n",
    "title = 'Validation Curve (Logistic Regression)'\n",
    "param_name = 'C'\n",
    "param_range = [0.001, 0.01, 0.1, 1.0, 10.0, 100.0] \n",
    "cv = 10\n",
    "plot_validation_curve(estimator=logreg, title=title, X=X_train_poly_selected, y=y_train, \n",
    "                      param_name=param_name, ylim=(0.5, 1.01), param_range=param_range);"
   ]
  },
  {
   "cell_type": "markdown",
   "metadata": {
    "_cell_guid": "98ecbba5-630b-4c53-8712-8f32e3309d15",
    "_uuid": "ec47cd6b07de2a2829701f027c06ed9408dad613"
   },
   "source": [
    "We used C=1, which is on the edge of overfitting. Regarding underfitting, there are no signs of it since the model performs well."
   ]
  },
  {
   "cell_type": "markdown",
   "metadata": {
    "_cell_guid": "47d8e146-c9f9-458c-ab7f-fcd9bc521642",
    "_uuid": "b74faafa48d1060ec553204dd17dd690a127f6fa"
   },
   "source": [
    "## 3.4. Submit predictions"
   ]
  },
  {
   "cell_type": "code",
   "execution_count": 72,
   "metadata": {
    "_cell_guid": "a02b92b3-c7f6-4a1e-81fa-562b410b24ec",
    "_uuid": "afca3da89dbbfe32c939155df80c8aacdecbd4cb"
   },
   "outputs": [],
   "source": [
    "# Get test data set\n",
    "df = pd.read_csv('input/test.csv')\n",
    "df_raw = df.copy()"
   ]
  },
  {
   "cell_type": "code",
   "execution_count": 73,
   "metadata": {
    "_cell_guid": "49882ff1-315f-437b-ad03-c8a162e7c2bd",
    "_uuid": "130076a891c5562a2369e03fd204d0004ba6aeb7"
   },
   "outputs": [
    {
     "name": "stderr",
     "output_type": "stream",
     "text": [
      "/home/jules/anaconda3/lib/python3.7/site-packages/sklearn/preprocessing/data.py:323: DataConversionWarning: Data with input dtype uint8, int64, float64 were all converted to float64 by MinMaxScaler.\n",
      "  return self.partial_fit(X, y)\n"
     ]
    }
   ],
   "source": [
    "# Transform data set (based on Chapter 2)\n",
    "\n",
    "## 2.2\n",
    "df['FamilySize'] = df['SibSp'] + df['Parch']\n",
    "df.drop('SibSp',axis=1,inplace=True)\n",
    "df.drop('Parch',axis=1,inplace=True)\n",
    "df.drop(['Name','Ticket','Cabin'], axis=1, inplace=True)\n",
    "\n",
    "df['Title']=0\n",
    "for i in df:\n",
    "    df['Title']=df_raw['Name'].str.extract('([A-Za-z]+)\\.', expand=False)  \n",
    "df_raw['Title'] = df['Title']  \n",
    "means = df_raw.groupby('Title')['Age'].mean()\n",
    "map_means = means.to_dict()\n",
    "idx_nan_age = df.loc[np.isnan(df['Age'])].index\n",
    "df.loc[idx_nan_age, 'Age'] = df['Title'].loc[idx_nan_age].map(map_means)\n",
    "df['Title'] = df['Title'].map(titles_dict)\n",
    "df['Title'] = pd.Categorical(df['Title'])\n",
    "\n",
    "df['Imputed'] = 0\n",
    "df.at[idx_nan_age.values, 'Imputed'] = 1\n",
    "\n",
    "df['Age'] = pd.cut(df['Age'], bins=[0, 12, 50, 200], labels=['Child','Adult','Elder'])\n",
    "\n",
    "## 2.3\n",
    "passenger_id = df['PassengerId'].values\n",
    "df.drop('PassengerId', axis=1, inplace=True)\n",
    "df['Embarked'] = pd.Categorical(df['Embarked'])\n",
    "df['Pclass'] = pd.Categorical(df['Pclass'])\n",
    "df = pd.get_dummies(df, drop_first=1)\n",
    "\n",
    "df = df.fillna(df.mean())  # There is one missing value in 'Fare'\n",
    "\n",
    "X = df[df.loc[:, df.columns != 'Survived'].columns]\n",
    "\n",
    "X_transformed = X.copy()\n",
    "X_transformed['Fare'] = boxcox(X_transformed['Fare'] + 1)[0]\n",
    "\n",
    "scaler = MinMaxScaler()\n",
    "X_transformed_scaled = scaler.fit_transform(X_transformed)\n",
    "\n",
    "poly = PolynomialFeatures(degree=2).fit(X_transformed)\n",
    "X_poly = poly.transform(X_transformed_scaled)\n",
    "\n",
    "X_poly_selected = select.transform(X_poly)"
   ]
  },
  {
   "cell_type": "code",
   "execution_count": 74,
   "metadata": {
    "_cell_guid": "ed44a7c4-8d1b-4422-b0af-275eb75b5568",
    "_uuid": "fa23074a440de2b0dbc93f8554422236a8222c3d"
   },
   "outputs": [],
   "source": [
    "# Make predictions\n",
    "predictions = logreg.predict(X_poly_selected)"
   ]
  },
  {
   "cell_type": "code",
   "execution_count": 75,
   "metadata": {
    "_cell_guid": "c696b30e-a35e-4dfc-8680-43285d1f8e0e",
    "_uuid": "11e686460e8dc5237d2af9929e1bc9823ccef780"
   },
   "outputs": [],
   "source": [
    "# Generate submission file\n",
    "submission = pd.DataFrame({ 'PassengerId': passenger_id,\n",
    "                            'Survived': predictions})\n",
    "submission.to_csv(\"submission.csv\", index=False)"
   ]
  },
  {
   "cell_type": "markdown",
   "metadata": {
    "_cell_guid": "9ff220cc-e58a-47b3-a1b9-b743a55b989f",
    "_uuid": "990ffad8e44e5bd89e466b8edebdc204419b4411"
   },
   "source": [
    "---"
   ]
  },
  {
   "cell_type": "markdown",
   "metadata": {
    "_cell_guid": "f16812aa-aecb-4214-a597-acef92740713",
    "_uuid": "22d9a89fb1e536ae012e6be15530dc74d70cc2b5"
   },
   "source": [
    "# 4. Conclusion"
   ]
  },
  {
   "cell_type": "markdown",
   "metadata": {
    "_cell_guid": "9f04b0b1-177d-4f91-acfb-66a17d9d0876",
    "_uuid": "3fd027961766c0243f3ca0ba5f9e8217e89e0377"
   },
   "source": [
    "As [Halevy et al. (2009)](https://static.googleusercontent.com/media/research.google.com/pt-PT//pubs/archive/35179.pdf) noted 'invariably, simple models and a lot of data trump more elaborate models based on less data.' [Monica Rogati](https://youtu.be/F7iopLnhDik) added that 'better data beats more data'. Based on these principles, the aim of this study was to improve data quality through exploratory data analysis and feature extraction. We didn't use a clever algorithm, but we explored clever techniques to make our data better.\n",
    "\n",
    "My expectation is that after reading this kernel, you can start compiling a cookbook of techniques in exploratory data analysis and feature extraction. These techniques will help you to obtain confidence in your data and engage with any data science problem. Also, the more you use and refine these techniques, the more you'll develop your problem solving intuition.\n",
    "\n",
    "Now, it's your turn. Make this work yours. Select a part of this kernel and play with it. Why not trying a different feature selection process? Or what about applying a different imputation method? There are a hundred different ways to [steal this work like an artist](https://youtu.be/oww7oB9rjgw). Do it... After all, all unicorns started with a MVP."
   ]
  },
  {
   "cell_type": "markdown",
   "metadata": {
    "_cell_guid": "b07b837e-b626-494f-a33f-43b1e64e53f2",
    "_uuid": "b6b196bff422c1ce06c690832eaa3fdd44d21907"
   },
   "source": [
    "---"
   ]
  },
  {
   "cell_type": "markdown",
   "metadata": {
    "_cell_guid": "c18f18df-c1c3-45a1-a434-b57bbec3d2f6",
    "_uuid": "4b4ab9c9d9848a991af8802ea4d1997e7013bf8e"
   },
   "source": [
    "# You might also like\n",
    "* [My blog](http://pmarcelino.com/)\n",
    "* [Comprehensive data exploration in Python](https://www.kaggle.com/pmarcelino/comprehensive-data-exploration-with-python)"
   ]
  },
  {
   "cell_type": "markdown",
   "metadata": {
    "_cell_guid": "e391d0f1-6f0b-49cb-8d05-cbe9617625c8",
    "_uuid": "b4ba33c97b17c58e9c2d504c6a23c95dac20f23c",
    "collapsed": true
   },
   "source": [
    "# References\n",
    "\n",
    "**Books**\n",
    "\n",
    "* [Ries, E., 2011. The Lean Startup: How Today's Entrepreneurs Use Continuous Innovation to Create Radically Successful Businesses](https://amzn.to/2JsIMH3)\n",
    "* [Hair, J.F., Black, W.C., Babin, B.J., Anderson, R.E. and Tatham, R.L., 2013. Multivariate data analysis](https://amzn.to/2JtC1Vm)\n",
    "* [Asefeso, A., Lund, S.B., Parry, H., 2014. Keep Your Eyes On the Horizon: Business Lessons from Unsinkable Titanic](https://amzn.to/2JwpsIT)\n",
    "\n",
    "**Papers**\n",
    "\n",
    "* [Heaton, J., 2016. An empirical analysis of feature engineering for predictive modeling. In SoutheastCon, 2016 (pp. 1-6). IEEE.](https://arxiv.org/pdf/1701.07852.pdf)\n",
    "* [Box, G.E. and Cox, D.R., 1964. An analysis of transformations. Journal of the Royal Statistical Society. Series B (Methodological), pp.211-252.](https://www.nuffield.ox.ac.uk/users/cox/cox72.pdf)\n",
    "* [Guyon, I. and Elisseeff, A., 2003. An introduction to variable and feature selection. Journal of machine learning research, 3(Mar), pp.1157-1182.](http://www.jmlr.org/papers/volume3/guyon03a/guyon03a.pdf)\n",
    "* [Halevy, A., Norvig, P. and Pereira, F., 2009. The unreasonable effectiveness of data. IEEE Intelligent Systems, 24(2), pp.8-12.](https://static.googleusercontent.com/media/research.google.com/pt-PT//pubs/archive/35179.pdf)\n",
    "\n",
    "**Videos**\n",
    "\n",
    "* [Rogati, M., 2012. The Model and the Train Wreck: A Training Data How-To. O'Reilly Strata.](https://youtu.be/F7iopLnhDik)\n",
    "* [Kleon, A., 2012. Steal like an artist. TEDx Talks.](https://youtu.be/oww7oB9rjgw)"
   ]
  },
  {
   "cell_type": "markdown",
   "metadata": {
    "_cell_guid": "0b109b2b-9a15-4ab4-91b7-88bd9214e008",
    "_uuid": "ff84c87948009c98b8b79d42f98140be45b9ea12"
   },
   "source": [
    "# Acknowledgements\n",
    "Thanks to [João Coelho](https://www.kaggle.com/joaopcoelho) and [João Rico](https://www.linkedin.com/in/joaomiguelrico/) for reading drafts of this."
   ]
  }
 ],
 "metadata": {
  "kernelspec": {
   "display_name": "Python 3",
   "language": "python",
   "name": "python3"
  },
  "language_info": {
   "codemirror_mode": {
    "name": "ipython",
    "version": 3
   },
   "file_extension": ".py",
   "mimetype": "text/x-python",
   "name": "python",
   "nbconvert_exporter": "python",
   "pygments_lexer": "ipython3",
   "version": "3.7.1"
  }
 },
 "nbformat": 4,
 "nbformat_minor": 1
}
