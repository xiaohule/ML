{
 "cells": [
  {
   "cell_type": "code",
   "execution_count": 1,
   "metadata": {},
   "outputs": [],
   "source": [
    "import nltk"
   ]
  },
  {
   "cell_type": "markdown",
   "metadata": {
    "_cell_guid": "258f18fc-e0b2-4a55-8927-51c46077017b",
    "_uuid": "4c26dad8c106fb2eacc6d703993b524774467445"
   },
   "source": [
    "Introduction\n",
    "====\n",
    "**Natural Language Processing ** (NLP) is the task of making computers understand and produce human languages. \n",
    "\n",
    "And it always starts with the **corpus** i.e. *a body of text*. \n"
   ]
  },
  {
   "cell_type": "markdown",
   "metadata": {
    "_cell_guid": "2762e23e-138d-4086-af46-53aa1d7d0bcd",
    "_uuid": "93f8697704b4f7c9a900bd26c341862d1ef82f05"
   },
   "source": [
    "\n",
    "What is a Corpus?\n",
    "====\n",
    "\n",
    "There are many corpora (*plural of corpus*) available in NLTK, lets start with an English one call the **Brown corpus**.\n",
    "\n",
    "When using a new corpus in NLTK for the first time, downloads the corpus with the `nltk.download()` function, e.g. \n",
    "\n",
    "```python\n",
    "import nltk\n",
    "nltk.download('brown')\n",
    "```"
   ]
  },
  {
   "cell_type": "markdown",
   "metadata": {
    "_cell_guid": "bd910c35-dc49-4c07-9441-9d16d175580a",
    "_uuid": "6a663051c176297596bc3174d10a1f8599247621"
   },
   "source": [
    "After its downloaded, you can import it as such:"
   ]
  },
  {
   "cell_type": "code",
   "execution_count": 2,
   "metadata": {
    "_cell_guid": "2f1d4c2c-ea22-4494-a650-cfddd3aba49c",
    "_uuid": "637fad23e6bdfd6b8188a7c56318c91b6d3227e2"
   },
   "outputs": [],
   "source": [
    "from nltk.corpus import brown"
   ]
  },
  {
   "cell_type": "code",
   "execution_count": 3,
   "metadata": {
    "_cell_guid": "121fd272-19fd-498f-a3e9-5295d09a2e16",
    "_uuid": "14c6fc8bb6bdffbf6fb397c9d2c5da53d12c1e69"
   },
   "outputs": [
    {
     "data": {
      "text/plain": [
       "['The', 'Fulton', 'County', 'Grand', 'Jury', 'said', ...]"
      ]
     },
     "execution_count": 3,
     "metadata": {},
     "output_type": "execute_result"
    }
   ],
   "source": [
    "brown.words() # Returns a list of strings"
   ]
  },
  {
   "cell_type": "code",
   "execution_count": 4,
   "metadata": {
    "_cell_guid": "ebf89848-9442-4790-9575-a7f87234eebd",
    "_uuid": "2841227d2eeba7a7629ffa690647c43dc07bea7f"
   },
   "outputs": [
    {
     "data": {
      "text/plain": [
       "1161192"
      ]
     },
     "execution_count": 4,
     "metadata": {},
     "output_type": "execute_result"
    }
   ],
   "source": [
    "len(brown.words()) # No. of words in the corpus"
   ]
  },
  {
   "cell_type": "code",
   "execution_count": 5,
   "metadata": {
    "_cell_guid": "c3ba66d4-3e26-40fc-94d3-211581fa4c5c",
    "_uuid": "2de0781902fe8662d73bda9381cab9e318cdebf8"
   },
   "outputs": [
    {
     "data": {
      "text/plain": [
       "[['The', 'Fulton', 'County', 'Grand', 'Jury', 'said', 'Friday', 'an', 'investigation', 'of', \"Atlanta's\", 'recent', 'primary', 'election', 'produced', '``', 'no', 'evidence', \"''\", 'that', 'any', 'irregularities', 'took', 'place', '.'], ['The', 'jury', 'further', 'said', 'in', 'term-end', 'presentments', 'that', 'the', 'City', 'Executive', 'Committee', ',', 'which', 'had', 'over-all', 'charge', 'of', 'the', 'election', ',', '``', 'deserves', 'the', 'praise', 'and', 'thanks', 'of', 'the', 'City', 'of', 'Atlanta', \"''\", 'for', 'the', 'manner', 'in', 'which', 'the', 'election', 'was', 'conducted', '.'], ...]"
      ]
     },
     "execution_count": 5,
     "metadata": {},
     "output_type": "execute_result"
    }
   ],
   "source": [
    "brown.sents() # Returns a list of list of strings "
   ]
  },
  {
   "cell_type": "code",
   "execution_count": 6,
   "metadata": {
    "_cell_guid": "68725143-131d-4886-851c-f932c84588aa",
    "_uuid": "a17b7f140a86b0541acf2796b9146955acd64201"
   },
   "outputs": [
    {
     "data": {
      "text/plain": [
       "[['The', 'Fulton', 'County', 'Grand', 'Jury', 'said', 'Friday', 'an', 'investigation', 'of', \"Atlanta's\", 'recent', 'primary', 'election', 'produced', '``', 'no', 'evidence', \"''\", 'that', 'any', 'irregularities', 'took', 'place', '.'], ['The', 'jury', 'further', 'said', 'in', 'term-end', 'presentments', 'that', 'the', 'City', 'Executive', 'Committee', ',', 'which', 'had', 'over-all', 'charge', 'of', 'the', 'election', ',', '``', 'deserves', 'the', 'praise', 'and', 'thanks', 'of', 'the', 'City', 'of', 'Atlanta', \"''\", 'for', 'the', 'manner', 'in', 'which', 'the', 'election', 'was', 'conducted', '.'], ...]"
      ]
     },
     "execution_count": 6,
     "metadata": {},
     "output_type": "execute_result"
    }
   ],
   "source": [
    "brown.sents(fileids='ca01') # You can access a specific file with `fileids` argument."
   ]
  },
  {
   "cell_type": "code",
   "execution_count": 7,
   "metadata": {},
   "outputs": [
    {
     "data": {
      "text/plain": [
       "[['Appointment', 'of', 'William', 'S.', 'Pfaff', 'Jr.', ',', '41', ',', 'as', 'promotion', 'manager', 'of', 'The', 'Times-Picayune', 'Publishing', 'Company', 'was', 'announced', 'Saturday', 'by', 'John', 'F.', 'Tims', ',', 'president', 'of', 'the', 'company', '.'], ['Pfaff', 'succeeds', 'Martin', 'Burke', ',', 'who', 'resigned', '.'], ...]"
      ]
     },
     "execution_count": 7,
     "metadata": {},
     "output_type": "execute_result"
    }
   ],
   "source": [
    "brown.sents(fileids=\"ca08\")"
   ]
  },
  {
   "cell_type": "markdown",
   "metadata": {
    "_cell_guid": "972700b2-ee0b-4038-ba23-573287d08fd0",
    "_uuid": "4e2791d121eb8162f2031df6c126bcaa40d812d7"
   },
   "source": [
    "\n",
    "**Fast Facts:**\n",
    "\n",
    "> The Brown Corpus of Standard American English was the first of the modern, computer readable, general corpora. It was compiled by W.N. Francis and H. Kucera, Brown University, Providence, RI. The corpus consists of one million words of American English texts printed in 1961.\n",
    "\n",
    "(Source: [University of Essex Corpus Linguistics site](  https://www1.essex.ac.uk/linguistics/external/clmt/w3c/corpus_ling/content/corpora/list/private/brown/brown.html))\n",
    "\n",
    ">  This corpus contains text from 500 sources, and the sources have been categorized by genre, such as news, editorial, and so on ... (for a complete list, see http://icame.uib.no/brown/bcm-los.html).\n",
    "\n",
    "![](http://)(Source: [NLTK book, Chapter 2.1.3](http://www.nltk.org/book/ch02.html))"
   ]
  },
  {
   "cell_type": "markdown",
   "metadata": {
    "_cell_guid": "1ecd0a80-5a12-444a-b9da-768ffef5133f",
    "_uuid": "abcb302ff5d44499870e06f7f86490cf077fea2b"
   },
   "source": [
    "The actual `brown` corpus data is **packaged as raw text files**.  And you can find their IDs with: "
   ]
  },
  {
   "cell_type": "code",
   "execution_count": 8,
   "metadata": {
    "_cell_guid": "9bb09e9a-574f-4c3d-97eb-2091ce989cab",
    "_uuid": "8c979bdf698b8f7975b1216083168de0317c8ac5"
   },
   "outputs": [
    {
     "data": {
      "text/plain": [
       "500"
      ]
     },
     "execution_count": 8,
     "metadata": {},
     "output_type": "execute_result"
    }
   ],
   "source": [
    "len(brown.fileids()) # 500 sources, each file is a source."
   ]
  },
  {
   "cell_type": "code",
   "execution_count": 9,
   "metadata": {
    "_cell_guid": "fca762b7-5403-446f-82ca-e91e4cbd51dd",
    "_uuid": "30e85f007a8812090f813d8212e43a834be3de29"
   },
   "outputs": [
    {
     "name": "stdout",
     "output_type": "stream",
     "text": [
      "['ca01', 'ca02', 'ca03', 'ca04', 'ca05', 'ca06', 'ca07', 'ca08', 'ca09', 'ca10', 'ca11', 'ca12', 'ca13', 'ca14', 'ca15', 'ca16', 'ca17', 'ca18', 'ca19', 'ca20', 'ca21', 'ca22', 'ca23', 'ca24', 'ca25', 'ca26', 'ca27', 'ca28', 'ca29', 'ca30', 'ca31', 'ca32', 'ca33', 'ca34', 'ca35', 'ca36', 'ca37', 'ca38', 'ca39', 'ca40', 'ca41', 'ca42', 'ca43', 'ca44', 'cb01', 'cb02', 'cb03', 'cb04', 'cb05', 'cb06', 'cb07', 'cb08', 'cb09', 'cb10', 'cb11', 'cb12', 'cb13', 'cb14', 'cb15', 'cb16', 'cb17', 'cb18', 'cb19', 'cb20', 'cb21', 'cb22', 'cb23', 'cb24', 'cb25', 'cb26', 'cb27', 'cc01', 'cc02', 'cc03', 'cc04', 'cc05', 'cc06', 'cc07', 'cc08', 'cc09', 'cc10', 'cc11', 'cc12', 'cc13', 'cc14', 'cc15', 'cc16', 'cc17', 'cd01', 'cd02', 'cd03', 'cd04', 'cd05', 'cd06', 'cd07', 'cd08', 'cd09', 'cd10', 'cd11', 'cd12']\n"
     ]
    }
   ],
   "source": [
    "print(brown.fileids()[:100]) # First 100 sources."
   ]
  },
  {
   "cell_type": "markdown",
   "metadata": {
    "_cell_guid": "74143a0e-40e2-4450-9ab4-427686f6ac87",
    "_uuid": "b6572ea60d0142090d77a44fabc98ee29943a4bb"
   },
   "source": [
    "You can access the raw files with:"
   ]
  },
  {
   "cell_type": "code",
   "execution_count": 10,
   "metadata": {
    "_cell_guid": "9adcf194-d863-4043-85d0-00743c2786c9",
    "_uuid": "3f73483a3d332c4be88f54115d48beaa6351e090"
   },
   "outputs": [
    {
     "name": "stdout",
     "output_type": "stream",
     "text": [
      "Assembly/nn-hl session/nn-hl brought/vbd-hl much/ap-hl good/nn-hl \n",
      "The/at General/jj-tl Assembly/nn-tl ,/, which/wdt adjourns/vbz today/nr ,/, has/hvz performed/vbn in/in an/at atmosphere/nn of/in crisis/nn and/cc struggle/nn from/in the/at day/nn it/pps convened/vbd ./.\n",
      "It/pps was/bedz faced/vbn immediately/rb with/in a/at showdown/nn on/in the/at schools/nns ,/, an/at issue/nn which/wdt was/bedz met/vbn squarely/rb in/in conjunction/nn with/in the/at governor/nn with/in a/at decision/nn not/* to/to risk/vb abandoning/vbg public/nn education/nn ./.\n",
      "\n",
      "\n",
      "\tThere/ex followed/vbd the/at historic/jj appropriations/nns and/cc budget/nn fight/nn ,/, in/in which/wdt the/at General/jj-tl Assembly/nn-tl decided/vbd to/to tackle/vb executive/nn powers/nns ./.\n",
      "The/at final/jj decision/nn went/vbd to/in the/at executive/nn but/cc a/at way/nn has/hvz been/ben opened/vbn for/in strengthening/vbg budgeting/vbg procedures/nns and/cc to/to provide/vb legislators/nns information/nn they/ppss need/vb ./.\n",
      "\n",
      "\n",
      "\n"
     ]
    }
   ],
   "source": [
    "print(brown.raw('cb01').strip()[:1000]) # First 1000 characters."
   ]
  },
  {
   "cell_type": "markdown",
   "metadata": {
    "_cell_guid": "9c58248d-6e32-496f-843b-1a07e3d4afb8",
    "_uuid": "f293a3c986c26e82394bd58a68bf2a0843b40f80"
   },
   "source": [
    "\n",
    "You will see that **each word comes with a slash and a label** and unlike normal text, we see that **punctuations are separated from the word that comes before it**.\n",
    "\n",
    "And we also see that the **each sentence is separated by a newline**.\n",
    "\n",
    "That brings us to the next point on **sentence tokenization** and **word tokenization**."
   ]
  },
  {
   "cell_type": "markdown",
   "metadata": {
    "_cell_guid": "50b08633-6665-44e1-a989-e8b5fd3f11df",
    "_uuid": "2275a8deeace1a0080b4194d70a0e6f751026e2d"
   },
   "source": [
    "Tokenization\n",
    "====\n",
    "\n",
    "**Sentence tokenization** is the process of  *splitting up strings into “sentences”*\n",
    "\n",
    "**Word tokenization** is the process of  *splitting up “sentences” into “words”*\n",
    "\n",
    "Lets play around with some interesting texts,  the `singles.txt` from `webtext` corpus. <br>\n",
    "They were some  **singles ads** from  http://search.classifieds.news.com.au/\n",
    "\n",
    "First, downoad the data with `nltk.download()`:\n",
    "\n",
    "```python\n",
    "nltk.download('webtext')\n",
    "```\n",
    "\n",
    "Then you can import with:"
   ]
  },
  {
   "cell_type": "code",
   "execution_count": 11,
   "metadata": {
    "_cell_guid": "3636768b-77ad-4f0a-922d-1cedd2a8b11a",
    "_uuid": "0a0c9f31e40f7ef9f3172aad7b68dbe3d4cc1829"
   },
   "outputs": [],
   "source": [
    "from nltk.corpus import webtext"
   ]
  },
  {
   "cell_type": "code",
   "execution_count": 12,
   "metadata": {
    "_cell_guid": "6f9fd322-e916-4b70-83c3-87078c66fb15",
    "_uuid": "f899b6ed306c96f7731f1acc51aaba4256ec59b7"
   },
   "outputs": [
    {
     "data": {
      "text/plain": [
       "['firefox.txt',\n",
       " 'grail.txt',\n",
       " 'overheard.txt',\n",
       " 'pirates.txt',\n",
       " 'singles.txt',\n",
       " 'wine.txt']"
      ]
     },
     "execution_count": 12,
     "metadata": {},
     "output_type": "execute_result"
    }
   ],
   "source": [
    "webtext.fileids()"
   ]
  },
  {
   "cell_type": "code",
   "execution_count": 13,
   "metadata": {
    "_cell_guid": "7518ac61-756f-466b-8294-ca6056994415",
    "_uuid": "89a84224c596cf23b3498a7d5f3dbbf74428ef9e"
   },
   "outputs": [
    {
     "name": "stdout",
     "output_type": "stream",
     "text": [
      "0:\t25 SEXY MALE, seeks attrac older single lady, for discreet encounters.\n",
      "1:\t35YO Security Guard, seeking lady in uniform for fun times.\n",
      "2:\t40 yo SINGLE DAD, sincere friendly DTE seeks r/ship with fem age open S/E\n",
      "3:\t44yo tall seeks working single mum or lady below 45 fship rship. Nat Open\n",
      "4:\t6.2 35 yr old OUTGOING M seeks fem 28-35 for o/door sports - w/e away\n",
      "5:\tA professional business male, late 40s, 6 feet tall, slim build, well groomed, great personality, home owner, interests include the arts travel and all things good, Ringwood area, is seeking a genuine female of similar age or older, in same area or surrounds, for a meaningful long term rship. Looking forward to hearing from you all.\n",
      "6:\tABLE young man seeks, sexy older women. Phone for fun ready to play\n",
      "7:\tAFFECTIONATE LADY Sought by generous guy, 40s, mutual fulfillment\n",
      "8:\tARE YOU ALONE or lost in a r/ship too, with no hope in sight? Maybe we could explore new beginnings together? Im 45 Slim/Med build, GSOH, high needs and looking for someone similar. You WONT be disappointed.\n",
      "9:\tAMIABLE 43 y.o. gentleman with European background, 170 cm, medium build, employed, never married, no children. Enjoys sports, music, cafes, beach &c. Seeks an honest, attractive lady with a European background, without children, who would like to get married and have chil dren in the future. 29-39 y.o. Prefer non-smoker and living in Adelaide.\n",
      "10:\tARE YOU A COPPER REDHEAD? I am 36 y.o. and looking for companionship/friendship. I enjoy the AFL, animals and dining out.\n"
     ]
    }
   ],
   "source": [
    "# Each line is one advertisement.\n",
    "for i, line in enumerate(webtext.raw('singles.txt').split('\\n')):\n",
    "    if i > 10: # Lets take a look at the first 10 ads.\n",
    "        break\n",
    "    print(str(i) + ':\\t' + line)"
   ]
  },
  {
   "cell_type": "markdown",
   "metadata": {
    "_cell_guid": "683d51eb-41e1-41bf-9bd2-3314d435f330",
    "_uuid": "c1086676ea2bd10932715c1dfc5ebca5f7765389"
   },
   "source": [
    "# Lets zoom in on candidate no. 8"
   ]
  },
  {
   "cell_type": "code",
   "execution_count": 14,
   "metadata": {
    "_cell_guid": "7b46c556-583a-4af2-95d4-93d4d4b55bd2",
    "_uuid": "3f117b6fa1c9dc0150800cdbd632f4cee1c3fbde"
   },
   "outputs": [
    {
     "name": "stdout",
     "output_type": "stream",
     "text": [
      "ARE YOU ALONE or lost in a r/ship too, with no hope in sight? Maybe we could explore new beginnings together? Im 45 Slim/Med build, GSOH, high needs and looking for someone similar. You WONT be disappointed.\n"
     ]
    }
   ],
   "source": [
    "single_no8 = webtext.raw('singles.txt').split('\\n')[8]\n",
    "print(single_no8)"
   ]
  },
  {
   "cell_type": "markdown",
   "metadata": {
    "_cell_guid": "f227e306-1fc8-4d0a-bebc-55014599b588",
    "_uuid": "5d8daeb0c88fa79b07730d3d95d4f66382ebb0ef"
   },
   "source": [
    "# Sentence Tokenization\n",
    "<br>\n",
    "In NLTK, `sent_tokenize()` the default tokenizer function that you can use to split strings into \"*sentences*\". \n",
    "<br>\n",
    "\n",
    "It is using the [**Punkt algortihm** from Kiss and Strunk (2006)](http://www.mitpressjournals.org/doi/abs/10.1162/coli.2006.32.4.485)."
   ]
  },
  {
   "cell_type": "code",
   "execution_count": 15,
   "metadata": {
    "_cell_guid": "c49b219d-864f-4353-9535-648592f0d847",
    "_uuid": "a5430c319a9f9cc66f074405d24271fec49e77c5"
   },
   "outputs": [],
   "source": [
    "from nltk import sent_tokenize, word_tokenize"
   ]
  },
  {
   "cell_type": "code",
   "execution_count": 16,
   "metadata": {
    "_cell_guid": "0666bda0-ebec-4f2b-ab92-2158b70e38a2",
    "_uuid": "1d1a02d8bb0892942a4a5059a46b7f8aa23b7e01"
   },
   "outputs": [
    {
     "data": {
      "text/plain": [
       "['ARE YOU ALONE or lost in a r/ship too, with no hope in sight?',\n",
       " 'Maybe we could explore new beginnings together?',\n",
       " 'Im 45 Slim/Med build, GSOH, high needs and looking for someone similar.',\n",
       " 'You WONT be disappointed.']"
      ]
     },
     "execution_count": 16,
     "metadata": {},
     "output_type": "execute_result"
    }
   ],
   "source": [
    "sent_tokenize(single_no8)"
   ]
  },
  {
   "cell_type": "code",
   "execution_count": 17,
   "metadata": {
    "_cell_guid": "17ab6433-7166-4e87-837a-74cde568f98f",
    "_uuid": "f1198990be58fd7d81cb6516651f98a2716824c3"
   },
   "outputs": [
    {
     "name": "stdout",
     "output_type": "stream",
     "text": [
      "['ARE', 'YOU', 'ALONE', 'or', 'lost', 'in', 'a', 'r/ship', 'too', ',', 'with', 'no', 'hope', 'in', 'sight', '?']\n",
      "['Maybe', 'we', 'could', 'explore', 'new', 'beginnings', 'together', '?']\n",
      "['Im', '45', 'Slim/Med', 'build', ',', 'GSOH', ',', 'high', 'needs', 'and', 'looking', 'for', 'someone', 'similar', '.']\n",
      "['You', 'WONT', 'be', 'disappointed', '.']\n"
     ]
    }
   ],
   "source": [
    "for sent in sent_tokenize(single_no8):\n",
    "    print(word_tokenize(sent))"
   ]
  },
  {
   "cell_type": "markdown",
   "metadata": {
    "_cell_guid": "e11cdead-66ae-4e25-9e68-9130297e0758",
    "_uuid": "0ee17d9e697179e1db2bd8ef95cae55f3b5d64b3"
   },
   "source": [
    "# Lowercasing\n",
    "\n",
    "The CAPS in the texts are RATHER irritating although we KNOW the guy is trying to EMPHASIZE on something ;P\n",
    "\n",
    "We can simply **lowercase them after we do `sent_tokenize()` and `word_tokenize()`**. <br>\n",
    "**The tokenizers uses the capitalization as cues to know when to split so removing them before the calling the functions would be sub-optimal**."
   ]
  },
  {
   "cell_type": "code",
   "execution_count": 18,
   "metadata": {
    "_cell_guid": "665cff0c-7140-444a-8ea9-ce3e20299464",
    "_uuid": "197cae1396cc555d02eb64676471a564e1e7f35a"
   },
   "outputs": [
    {
     "data": {
      "text/plain": [
       "['ARE YOU ALONE or lost in a r/ship too, with no hope in sight?',\n",
       " 'Maybe we could explore new beginnings together?',\n",
       " 'Im 45 Slim/Med build, GSOH, high needs and looking for someone similar.',\n",
       " 'You WONT be disappointed.']"
      ]
     },
     "execution_count": 18,
     "metadata": {},
     "output_type": "execute_result"
    }
   ],
   "source": [
    "sent_tokenize(single_no8)"
   ]
  },
  {
   "cell_type": "code",
   "execution_count": 19,
   "metadata": {
    "_cell_guid": "42c2c2d9-cb6b-41d4-ac89-46440b13e94c",
    "_uuid": "9f54f59d10281ff66ec36648cff7eda1f13f5ba2"
   },
   "outputs": [
    {
     "name": "stdout",
     "output_type": "stream",
     "text": [
      "['are', 'you', 'alone', 'or', 'lost', 'in', 'a', 'r/ship', 'too', ',', 'with', 'no', 'hope', 'in', 'sight', '?']\n",
      "['maybe', 'we', 'could', 'explore', 'new', 'beginnings', 'together', '?']\n",
      "['im', '45', 'slim/med', 'build', ',', 'gsoh', ',', 'high', 'needs', 'and', 'looking', 'for', 'someone', 'similar', '.']\n",
      "['you', 'wont', 'be', 'disappointed', '.']\n"
     ]
    }
   ],
   "source": [
    "for sent in sent_tokenize(single_no8):\n",
    "    # It's a little inefficient to loop through each word,\n",
    "    # but sometimes it helps to get better tokens.\n",
    "    print([word.lower() for word in word_tokenize(sent)])\n",
    "    # Alternatively:\n",
    "    # print(list(map(str.lower, word_tokenize(sent))))"
   ]
  },
  {
   "cell_type": "code",
   "execution_count": 20,
   "metadata": {
    "_cell_guid": "08dea492-753c-4dba-8ac1-90c8dce48aef",
    "_uuid": "b90631ac206dc4a6495729b06bcd1fc6415134d7"
   },
   "outputs": [
    {
     "name": "stdout",
     "output_type": "stream",
     "text": [
      "['ARE', 'YOU', 'ALONE', 'or', 'lost', 'in', 'a', 'r/ship', 'too', ',', 'with', 'no', 'hope', 'in', 'sight', '?', 'Maybe', 'we', 'could', 'explore', 'new', 'beginnings', 'together', '?', 'Im', '45', 'Slim/Med', 'build', ',', 'GSOH', ',', 'high', 'needs', 'and', 'looking', 'for', 'someone', 'similar', '.', 'You', 'WONT', 'be', 'disappointed', '.']\n"
     ]
    }
   ],
   "source": [
    "print(word_tokenize(single_no8))  # Treats the whole line as one document."
   ]
  },
  {
   "cell_type": "markdown",
   "metadata": {
    "_cell_guid": "eebfbac8-8b29-46ad-b2e2-e5badc926e4b",
    "_uuid": "7e5a3cc059f151e0ce4f975e56bc98205c03e90f"
   },
   "source": [
    "# Tangential Note\n",
    "\n",
    "Punkt is a statistical model so it applies the knowledge it has learnt from previous data. <br>\n",
    "Generally, it **works for most cases on well-formed texts** but if your data is  different e.g. user-generated noisy texts, you might have to retrain a new model. \n",
    "![](http://)\n",
    "E.g. if we look at candidate no. 9, we see that it's splitting on `y.o.` (its thinking that its the end of the sentence) and not splitting on `&c.` (its thinking that its an abbreviation, e.g. `Mr.`, `Inc.`)."
   ]
  },
  {
   "cell_type": "code",
   "execution_count": 21,
   "metadata": {
    "_cell_guid": "e3843142-7ff7-4e6d-8430-191ee8b4ce47",
    "_uuid": "ef345b667df7113cba651ae8edbeb0e213ee6809"
   },
   "outputs": [
    {
     "data": {
      "text/plain": [
       "['AMIABLE 43 y.o.',\n",
       " 'gentleman with European background, 170 cm, medium build, employed, never married, no children.',\n",
       " 'Enjoys sports, music, cafes, beach &c. Seeks an honest, attractive lady with a European background, without children, who would like to get married and have chil dren in the future.',\n",
       " '29-39 y.o.',\n",
       " 'Prefer non-smoker and living in Adelaide.']"
      ]
     },
     "execution_count": 21,
     "metadata": {},
     "output_type": "execute_result"
    }
   ],
   "source": [
    "single_no9 = webtext.raw('singles.txt').split('\\n')[9]\n",
    "sent_tokenize(single_no9)"
   ]
  },
  {
   "cell_type": "markdown",
   "metadata": {
    "_cell_guid": "3d1a2d29-ab44-44f7-803a-ac3561368f09",
    "_uuid": "df75cb932724a29599f66c6229ba3f324a690181"
   },
   "source": [
    "Stopwords\n",
    "====\n",
    "\n",
    "**Stopwords** are non-content words that mainly have grammatical function\n",
    "\n",
    "In NLTK, you can access them as follows:"
   ]
  },
  {
   "cell_type": "code",
   "execution_count": 22,
   "metadata": {
    "_cell_guid": "450cc60b-4e90-491f-9dd3-92ae22fd979a",
    "_uuid": "501da9982fc07b1deaae173ed816caa01ac2dd79"
   },
   "outputs": [
    {
     "name": "stdout",
     "output_type": "stream",
     "text": [
      "['i', 'me', 'my', 'myself', 'we', 'our', 'ours', 'ourselves', 'you', \"you're\", \"you've\", \"you'll\", \"you'd\", 'your', 'yours', 'yourself', 'yourselves', 'he', 'him', 'his', 'himself', 'she', \"she's\", 'her', 'hers', 'herself', 'it', \"it's\", 'its', 'itself', 'they', 'them', 'their', 'theirs', 'themselves', 'what', 'which', 'who', 'whom', 'this', 'that', \"that'll\", 'these', 'those', 'am', 'is', 'are', 'was', 'were', 'be', 'been', 'being', 'have', 'has', 'had', 'having', 'do', 'does', 'did', 'doing', 'a', 'an', 'the', 'and', 'but', 'if', 'or', 'because', 'as', 'until', 'while', 'of', 'at', 'by', 'for', 'with', 'about', 'against', 'between', 'into', 'through', 'during', 'before', 'after', 'above', 'below', 'to', 'from', 'up', 'down', 'in', 'out', 'on', 'off', 'over', 'under', 'again', 'further', 'then', 'once', 'here', 'there', 'when', 'where', 'why', 'how', 'all', 'any', 'both', 'each', 'few', 'more', 'most', 'other', 'some', 'such', 'no', 'nor', 'not', 'only', 'own', 'same', 'so', 'than', 'too', 'very', 's', 't', 'can', 'will', 'just', 'don', \"don't\", 'should', \"should've\", 'now', 'd', 'll', 'm', 'o', 're', 've', 'y', 'ain', 'aren', \"aren't\", 'couldn', \"couldn't\", 'didn', \"didn't\", 'doesn', \"doesn't\", 'hadn', \"hadn't\", 'hasn', \"hasn't\", 'haven', \"haven't\", 'isn', \"isn't\", 'ma', 'mightn', \"mightn't\", 'mustn', \"mustn't\", 'needn', \"needn't\", 'shan', \"shan't\", 'shouldn', \"shouldn't\", 'wasn', \"wasn't\", 'weren', \"weren't\", 'won', \"won't\", 'wouldn', \"wouldn't\"]\n"
     ]
    }
   ],
   "source": [
    "from nltk.corpus import stopwords\n",
    "\n",
    "stopwords_en = stopwords.words('english')\n",
    "print(stopwords_en)"
   ]
  },
  {
   "cell_type": "markdown",
   "metadata": {
    "_cell_guid": "e02fc6ff-713d-4090-b7e2-3132c9415549",
    "_uuid": "e613de7ef925754b74334b79788acf4648b9be0b"
   },
   "source": [
    "# Often we want to remove stopwords when we want to keep the \"gist\" of the document/sentence.\n",
    "\n",
    "For instance, lets go back to the our `single_no8`"
   ]
  },
  {
   "cell_type": "code",
   "execution_count": 23,
   "metadata": {
    "_cell_guid": "17a72a56-a94e-4d0b-af61-370d5f7b3adb",
    "_uuid": "ceef2a1d450726b705b22698b5b35635c942be38"
   },
   "outputs": [
    {
     "name": "stdout",
     "output_type": "stream",
     "text": [
      "['are', 'you', 'alone', 'or', 'lost', 'in', 'a', 'r/ship', 'too', ',', 'with', 'no', 'hope', 'in', 'sight', '?', 'maybe', 'we', 'could', 'explore', 'new', 'beginnings', 'together', '?', 'im', '45', 'slim/med', 'build', ',', 'gsoh', ',', 'high', 'needs', 'and', 'looking', 'for', 'someone', 'similar', '.', 'you', 'wont', 'be', 'disappointed', '.']\n"
     ]
    }
   ],
   "source": [
    "# Treat the multiple sentences as one document (no need to sent_tokenize)\n",
    "# Tokenize and lowercase\n",
    "single_no8_tokenized_lowered = list(map(str.lower, word_tokenize(single_no8)))\n",
    "print(single_no8_tokenized_lowered)"
   ]
  },
  {
   "cell_type": "markdown",
   "metadata": {
    "_cell_guid": "ea203327-c900-4d54-a1cd-fb3d94a9f021",
    "_uuid": "7232e7aacc09962b8b010f6463ff14566471f541"
   },
   "source": [
    "# Let's try to remove the stopwords using the English stopwords list in NLTK"
   ]
  },
  {
   "cell_type": "code",
   "execution_count": 24,
   "metadata": {
    "_cell_guid": "b97fa9b8-6366-40b6-9b0f-05a15fc3b93f",
    "_uuid": "3b691c536a5487f33b92eceb94b34b8d12cac22f"
   },
   "outputs": [
    {
     "name": "stdout",
     "output_type": "stream",
     "text": [
      "['alone', 'lost', 'r/ship', ',', 'hope', 'sight', '?', 'maybe', 'could', 'explore', 'new', 'beginnings', 'together', '?', 'im', '45', 'slim/med', 'build', ',', 'gsoh', ',', 'high', 'needs', 'looking', 'someone', 'similar', '.', 'wont', 'disappointed', '.']\n"
     ]
    }
   ],
   "source": [
    "stopwords_en = set(stopwords.words('english')) # Set checking is faster in Python than list.\n",
    "\n",
    "# List comprehension.\n",
    "print([word for word in single_no8_tokenized_lowered if word not in stopwords_en])"
   ]
  },
  {
   "cell_type": "markdown",
   "metadata": {
    "_cell_guid": "a6ebff46-17a3-47d0-bf1f-47461ee484a4",
    "_uuid": "d99001efcddcd7a080d76f6064ce309e41542f86",
    "collapsed": true
   },
   "source": [
    "# Often, we want to remove the punctuations from the documents too.\n",
    "\n",
    "Since Python comes with \"batteries included\", we have string.punctuation"
   ]
  },
  {
   "cell_type": "code",
   "execution_count": 25,
   "metadata": {
    "_cell_guid": "fd82dfe3-2221-4c0a-9d0d-1b14a5349b91",
    "_uuid": "991965258d7aeffa5f55420fdf4e6f4a83dbfd9e"
   },
   "outputs": [
    {
     "name": "stdout",
     "output_type": "stream",
     "text": [
      "From string.punctuation: <class 'str'> !\"#$%&'()*+,-./:;<=>?@[\\]^_`{|}~\n"
     ]
    }
   ],
   "source": [
    "from string import punctuation\n",
    "# It's a string so we have to turn them into a set type\n",
    "print('From string.punctuation:', type(punctuation), punctuation)"
   ]
  },
  {
   "cell_type": "markdown",
   "metadata": {
    "_cell_guid": "c83a6e53-e7f4-43c9-a0b7-522ca1e75e55",
    "_uuid": "78edf4a03bd59a7753ba5a0d9a238df439711516"
   },
   "source": [
    "# Combining the punctuation with the stopwords from NLTK."
   ]
  },
  {
   "cell_type": "code",
   "execution_count": 26,
   "metadata": {
    "_cell_guid": "ffafed92-9c4c-4fc1-aa7b-89645edf4b8c",
    "_uuid": "97c96c2b0df9d8cd1dc6c6cf6619ed7f09c3072c"
   },
   "outputs": [
    {
     "name": "stdout",
     "output_type": "stream",
     "text": [
      "{'which', '=', 'you', 'who', 'once', 'don', 'against', 'isn', \"doesn't\", 'but', 'here', 'over', \"you'd\", 'other', '[', 'as', 'wouldn', 'be', \"you've\", 'himself', 'shouldn', 'before', 'a', 'am', 'have', 'just', 'in', 'having', '*', 'only', '-', '<', 'itself', 'theirs', \"wouldn't\", 'any', '>', 'are', 'do', 'than', 'll', 'to', 'of', 'ours', 'what', 'were', 'under', 'ain', 'was', 'i', 'until', 'mustn', 'couldn', 'themselves', 'where', 'doing', 'yours', \"she's\", ']', 'these', 'when', \"hadn't\", \"aren't\", 'your', 'they', ',', 'up', 'with', 'there', 'for', '?', 'those', 'our', 'will', \"'\", 'through', 'on', 'does', \"needn't\", 'at', '}', 'because', 'that', 'after', 'below', 'how', 'should', 'hers', 'shan', '@', '^', 'he', 'off', 'few', '|', 'above', '#', 'an', \"shouldn't\", 'very', 'my', 'now', ';', 'm', 'she', 'can', 'too', 'his', 'didn', \"won't\", 'more', 'again', 'wasn', '!', 'while', \"don't\", 'ma', '+', 'during', 'him', 'myself', 'their', \"should've\", \"isn't\", '%', 'then', 'both', 'out', 'own', \"mightn't\", 'ourselves', 'nor', '/', 'why', 'd', '\"', '{', \"it's\", ')', 'this', 'into', 'no', 'aren', 'did', 'herself', 'it', 'each', 'o', 're', 'some', 'most', 'had', 'and', 'from', \"weren't\", ':', 'by', 'its', 'whom', \"you'll\", 'them', 'such', 've', \"mustn't\", \"didn't\", '.', 'needn', 'haven', 'won', 'the', 'doesn', 'weren', 'all', '(', '`', 'been', 'hadn', 'we', 'so', 'hasn', 'yourselves', 'not', 'being', 'if', 'down', '_', 'me', 't', '$', 'y', 'or', 's', \"haven't\", \"shan't\", 'is', \"couldn't\", 'further', 'between', \"that'll\", \"wasn't\", 'about', 'has', 'mightn', 'yourself', '&', 'same', \"you're\", '\\\\', '~', 'her', \"hasn't\"}\n"
     ]
    }
   ],
   "source": [
    "stopwords_en_withpunct = stopwords_en.union(set(punctuation))\n",
    "print(stopwords_en_withpunct)"
   ]
  },
  {
   "cell_type": "markdown",
   "metadata": {
    "_cell_guid": "230db9d8-bb06-4e48-aad9-4c4609448c4a",
    "_uuid": "e6b6acafbca2e1c8f88fbda2313da9d9b4961cf4"
   },
   "source": [
    "# Removing stopwords with punctuations from Single no. 8"
   ]
  },
  {
   "cell_type": "code",
   "execution_count": 27,
   "metadata": {
    "_cell_guid": "8cc6b68c-29b1-48b2-baa1-bd3f9bc4e21f",
    "_uuid": "c37dbd0c8a7658dd20b2266276baf0e162204576",
    "scrolled": true
   },
   "outputs": [
    {
     "name": "stdout",
     "output_type": "stream",
     "text": [
      "['alone', 'lost', 'r/ship', 'hope', 'sight', 'maybe', 'could', 'explore', 'new', 'beginnings', 'together', 'im', '45', 'slim/med', 'build', 'gsoh', 'high', 'needs', 'looking', 'someone', 'similar', 'wont', 'disappointed']\n"
     ]
    }
   ],
   "source": [
    "print([word for word in single_no8_tokenized_lowered if word not in stopwords_en_withpunct])"
   ]
  },
  {
   "cell_type": "markdown",
   "metadata": {
    "_cell_guid": "31f5c735-c260-4a4d-870e-721ccca5cb8b",
    "_uuid": "027cd197d81df7b34048c520a84270c74781a6f0"
   },
   "source": [
    "# Using a stronger/longer list of stopwords\n",
    "\n",
    "From the previous output, we have still dangly model verbs (i.e. 'could', 'wont', etc.).\n",
    "\n",
    "We can combine the stopwords we have in NLTK with other stopwords list we find online.\n",
    "\n",
    "Personally, I like to use `stopword-json` because it has stopwrds in 50 languages =) <br>\n",
    "https://github.com/6/stopwords-json"
   ]
  },
  {
   "cell_type": "code",
   "execution_count": 28,
   "metadata": {
    "_cell_guid": "adf1ed39-3116-46f0-92c0-6dfddcd904a0",
    "_uuid": "376d2a04068b557bc5080353a998aa52c199dccb"
   },
   "outputs": [
    {
     "name": "stdout",
     "output_type": "stream",
     "text": [
      "With combined stopwords:\n",
      "['lost', 'r/ship', 'hope', 'sight', 'explore', 'beginnings', 'im', '45', 'slim/med', 'build', 'gsoh', 'high', 'similar', 'wont', 'disappointed']\n"
     ]
    }
   ],
   "source": [
    "# Stopwords from stopwords-json\n",
    "stopwords_json = {\"en\":[\"a\",\"a's\",\"able\",\"about\",\"above\",\"according\",\"accordingly\",\"across\",\"actually\",\"after\",\"afterwards\",\"again\",\"against\",\"ain't\",\"all\",\"allow\",\"allows\",\"almost\",\"alone\",\"along\",\"already\",\"also\",\"although\",\"always\",\"am\",\"among\",\"amongst\",\"an\",\"and\",\"another\",\"any\",\"anybody\",\"anyhow\",\"anyone\",\"anything\",\"anyway\",\"anyways\",\"anywhere\",\"apart\",\"appear\",\"appreciate\",\"appropriate\",\"are\",\"aren't\",\"around\",\"as\",\"aside\",\"ask\",\"asking\",\"associated\",\"at\",\"available\",\"away\",\"awfully\",\"b\",\"be\",\"became\",\"because\",\"become\",\"becomes\",\"becoming\",\"been\",\"before\",\"beforehand\",\"behind\",\"being\",\"believe\",\"below\",\"beside\",\"besides\",\"best\",\"better\",\"between\",\"beyond\",\"both\",\"brief\",\"but\",\"by\",\"c\",\"c'mon\",\"c's\",\"came\",\"can\",\"can't\",\"cannot\",\"cant\",\"cause\",\"causes\",\"certain\",\"certainly\",\"changes\",\"clearly\",\"co\",\"com\",\"come\",\"comes\",\"concerning\",\"consequently\",\"consider\",\"considering\",\"contain\",\"containing\",\"contains\",\"corresponding\",\"could\",\"couldn't\",\"course\",\"currently\",\"d\",\"definitely\",\"described\",\"despite\",\"did\",\"didn't\",\"different\",\"do\",\"does\",\"doesn't\",\"doing\",\"don't\",\"done\",\"down\",\"downwards\",\"during\",\"e\",\"each\",\"edu\",\"eg\",\"eight\",\"either\",\"else\",\"elsewhere\",\"enough\",\"entirely\",\"especially\",\"et\",\"etc\",\"even\",\"ever\",\"every\",\"everybody\",\"everyone\",\"everything\",\"everywhere\",\"ex\",\"exactly\",\"example\",\"except\",\"f\",\"far\",\"few\",\"fifth\",\"first\",\"five\",\"followed\",\"following\",\"follows\",\"for\",\"former\",\"formerly\",\"forth\",\"four\",\"from\",\"further\",\"furthermore\",\"g\",\"get\",\"gets\",\"getting\",\"given\",\"gives\",\"go\",\"goes\",\"going\",\"gone\",\"got\",\"gotten\",\"greetings\",\"h\",\"had\",\"hadn't\",\"happens\",\"hardly\",\"has\",\"hasn't\",\"have\",\"haven't\",\"having\",\"he\",\"he's\",\"hello\",\"help\",\"hence\",\"her\",\"here\",\"here's\",\"hereafter\",\"hereby\",\"herein\",\"hereupon\",\"hers\",\"herself\",\"hi\",\"him\",\"himself\",\"his\",\"hither\",\"hopefully\",\"how\",\"howbeit\",\"however\",\"i\",\"i'd\",\"i'll\",\"i'm\",\"i've\",\"ie\",\"if\",\"ignored\",\"immediate\",\"in\",\"inasmuch\",\"inc\",\"indeed\",\"indicate\",\"indicated\",\"indicates\",\"inner\",\"insofar\",\"instead\",\"into\",\"inward\",\"is\",\"isn't\",\"it\",\"it'd\",\"it'll\",\"it's\",\"its\",\"itself\",\"j\",\"just\",\"k\",\"keep\",\"keeps\",\"kept\",\"know\",\"known\",\"knows\",\"l\",\"last\",\"lately\",\"later\",\"latter\",\"latterly\",\"least\",\"less\",\"lest\",\"let\",\"let's\",\"like\",\"liked\",\"likely\",\"little\",\"look\",\"looking\",\"looks\",\"ltd\",\"m\",\"mainly\",\"many\",\"may\",\"maybe\",\"me\",\"mean\",\"meanwhile\",\"merely\",\"might\",\"more\",\"moreover\",\"most\",\"mostly\",\"much\",\"must\",\"my\",\"myself\",\"n\",\"name\",\"namely\",\"nd\",\"near\",\"nearly\",\"necessary\",\"need\",\"needs\",\"neither\",\"never\",\"nevertheless\",\"new\",\"next\",\"nine\",\"no\",\"nobody\",\"non\",\"none\",\"noone\",\"nor\",\"normally\",\"not\",\"nothing\",\"novel\",\"now\",\"nowhere\",\"o\",\"obviously\",\"of\",\"off\",\"often\",\"oh\",\"ok\",\"okay\",\"old\",\"on\",\"once\",\"one\",\"ones\",\"only\",\"onto\",\"or\",\"other\",\"others\",\"otherwise\",\"ought\",\"our\",\"ours\",\"ourselves\",\"out\",\"outside\",\"over\",\"overall\",\"own\",\"p\",\"particular\",\"particularly\",\"per\",\"perhaps\",\"placed\",\"please\",\"plus\",\"possible\",\"presumably\",\"probably\",\"provides\",\"q\",\"que\",\"quite\",\"qv\",\"r\",\"rather\",\"rd\",\"re\",\"really\",\"reasonably\",\"regarding\",\"regardless\",\"regards\",\"relatively\",\"respectively\",\"right\",\"s\",\"said\",\"same\",\"saw\",\"say\",\"saying\",\"says\",\"second\",\"secondly\",\"see\",\"seeing\",\"seem\",\"seemed\",\"seeming\",\"seems\",\"seen\",\"self\",\"selves\",\"sensible\",\"sent\",\"serious\",\"seriously\",\"seven\",\"several\",\"shall\",\"she\",\"should\",\"shouldn't\",\"since\",\"six\",\"so\",\"some\",\"somebody\",\"somehow\",\"someone\",\"something\",\"sometime\",\"sometimes\",\"somewhat\",\"somewhere\",\"soon\",\"sorry\",\"specified\",\"specify\",\"specifying\",\"still\",\"sub\",\"such\",\"sup\",\"sure\",\"t\",\"t's\",\"take\",\"taken\",\"tell\",\"tends\",\"th\",\"than\",\"thank\",\"thanks\",\"thanx\",\"that\",\"that's\",\"thats\",\"the\",\"their\",\"theirs\",\"them\",\"themselves\",\"then\",\"thence\",\"there\",\"there's\",\"thereafter\",\"thereby\",\"therefore\",\"therein\",\"theres\",\"thereupon\",\"these\",\"they\",\"they'd\",\"they'll\",\"they're\",\"they've\",\"think\",\"third\",\"this\",\"thorough\",\"thoroughly\",\"those\",\"though\",\"three\",\"through\",\"throughout\",\"thru\",\"thus\",\"to\",\"together\",\"too\",\"took\",\"toward\",\"towards\",\"tried\",\"tries\",\"truly\",\"try\",\"trying\",\"twice\",\"two\",\"u\",\"un\",\"under\",\"unfortunately\",\"unless\",\"unlikely\",\"until\",\"unto\",\"up\",\"upon\",\"us\",\"use\",\"used\",\"useful\",\"uses\",\"using\",\"usually\",\"uucp\",\"v\",\"value\",\"various\",\"very\",\"via\",\"viz\",\"vs\",\"w\",\"want\",\"wants\",\"was\",\"wasn't\",\"way\",\"we\",\"we'd\",\"we'll\",\"we're\",\"we've\",\"welcome\",\"well\",\"went\",\"were\",\"weren't\",\"what\",\"what's\",\"whatever\",\"when\",\"whence\",\"whenever\",\"where\",\"where's\",\"whereafter\",\"whereas\",\"whereby\",\"wherein\",\"whereupon\",\"wherever\",\"whether\",\"which\",\"while\",\"whither\",\"who\",\"who's\",\"whoever\",\"whole\",\"whom\",\"whose\",\"why\",\"will\",\"willing\",\"wish\",\"with\",\"within\",\"without\",\"won't\",\"wonder\",\"would\",\"wouldn't\",\"x\",\"y\",\"yes\",\"yet\",\"you\",\"you'd\",\"you'll\",\"you're\",\"you've\",\"your\",\"yours\",\"yourself\",\"yourselves\",\"z\",\"zero\"]}\n",
    "stopwords_json_en = set(stopwords_json['en'])\n",
    "stopwords_nltk_en = set(stopwords.words('english'))\n",
    "stopwords_punct = set(punctuation)\n",
    "# Combine the stopwords. Its a lot longer so I'm not printing it out...\n",
    "stoplist_combined = set.union(stopwords_json_en, stopwords_nltk_en, stopwords_punct)\n",
    "\n",
    "# Remove the stopwords from `single_no8`.\n",
    "print('With combined stopwords:')\n",
    "print([word for word in single_no8_tokenized_lowered if word not in stoplist_combined])"
   ]
  },
  {
   "cell_type": "markdown",
   "metadata": {
    "_cell_guid": "273f7eb4-77ff-4cb9-abf0-4254122fa2b7",
    "_uuid": "84c1307d0bbc465925ef9932eddcbcdfd95a17ca"
   },
   "source": [
    "# Stemming and Lemmatization\n",
    "\n",
    "Often we want to map the different forms of the same word to the same root word, e.g. \"walks\", \"walking\", \"walked\" should all be the same as \"walk\".\n",
    "\n",
    "The stemming and lemmatization process are hand-written regex rules written to find the root word.\n",
    "\n",
    " - **Stemming**: Trying to shorten a word with simple regex rules\n",
    "\n",
    " - **Lemmatization**: Trying to find the root word with linguistics rules (with the use of regexes)\n",
    "\n",
    "(See also: [Stemmers vs Lemmatizers](https://stackoverflow.com/q/17317418/610569) question on StackOverflow)\n",
    "\n",
    "There are various stemmers and one lemmatizer in NLTK, the most common being:\n",
    "\n",
    " - **Porter Stemmer** from [Porter (1980)](https://tartarus.org/martin/PorterStemmer/index.html)\n",
    " - **Wordnet Lemmatizer** (port of the Morphy: https://wordnet.princeton.edu/man/morphy.7WN.html)"
   ]
  },
  {
   "cell_type": "code",
   "execution_count": 29,
   "metadata": {
    "_cell_guid": "f41dab63-6133-4a51-9eb6-f87414b30c30",
    "_uuid": "3dd75f548e7363aa69b9da126a886f7299e052be"
   },
   "outputs": [
    {
     "name": "stdout",
     "output_type": "stream",
     "text": [
      "walk\n",
      "walk\n",
      "walk\n"
     ]
    }
   ],
   "source": [
    "from nltk.stem import PorterStemmer\n",
    "porter = PorterStemmer()\n",
    "\n",
    "for word in ['walking', 'walks', 'walked']:\n",
    "    print(porter.stem(word))"
   ]
  },
  {
   "cell_type": "code",
   "execution_count": 30,
   "metadata": {
    "_cell_guid": "edf939e2-bc38-4c50-92db-fd8d958ad17d",
    "_uuid": "31f49462e63529ac6d25b16389ef8494343b4de4"
   },
   "outputs": [
    {
     "name": "stdout",
     "output_type": "stream",
     "text": [
      "walking\n",
      "walk\n",
      "walked\n"
     ]
    }
   ],
   "source": [
    "from nltk.stem import WordNetLemmatizer\n",
    "wnl = WordNetLemmatizer()\n",
    "\n",
    "for word in ['walking', 'walks', 'walked']:\n",
    "    print(wnl.lemmatize(word))"
   ]
  },
  {
   "cell_type": "markdown",
   "metadata": {
    "_cell_guid": "fe9ffb81-f53a-4c58-97b6-86e0d79c51ca",
    "_uuid": "d2fa9f729a413a1417461683aa667f55a112e4e2"
   },
   "source": [
    "# Gotcha! The lemmatizer is actually pretty complicated, it needs Parts of Speech (POS) tags.\n",
    "\n",
    "\n",
    "We won't cover what's POS today so I'll just show you how to \"whip\" the lemmatizer to do what you need.\n",
    "\n",
    "By default, the WordNetLemmatizer.lemmatize() function will assume that the word is a Noun if there's no explict POS tag in the input.\n",
    "\n",
    "First you need the pos_tag function to tag a sentence and using the tag convert it into WordNet tagsets and then put it through to the WordNetLemmatizer.\n",
    "\n",
    "**Note:** Lemmatization won't really work on single words alone without context or knowledge of its POS tag (i.e. we need to know whether the word is a noun, verb, adjective, adverb)\n"
   ]
  },
  {
   "cell_type": "code",
   "execution_count": 31,
   "metadata": {
    "_cell_guid": "0fa94379-f1b2-4228-b30c-001d2895b993",
    "_uuid": "0813197200488bb07b8e23f5281ae324b323e981"
   },
   "outputs": [
    {
     "name": "stdout",
     "output_type": "stream",
     "text": [
      "[('He', 'PRP'), ('is', 'VBZ'), ('walking', 'VBG'), ('to', 'TO'), ('school', 'NN')]\n"
     ]
    }
   ],
   "source": [
    "from nltk import pos_tag\n",
    "from nltk.stem import WordNetLemmatizer\n",
    "\n",
    "wnl = WordNetLemmatizer()\n",
    "\n",
    "def penn2morphy(penntag):\n",
    "    \"\"\" Converts Penn Treebank tags to WordNet. \"\"\"\n",
    "    morphy_tag = {'NN':'n', 'JJ':'a',\n",
    "                  'VB':'v', 'RB':'r'}\n",
    "    try:\n",
    "        return morphy_tag[penntag[:2]]\n",
    "    except:\n",
    "        return 'n' # if mapping isn't found, fall back to Noun.\n",
    "    \n",
    "# `pos_tag` takes the tokenized sentence as input, i.e. list of string,\n",
    "# and returns a tuple of (word, tg), i.e. list of tuples of strings\n",
    "# so we need to get the tag from the 2nd element.\n",
    "\n",
    "walking_tagged = pos_tag(word_tokenize('He is walking to school'))\n",
    "print(walking_tagged)"
   ]
  },
  {
   "cell_type": "code",
   "execution_count": 32,
   "metadata": {
    "_cell_guid": "6a826e5e-1c16-46ad-ac52-916a2f4e5c41",
    "_uuid": "e59549b59e571e2368d7c08c80250a854259d1d1"
   },
   "outputs": [
    {
     "data": {
      "text/plain": [
       "['he', 'be', 'walk', 'to', 'school']"
      ]
     },
     "execution_count": 32,
     "metadata": {},
     "output_type": "execute_result"
    }
   ],
   "source": [
    "[wnl.lemmatize(word.lower(), pos=penn2morphy(tag)) for word, tag in walking_tagged]"
   ]
  },
  {
   "cell_type": "markdown",
   "metadata": {
    "_cell_guid": "46b8011c-beba-4e69-8305-f5b98659e679",
    "_uuid": "034d83608a867c28c06b86c9dc129b2f88faf326"
   },
   "source": [
    "# Now, lets create a new lemmatization function for sentences given what we learnt above."
   ]
  },
  {
   "cell_type": "code",
   "execution_count": 33,
   "metadata": {
    "_cell_guid": "6fe6901c-88ca-438f-9a9a-b1f28128ffc4",
    "_uuid": "4f7803ff5cbc3f6c0dc97ce9c353a0bec39a5696"
   },
   "outputs": [
    {
     "data": {
      "text/plain": [
       "['he', 'be', 'walk', 'to', 'school']"
      ]
     },
     "execution_count": 33,
     "metadata": {},
     "output_type": "execute_result"
    }
   ],
   "source": [
    "from nltk import pos_tag\n",
    "from nltk.stem import WordNetLemmatizer\n",
    "\n",
    "wnl = WordNetLemmatizer()\n",
    "\n",
    "def penn2morphy(penntag):\n",
    "    \"\"\" Converts Penn Treebank tags to WordNet. \"\"\"\n",
    "    morphy_tag = {'NN':'n', 'JJ':'a',\n",
    "                  'VB':'v', 'RB':'r'}\n",
    "    try:\n",
    "        return morphy_tag[penntag[:2]]\n",
    "    except:\n",
    "        return 'n' \n",
    "    \n",
    "def lemmatize_sent(text): \n",
    "    # Text input is string, returns lowercased strings.\n",
    "    return [wnl.lemmatize(word.lower(), pos=penn2morphy(tag)) \n",
    "            for word, tag in pos_tag(word_tokenize(text))]\n",
    "\n",
    "lemmatize_sent('He is walking to school')"
   ]
  },
  {
   "cell_type": "markdown",
   "metadata": {
    "_cell_guid": "346bab96-cf6c-4a91-b27d-bfced577ea15",
    "_uuid": "6ad66c3cabdf30287f2f6b0ea5ccbfdcd37cf927"
   },
   "source": [
    "# Lets try the `lemmatize_sent()` and remove stopwords from Single no. 8"
   ]
  },
  {
   "cell_type": "code",
   "execution_count": 34,
   "metadata": {
    "_cell_guid": "926f7ec4-12c7-4d8d-8f2b-ef66b0b3a5a4",
    "_uuid": "e591e6f136501cee25961fb1df0e68f1eb676b45"
   },
   "outputs": [
    {
     "name": "stdout",
     "output_type": "stream",
     "text": [
      "Original Single no. 8:\n",
      "ARE YOU ALONE or lost in a r/ship too, with no hope in sight? Maybe we could explore new beginnings together? Im 45 Slim/Med build, GSOH, high needs and looking for someone similar. You WONT be disappointed. \n",
      "\n",
      "Lemmatized and removed stopwords:\n",
      "['lose', 'r/ship', 'hope', 'sight', 'explore', 'beginning', 'im', 'slim/med', 'build', 'gsoh', 'high', 'similar', 'wont', 'disappoint']\n"
     ]
    }
   ],
   "source": [
    "print('Original Single no. 8:')\n",
    "print(single_no8, '\\n')\n",
    "print('Lemmatized and removed stopwords:')\n",
    "print([word for word in lemmatize_sent(single_no8) \n",
    "       if word not in stoplist_combined\n",
    "       and not word.isdigit() ])"
   ]
  },
  {
   "cell_type": "markdown",
   "metadata": {
    "_cell_guid": "9c245e23-b526-4d86-9082-912c1aa87255",
    "_uuid": "56629a24758169967e39e8a93576195fb7c27ee8"
   },
   "source": [
    "# Combining what we know about removing stopwords and lemmatization"
   ]
  },
  {
   "cell_type": "code",
   "execution_count": 35,
   "metadata": {
    "_cell_guid": "358ca69f-e7b2-4b93-ad09-5cf1b0a7143a",
    "_uuid": "3145c9a5568eb2ed075eddf5a617d20b2286f012"
   },
   "outputs": [],
   "source": [
    "def preprocess_text(text):\n",
    "    # Input: str, i.e. document/sentence\n",
    "    # Output: list(str) , i.e. list of lemmas\n",
    "    return [word for word in lemmatize_sent(text) \n",
    "            if word not in stoplist_combined\n",
    "            and not word.isdigit()]"
   ]
  },
  {
   "cell_type": "markdown",
   "metadata": {
    "_cell_guid": "51ffeed8-ea00-479e-bc92-422f4e0bba0e",
    "_uuid": "099da61cd361f9128632758422960862742b917f"
   },
   "source": [
    "# Tangential Note on Lemmatization\n",
    "\n",
    "In English, a root word / lemma can manifest in different forms. \n",
    "\n",
    "| <img src=\"https://media1.giphy.com/media/xHHsXH7WJsWK4/giphy.gif\" align=\"left\" height=\"200\" width=\"200\"> | <img src=\"https://media1.giphy.com/media/xHHsXH7WJsWK4/giphy.gif\" align=\"left\" height=\"200\" width=\"200\"><img src=\"https://media1.giphy.com/media/xHHsXH7WJsWK4/giphy.gif\" align=\"left\" height=\"200\" width=\"200\"> |\n",
    "|:-------------:|:-------------:|\n",
    "| 1 cat  | 2 cats  |\n",
    "| 1 cat  | 2 cats  |\n",
    "\n",
    "For instance, we use “cat” to refer to a single “cat” and we attach an “-s”  suffix to refer to more than one cat, e.g. “two cats”. \n",
    "\n",
    "| <img src=\"https://68.media.tumblr.com/b0755247c8f32f79413d34b0410ccff1/tumblr_o3q8wlGi9v1u9ia8fo1_500.gif\" align=\"left\" height=\"200\" width=\"400\"> | \n",
    "|:-------------:| \n",
    "| cats walk / cats (are) walking | \n",
    "\n",
    "<!-- | <img src=\"https://upload.wikimedia.org/wikipedia/commons/thumb/f/fb/ModelsCatwalk.jpg/440px-ModelsCatwalk.jpg\" align=\"left\" height=\"200\" width=\"400\"> | \n",
    "|:-------------:| \n",
    "| cat walk(s) / catwalk(s) |  --> \n",
    "\n",
    "\n",
    "Another example, the word “walk” has different forms, e.g. “walking” and “walked” indicate the time and/or progress of the walking motion. <!-- ~~Additionally, “walk” can also refer to the act of walking which is different from the walking motion, e.g. \"John went for a walk\" (act of walking) vs \"John wanted to walk to the park\" (the walking action/motion).~~ --> We refer to these root words as ***word types*** (e.g. “cat” and “walk”) and their different forms as ***word tokens*** (e.g. “cats”, “walk”, “walking”, “walked”, “walks”). \n",
    "\n",
    "Linguists further distinguish words between their lemmas or word families. A lemma refers to the canonical root word used as a dictionary entry. A word family refers to a group of lemmas which are derived from a single root word. Even though \"walkable\" would be a separate entry in a dictionary from \"walk\", \"walkable\" can be grouped under the word family of \"walk\" together with \"walking, walked, walks\".\n",
    "\n",
    "The distinction is subtle yet linguists go into great length to argue for what counts as a type, token, lemmas or word family. "
   ]
  },
  {
   "cell_type": "markdown",
   "metadata": {
    "_cell_guid": "9b00681d-5757-4547-828f-5767bfe701bd",
    "_uuid": "3f40b6cb3f60bc2bbfeebd27de0802d0bf7849cf"
   },
   "source": [
    "# From Strings to Vectors\n",
    "\n",
    "**Vector** is an array of numbers\n",
    "\n",
    "**Vector Space Model** is conceptualizing language as a whole lot of numbers\n",
    "\n",
    "**Bag-of-Words (BoW)**: Counting each document/sentence as a vector of numbers, with each number representing the count of a word in the corpus\n",
    "\n",
    "To count, we can use the Python `collections.Counter`"
   ]
  },
  {
   "cell_type": "code",
   "execution_count": 36,
   "metadata": {
    "_cell_guid": "37963ad4-b911-4bfc-b723-f6b7927a1eeb",
    "_uuid": "e5527ef7e753e6b3981c9909b50fcf39a428a85c"
   },
   "outputs": [],
   "source": [
    "from collections import Counter\n",
    "\n",
    "sent1 = \"The quick brown fox jumps over the lazy brown dog.\"\n",
    "sent2 = \"Mr brown jumps over the lazy fox.\"\n",
    "\n",
    "# Lemmatize and remove stopwords\n",
    "processed_sent1 = preprocess_text(sent1)\n",
    "processed_sent2 = preprocess_text(sent2)"
   ]
  },
  {
   "cell_type": "code",
   "execution_count": 37,
   "metadata": {
    "_cell_guid": "882d59c1-e3bf-4e72-84e2-858490ec66b7",
    "_uuid": "cfb48c07796e6b3fbe20378dcef1f11e4880b1f9"
   },
   "outputs": [
    {
     "name": "stdout",
     "output_type": "stream",
     "text": [
      "Processed sentence:\n",
      "['quick', 'brown', 'fox', 'jump', 'lazy', 'brown', 'dog']\n",
      "\n",
      "Word counts:\n",
      "Counter({'brown': 2, 'quick': 1, 'fox': 1, 'jump': 1, 'lazy': 1, 'dog': 1})\n"
     ]
    }
   ],
   "source": [
    "print('Processed sentence:')\n",
    "print(processed_sent1)\n",
    "print()\n",
    "print('Word counts:')\n",
    "print(Counter(processed_sent1))"
   ]
  },
  {
   "cell_type": "code",
   "execution_count": 38,
   "metadata": {
    "_cell_guid": "75e94392-cf5c-40f5-bcd7-349e4861fab7",
    "_uuid": "4e9bd5f5852015cf8f004d1f7a01274b76cb033d"
   },
   "outputs": [
    {
     "name": "stdout",
     "output_type": "stream",
     "text": [
      "Processed sentence:\n",
      "['mr', 'brown', 'jump', 'lazy', 'fox']\n",
      "\n",
      "Word counts:\n",
      "Counter({'mr': 1, 'brown': 1, 'jump': 1, 'lazy': 1, 'fox': 1})\n"
     ]
    }
   ],
   "source": [
    "print('Processed sentence:')\n",
    "print(processed_sent2)\n",
    "print()\n",
    "print('Word counts:')\n",
    "print(Counter(processed_sent2))"
   ]
  },
  {
   "cell_type": "markdown",
   "metadata": {
    "_cell_guid": "e51b4c01-2712-4ec9-852b-133716681b53",
    "_uuid": "25205be78a242dcb9b8bd653cd98244ce73ba69b"
   },
   "source": [
    "# Vectorization\n",
    "\n",
    "Let's put the words and counts into a nice table:\n",
    "\n",
    "| Sentences | brown | quick | fox | jump | lazy | dog | mr |\n",
    "| ---- | ----- | ----- | ----- | ----- | ----- | ----- | ----- |\n",
    "| Sent1 | 2 | 1 | 1 | 1 | 1 | 1 | 0 |\n",
    "| Sent2 | 1 | 0 | 1 | 1 | 1 | 0 | 1 |\n",
    "\n",
    "\n",
    "If we fix the positions of the vocabulary i.e. \n",
    "\n",
    "```\n",
    "[brown, quick, fox, jump, lazy, dog, mr]\n",
    "```\n",
    "\n",
    "and we do the counts for each word in each sentence, we get the sentence vectors (i.e. list of numbers to represent each sentence):\n",
    "\n",
    "```\n",
    "sent1 = [2,1,1,1,1,1,0]\n",
    "sent2 = [1,0,1,1,1,0,1]\n",
    "```"
   ]
  },
  {
   "cell_type": "markdown",
   "metadata": {
    "_cell_guid": "64860ccd-4cf4-46dd-89d2-3929d9b7d539",
    "_uuid": "5c268c3e117c595b2835cdfd7c5abe604f35e0fa"
   },
   "source": [
    "# Vectorization with sklearn \n",
    "\n",
    "In `scikit-learn`, there're pre-built functions to do the preprocessing and vectorization that we've been doing using the `CountVectorizer` object. \n",
    "\n",
    "It will be the object that contains the vocabulary (i.e. the first row of our table above) and has the function to convert any sentence into the counts vectors we see as above.\n",
    "\n",
    "The input that `CountVectorizer` expect is a text file, so we've to do some hacking to let it accept the string outputs.\n",
    "\n",
    "We can \"fake it to make it\" using `io.StringIO` where we can convert any string to work like a file, e.g. "
   ]
  },
  {
   "cell_type": "code",
   "execution_count": 39,
   "metadata": {
    "_cell_guid": "5f92d415-5016-4405-b797-d98df2393a89",
    "_uuid": "3834e62e0c3879b37f94e1924e80534a5899fbfd"
   },
   "outputs": [],
   "source": [
    "from io import StringIO\n",
    "from sklearn.feature_extraction.text import CountVectorizer\n",
    "\n",
    "sent1 = \"The quick brown fox jumps over the lazy brown dog.\"\n",
    "sent2 = \"Mr brown jumps over the lazy fox.\"\n",
    "\n",
    "with StringIO('\\n'.join([sent1, sent2])) as fin:\n",
    "    # Create the vectorizer\n",
    "    count_vect = CountVectorizer()\n",
    "    count_vect.fit_transform(fin)"
   ]
  },
  {
   "cell_type": "code",
   "execution_count": 40,
   "metadata": {
    "_cell_guid": "a8a7db77-9578-4f58-8c09-8cde03f6a865",
    "_uuid": "36407729e4ed2636089293545a5f2d030a4d60e8"
   },
   "outputs": [
    {
     "data": {
      "text/plain": [
       "{'the': 8,\n",
       " 'quick': 7,\n",
       " 'brown': 0,\n",
       " 'fox': 2,\n",
       " 'jumps': 3,\n",
       " 'over': 6,\n",
       " 'lazy': 4,\n",
       " 'dog': 1,\n",
       " 'mr': 5}"
      ]
     },
     "execution_count": 40,
     "metadata": {},
     "output_type": "execute_result"
    }
   ],
   "source": [
    "# We can check the vocabulary in our vectorizer\n",
    "# It's a dictionary where the words are the keys and \n",
    "# The values are the IDs given to each word. \n",
    "count_vect.vocabulary_"
   ]
  },
  {
   "cell_type": "markdown",
   "metadata": {
    "_cell_guid": "13d2b03b-6ab9-4da4-b20e-38c3cce08243",
    "_uuid": "e2d864d079623c6d92e2694dad75bd8edf810d48"
   },
   "source": [
    "**Note:** We haven't counted anything yet just initializing our vectorizer object with the vocabulary. "
   ]
  },
  {
   "cell_type": "markdown",
   "metadata": {
    "_cell_guid": "2249db3e-0b22-4f63-be8e-b19c951a4ea2",
    "_uuid": "07b29c69132ed41c5da7f869f098694374b42cda"
   },
   "source": [
    "# ちょっと待ってください ... (Wait a minute)\n",
    "\n",
    "I didn't tell the vectorizer to remove punctuation and tokenize and lowercase, how did they do it?\n",
    "\n",
    "Also, `the` is in the vocabulary, it's a stopword, we want it gone... <br>\n",
    "And `jumps` isn't stemmed or lemmatized!"
   ]
  },
  {
   "cell_type": "markdown",
   "metadata": {
    "_cell_guid": "035f1601-9e72-4d85-929e-44d8447d7253",
    "_uuid": "e6393e0f95e0b0dbd92f64f22883331f9eaac919"
   },
   "source": [
    "If we look at the documentation of the [`CountVectorizer`](http://scikit-learn.org/stable/modules/generated/sklearn.feature_extraction.text.CountVectorizer.html) in `sklearn`, we see:\n",
    "\n",
    "\n",
    "```python\n",
    "CountVectorizer(\n",
    "    input=’content’, encoding=’utf-8’, \n",
    "    decode_error=’strict’, strip_accents=None, \n",
    "    lowercase=True, preprocessor=None, \n",
    "    tokenizer=None, stop_words=None, \n",
    "    token_pattern=’(?u)\\b\\w\\w+\\b’, ngram_range=(1, 1), \n",
    "    analyzer=’word’, max_df=1.0, min_df=1, \n",
    "    max_features=None, vocabulary=None, \n",
    "    binary=False, dtype=<class ‘numpy.int64’>)[source]\n",
    "```\n",
    "\n",
    "And more specifically:\n",
    "\n",
    "> **analyzer** : string, {‘word’, ‘char’, ‘char_wb’} or callable\n",
    "> \n",
    "> Whether the feature should be made of word or character n-grams. Option ‘char_wb’ creates character n-grams only from text inside word boundaries; n-grams at the edges of words are padded with space.\n",
    "> If a callable is passed it is used to extract the sequence of features out of the raw, unprocessed input.\n",
    "\n",
    " \n",
    "> **preprocessor** : callable or None (default)\n",
    "> \n",
    "> Override the preprocessing (string transformation) stage while preserving the tokenizing and n-grams generation steps.\n",
    "\n",
    "> **tokenizer** : callable or None (default)\n",
    "> \n",
    "> Override the string tokenization step while preserving the preprocessing and n-grams generation steps. Only applies if analyzer == 'word'.\n",
    "\n",
    "> **stop_words** : string {‘english’}, list, or None (default)\n",
    "> \n",
    "> If ‘english’, a built-in stop word list for English is used.\n",
    "> If a list, that list is assumed to contain stop words, all of which will be removed from the resulting tokens. Only applies if analyzer == 'word'.\n",
    "If None, no stop words will be used. \n",
    "\n",
    "> **lowercase** : boolean, True by default\n",
    "> \n",
    "> Convert all characters to lowercase before tokenizing."
   ]
  },
  {
   "cell_type": "markdown",
   "metadata": {
    "_cell_guid": "9eb50e4d-4d52-47a4-9607-fd33fe3775d1",
    "_uuid": "11d7d8b6406c5d56259d72c48f97747e119885b7"
   },
   "source": [
    "# Achso, we can override these arguments with the functions we have learnt before."
   ]
  },
  {
   "cell_type": "markdown",
   "metadata": {
    "_cell_guid": "e9c00de2-ab64-4a35-a790-485a64b43dd3",
    "_uuid": "4875ebac4a09758236313d7ffa17fb015faac926"
   },
   "source": [
    "We can **override the tokenizer and stop_words**:"
   ]
  },
  {
   "cell_type": "code",
   "execution_count": 41,
   "metadata": {
    "_cell_guid": "25630055-8410-46fe-b08c-5fc7202bf1ab",
    "_uuid": "f91435b9a2d476d45d9146ceb204f64e586133c1"
   },
   "outputs": [
    {
     "name": "stderr",
     "output_type": "stream",
     "text": [
      "C:\\Users\\jdouet\\AppData\\Local\\Continuum\\anaconda3\\lib\\site-packages\\sklearn\\feature_extraction\\text.py:300: UserWarning: Your stop_words may be inconsistent with your preprocessing. Tokenizing the stop words generated tokens [\"'d\", \"'ll\", \"'m\", \"'re\", \"'s\", \"'ve\", '``', 'ai', 'ca', \"n't\", 'sha', 'wo'] not in stop_words.\n",
      "  'stop_words.' % sorted(inconsistent))\n"
     ]
    },
    {
     "data": {
      "text/plain": [
       "{'quick': 6, 'brown': 0, 'fox': 2, 'jumps': 3, 'lazy': 4, 'dog': 1, 'mr': 5}"
      ]
     },
     "execution_count": 41,
     "metadata": {},
     "output_type": "execute_result"
    }
   ],
   "source": [
    "from io import StringIO\n",
    "from sklearn.feature_extraction.text import CountVectorizer\n",
    "\n",
    "sent1 = \"The quick brown fox jumps over the lazy brown dog.\"\n",
    "sent2 = \"Mr brown jumps over the lazy fox.\"\n",
    "\n",
    "with StringIO('\\n'.join([sent1, sent2])) as fin:\n",
    "    # Override the analyzer totally with our preprocess text\n",
    "    count_vect = CountVectorizer(stop_words=stoplist_combined,\n",
    "                                 tokenizer=word_tokenize)\n",
    "    count_vect.fit_transform(fin)\n",
    "count_vect.vocabulary_"
   ]
  },
  {
   "cell_type": "markdown",
   "metadata": {
    "_cell_guid": "5f29251e-1074-4c04-a50c-d56d4ca3a97e",
    "_uuid": "e23d630dd87abeae6ed1b37d64c2fe5223da7088"
   },
   "source": [
    "Or just **override the analyzer** totally with our preprocess text:"
   ]
  },
  {
   "cell_type": "code",
   "execution_count": 42,
   "metadata": {
    "_cell_guid": "40813b12-f701-4bca-a2e3-c16b928dd32e",
    "_uuid": "fd10c8df7c870641807211b97140900e570c46af"
   },
   "outputs": [
    {
     "data": {
      "text/plain": [
       "{'quick': 6, 'brown': 0, 'fox': 2, 'jump': 3, 'lazy': 4, 'dog': 1, 'mr': 5}"
      ]
     },
     "execution_count": 42,
     "metadata": {},
     "output_type": "execute_result"
    }
   ],
   "source": [
    "from io import StringIO\n",
    "from sklearn.feature_extraction.text import CountVectorizer\n",
    "\n",
    "sent1 = \"The quick brown fox jumps over the lazy brown dog.\"\n",
    "sent2 = \"Mr brown jumps over the lazy fox.\"\n",
    "\n",
    "with StringIO('\\n'.join([sent1, sent2])) as fin:\n",
    "    # Override the analyzer totally with our preprocess text\n",
    "    count_vect = CountVectorizer(analyzer=preprocess_text)\n",
    "    count_vect.fit_transform(fin)\n",
    "count_vect.vocabulary_ "
   ]
  },
  {
   "cell_type": "markdown",
   "metadata": {
    "_cell_guid": "ab69e27d-1d13-47f0-a547-9e234292d166",
    "_uuid": "4024585e83698a0c454b6ff332de4a32d8bfeb8b"
   },
   "source": [
    "# To vectorize any new sentences, we use  `CountVectorizer.transform()` \n",
    "\n",
    "The function  will return a sparse matrix."
   ]
  },
  {
   "cell_type": "code",
   "execution_count": 43,
   "metadata": {
    "_cell_guid": "92d41c12-7f75-406e-80ec-66a2977a79a8",
    "_uuid": "e18dbaa0882825ffc4b1b746de13eb4d8381984d"
   },
   "outputs": [
    {
     "data": {
      "text/plain": [
       "<2x7 sparse matrix of type '<class 'numpy.int64'>'\n",
       "\twith 11 stored elements in Compressed Sparse Row format>"
      ]
     },
     "execution_count": 43,
     "metadata": {},
     "output_type": "execute_result"
    }
   ],
   "source": [
    "count_vect.transform([sent1, sent2])"
   ]
  },
  {
   "cell_type": "markdown",
   "metadata": {
    "_cell_guid": "81e138ab-0b0f-4c67-abe9-b34c15cb7e8d",
    "_uuid": "8815c6acca7b396407004eaf858a957576c06673"
   },
   "source": [
    "# To view the matrix, you can output it to an array"
   ]
  },
  {
   "cell_type": "code",
   "execution_count": 44,
   "metadata": {
    "_cell_guid": "4e4029f4-1440-4ebd-b239-c365e735e21d",
    "_uuid": "ec34de51827ed00a2cdb39c000a03bb85e582713"
   },
   "outputs": [
    {
     "name": "stdout",
     "output_type": "stream",
     "text": [
      "['quick', 'brown', 'fox', 'jump', 'lazy', 'brown', 'dog']\n",
      "['mr', 'brown', 'jump', 'lazy', 'fox']\n",
      "\n",
      "Vocab: ('brown', 'dog', 'fox', 'jump', 'lazy', 'mr', 'quick')\n",
      "\n",
      "Matrix/Vectors:\n",
      " [[2 1 1 1 1 0 1]\n",
      " [1 0 1 1 1 1 0]]\n"
     ]
    }
   ],
   "source": [
    "from operator import itemgetter\n",
    "\n",
    "# Print the words sorted by their index\n",
    "words_sorted_by_index, _ = zip(*sorted(count_vect.vocabulary_.items(), key=itemgetter(1)))\n",
    "\n",
    "print(preprocess_text(sent1))\n",
    "print(preprocess_text(sent2))\n",
    "print()\n",
    "print('Vocab:', words_sorted_by_index)\n",
    "print()\n",
    "print('Matrix/Vectors:\\n', count_vect.transform([sent1, sent2]).toarray())"
   ]
  },
  {
   "cell_type": "markdown",
   "metadata": {
    "_cell_guid": "c520f436-9d65-4950-a7aa-91eaf9382d12",
    "_uuid": "0c271bfc242864673a862c0fc4e587ad57654528"
   },
   "source": [
    "Naive Bayes \n",
    "====\n",
    "\n",
    "\n",
    "\n",
    "\n",
    "Classification\n",
    "====\n",
    "\n",
    "Classification simply means putting our data points into bins/box. You can also think of it as assigning label to our data points, e.g. given box of fruits, sort them in apples, oranges and others. \n",
    "\n",
    "Okay, the explanation could be more complex than that but `import this` says:\n",
    "\n",
    "> **Simple is better than complex.**"
   ]
  },
  {
   "cell_type": "markdown",
   "metadata": {
    "_cell_guid": "1fd3db77-b764-4f26-914f-ec0ac4e4d0c9",
    "_uuid": "5d163c46b118b580f07eeebad0a16eaf5edbb20d"
   },
   "source": [
    "# Now that we learnt some basic NLP and vectorization, lets apply it to a fun task."
   ]
  },
  {
   "cell_type": "markdown",
   "metadata": {
    "_cell_guid": "0a6d1a71-4171-4384-a0b8-5cae9efbea33",
    "_uuid": "26ce98337b4e3c9f54278412e578117bfd92d625"
   },
   "source": [
    "[Random Acts of Pizza](https://www.kaggle.com/c/random-acts-of-pizza)\n",
    "=====\n",
    "\n",
    "In machine learning, it is often said there are [no free lunches](). How wrong we were.\n",
    "\n",
    "This competition contains a dataset with 5671 textual requests for pizza from the Reddit community Random Acts of Pizza together with their outcome (successful/unsuccessful) and meta-data. \n",
    "\n",
    "![](https://kaggle2.blob.core.windows.net/competitions/kaggle/3949/media/pizzas.png)\n",
    "\n",
    "The task is to create an algorithm capable of predicting which requests will garner a cheesy (but sincere!) act of kindness.\n"
   ]
  },
  {
   "cell_type": "markdown",
   "metadata": {
    "_cell_guid": "4c85876b-1b19-4c50-8330-a2c9dbd91f32",
    "_uuid": "3cae972238580fe9c4fb6a184b3661b232f77458"
   },
   "source": [
    "# Lets take a look at the training data"
   ]
  },
  {
   "cell_type": "code",
   "execution_count": 45,
   "metadata": {
    "_cell_guid": "211f0cf5-8be5-482e-bc3c-d57fd089689c",
    "_uuid": "efab58829e4f5082cd9ac154953f73c1f5033763"
   },
   "outputs": [],
   "source": [
    "import json\n",
    "\n",
    "with open('../input/random-acts-of-pizza/train.json') as fin:\n",
    "    trainjson = json.load(fin)"
   ]
  },
  {
   "cell_type": "code",
   "execution_count": 46,
   "metadata": {
    "_cell_guid": "0bb18893-12ed-4178-89cc-06c4f01d7107",
    "_uuid": "f363473d1aaaedd58eae40f7c970d1eedf6c7fa4"
   },
   "outputs": [
    {
     "data": {
      "text/plain": [
       "{'giver_username_if_known': 'N/A',\n",
       " 'number_of_downvotes_of_request_at_retrieval': 0,\n",
       " 'number_of_upvotes_of_request_at_retrieval': 1,\n",
       " 'post_was_edited': False,\n",
       " 'request_id': 't3_l25d7',\n",
       " 'request_number_of_comments_at_retrieval': 0,\n",
       " 'request_text': 'Hi I am in need of food for my 4 children we are a military family that has really hit hard times and we have exahusted all means of help just to be able to feed my family and make it through another night is all i ask i know our blessing is coming so whatever u can find in your heart to give is greatly appreciated',\n",
       " 'request_text_edit_aware': 'Hi I am in need of food for my 4 children we are a military family that has really hit hard times and we have exahusted all means of help just to be able to feed my family and make it through another night is all i ask i know our blessing is coming so whatever u can find in your heart to give is greatly appreciated',\n",
       " 'request_title': 'Request Colorado Springs Help Us Please',\n",
       " 'requester_account_age_in_days_at_request': 0.0,\n",
       " 'requester_account_age_in_days_at_retrieval': 792.4204050925925,\n",
       " 'requester_days_since_first_post_on_raop_at_request': 0.0,\n",
       " 'requester_days_since_first_post_on_raop_at_retrieval': 792.4204050925925,\n",
       " 'requester_number_of_comments_at_request': 0,\n",
       " 'requester_number_of_comments_at_retrieval': 0,\n",
       " 'requester_number_of_comments_in_raop_at_request': 0,\n",
       " 'requester_number_of_comments_in_raop_at_retrieval': 0,\n",
       " 'requester_number_of_posts_at_request': 0,\n",
       " 'requester_number_of_posts_at_retrieval': 1,\n",
       " 'requester_number_of_posts_on_raop_at_request': 0,\n",
       " 'requester_number_of_posts_on_raop_at_retrieval': 1,\n",
       " 'requester_number_of_subreddits_at_request': 0,\n",
       " 'requester_received_pizza': False,\n",
       " 'requester_subreddits_at_request': [],\n",
       " 'requester_upvotes_minus_downvotes_at_request': 0,\n",
       " 'requester_upvotes_minus_downvotes_at_retrieval': 1,\n",
       " 'requester_upvotes_plus_downvotes_at_request': 0,\n",
       " 'requester_upvotes_plus_downvotes_at_retrieval': 1,\n",
       " 'requester_user_flair': None,\n",
       " 'requester_username': 'nickylvst',\n",
       " 'unix_timestamp_of_request': 1317852607.0,\n",
       " 'unix_timestamp_of_request_utc': 1317849007.0}"
      ]
     },
     "execution_count": 46,
     "metadata": {},
     "output_type": "execute_result"
    }
   ],
   "source": [
    "trainjson[0]"
   ]
  },
  {
   "cell_type": "markdown",
   "metadata": {
    "_cell_guid": "24d5a591-79a6-4740-8b58-c76fef459355",
    "_uuid": "d231a3cdad2807893f44de861892093d02cb07a7"
   },
   "source": [
    "We're only interested in the text fields:\n",
    "\n",
    "**Input**:\n",
    " - `request_id`: unique identifier for the request \n",
    " - `request_title`: title of the reddit post for pizza request\n",
    " - `request_text_edit_aware`: expository to request for pizza\n",
    " \n",
    "**Output**:\n",
    " - `requester_recieved_pizza`: whether requester gets his/her pizza\n",
    " \n",
    "For our purpose, lets only use the `request_text` as the input to build our Naive Bayes classifier and the output is the `requester_recieved_pizza` field.\n",
    "\n",
    "**Note:** The `request_id` is only used for mapping purpose when we're submitting the results to the Kaggle task."
   ]
  },
  {
   "cell_type": "code",
   "execution_count": 47,
   "metadata": {
    "_cell_guid": "38df138d-858e-4983-be85-37f864b8b7aa",
    "_uuid": "9755249c3af76081f4203b75f2fbe05e860db4f6"
   },
   "outputs": [
    {
     "name": "stdout",
     "output_type": "stream",
     "text": [
      "UID:\t t3_l25d7 \n",
      "\n",
      "Title:\t Request Colorado Springs Help Us Please \n",
      "\n",
      "Text:\t Hi I am in need of food for my 4 children we are a military family that has really hit hard times and we have exahusted all means of help just to be able to feed my family and make it through another night is all i ask i know our blessing is coming so whatever u can find in your heart to give is greatly appreciated \n",
      "\n",
      "Tag:\t False\n"
     ]
    }
   ],
   "source": [
    "print('UID:\\t', trainjson[0]['request_id'], '\\n')\n",
    "print('Title:\\t', trainjson[0]['request_title'], '\\n')\n",
    "print('Text:\\t', trainjson[0]['request_text_edit_aware'], '\\n')\n",
    "print('Tag:\\t', trainjson[0]['requester_received_pizza'], end='\\n')"
   ]
  },
  {
   "cell_type": "markdown",
   "metadata": {
    "_cell_guid": "2d3b4d73-784e-4aef-a1c2-d70a0592495e",
    "_uuid": "bf75dd208d746cb254d08576477c25c2472d8cae"
   },
   "source": [
    "# Here's a neat trick to convert json to pandas DataFrame"
   ]
  },
  {
   "cell_type": "code",
   "execution_count": 48,
   "metadata": {
    "_cell_guid": "afae23a2-d175-4fd8-b63e-71a34284e500",
    "_uuid": "a4d14ae8096e83aea7ec4fe276799632f4a244a5"
   },
   "outputs": [
    {
     "data": {
      "text/html": [
       "<div>\n",
       "<style scoped>\n",
       "    .dataframe tbody tr th:only-of-type {\n",
       "        vertical-align: middle;\n",
       "    }\n",
       "\n",
       "    .dataframe tbody tr th {\n",
       "        vertical-align: top;\n",
       "    }\n",
       "\n",
       "    .dataframe thead th {\n",
       "        text-align: right;\n",
       "    }\n",
       "</style>\n",
       "<table border=\"1\" class=\"dataframe\">\n",
       "  <thead>\n",
       "    <tr style=\"text-align: right;\">\n",
       "      <th></th>\n",
       "      <th>request_id</th>\n",
       "      <th>request_title</th>\n",
       "      <th>request_text_edit_aware</th>\n",
       "      <th>requester_received_pizza</th>\n",
       "    </tr>\n",
       "  </thead>\n",
       "  <tbody>\n",
       "    <tr>\n",
       "      <th>0</th>\n",
       "      <td>t3_l25d7</td>\n",
       "      <td>Request Colorado Springs Help Us Please</td>\n",
       "      <td>Hi I am in need of food for my 4 children we a...</td>\n",
       "      <td>False</td>\n",
       "    </tr>\n",
       "    <tr>\n",
       "      <th>1</th>\n",
       "      <td>t3_rcb83</td>\n",
       "      <td>[Request] California, No cash and I could use ...</td>\n",
       "      <td>I spent the last money I had on gas today. Im ...</td>\n",
       "      <td>False</td>\n",
       "    </tr>\n",
       "    <tr>\n",
       "      <th>2</th>\n",
       "      <td>t3_lpu5j</td>\n",
       "      <td>[Request] Hungry couple in Dundee, Scotland wo...</td>\n",
       "      <td>My girlfriend decided it would be a good idea ...</td>\n",
       "      <td>False</td>\n",
       "    </tr>\n",
       "    <tr>\n",
       "      <th>3</th>\n",
       "      <td>t3_mxvj3</td>\n",
       "      <td>[Request] In Canada (Ontario), just got home f...</td>\n",
       "      <td>It's cold, I'n hungry, and to be completely ho...</td>\n",
       "      <td>False</td>\n",
       "    </tr>\n",
       "    <tr>\n",
       "      <th>4</th>\n",
       "      <td>t3_1i6486</td>\n",
       "      <td>[Request] Old friend coming to visit. Would LO...</td>\n",
       "      <td>hey guys:\\n I love this sub. I think it's grea...</td>\n",
       "      <td>False</td>\n",
       "    </tr>\n",
       "  </tbody>\n",
       "</table>\n",
       "</div>"
      ],
      "text/plain": [
       "  request_id                                      request_title  \\\n",
       "0   t3_l25d7            Request Colorado Springs Help Us Please   \n",
       "1   t3_rcb83  [Request] California, No cash and I could use ...   \n",
       "2   t3_lpu5j  [Request] Hungry couple in Dundee, Scotland wo...   \n",
       "3   t3_mxvj3  [Request] In Canada (Ontario), just got home f...   \n",
       "4  t3_1i6486  [Request] Old friend coming to visit. Would LO...   \n",
       "\n",
       "                             request_text_edit_aware  requester_received_pizza  \n",
       "0  Hi I am in need of food for my 4 children we a...                     False  \n",
       "1  I spent the last money I had on gas today. Im ...                     False  \n",
       "2  My girlfriend decided it would be a good idea ...                     False  \n",
       "3  It's cold, I'n hungry, and to be completely ho...                     False  \n",
       "4  hey guys:\\n I love this sub. I think it's grea...                     False  "
      ]
     },
     "execution_count": 48,
     "metadata": {},
     "output_type": "execute_result"
    }
   ],
   "source": [
    "import pandas as pd\n",
    "df = pd.io.json.json_normalize(trainjson) # Pandas magic... \n",
    "df_train = df[['request_id', 'request_title', \n",
    "               'request_text_edit_aware', \n",
    "               'requester_received_pizza']]\n",
    "df_train.head()"
   ]
  },
  {
   "cell_type": "markdown",
   "metadata": {
    "_cell_guid": "0c50ef1b-d0f5-480e-81cd-ae2922211564",
    "_uuid": "940b7bc059fb428bd08e6f1930b74f4e6a4d4823"
   },
   "source": [
    "# Lets take a look at the test data"
   ]
  },
  {
   "cell_type": "code",
   "execution_count": 49,
   "metadata": {
    "_cell_guid": "28c0923b-0ea3-456e-8311-3773a169684c",
    "_uuid": "d7edfb13cfc94358fdb89455626d7b8d68adf7d9"
   },
   "outputs": [],
   "source": [
    "import json\n",
    "\n",
    "with open('../input/random-acts-of-pizza/test.json') as fin:\n",
    "    testjson = json.load(fin)"
   ]
  },
  {
   "cell_type": "code",
   "execution_count": 50,
   "metadata": {
    "_cell_guid": "775eec1e-2d63-4dd9-8f79-e11ae53a04e5",
    "_uuid": "e3a07d7af63044bd190dbe630de39fccfca61740"
   },
   "outputs": [
    {
     "name": "stdout",
     "output_type": "stream",
     "text": [
      "UID:\t t3_i8iy4 \n",
      "\n",
      "Title:\t [request] pregger gf 95 degree house and no food.. promise to pay it forward! Northern Colorado \n",
      "\n",
      "Text:\t Hey all! It's about 95 degrees here and our kitchen is pretty much empty save for some bread and cereal.  My girlfriend/fiance is 8 1/2 months pregnant and we could use a good meal.  We promise to pay it forward when we get money! Thanks so much in advance! \n",
      "\n"
     ]
    }
   ],
   "source": [
    "print('UID:\\t', testjson[0]['request_id'], '\\n')\n",
    "print('Title:\\t', testjson[0]['request_title'], '\\n')\n",
    "print('Text:\\t', testjson[0]['request_text_edit_aware'], '\\n')"
   ]
  },
  {
   "cell_type": "markdown",
   "metadata": {
    "_cell_guid": "6cb14f9e-0c8e-40d3-aff7-e542790336eb",
    "_uuid": "df6e837ff69fbab2af2f47acffa0cb8d12f995a9"
   },
   "source": [
    "# Gotcha again! \n",
    "\n",
    "In the test data, our label (i.e. `requester_received_pizza`) **won't be known** to us since that's the thing that our classifier is predicting.\n",
    "\n",
    "**Note:** Whatever features that we're going to train our classifier with, we should have them in our test set too. In our case we need to make sure that the test set has `request_text_edit_aware` field."
   ]
  },
  {
   "cell_type": "markdown",
   "metadata": {
    "_cell_guid": "6e4c5394-7c84-47e5-b859-9a60ff97f851",
    "_uuid": "aed441bb12db2d224cbea93c835ae1d1d27e363d"
   },
   "source": [
    "# Lets put the test data into a pandas DataFrame too"
   ]
  },
  {
   "cell_type": "code",
   "execution_count": 51,
   "metadata": {
    "_cell_guid": "d098e108-b1b6-4914-971a-114280869002",
    "_uuid": "830d4b563f3fea20101083bf3cb660f405249cc1"
   },
   "outputs": [
    {
     "data": {
      "text/html": [
       "<div>\n",
       "<style scoped>\n",
       "    .dataframe tbody tr th:only-of-type {\n",
       "        vertical-align: middle;\n",
       "    }\n",
       "\n",
       "    .dataframe tbody tr th {\n",
       "        vertical-align: top;\n",
       "    }\n",
       "\n",
       "    .dataframe thead th {\n",
       "        text-align: right;\n",
       "    }\n",
       "</style>\n",
       "<table border=\"1\" class=\"dataframe\">\n",
       "  <thead>\n",
       "    <tr style=\"text-align: right;\">\n",
       "      <th></th>\n",
       "      <th>request_id</th>\n",
       "      <th>request_title</th>\n",
       "      <th>request_text_edit_aware</th>\n",
       "    </tr>\n",
       "  </thead>\n",
       "  <tbody>\n",
       "    <tr>\n",
       "      <th>0</th>\n",
       "      <td>t3_i8iy4</td>\n",
       "      <td>[request] pregger gf 95 degree house and no fo...</td>\n",
       "      <td>Hey all! It's about 95 degrees here and our ki...</td>\n",
       "    </tr>\n",
       "    <tr>\n",
       "      <th>1</th>\n",
       "      <td>t3_1mfqi0</td>\n",
       "      <td>[Request] Lost my job day after labour day, st...</td>\n",
       "      <td>I didn't know a place like this exists! \\n\\nI ...</td>\n",
       "    </tr>\n",
       "    <tr>\n",
       "      <th>2</th>\n",
       "      <td>t3_lclka</td>\n",
       "      <td>(Request) pizza for my kids please?</td>\n",
       "      <td>Hi Reddit. Im a single dad having a really rou...</td>\n",
       "    </tr>\n",
       "    <tr>\n",
       "      <th>3</th>\n",
       "      <td>t3_1jdgdj</td>\n",
       "      <td>[Request] Just moved to a new state(Waltham MA...</td>\n",
       "      <td>Hi I just moved to Waltham MA from my home sta...</td>\n",
       "    </tr>\n",
       "    <tr>\n",
       "      <th>4</th>\n",
       "      <td>t3_t2qt4</td>\n",
       "      <td>[Request] Two girls in between paychecks, we'v...</td>\n",
       "      <td>We're just sitting here near indianapolis on o...</td>\n",
       "    </tr>\n",
       "  </tbody>\n",
       "</table>\n",
       "</div>"
      ],
      "text/plain": [
       "  request_id                                      request_title  \\\n",
       "0   t3_i8iy4  [request] pregger gf 95 degree house and no fo...   \n",
       "1  t3_1mfqi0  [Request] Lost my job day after labour day, st...   \n",
       "2   t3_lclka                (Request) pizza for my kids please?   \n",
       "3  t3_1jdgdj  [Request] Just moved to a new state(Waltham MA...   \n",
       "4   t3_t2qt4  [Request] Two girls in between paychecks, we'v...   \n",
       "\n",
       "                             request_text_edit_aware  \n",
       "0  Hey all! It's about 95 degrees here and our ki...  \n",
       "1  I didn't know a place like this exists! \\n\\nI ...  \n",
       "2  Hi Reddit. Im a single dad having a really rou...  \n",
       "3  Hi I just moved to Waltham MA from my home sta...  \n",
       "4  We're just sitting here near indianapolis on o...  "
      ]
     },
     "execution_count": 51,
     "metadata": {},
     "output_type": "execute_result"
    }
   ],
   "source": [
    "import pandas as pd\n",
    "df = pd.io.json.json_normalize(testjson) # Pandas magic... \n",
    "df_test = df[['request_id', 'request_title', \n",
    "               'request_text_edit_aware']]\n",
    "df_test.head()"
   ]
  },
  {
   "cell_type": "markdown",
   "metadata": {
    "_cell_guid": "b869481f-c713-4aa6-aa0d-f2e5f4b2abfc",
    "_uuid": "a2cacb2270490a92ec9a7e920e8ca17c730c1e09"
   },
   "source": [
    "# Split training data before vectorization\n",
    "\n",
    "The first thing to do is to split our training data into 2 parts:\n",
    "\n",
    " - **training**: Use for training our model\n",
    " - **validation**: Use to check the \"soundness\" of our model\n",
    " \n",
    "**Note:** \n",
    "\n",
    " - Splitting the data into 2 parts and holding out one part to check the model is one of method to validate the \"soundness\" of our model. It's call the **hold-out** validation. \n",
    "\n",
    " - Another popular validation method is **cross-validation**, it's out of scope here but you can take a look at `crossvalidation` in `scikit-learn`. \n",
    " "
   ]
  },
  {
   "cell_type": "code",
   "execution_count": 52,
   "metadata": {
    "_cell_guid": "0b61f317-079b-4253-b94a-a87b71bd47fb",
    "_uuid": "ac1e8766dcf5d7d81fe4fd3a95e7bc659fbf1978"
   },
   "outputs": [],
   "source": [
    "from sklearn.feature_extraction.text import CountVectorizer\n",
    "from sklearn.model_selection import train_test_split \n",
    "\n",
    "# It doesn't really matter what the function name is called\n",
    "# but the `train_test_split` is splitting up the data into \n",
    "# 2 parts according to the `test_size` argument you've set.\n",
    "\n",
    "# When we're splitting up the training data, we're spltting up \n",
    "# into train, valid split. The function name is just a name =)\n",
    "train, valid = train_test_split(df_train, test_size=0.2)"
   ]
  },
  {
   "cell_type": "markdown",
   "metadata": {
    "_cell_guid": "8677912b-d9e2-4fd8-b722-acb3320af4fc",
    "_uuid": "f97576104bbabfc720fa0794ab6a8fc4e043f109"
   },
   "source": [
    "# Vectorize the train and validation set"
   ]
  },
  {
   "cell_type": "code",
   "execution_count": 53,
   "metadata": {
    "_cell_guid": "02efe9a8-00e4-41fa-9b6a-5fbebe751feb",
    "_uuid": "4549079bfedbbff679ccde5f083b3c6814e73233"
   },
   "outputs": [],
   "source": [
    "# Initialize the vectorizer and \n",
    "# override the analyzer totally with the preprocess_text().\n",
    "# Note: the vectorizer is just an 'empty' object now.\n",
    "count_vect = CountVectorizer(analyzer=preprocess_text)\n",
    "\n",
    "# When we use `CounterVectorizer.fit_transform`,\n",
    "# we essentially create the dictionary and \n",
    "# vectorize our input text at the same time.\n",
    "train_set = count_vect.fit_transform(train['request_text_edit_aware'])\n",
    "train_tags = train['requester_received_pizza']\n",
    "\n",
    "# When vectorizing the validation data, we use `CountVectorizer.transform()`.\n",
    "valid_set = count_vect.transform(valid['request_text_edit_aware'])\n",
    "valid_tags = valid['requester_received_pizza']"
   ]
  },
  {
   "cell_type": "markdown",
   "metadata": {
    "_cell_guid": "85863807-de62-471c-a5f9-7ada4e54e0bf",
    "_uuid": "eb879f0ea99c654625d7e4526de4c1f5602619ac"
   },
   "source": [
    "# Now, we need to vectorize the test data too\n",
    "\n",
    "After we vectorize our data, the input to train the classifier would be the vectorized text. \n",
    "<br>When we predict the label with the trained model, our input needs to be vectorized too.\n"
   ]
  },
  {
   "cell_type": "code",
   "execution_count": 54,
   "metadata": {
    "_cell_guid": "766b1529-5967-45e9-9736-1fb69bdc6460",
    "_uuid": "502788a6150bc9c7256b097a4d5c04b4822ac3eb"
   },
   "outputs": [],
   "source": [
    "# When vectorizing the test data, we use `CountVectorizer.transform()`.\n",
    "test_set = count_vect.transform(df_test['request_text_edit_aware'])"
   ]
  },
  {
   "cell_type": "markdown",
   "metadata": {
    "_cell_guid": "9d7ae411-ae2c-4098-beb2-ac6c2dc267a9",
    "_uuid": "3aaf138395ccdfe7a29d89d1b58da9db96ae8b36"
   },
   "source": [
    "# Naive Bayes classifier in sklearn\n",
    "\n",
    "There are different variants of Naive Bayes (NB) classifier in `sklearn`. <br>\n",
    "For simplicity, lets just use the `MultinomialNB`.\n",
    "\n",
    "**Multinomial** is a big word but it just means many classes/categories/bins/boxes that needs to be classified. "
   ]
  },
  {
   "cell_type": "code",
   "execution_count": 55,
   "metadata": {
    "_cell_guid": "8a159538-c58a-485d-bc23-d7115ee55a77",
    "_uuid": "44cee633360c7989a3d67716553ef4e2bc9eae87"
   },
   "outputs": [
    {
     "data": {
      "text/plain": [
       "MultinomialNB(alpha=1.0, class_prior=None, fit_prior=True)"
      ]
     },
     "execution_count": 55,
     "metadata": {},
     "output_type": "execute_result"
    }
   ],
   "source": [
    "from sklearn.naive_bayes import MultinomialNB\n",
    "clf = MultinomialNB() \n",
    "\n",
    "# To train the classifier, simple do \n",
    "clf.fit(train_set, train_tags) "
   ]
  },
  {
   "cell_type": "markdown",
   "metadata": {
    "_cell_guid": "8c2776b5-6515-4321-a7e7-f925534241d6",
    "_uuid": "fbec702a6003287ea5d49049be532ee96b6d7a14"
   },
   "source": [
    "# Before we test our classifier on the test set, we get a sense of how good it is on the validation set."
   ]
  },
  {
   "cell_type": "code",
   "execution_count": 56,
   "metadata": {
    "_cell_guid": "a0bba339-cd62-46e9-9106-55ef15000dc5",
    "_uuid": "b5f7b1ac26a30b568d3f5dec2a3f76c34a316ee5"
   },
   "outputs": [
    {
     "name": "stdout",
     "output_type": "stream",
     "text": [
      "Pizza reception accuracy = 74.62871287128714\n"
     ]
    }
   ],
   "source": [
    "from sklearn.metrics import accuracy_score\n",
    "\n",
    "# To predict our tags (i.e. whether requesters get their pizza), \n",
    "# we feed the vectorized `test_set` to .predict()\n",
    "predictions_valid = clf.predict(valid_set)\n",
    "\n",
    "print('Pizza reception accuracy = {}'.format(\n",
    "        accuracy_score(predictions_valid, valid_tags) * 100)\n",
    "     )"
   ]
  },
  {
   "cell_type": "markdown",
   "metadata": {
    "_cell_guid": "24fed6a6-9b91-4192-92e1-1c6ac3264dab",
    "_uuid": "293f22791ce16ad0071afa625f7b6efa0601da7d"
   },
   "source": [
    "# Now lets use the full training data set and re-vectorize and retrain the classifier\n",
    "\n",
    "More data == better model (in most cases)"
   ]
  },
  {
   "cell_type": "code",
   "execution_count": 57,
   "metadata": {
    "_cell_guid": "f738aa5b-8e1b-4885-8f3e-6d279f23d082",
    "_uuid": "4a0c2bbe6b98000d71e1b2f9cd00bb01b156522e"
   },
   "outputs": [
    {
     "data": {
      "text/plain": [
       "MultinomialNB(alpha=1.0, class_prior=None, fit_prior=True)"
      ]
     },
     "execution_count": 57,
     "metadata": {},
     "output_type": "execute_result"
    }
   ],
   "source": [
    "count_vect = CountVectorizer(analyzer=preprocess_text)\n",
    "\n",
    "full_train_set = count_vect.fit_transform(df_train['request_text_edit_aware'])\n",
    "full_tags = df_train['requester_received_pizza']\n",
    "\n",
    "# Note: We have to re-vectorize the test set since\n",
    "#       now our vectorizer is different using the full \n",
    "#       training set.\n",
    "test_set = count_vect.transform(df_test['request_text_edit_aware'])\n",
    "\n",
    "# To train the classifier\n",
    "clf = MultinomialNB() \n",
    "clf.fit(full_train_set, full_tags) "
   ]
  },
  {
   "cell_type": "markdown",
   "metadata": {
    "_cell_guid": "6013d400-4a01-438a-9afe-b540b6ec78b9",
    "_uuid": "dbf9eb2a3dde29a26ae51df05f120ee26334d0c3"
   },
   "source": [
    "# Finally, we use the classifier to predict on the test set"
   ]
  },
  {
   "cell_type": "code",
   "execution_count": 58,
   "metadata": {
    "_cell_guid": "2fe3ff2b-5157-43b2-ad8d-55389ad28a0e",
    "_uuid": "450827a713f7eaaa2d3c3504b038a513c27b3b20"
   },
   "outputs": [],
   "source": [
    "# To predict our tags (i.e. whether requesters get their pizza), \n",
    "# we feed the vectorized `test_set` to .predict()\n",
    "predictions = clf.predict(test_set)"
   ]
  },
  {
   "cell_type": "markdown",
   "metadata": {
    "_cell_guid": "ef6b8e68-46be-4944-b809-872ddeabf386",
    "_uuid": "51a804beaf030dbb8cbdfc320d6a26d86991d274"
   },
   "source": [
    "**Note:** Since we don't have the `requester_received_pizza` field in test data, we can't measure accuracy. But we can do some exploration as shown below."
   ]
  },
  {
   "cell_type": "markdown",
   "metadata": {
    "_cell_guid": "1ac9a825-8ffa-4ebd-a223-73521a27bc10",
    "_uuid": "e948c2b162d178cd674689adc1ce9dcdb426cbb5"
   },
   "source": [
    "# From the training data, we had 24% pizza giving rate"
   ]
  },
  {
   "cell_type": "code",
   "execution_count": 59,
   "metadata": {
    "_cell_guid": "80300555-265f-4557-8b52-17c343a34c58",
    "_uuid": "4ad28c27f351de96d40b68aed92217b17f71c542"
   },
   "outputs": [
    {
     "name": "stdout",
     "output_type": "stream",
     "text": [
      "Of 4040 requests, only 994 gets their pizzas, 24.603960396039604% success rate...\n"
     ]
    }
   ],
   "source": [
    "success_rate = sum(df_train['requester_received_pizza']) / len(df_train) * 100\n",
    "print(str('Of {} requests, only {} gets their pizzas,'\n",
    "          ' {}% success rate...'.format(len(df_train), \n",
    "                                        sum(df_train['requester_received_pizza']), \n",
    "                                       success_rate)\n",
    "         )\n",
    "     )"
   ]
  },
  {
   "cell_type": "markdown",
   "metadata": {
    "_cell_guid": "3301d9e0-544f-41d5-9c32-b2ea95b37871",
    "_uuid": "9058b0225d2f7e87486ffb5e31f710c55431a39c"
   },
   "source": [
    "# Lol, our classifier is rather stingy..."
   ]
  },
  {
   "cell_type": "code",
   "execution_count": 60,
   "metadata": {
    "_cell_guid": "111c7d74-3516-455d-a13d-8a0af3d1b3c6",
    "_uuid": "b6b08ebc7396962d4268858d27e7f1f082943891"
   },
   "outputs": [
    {
     "name": "stdout",
     "output_type": "stream",
     "text": [
      "Of 1631 requests, only 51 gets their pizzas, 3.126916002452483% success rate...\n"
     ]
    }
   ],
   "source": [
    "success_rate = sum(predictions) / len(predictions) * 100\n",
    "print(str('Of {} requests, only {} gets their pizzas,'\n",
    "          ' {}% success rate...'.format(len(predictions), \n",
    "                                        sum(predictions), \n",
    "                                       success_rate)\n",
    "         )\n",
    "     )"
   ]
  },
  {
   "cell_type": "markdown",
   "metadata": {
    "_cell_guid": "8ed85498-5dd2-48bf-a379-1b84d237a42b",
    "_uuid": "8fbd1af6bdd2f1c3e1ff0cf65976fa3252e171cc"
   },
   "source": [
    "# How accurate is our count vectorization naive bayes classifier on the test data?\n",
    "\n",
    "Since we don't have the `requester_received_pizza` field in the test data, we have to check that with an oracle (i.e. the person that knows). \n",
    "\n",
    "On Kaggle, **checking with the oracle** means uploading the file in the correct format and their script will process the scores and tell you how you did.\n",
    "\n",
    "**Note:** Different tasks will use different metrics but in most cases getting as many correct predictions as possible is the thing to aim for. We won't get into the details of how classifiers are evaluated but for a start, please see [precision, recall and F1-scores](https://en.wikipedia.org/wiki/Precision_and_recall) \n"
   ]
  },
  {
   "cell_type": "markdown",
   "metadata": {
    "_cell_guid": "f8054679-9d04-4563-91d5-daa29d0f7ce6",
    "_uuid": "9129b8f430bf2c652038a5a7316c0e9db1bb4f4a"
   },
   "source": [
    "# Finally, lets take a look at what format the oracle expects and create the output file for our predictions accordingly"
   ]
  },
  {
   "cell_type": "code",
   "execution_count": 61,
   "metadata": {
    "_cell_guid": "a683db0e-da0f-48b0-915c-c3bc288519f9",
    "_uuid": "66603c8033bf346a9cd418d2679c695e1973a820"
   },
   "outputs": [
    {
     "data": {
      "text/html": [
       "<div>\n",
       "<style scoped>\n",
       "    .dataframe tbody tr th:only-of-type {\n",
       "        vertical-align: middle;\n",
       "    }\n",
       "\n",
       "    .dataframe tbody tr th {\n",
       "        vertical-align: top;\n",
       "    }\n",
       "\n",
       "    .dataframe thead th {\n",
       "        text-align: right;\n",
       "    }\n",
       "</style>\n",
       "<table border=\"1\" class=\"dataframe\">\n",
       "  <thead>\n",
       "    <tr style=\"text-align: right;\">\n",
       "      <th></th>\n",
       "      <th>request_id</th>\n",
       "      <th>requester_received_pizza</th>\n",
       "    </tr>\n",
       "  </thead>\n",
       "  <tbody>\n",
       "    <tr>\n",
       "      <th>0</th>\n",
       "      <td>t3_i8iy4</td>\n",
       "      <td>0</td>\n",
       "    </tr>\n",
       "    <tr>\n",
       "      <th>1</th>\n",
       "      <td>t3_1mfqi0</td>\n",
       "      <td>0</td>\n",
       "    </tr>\n",
       "    <tr>\n",
       "      <th>2</th>\n",
       "      <td>t3_lclka</td>\n",
       "      <td>0</td>\n",
       "    </tr>\n",
       "    <tr>\n",
       "      <th>3</th>\n",
       "      <td>t3_1jdgdj</td>\n",
       "      <td>0</td>\n",
       "    </tr>\n",
       "    <tr>\n",
       "      <th>4</th>\n",
       "      <td>t3_t2qt4</td>\n",
       "      <td>0</td>\n",
       "    </tr>\n",
       "  </tbody>\n",
       "</table>\n",
       "</div>"
      ],
      "text/plain": [
       "  request_id  requester_received_pizza\n",
       "0   t3_i8iy4                         0\n",
       "1  t3_1mfqi0                         0\n",
       "2   t3_lclka                         0\n",
       "3  t3_1jdgdj                         0\n",
       "4   t3_t2qt4                         0"
      ]
     },
     "execution_count": 61,
     "metadata": {},
     "output_type": "execute_result"
    }
   ],
   "source": [
    "df_sample_submission = pd.read_csv('../input/patching-pizzas/sampleSubmission.csv')\n",
    "df_sample_submission.head()"
   ]
  },
  {
   "cell_type": "code",
   "execution_count": 62,
   "metadata": {
    "_cell_guid": "f28c1ce2-864d-4de3-926e-4dc317479216",
    "_uuid": "1410d9b66337fc2924eb156277f059e116143919"
   },
   "outputs": [
    {
     "data": {
      "text/html": [
       "<div>\n",
       "<style scoped>\n",
       "    .dataframe tbody tr th:only-of-type {\n",
       "        vertical-align: middle;\n",
       "    }\n",
       "\n",
       "    .dataframe tbody tr th {\n",
       "        vertical-align: top;\n",
       "    }\n",
       "\n",
       "    .dataframe thead th {\n",
       "        text-align: right;\n",
       "    }\n",
       "</style>\n",
       "<table border=\"1\" class=\"dataframe\">\n",
       "  <thead>\n",
       "    <tr style=\"text-align: right;\">\n",
       "      <th></th>\n",
       "      <th>request_id</th>\n",
       "      <th>requester_received_pizza</th>\n",
       "    </tr>\n",
       "  </thead>\n",
       "  <tbody>\n",
       "    <tr>\n",
       "      <th>0</th>\n",
       "      <td>t3_i8iy4</td>\n",
       "      <td>0</td>\n",
       "    </tr>\n",
       "    <tr>\n",
       "      <th>1</th>\n",
       "      <td>t3_1mfqi0</td>\n",
       "      <td>0</td>\n",
       "    </tr>\n",
       "    <tr>\n",
       "      <th>2</th>\n",
       "      <td>t3_lclka</td>\n",
       "      <td>0</td>\n",
       "    </tr>\n",
       "    <tr>\n",
       "      <th>3</th>\n",
       "      <td>t3_1jdgdj</td>\n",
       "      <td>0</td>\n",
       "    </tr>\n",
       "    <tr>\n",
       "      <th>4</th>\n",
       "      <td>t3_t2qt4</td>\n",
       "      <td>0</td>\n",
       "    </tr>\n",
       "  </tbody>\n",
       "</table>\n",
       "</div>"
      ],
      "text/plain": [
       "  request_id  requester_received_pizza\n",
       "0   t3_i8iy4                         0\n",
       "1  t3_1mfqi0                         0\n",
       "2   t3_lclka                         0\n",
       "3  t3_1jdgdj                         0\n",
       "4   t3_t2qt4                         0"
      ]
     },
     "execution_count": 62,
     "metadata": {},
     "output_type": "execute_result"
    }
   ],
   "source": [
    "# We've kept the `request_id` previous in the `df_test` dataframe.\n",
    "# We can simply merge that column with our predictions.\n",
    "df_output = pd.DataFrame({'request_id': list(df_test['request_id']), \n",
    "                          'requester_received_pizza': list(predictions)}\n",
    "                        )\n",
    "# Convert the predictions from boolean to integer.\n",
    "df_output['requester_received_pizza'] = df_output['requester_received_pizza'].astype(int)\n",
    "df_output.head()"
   ]
  },
  {
   "cell_type": "code",
   "execution_count": 63,
   "metadata": {
    "_cell_guid": "4053487b-e0d6-48a3-ba95-dbe2465f78f7",
    "_uuid": "e64b0d64cbea2a60b878ca0e445b27c722e368db"
   },
   "outputs": [],
   "source": [
    "# Create the csv file.\n",
    "df_output.to_csv('basic-nlp-submission.csv')"
   ]
  }
 ],
 "metadata": {
  "kernelspec": {
   "display_name": "Python 3",
   "language": "python",
   "name": "python3"
  },
  "language_info": {
   "codemirror_mode": {
    "name": "ipython",
    "version": 3
   },
   "file_extension": ".py",
   "mimetype": "text/x-python",
   "name": "python",
   "nbconvert_exporter": "python",
   "pygments_lexer": "ipython3",
   "version": "3.7.1"
  }
 },
 "nbformat": 4,
 "nbformat_minor": 1
}
