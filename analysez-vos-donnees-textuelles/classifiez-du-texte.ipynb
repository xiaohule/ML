{
 "cells": [
  {
   "cell_type": "markdown",
   "metadata": {},
   "source": [
    "# Consignes\n",
    "\n",
    "Vous devez réaliser les tâches suivantes :\n",
    "\n",
    "- Charger les données\n",
    "- Créer différents classifieurs (au moins 3)\n",
    "- Effectuer une validation croisée sur les différents classifieurs\n",
    "- Afficher les différentes performances\n"
   ]
  },
  {
   "cell_type": "code",
   "execution_count": 1,
   "metadata": {},
   "outputs": [
    {
     "name": "stdout",
     "output_type": "stream",
     "text": [
      "Populating the interactive namespace from numpy and matplotlib\n"
     ]
    }
   ],
   "source": [
    "from sklearn.metrics import jaccard_similarity_score, f1_score \n",
    "import pandas as pd\n",
    "%pylab inline"
   ]
  },
  {
   "cell_type": "markdown",
   "metadata": {},
   "source": [
    "### data loading/sampling"
   ]
  },
  {
   "cell_type": "code",
   "execution_count": 2,
   "metadata": {},
   "outputs": [],
   "source": [
    "from sklearn.datasets import fetch_rcv1\n",
    "rcv1 = fetch_rcv1()"
   ]
  },
  {
   "cell_type": "code",
   "execution_count": 3,
   "metadata": {},
   "outputs": [],
   "source": [
    "X_train_full, y_train_full = fetch_rcv1(subset=\"train\", return_X_y=True)\n",
    "X_test_full, y_test_full = fetch_rcv1(subset=\"test\", return_X_y=True)"
   ]
  },
  {
   "cell_type": "code",
   "execution_count": 4,
   "metadata": {},
   "outputs": [],
   "source": [
    "from sklearn.model_selection import train_test_split, StratifiedKFold\n",
    "\n",
    "X_train,_ , y_train, _ = train_test_split(X_train_full, y_train_full, test_size=0.98)\n",
    "X_test,_ , y_test, _ = train_test_split(X_test_full, y_test_full, test_size=0.999)"
   ]
  },
  {
   "cell_type": "code",
   "execution_count": 5,
   "metadata": {},
   "outputs": [],
   "source": [
    "# X_train = X_train_full[:1000]\n",
    "# y_train = y_train_full[:1000]\n",
    "# X_test = X_test_full[:1000]\n",
    "# y_test = y_test_full[:1000] \n",
    "\n",
    "X_train_d = X_train.toarray()\n",
    "y_train_d = y_train.toarray()\n",
    "X_test_d = X_test.toarray()\n",
    "y_test_d = y_test.toarray()"
   ]
  },
  {
   "cell_type": "code",
   "execution_count": 6,
   "metadata": {},
   "outputs": [
    {
     "data": {
      "text/plain": [
       "(462, 47236)"
      ]
     },
     "execution_count": 6,
     "metadata": {},
     "output_type": "execute_result"
    }
   ],
   "source": [
    "X_train_d.shape"
   ]
  },
  {
   "cell_type": "code",
   "execution_count": 7,
   "metadata": {},
   "outputs": [
    {
     "data": {
      "text/plain": [
       "(781, 47236)"
      ]
     },
     "execution_count": 7,
     "metadata": {},
     "output_type": "execute_result"
    }
   ],
   "source": [
    "X_test_d.shape"
   ]
  },
  {
   "cell_type": "code",
   "execution_count": 8,
   "metadata": {},
   "outputs": [],
   "source": [
    "y_train_df = pd.DataFrame(y_train_d)\n",
    "# y_train_df.describe()"
   ]
  },
  {
   "cell_type": "markdown",
   "metadata": {},
   "source": [
    "### baseline"
   ]
  },
  {
   "cell_type": "code",
   "execution_count": 9,
   "metadata": {},
   "outputs": [],
   "source": [
    "index = [\"random_baseline\",\"mean_baseline\"]\n",
    "columns = [\"full_jaccard\",\"full_f1\",\"sub_jaccard\",\"sub_f1\"]\n",
    "results = pd.DataFrame(index=index,columns=columns)"
   ]
  },
  {
   "cell_type": "code",
   "execution_count": 10,
   "metadata": {},
   "outputs": [
    {
     "name": "stdout",
     "output_type": "stream",
     "text": [
      "In average, an article of the full training dataset belong two 3.1835932437686294 different categories\n"
     ]
    }
   ],
   "source": [
    "print(\"In average, an article of the full training dataset belong two {} \\\n",
    "different categories\".format(y_train_full.sum(axis=1).mean()))"
   ]
  },
  {
   "cell_type": "code",
   "execution_count": 11,
   "metadata": {},
   "outputs": [
    {
     "data": {
      "text/plain": [
       "(array([-20.,   0.,  20.,  40.,  60.,  80., 100., 120.]),\n",
       " <a list of 8 Text xticklabel objects>)"
      ]
     },
     "execution_count": 11,
     "metadata": {},
     "output_type": "execute_result"
    },
    {
     "data": {
      "image/png": "[encoded data removed]",
      "text/plain": [
       "<Figure size 1080x216 with 1 Axes>"
      ]
     },
     "metadata": {
      "needs_background": "light"
     },
     "output_type": "display_data"
    }
   ],
   "source": [
    "plt.figure(figsize=(15,3))\n",
    "plt.bar(np.arange(y_train_full.shape[1]),y_train_full.sum(axis=0).tolist()[0])\n",
    "plt.xlabel(\"categories\")\n",
    "plt.ylabel(\"occurences\")\n",
    "plt.title(\"Frequence of each category in full training dataset\")\n",
    "plt.xticks()"
   ]
  },
  {
   "cell_type": "code",
   "execution_count": 12,
   "metadata": {},
   "outputs": [
    {
     "name": "stderr",
     "output_type": "stream",
     "text": [
      "C:\\Users\\jdouet\\AppData\\Local\\Continuum\\anaconda3\\lib\\site-packages\\sklearn\\metrics\\classification.py:1143: UndefinedMetricWarning: F-score is ill-defined and being set to 0.0 in labels with no predicted samples.\n",
      "  'precision', 'predicted', average, warn_for)\n",
      "C:\\Users\\jdouet\\AppData\\Local\\Continuum\\anaconda3\\lib\\site-packages\\sklearn\\metrics\\classification.py:1145: UndefinedMetricWarning: F-score is ill-defined and being set to 0.0 in labels with no true samples.\n",
      "  'recall', 'true', average, warn_for)\n"
     ]
    }
   ],
   "source": [
    "# We decide to use the three most frequent categories as our baseline classifier\n",
    "y_mean_pred_full = np.zeros(y_test_full.shape)\n",
    "y_mean_pred = np.zeros(y_test.shape)\n",
    "\n",
    "y_mean_pred_full[:,33] = y_mean_pred_full[:,70] = y_mean_pred_full[:,102] = 1\n",
    "y_mean_pred[:,33] = y_mean_pred[:,70] = y_mean_pred[:,102] = 1\n",
    "\n",
    "results.loc[\"mean_baseline\"] = \\\n",
    "[jaccard_similarity_score(y_test_full,y_mean_pred_full), f1_score(y_test_full,y_mean_pred_full,average=\"weighted\"),\n",
    "jaccard_similarity_score(y_test,y_mean_pred), f1_score(y_test,y_mean_pred,average=\"weighted\")]"
   ]
  },
  {
   "cell_type": "code",
   "execution_count": 13,
   "metadata": {},
   "outputs": [],
   "source": [
    "#let's check that our baseline classifier is better than the random classifier\n",
    "y_random_pred_full = np.random.randint(0,2,y_test_full.shape)\n",
    "y_random_pred = np.random.randint(0,2,y_test.shape)\n",
    "\n",
    "results.loc[\"random_baseline\"] = \\\n",
    "[jaccard_similarity_score(y_test_full,y_random_pred_full), f1_score(y_test_full,y_random_pred_full,average=\"weighted\"),\n",
    "jaccard_similarity_score(y_test,y_random_pred), f1_score(y_test,y_random_pred,average=\"weighted\")]"
   ]
  },
  {
   "cell_type": "code",
   "execution_count": 14,
   "metadata": {},
   "outputs": [
    {
     "data": {
      "text/html": [
       "<div>\n",
       "<style scoped>\n",
       "    .dataframe tbody tr th:only-of-type {\n",
       "        vertical-align: middle;\n",
       "    }\n",
       "\n",
       "    .dataframe tbody tr th {\n",
       "        vertical-align: top;\n",
       "    }\n",
       "\n",
       "    .dataframe thead th {\n",
       "        text-align: right;\n",
       "    }\n",
       "</style>\n",
       "<table border=\"1\" class=\"dataframe\">\n",
       "  <thead>\n",
       "    <tr style=\"text-align: right;\">\n",
       "      <th></th>\n",
       "      <th>full_jaccard</th>\n",
       "      <th>full_f1</th>\n",
       "      <th>sub_jaccard</th>\n",
       "      <th>sub_f1</th>\n",
       "    </tr>\n",
       "  </thead>\n",
       "  <tbody>\n",
       "    <tr>\n",
       "      <th>random_baseline</th>\n",
       "      <td>0.0306273</td>\n",
       "      <td>0.207079</td>\n",
       "      <td>0.0314062</td>\n",
       "      <td>0.212055</td>\n",
       "    </tr>\n",
       "    <tr>\n",
       "      <th>mean_baseline</th>\n",
       "      <td>0.20451</td>\n",
       "      <td>0.168026</td>\n",
       "      <td>0.205697</td>\n",
       "      <td>0.171236</td>\n",
       "    </tr>\n",
       "  </tbody>\n",
       "</table>\n",
       "</div>"
      ],
      "text/plain": [
       "                full_jaccard   full_f1 sub_jaccard    sub_f1\n",
       "random_baseline    0.0306273  0.207079   0.0314062  0.212055\n",
       "mean_baseline        0.20451  0.168026    0.205697  0.171236"
      ]
     },
     "execution_count": 14,
     "metadata": {},
     "output_type": "execute_result"
    }
   ],
   "source": [
    "results"
   ]
  },
  {
   "cell_type": "markdown",
   "metadata": {},
   "source": [
    "### Naive Bayes classifier"
   ]
  },
  {
   "cell_type": "code",
   "execution_count": 15,
   "metadata": {},
   "outputs": [],
   "source": [
    "from sklearn.neighbors import KNeighborsClassifier\n",
    "KNN_clf = KNeighborsClassifier(n_jobs=-1).fit(X_train_d,y_train_d) #change metrics?\n",
    "y_KNN_pred = KNN_clf.predict(X_test_d)"
   ]
  },
  {
   "cell_type": "code",
   "execution_count": 16,
   "metadata": {},
   "outputs": [
    {
     "name": "stderr",
     "output_type": "stream",
     "text": [
      "C:\\Users\\jdouet\\AppData\\Local\\Continuum\\anaconda3\\lib\\site-packages\\sklearn\\metrics\\classification.py:1143: UndefinedMetricWarning: F-score is ill-defined and being set to 0.0 in labels with no predicted samples.\n",
      "  'precision', 'predicted', average, warn_for)\n",
      "C:\\Users\\jdouet\\AppData\\Local\\Continuum\\anaconda3\\lib\\site-packages\\sklearn\\metrics\\classification.py:1145: UndefinedMetricWarning: F-score is ill-defined and being set to 0.0 in labels with no true samples.\n",
      "  'recall', 'true', average, warn_for)\n"
     ]
    }
   ],
   "source": [
    "results.loc[\"KNN\"] = \\\n",
    "[np.NaN,np.NaN,jaccard_similarity_score(y_test,y_KNN_pred), f1_score(y_test,y_KNN_pred,average=\"weighted\")]"
   ]
  },
  {
   "cell_type": "markdown",
   "metadata": {},
   "source": [
    "### Random forest classifier"
   ]
  },
  {
   "cell_type": "code",
   "execution_count": 17,
   "metadata": {},
   "outputs": [],
   "source": [
    "from sklearn.ensemble import RandomForestClassifier\n",
    "RF_clf = RandomForestClassifier(n_estimators=10, n_jobs=-1).fit(X_train_d,y_train_d)\n",
    "y_RF_pred = RF_clf.predict(X_test_d)"
   ]
  },
  {
   "cell_type": "code",
   "execution_count": 18,
   "metadata": {},
   "outputs": [
    {
     "name": "stderr",
     "output_type": "stream",
     "text": [
      "C:\\Users\\jdouet\\AppData\\Local\\Continuum\\anaconda3\\lib\\site-packages\\sklearn\\metrics\\classification.py:1143: UndefinedMetricWarning: F-score is ill-defined and being set to 0.0 in labels with no predicted samples.\n",
      "  'precision', 'predicted', average, warn_for)\n",
      "C:\\Users\\jdouet\\AppData\\Local\\Continuum\\anaconda3\\lib\\site-packages\\sklearn\\metrics\\classification.py:1145: UndefinedMetricWarning: F-score is ill-defined and being set to 0.0 in labels with no true samples.\n",
      "  'recall', 'true', average, warn_for)\n"
     ]
    }
   ],
   "source": [
    "results.loc[\"RF\"] = \\\n",
    "[np.NaN,np.NaN,jaccard_similarity_score(y_test,y_RF_pred), f1_score(y_test,y_RF_pred,average=\"weighted\")]"
   ]
  },
  {
   "cell_type": "markdown",
   "metadata": {},
   "source": [
    "### Multi-layer Perceptron classifier"
   ]
  },
  {
   "cell_type": "code",
   "execution_count": 19,
   "metadata": {},
   "outputs": [],
   "source": [
    "from sklearn.neural_network import MLPClassifier"
   ]
  },
  {
   "cell_type": "code",
   "execution_count": 20,
   "metadata": {},
   "outputs": [
    {
     "name": "stderr",
     "output_type": "stream",
     "text": [
      "C:\\Users\\jdouet\\AppData\\Local\\Continuum\\anaconda3\\lib\\site-packages\\sklearn\\neural_network\\multilayer_perceptron.py:562: ConvergenceWarning: Stochastic Optimizer: Maximum iterations (200) reached and the optimization hasn't converged yet.\n",
      "  % self.max_iter, ConvergenceWarning)\n"
     ]
    }
   ],
   "source": [
    "MLP_clf = MLPClassifier().fit(X_train_d,y_train_d)"
   ]
  },
  {
   "cell_type": "code",
   "execution_count": 21,
   "metadata": {},
   "outputs": [],
   "source": [
    "y_MLP_pred = MLP_clf.predict(X_test_d)"
   ]
  },
  {
   "cell_type": "code",
   "execution_count": 22,
   "metadata": {},
   "outputs": [
    {
     "name": "stderr",
     "output_type": "stream",
     "text": [
      "C:\\Users\\jdouet\\AppData\\Local\\Continuum\\anaconda3\\lib\\site-packages\\sklearn\\metrics\\classification.py:1143: UndefinedMetricWarning: F-score is ill-defined and being set to 0.0 in labels with no predicted samples.\n",
      "  'precision', 'predicted', average, warn_for)\n",
      "C:\\Users\\jdouet\\AppData\\Local\\Continuum\\anaconda3\\lib\\site-packages\\sklearn\\metrics\\classification.py:1145: UndefinedMetricWarning: F-score is ill-defined and being set to 0.0 in labels with no true samples.\n",
      "  'recall', 'true', average, warn_for)\n"
     ]
    }
   ],
   "source": [
    "results.loc[\"MLP\"] = \\\n",
    "[np.NaN,np.NaN,jaccard_similarity_score(y_test,y_MLP_pred), f1_score(y_test,y_MLP_pred,average=\"weighted\")]"
   ]
  },
  {
   "cell_type": "markdown",
   "metadata": {},
   "source": [
    "### preliminary results"
   ]
  },
  {
   "cell_type": "code",
   "execution_count": 23,
   "metadata": {},
   "outputs": [
    {
     "data": {
      "text/html": [
       "<div>\n",
       "<style scoped>\n",
       "    .dataframe tbody tr th:only-of-type {\n",
       "        vertical-align: middle;\n",
       "    }\n",
       "\n",
       "    .dataframe tbody tr th {\n",
       "        vertical-align: top;\n",
       "    }\n",
       "\n",
       "    .dataframe thead th {\n",
       "        text-align: right;\n",
       "    }\n",
       "</style>\n",
       "<table border=\"1\" class=\"dataframe\">\n",
       "  <thead>\n",
       "    <tr style=\"text-align: right;\">\n",
       "      <th></th>\n",
       "      <th>full_jaccard</th>\n",
       "      <th>full_f1</th>\n",
       "      <th>sub_jaccard</th>\n",
       "      <th>sub_f1</th>\n",
       "    </tr>\n",
       "  </thead>\n",
       "  <tbody>\n",
       "    <tr>\n",
       "      <th>random_baseline</th>\n",
       "      <td>0.0306273</td>\n",
       "      <td>0.207079</td>\n",
       "      <td>0.0314062</td>\n",
       "      <td>0.212055</td>\n",
       "    </tr>\n",
       "    <tr>\n",
       "      <th>mean_baseline</th>\n",
       "      <td>0.20451</td>\n",
       "      <td>0.168026</td>\n",
       "      <td>0.205697</td>\n",
       "      <td>0.171236</td>\n",
       "    </tr>\n",
       "    <tr>\n",
       "      <th>KNN</th>\n",
       "      <td>NaN</td>\n",
       "      <td>NaN</td>\n",
       "      <td>0.517188</td>\n",
       "      <td>0.542453</td>\n",
       "    </tr>\n",
       "    <tr>\n",
       "      <th>RF</th>\n",
       "      <td>NaN</td>\n",
       "      <td>NaN</td>\n",
       "      <td>0.251032</td>\n",
       "      <td>0.296617</td>\n",
       "    </tr>\n",
       "    <tr>\n",
       "      <th>MLP</th>\n",
       "      <td>NaN</td>\n",
       "      <td>NaN</td>\n",
       "      <td>0.31858</td>\n",
       "      <td>0.3346</td>\n",
       "    </tr>\n",
       "  </tbody>\n",
       "</table>\n",
       "</div>"
      ],
      "text/plain": [
       "                full_jaccard   full_f1 sub_jaccard    sub_f1\n",
       "random_baseline    0.0306273  0.207079   0.0314062  0.212055\n",
       "mean_baseline        0.20451  0.168026    0.205697  0.171236\n",
       "KNN                      NaN       NaN    0.517188  0.542453\n",
       "RF                       NaN       NaN    0.251032  0.296617\n",
       "MLP                      NaN       NaN     0.31858    0.3346"
      ]
     },
     "execution_count": 23,
     "metadata": {},
     "output_type": "execute_result"
    }
   ],
   "source": [
    "results"
   ]
  },
  {
   "cell_type": "markdown",
   "metadata": {},
   "source": [
    "- we choose jaccard similarity over simple matching coefficient (based on hamming distance) in order to not let the numerous 0-0 matches smash the scoring\n",
    "- The f1 measure is consistent with the jaccard similarity ranking in our first simulations and has the quality of been alredy implemented in GridSearchCV so we do the grid search with metrics.f1_score\n",
    "- Ecrire les limites de la reduction du dataset notamment ac MLP"
   ]
  },
  {
   "cell_type": "markdown",
   "metadata": {},
   "source": [
    "### Parameter grid search with cross-validation for each classifier"
   ]
  },
  {
   "cell_type": "code",
   "execution_count": 24,
   "metadata": {},
   "outputs": [],
   "source": [
    "from sklearn.model_selection import GridSearchCV"
   ]
  },
  {
   "cell_type": "code",
   "execution_count": 25,
   "metadata": {},
   "outputs": [],
   "source": [
    "params={\"n_neighbors\":[1,3,5,7]}\n",
    "cv = GridSearchCV(KNeighborsClassifier(n_jobs=-1), param_grid=params, scoring=\"f1_weighted\", n_jobs=-1, cv=3)\n",
    "cv.fit(X_train_d,y_train_d)\n",
    "y_best_KNN_pred = cv.predict(X_test_d)"
   ]
  },
  {
   "cell_type": "code",
   "execution_count": 26,
   "metadata": {},
   "outputs": [
    {
     "name": "stdout",
     "output_type": "stream",
     "text": [
      "Best parameters set found on development set:\n",
      "\n",
      "{'n_neighbors': 3}\n",
      "\n",
      "Grid scores on development set:\n",
      "\n",
      "0.529 (+/-0.023) for {'n_neighbors': 1}\n",
      "0.531 (+/-0.028) for {'n_neighbors': 3}\n",
      "0.513 (+/-0.030) for {'n_neighbors': 5}\n",
      "0.495 (+/-0.018) for {'n_neighbors': 7}\n",
      "\n"
     ]
    }
   ],
   "source": [
    "print(\"Best parameters set found on development set:\")\n",
    "print()\n",
    "print(cv.best_params_)\n",
    "print()\n",
    "print(\"Grid scores on development set:\")\n",
    "print()\n",
    "means = cv.cv_results_['mean_test_score']\n",
    "stds = cv.cv_results_['std_test_score']\n",
    "for mean, std, params in zip(means, stds, cv.cv_results_['params']):\n",
    "    print(\"%0.3f (+/-%0.03f) for %r\"\n",
    "          % (mean, std * 2, params))\n",
    "print()"
   ]
  },
  {
   "cell_type": "code",
   "execution_count": 27,
   "metadata": {},
   "outputs": [],
   "source": [
    "params={\"n_estimators\":np.arange(40,130,10)}\n",
    "cv = GridSearchCV(RandomForestClassifier(n_jobs=-1), param_grid=params, scoring=\"f1_weighted\", n_jobs=-1, cv=3)\n",
    "cv.fit(X_train_d,y_train_d)\n",
    "y_best_RF_pred = cv.predict(X_test_d)"
   ]
  },
  {
   "cell_type": "code",
   "execution_count": 28,
   "metadata": {},
   "outputs": [
    {
     "name": "stdout",
     "output_type": "stream",
     "text": [
      "Best parameters set found on development set:\n",
      "\n",
      "{'n_estimators': 60}\n",
      "\n",
      "Grid scores on development set:\n",
      "\n",
      "0.284 (+/-0.039) for {'n_estimators': 40}\n",
      "0.270 (+/-0.024) for {'n_estimators': 50}\n",
      "0.285 (+/-0.029) for {'n_estimators': 60}\n",
      "0.272 (+/-0.031) for {'n_estimators': 70}\n",
      "0.276 (+/-0.020) for {'n_estimators': 80}\n",
      "0.275 (+/-0.031) for {'n_estimators': 90}\n",
      "0.272 (+/-0.002) for {'n_estimators': 100}\n",
      "0.277 (+/-0.013) for {'n_estimators': 110}\n",
      "0.284 (+/-0.020) for {'n_estimators': 120}\n",
      "\n"
     ]
    }
   ],
   "source": [
    "print(\"Best parameters set found on development set:\")\n",
    "print()\n",
    "print(cv.best_params_)\n",
    "print()\n",
    "print(\"Grid scores on development set:\")\n",
    "print()\n",
    "means = cv.cv_results_['mean_test_score']\n",
    "stds = cv.cv_results_['std_test_score']\n",
    "for mean, std, params in zip(means, stds, cv.cv_results_['params']):\n",
    "    print(\"%0.3f (+/-%0.03f) for %r\"\n",
    "          % (mean, std * 2, params))\n",
    "print()"
   ]
  },
  {
   "cell_type": "code",
   "execution_count": 29,
   "metadata": {},
   "outputs": [
    {
     "name": "stderr",
     "output_type": "stream",
     "text": [
      "C:\\Users\\jdouet\\AppData\\Local\\Continuum\\anaconda3\\lib\\site-packages\\sklearn\\neural_network\\multilayer_perceptron.py:562: ConvergenceWarning: Stochastic Optimizer: Maximum iterations (200) reached and the optimization hasn't converged yet.\n",
      "  % self.max_iter, ConvergenceWarning)\n"
     ]
    }
   ],
   "source": [
    "params={'hidden_layer_sizes':[(50),(100),(150)]} # 'alpha':[0.0001,0.001,0.01]\n",
    "cv = GridSearchCV(MLPClassifier(), param_grid=params, scoring=\"f1_weighted\", n_jobs=-1, cv=3)\n",
    "cv.fit(X_train_d,y_train_d)\n",
    "y_best_MLP_pred = cv.predict(X_test_d)"
   ]
  },
  {
   "cell_type": "code",
   "execution_count": 30,
   "metadata": {},
   "outputs": [
    {
     "name": "stdout",
     "output_type": "stream",
     "text": [
      "Best parameters set found on development set:\n",
      "\n",
      "{'hidden_layer_sizes': 150}\n",
      "\n",
      "Grid scores on development set:\n",
      "\n",
      "0.194 (+/-0.048) for {'hidden_layer_sizes': 50}\n",
      "0.287 (+/-0.010) for {'hidden_layer_sizes': 100}\n",
      "0.310 (+/-0.035) for {'hidden_layer_sizes': 150}\n",
      "\n"
     ]
    }
   ],
   "source": [
    "print(\"Best parameters set found on development set:\")\n",
    "print()\n",
    "print(cv.best_params_)\n",
    "print()\n",
    "print(\"Grid scores on development set:\")\n",
    "print()\n",
    "means = cv.cv_results_['mean_test_score']\n",
    "stds = cv.cv_results_['std_test_score']\n",
    "for mean, std, params in zip(means, stds, cv.cv_results_['params']):\n",
    "    print(\"%0.3f (+/-%0.03f) for %r\"\n",
    "          % (mean, std * 2, params))\n",
    "print()"
   ]
  },
  {
   "cell_type": "markdown",
   "metadata": {},
   "source": [
    "### Best performance of each classifier"
   ]
  },
  {
   "cell_type": "code",
   "execution_count": 31,
   "metadata": {},
   "outputs": [
    {
     "name": "stderr",
     "output_type": "stream",
     "text": [
      "C:\\Users\\jdouet\\AppData\\Local\\Continuum\\anaconda3\\lib\\site-packages\\sklearn\\metrics\\classification.py:1143: UndefinedMetricWarning: F-score is ill-defined and being set to 0.0 in labels with no predicted samples.\n",
      "  'precision', 'predicted', average, warn_for)\n",
      "C:\\Users\\jdouet\\AppData\\Local\\Continuum\\anaconda3\\lib\\site-packages\\sklearn\\metrics\\classification.py:1145: UndefinedMetricWarning: F-score is ill-defined and being set to 0.0 in labels with no true samples.\n",
      "  'recall', 'true', average, warn_for)\n"
     ]
    }
   ],
   "source": [
    "results.loc[\"best-KNN\"] = \\\n",
    "[np.NaN,np.NaN,jaccard_similarity_score(y_test,y_best_KNN_pred), f1_score(y_test,y_best_KNN_pred,average=\"weighted\")]\n",
    "results.loc[\"best-RF\"] = \\\n",
    "[np.NaN,np.NaN,jaccard_similarity_score(y_test,y_best_RF_pred), f1_score(y_test,y_best_RF_pred,average=\"weighted\")]\n",
    "results.loc[\"best-MLP\"] = \\\n",
    "[np.NaN,np.NaN,jaccard_similarity_score(y_test,y_best_MLP_pred), f1_score(y_test,y_best_MLP_pred,average=\"weighted\")]"
   ]
  },
  {
   "cell_type": "code",
   "execution_count": 32,
   "metadata": {},
   "outputs": [
    {
     "data": {
      "text/html": [
       "<div>\n",
       "<style scoped>\n",
       "    .dataframe tbody tr th:only-of-type {\n",
       "        vertical-align: middle;\n",
       "    }\n",
       "\n",
       "    .dataframe tbody tr th {\n",
       "        vertical-align: top;\n",
       "    }\n",
       "\n",
       "    .dataframe thead th {\n",
       "        text-align: right;\n",
       "    }\n",
       "</style>\n",
       "<table border=\"1\" class=\"dataframe\">\n",
       "  <thead>\n",
       "    <tr style=\"text-align: right;\">\n",
       "      <th></th>\n",
       "      <th>full_jaccard</th>\n",
       "      <th>full_f1</th>\n",
       "      <th>sub_jaccard</th>\n",
       "      <th>sub_f1</th>\n",
       "    </tr>\n",
       "  </thead>\n",
       "  <tbody>\n",
       "    <tr>\n",
       "      <th>random_baseline</th>\n",
       "      <td>0.0306273</td>\n",
       "      <td>0.207079</td>\n",
       "      <td>0.0314062</td>\n",
       "      <td>0.212055</td>\n",
       "    </tr>\n",
       "    <tr>\n",
       "      <th>mean_baseline</th>\n",
       "      <td>0.20451</td>\n",
       "      <td>0.168026</td>\n",
       "      <td>0.205697</td>\n",
       "      <td>0.171236</td>\n",
       "    </tr>\n",
       "    <tr>\n",
       "      <th>KNN</th>\n",
       "      <td>NaN</td>\n",
       "      <td>NaN</td>\n",
       "      <td>0.517188</td>\n",
       "      <td>0.542453</td>\n",
       "    </tr>\n",
       "    <tr>\n",
       "      <th>RF</th>\n",
       "      <td>NaN</td>\n",
       "      <td>NaN</td>\n",
       "      <td>0.251032</td>\n",
       "      <td>0.296617</td>\n",
       "    </tr>\n",
       "    <tr>\n",
       "      <th>MLP</th>\n",
       "      <td>NaN</td>\n",
       "      <td>NaN</td>\n",
       "      <td>0.31858</td>\n",
       "      <td>0.3346</td>\n",
       "    </tr>\n",
       "    <tr>\n",
       "      <th>best-KNN</th>\n",
       "      <td>NaN</td>\n",
       "      <td>NaN</td>\n",
       "      <td>0.508797</td>\n",
       "      <td>0.549899</td>\n",
       "    </tr>\n",
       "    <tr>\n",
       "      <th>best-RF</th>\n",
       "      <td>NaN</td>\n",
       "      <td>NaN</td>\n",
       "      <td>0.284997</td>\n",
       "      <td>0.318992</td>\n",
       "    </tr>\n",
       "    <tr>\n",
       "      <th>best-MLP</th>\n",
       "      <td>NaN</td>\n",
       "      <td>NaN</td>\n",
       "      <td>0.327018</td>\n",
       "      <td>0.349063</td>\n",
       "    </tr>\n",
       "  </tbody>\n",
       "</table>\n",
       "</div>"
      ],
      "text/plain": [
       "                full_jaccard   full_f1 sub_jaccard    sub_f1\n",
       "random_baseline    0.0306273  0.207079   0.0314062  0.212055\n",
       "mean_baseline        0.20451  0.168026    0.205697  0.171236\n",
       "KNN                      NaN       NaN    0.517188  0.542453\n",
       "RF                       NaN       NaN    0.251032  0.296617\n",
       "MLP                      NaN       NaN     0.31858    0.3346\n",
       "best-KNN                 NaN       NaN    0.508797  0.549899\n",
       "best-RF                  NaN       NaN    0.284997  0.318992\n",
       "best-MLP                 NaN       NaN    0.327018  0.349063"
      ]
     },
     "execution_count": 32,
     "metadata": {},
     "output_type": "execute_result"
    }
   ],
   "source": [
    "results"
   ]
  },
  {
   "cell_type": "markdown",
   "metadata": {},
   "source": [
    "- sklearn.tree.DecisionTreeClassifier\n",
    "- sklearn.tree.ExtraTreeClassifier\n",
    "- sklearn.ensemble.ExtraTreesClassifier\n",
    "- sklearn.neighbors.KNeighborsClassifier\n",
    "- sklearn.neural_network.MLPClassifier\n",
    "- sklearn.neighbors.RadiusNeighborsClassifier\n",
    "- sklearn.ensemble.RandomForestClassifier\n",
    "- sklearn.linear_model.RidgeClassifierCV\n",
    "\n",
    "- https://github.com/karpathy/char-rnn"
   ]
  }
 ],
 "metadata": {
  "kernelspec": {
   "display_name": "Python 3",
   "language": "python",
   "name": "python3"
  },
  "language_info": {
   "codemirror_mode": {
    "name": "ipython",
    "version": 3
   },
   "file_extension": ".py",
   "mimetype": "text/x-python",
   "name": "python",
   "nbconvert_exporter": "python",
   "pygments_lexer": "ipython3",
   "version": "3.7.1"
  }
 },
 "nbformat": 4,
 "nbformat_minor": 2
}
