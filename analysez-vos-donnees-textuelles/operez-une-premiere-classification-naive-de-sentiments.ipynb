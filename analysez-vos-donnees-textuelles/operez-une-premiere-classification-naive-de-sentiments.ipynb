{
 "cells": [
  {
   "cell_type": "code",
   "execution_count": 26,
   "metadata": {},
   "outputs": [],
   "source": [
    "import nltk\n",
    "import os\n",
    "\n",
    "def format_sentence(sent):\n",
    "    return ({word: True for word in nltk.word_tokenize(sent)})\n",
    "\n",
    "def load_training_set():\n",
    "    training = []\n",
    "\n",
    "    for fp in os.listdir('aclImdb/train/pos'):\n",
    "        example = '{}/{}'.format('aclImdb/train/pos', fp)        \n",
    "        with open(example, encoding=\"utf-8\", errors='ignore') as fp:\n",
    "            for i in fp:\n",
    "                training.append([format_sentence(i), 'pos'])\n",
    "\n",
    "    for fp in os.listdir('aclImdb/train/neg'):\n",
    "        example = '{}/{}'.format('aclImdb/train/neg', fp)\n",
    "        with open(example, encoding=\"utf-8\", errors='ignore') as fp:\n",
    "            for i in fp:\n",
    "                training.append([format_sentence(i), 'neg'])\n",
    "\n",
    "    return training\n",
    "\n",
    "training = load_training_set()"
   ]
  },
  {
   "cell_type": "code",
   "execution_count": 30,
   "metadata": {},
   "outputs": [],
   "source": [
    "from nltk.classify import NaiveBayesClassifier\n",
    "\n",
    "classifier = NaiveBayesClassifier.train(training)"
   ]
  },
  {
   "cell_type": "code",
   "execution_count": 31,
   "metadata": {},
   "outputs": [
    {
     "name": "stdout",
     "output_type": "stream",
     "text": [
      "Most Informative Features\n",
      "                   Avoid = True              neg : pos    =     93.4 : 1.0\n",
      "                    2/10 = True              neg : pos    =     75.7 : 1.0\n",
      "                    4/10 = True              neg : pos    =     64.2 : 1.0\n",
      "                    *1/2 = True              neg : pos    =     57.0 : 1.0\n",
      "                    3/10 = True              neg : pos    =     43.6 : 1.0\n",
      "                    Boll = True              neg : pos    =     37.7 : 1.0\n",
      "                     Uwe = True              neg : pos    =     36.3 : 1.0\n",
      "                    7/10 = True              pos : neg    =     33.2 : 1.0\n",
      "                   WORST = True              neg : pos    =     27.8 : 1.0\n",
      "                    8/10 = True              pos : neg    =     27.5 : 1.0\n",
      "             unwatchable = True              neg : pos    =     26.7 : 1.0\n",
      "                 stinker = True              neg : pos    =     26.4 : 1.0\n",
      "                  Paulie = True              pos : neg    =     24.3 : 1.0\n",
      "                  awful. = True              neg : pos    =     23.0 : 1.0\n",
      "                    1/10 = True              neg : pos    =     22.7 : 1.0\n",
      "             excellently = True              pos : neg    =     22.2 : 1.0\n",
      "                   MST3K = True              neg : pos    =     22.1 : 1.0\n",
      "                  Capote = True              pos : neg    =     21.7 : 1.0\n",
      "               awfulness = True              neg : pos    =     21.0 : 1.0\n",
      "                  Highly = True              pos : neg    =     20.5 : 1.0\n",
      "                   dreck = True              neg : pos    =     19.9 : 1.0\n",
      "                    Ajay = True              neg : pos    =     19.0 : 1.0\n",
      "              complement = True              pos : neg    =     18.3 : 1.0\n",
      "              incoherent = True              neg : pos    =     18.2 : 1.0\n",
      "                    Prom = True              neg : pos    =     17.7 : 1.0\n"
     ]
    }
   ],
   "source": [
    "classifier.show_most_informative_features(n=25)"
   ]
  },
  {
   "cell_type": "code",
   "execution_count": 54,
   "metadata": {},
   "outputs": [
    {
     "name": "stdout",
     "output_type": "stream",
     "text": [
      "0.94416\n"
     ]
    }
   ],
   "source": [
    "features, labels = list(zip(*training))\n",
    "\n",
    "from sklearn import metrics\n",
    "print(metrics.accuracy_score(labels,[classifier.classify(feature_set) for feature_set in features]))"
   ]
  }
 ],
 "metadata": {
  "kernelspec": {
   "display_name": "Python 3",
   "language": "python",
   "name": "python3"
  },
  "language_info": {
   "codemirror_mode": {
    "name": "ipython",
    "version": 3
   },
   "file_extension": ".py",
   "mimetype": "text/x-python",
   "name": "python",
   "nbconvert_exporter": "python",
   "pygments_lexer": "ipython3",
   "version": "3.7.1"
  }
 },
 "nbformat": 4,
 "nbformat_minor": 2
}
