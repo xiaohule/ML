{
 "cells": [
  {
   "cell_type": "code",
   "execution_count": 1,
   "metadata": {},
   "outputs": [],
   "source": [
    "#!pip install nltk"
   ]
  },
  {
   "cell_type": "code",
   "execution_count": 2,
   "metadata": {},
   "outputs": [],
   "source": [
    "import nltk"
   ]
  },
  {
   "cell_type": "code",
   "execution_count": 3,
   "metadata": {},
   "outputs": [],
   "source": [
    "db = {\"Petit frère n'a qu'un souhait devenir grand C'est pourquoi il s'obstine à jouer les sauvages dès l'âge de dix ans Devenir adulte avec les infos comme mentor C'est éclater les tronches de ceux qui ne sont pas d'accord À l'époque où grand frère était gamin On se tapait des délires sur blanche neige et les sept nains Maintenant les nains ont giclé Blanche neige et tapent, éclatent Des types claquent dans Mortal Kombat À treize ans il aime déjà l'argent Avide mais ses poches sont arides Alors on fait le caïd dans des boums Qui sont désormais des soirées, plus de sirop Teisseire Petit frère veut des bières, je ne crois pas que c'était volontaire L'adulte c'est certain indirectement a montré que faire le mal c'est bien Demain ses cahiers seront pleins de ratures Petit frère fume des spliffs et casse des voitures Petit frère a déserté les terrains de jeux Il marche à peine et veut des bottes de sept lieues Petit frère veut grandir trop vite Mais il a oublié que rien ne sert de courir, petit frère Petit frère rêve de bagnoles, de fringues et de thunes De réputation de dur, pour tout ça il volerait la lune Il collectionne les méfaits Sans se soucier du mal qu'il fait, tout en demandant du respect Peu lui importe de quoi demain sera fait De donner à certains des raisons de mépriser son cadet Dans sa tête le rayonnement du tube cathodique A étouffé les vibrations des Tams-Tams de l'Afrique Plus de cartable, il ne saurait pas quoi en faire Il ne joue plus aux billes, il veut jouer du revolver Petit frère a jeté ses soldats Pour devenir un guerrier et penser au butin qu'il va amasser Petit frère a déserté les terrains de jeux Il marche à peine et veut des bottes de sept lieues Petit frère veut grandir trop vite Mais il a oublié que rien ne sert de courir, petit frère Les journalistes font des modes, la violence à l'école existait déjà De mon temps, les rackets, les bastons, les dégâts Les coups de batte dans les pare-brise des tires des instituteurs Embrouilles à coups de cutter Mais en parler au journal tous les soirs ça devient banal Ça s'imprime dans la rétine comme situation normale Et si petit frère veut faire parler de lui Il réitère ce qu'il a vu avant huit heures et demie Merde, en '80 c'était des états de faits Mais là ces journalistes ont faits des états Et je ne crois pas que petit frère soit pire qu'avant Juste surexposé à la pub, aux actes violents Pour les grands, le gosse est le meilleur citron La cible numéro 1, le terrain des produits de consommation Et pour être sûr qu'il s'en procure Petit frère s'assure, flingue à la ceinture On sait ce que tu es quand on voit ce que tu possèdes Petit frère le sait et garde ce fait en tête L'argent lui ouvrirait les portes sur un ciel azur aussi Facilement que ses tournevis ouvrent celle des voitures Le grand standing, c'est tout ce dont il a envie Ça passe mieux quand tu portes un Giorgio Armani Soucieux du regard des gens Malgré son jeune âge, petit frère fume pour paraître plus grand Il voudrait prendre l'autoroute de la fortune Et ne se rend pas compte qu'il pourrait y laisser des plumes Il vient à peine de sortir de son œuf Et déjà petit frère veut être plus gros que le bœuf Petit frère a déserté les terrains de jeux Il marche à peine et veut des bottes de sept lieues Petit frère veut grandir trop vite Mais il a oublié que rien ne sert de courir, petit frère\":\"iam\",\n",
    "     \"Ma che beauté J'suis jaloux quand tu me calcules pas Quand tu restes de ton côté, j'ai le mauvais J'peux pas décrire mon amour, j'te taquine c'est de l'humour Nous deux on s'est dit pour toujours, à la vie à la mort On se dispute, on se fait des crises Croit que j'la trompe, j'fais des prises Tout ce temps perdu pour mon biz' Mais tu restes ma beauté Malgré les bas jamais j'te laisse Et même quand tu me blesses Et quand tu stresses, je stresse Mais tu restes ma beauté Ma beauté qu'elle est belle, je ferais tout pour elle Beauté du haut level, avec un corps de rêve Ma beauté qu'elle est belle, je ferais tout pour elle Beauté du haut level, avec un corps de rêve Ma beauté, ma beauté (sans toi j'm'ennuie) Ma beauté, ma beauté (j'pense à toi la nuit) Ma beauté, ma beauté (et toute la nuit) Ma beauté, ma beauté Les gens te diront que de vivre avec moi, c'est impossible Trop tu m'attires, ton sourire me traumatise T'aimerais que j'te dise quoi? Depuis le buzz j'ai plein d'histoires Autour de moi y'a des vestes qui se tournent Mais j'ai des idées et j'y crois Ma beauté tu veux me quitter, je n'en reviens pas Je t'aime, tu le sais, mais je te retiens pas À la vie, à la mort, à la haine, à l'amour On se détruit par jalousie Ma beauté tu veux me quitter, je n'en reviens pas Je t'aime, tu le sais, mais je te retiens pas À la vie, à la mort, à la haine, à l'amour On se détruit par jalousie Ma beauté qu'elle est belle, je ferais tout pour elle Beauté du haut level, avec un corps de rêve Ma beauté qu'elle est belle, je ferais tout pour elle Beauté du haut level, avec un corps de rêve Ma beauté, ma beauté (sans toi j'm'ennuie) Ma beauté, ma beauté (j'pense à toi la nuit) Ma beauté, ma beauté (et toute la nuit) Ma beauté, ma beauté Ma beauté qu'elle est belle, je ferais tout pour elle Beauté du haut level, avec un corps de rêve Ma beauté qu'elle est belle, je ferais tout pour elle Beauté du haut level, avec un corps de rêve Ma beauté qu'elle est belle, je ferais tout pour elle Beauté du haut level, avec un corps de rêve Ma beauté qu'elle est belle, je ferais tout pour elle Beauté du haut level, avec un corps de rêve Ma beauté, nous deux c'est pour la vie pas que pour la noche Ma beauté, j'suis pas trop là mais si t'as besoin j'suis à côté Ma beauté, ma beauté Ma beauté, ma beauté (ma beauté, ma beauté)\":\"jul\",\n",
    "     \"Ce soir, j'me mets minable, pourquoi j'me fais si mal? J'ai fait des rêves bizarres où tu changeais d'visage J'ai pas qu'des belles histoires, j'passe plus d'vant les miroirs J'ai fait des rêves bizarres, des trucs qui s'expliquent pas Hey, hey, j'l'ai chanté donc c'est vrai, j'mets les pieds dans l'respect J'ai tourné tout l'été, ta pétasse tournait tout l'été Ton bébé n'est qu'une pute, vous m'aimez mais j'm'aime plus Qu'est c'qu'on fait? Laisse tomber, laisse tomb-laisse tomb-laisse tomber Tout l'monde m'a dit d'laisser tomber mais, pourtant, j'suis toujours là La méchanceté est gratuite, c'est fou qu'on touche des sous pour ça Étoiles dans les yeux, shinobi, j'essaye de remplacer Johnny Pourquoi t'as la tête qui grossit? T'as dû chopper une trisomie Soupe miso, joue l'idiot, sous hypnose, oublie l'eau J'déménageais tous les ans, je sais juste être le p'tit nouveau, oh Les types te trahissent, reviennent en full détente Ray-Ban, short et claquettes à ton enterrement Société bancale, normaux dans la déviance J'fais l'contraire de c'que tu fais, tu m'sers d'exemple Bien sûr, j'suis méfiant, ça rage juste, j'plaisante Juste après avoir avoué ce qu'ils pensent vraiment Rappelle-toi qui tu snobais quand tu montais C'est les mêmes que tu croiseras dans la descente M'prends pas la tête avec trop d'mots, ceux qui te streament sont des robots Mon seul adversaire, c'est l'chrono' Qui m'aimera encore, qui m'aimera encore, qui m'aimera encore à l'hosto? J'suis mort, éteignez la GoPro, noir, San, Dem Hey, hey, hey, ce soir, j'me mets minable, pourquoi j'me fais si mal? J'ai fait des rêves bizarres où tu changeais d'visage J'ai pas qu'des belles histoires, j'passe plus d'vant les miroirs J'ai fait des rêves bizarres, des trucs qui s'expliquent pas (ouais) C'est qu'une mise en abyme de mes péchés morts mais sans décès, sors Toujours pressé d'or dans un déchet d'corps Épuisé par la drogue féminine, rappeur connu, être humain anonyme J'sors pour m'en sortir, baise pour pouvoir aimer Manquer d’endorphine, mon cœur veut s'arrêter Le sale est maritime car la mer est niquée Sans dogmes et doctrines, croyances divines Minimum, zéro euro pour beaucoup d'effort, beaucoup d'mots pour si peu de force Beaucoup d'si si, ouais, ouais, la famille, on est là, on soutient Nique ta mère et crache sur tes morts, beaucoup d'lâches et de faux négros Déçu par mes proches, déçu par mes parents, déçu par mes idoles J'ai juste compris qu'la vie n'est qu'une façon de voir les choses Si peu de choix pour tellement de causes Et de conséquences que je ne vis que en plan séquence Surpris même quand c'est dense, insomniaque comme un ambulancier Du cash mais sans plan financier Du black ou un contrat indéterminé mais sans déterminant On t'l'enfonce comme un Perdolan Ma bite, mon fer de lance, faire l’amour sans intervenant Par la pensée, confiance et confidences sensés C’est écrit noir sur blanc que, le blanc c'est Mieux qu'le noir car le noir, il est foncé Le racisme depuis Jésus blanchit, pourtant cheveux laineux, pieds de bronze Comme quand les écrits n’ont plus de sens ou bien c’est le sens qu’on a déconstruit Sale, sale, sale, j'croise un mannequin de la Croisette Dans sa shnek, j’f’rai la causette, comme un air de Juliette Odette Dans les airs, des coupures violettes J’rêve d’une salope un peu Paris Hiltonienne J’préfère quand elles ont plus de moula que moi On te tabasse, toi et ta baby mama, juste pour être sûr qu’tu feras pas ton Montana Jamais nous n’re-signerons sauf si ça parle en millions (jamais, jamais) Le diamant, nous brillons, le canon, nous scions Du sale nous vivons, Dems, sale San, Noir Ce soir, j'me mets minable, pourquoi j'me fais si mal? J'ai fait des rêves bizarres où tu changeais d'visage J'ai pas qu'des belles histoires, j'passe plus d'vant les miroirs J'ai fait des rêves bizarres, des trucs qui s'expliquent pas Hey, hey (hey, hey, hey)\":\"orelsan\",\n",
    "     \"Dors Dors Si le monsieur dort dehors, c'est qu'il aime le bruit des voitures S'il s'amuse à faire le mort, c'est qu'il joue avec les statues Et si, un jour, il a disparu, c'est qu'il est devenu millionnaire C'est qu'il est sûrement sur une île avec un palmier dans sa bière Tout va bien Tout va bien Petit, tout va bien Tout va bien Tout va bien Petit, tout va bien Tout va bien Tout va bien Si la voisine crie très fort, c'est qu'elle a pas bien entendu Si elle a du bleu sur le corps, c'est qu'elle a joué dans la peinture Et si, un jour, elle a disparu, c'est qu'elle est partie en lune de miel En attendant les jours de pluie, elle met ses lunettes de soleil Tout va bien Tout va bien Petit, tout va bien Tout va bien Tout va bien Petit, tout va bien Tout va bien Tout va bien Si les hommes se tirent dessus, c'est qu'y'a des vaccins dans les balles Et si les bâtiments explosent, c'est pour fabriquer des étoiles Et si, un jour, ils ont disparu, c'est qu'ils s'amusaient tellement bien Qu'ils sont partis loin faire une ronde, tous en treillis, main dans la main Tout va bien Tout va bien Petit, tout va bien Tout va bien Tout va bien Petit, tout va bien Tout va bien Tout va bien Dors Dors\":\"orelsan\",\n",
    "     \"Tu es fada je crains dégun, je vous prends tous ici, un par un! Au début des années 80, je me souviens des soirées Où l'ambiance était chaude et les mecs rentraient Stan Smith aux pieds le regard froid Ils scrutaient la salle le trois-quart en cuir roulé autour du bras Ray Ban sur la tête survêtement Tacchini Pour les plus class les mocassins Nebuloni Dès qu'ils passaient Cameo Midnight Star SOS Band Delegation ou Shalamar Tout le monde se levait des cercles se formaient Des concours de danse un peu partout s'improvisaient Je te propose un voyage dans le temps, via planète Marseille Je danse le MIA Hey DJ met nous donc du Funk, que je danse le MIA Je danse le MIA Fait pousser le Pioneer à fond pour danser le MIA Je danse le MIA Ce soir les bagues brilleront pour danser le MIA Je danse le MIA Hey DJ met nous donc du Funk, que je danse le MIA Je danse le MIA jusqu'à ce que la soirée vacille Une bagarre au fond et tout le monde s'éparpille On râlait que c'était nul que ça craignait Le samedi d'après on revenait tellement qu'on s'emmerdait J'entends encore le rire des filles Qui assistaient au ballet des R12 sur le parking À l'intérieur, pour elles c'était moins rose Oh cousine, tu danses ou je t'explose? Voilà comment tout s'aggravait en un quart-d'heure Le frère rappliquait oh comment tu parles à ma sœur Viens avec moi, on va se filer Tête à tête je vais te fumer derrière les cyprès Et tout s'arrangeait ou se réglait à la danse L'un disait fils t'as aucune chance Eh les filles, mes chaussures brillent, hop un tour je vrille Je te bousille tu te rhabilles et moi je danse le MIA Comme les voitures c'était le défi KUX 73 JM 120 mon petit Du grand voyou à la plus grosse mauviette La main sur le volant avec la moquette Pare-soleil Pioneer sur le pare-brise arrière Dédé et Valérie écrit en gros; sur mon père! La bonne époque où on sortait la douze sur magic touch On lui collait la bande rouge à la Starsky et Hutch J'avais la nuque longue Éric aussi Malek coco La coupe à la Marley Pascal était rasta des affro Sur François et Joe déjà à la danse à côté d'eux Personne ne touchait une bille On dansait le MIA Hey DJ met nous donc du Funk, que je danse le MIA Je danse le MIA Fait pousser le Pioneer à fond pour danser le MIA Je danse le MIA Ce soir les bagues brilleront pour danser le MIA Je danse le MIA Hey DJ met nous donc du Funk, que je danse le MIA En direct sur Radio Chacal, en duplex live avec le Starflash Laserline Hatchin club c'est tout de suite 3, 2, 1, DJ Merci à toutes et à tous d'être encore avec nous ce soir Au New Starflash Lazerline Hatchin Club Nous sommes ensemble ce soir pour une soirée de bonheur musical Avec un grand concours de danse De nombreux super cadeaux pour les heureux gagnants Il y aura les T-shirt Marlboro, les autocollants Pioneer Les caleçons JB, les peluches À la technique c'est Michel, le light jockey c'est Momo On monte sur les tables, on lève les bras bien haut Allez c'est parti Je danse le mia Je danse le mia Je danse le MIA, pas de pacotille Chemise ouverte, chaîne en or qui brille Des gestes lents ils prenaient leur temps pour enchaîner Les passes qu'ils avaient élaborées dans leur quartier C'était vraiment trop beau Un mec assurait tout le monde criait Ah oui minot! La piste s'enflammait et tous les yeux convergeaient Les différents s'effaçaient et les rires éclataient Beaucoup disaient que nos soirées étaient sauvages Et qu'il fallait rentrer avec une batte ou une hache Foutaises, c'étaient les ragots des jaloux Et quoi qu'on en dise, nous on s'amusait beaucoup Aujourd'hui, encore on peut entendre des filles dire Hayya, IAM, ils dansent le MIA Hey DJ met nous donc du Funk, que je danse le MIA Je danse le MIA Fait pousser le Pioneer à fond pour danser le MIA Je danse le MIA Ce soir les bagues brilleront pour danser le MIA Je danse le MIA Hey DJ met nous donc du Funk, que je danse le MIA Je danse le MIA\":\"iam\",\n",
    "     \"Même le matin j'pense a toi Et quand je m'endors je rêve de toi Bébé tu es tout pour moi Bébé tu es faite pour moi Même le matin elle pense à toi Et la nuit, elle rêve de toi Tu vois pas, elle est folle de toi Elle t'aime vraiment, elle est faite pour toi Même le matin elle pense à toi Et la nuit, elle rêve de toi Tu vois pas, elle est folle de toi Elle t'aime vraiment, elle est faite pour toi Chaque jour qui passe elle pense a toi Toi à cause des problèmes des fois tu l'oublie Elle ta dit ce qu'elle pensait donc voila quoi Grandit un peu, on dirait t'as pas murit Toujours ensemble malgré les embrouilles, Toto et Ninetta Elle t'aime avec ou sans tes magouilles, Toto et Ninetta A sa mère, à ses copine, elle parle de toi Donc beh là poto faut pas qu'tu la déçois Elle te câline quand tu dormais Elle voit que par toi, elle veut vieillir avec toi Elle a plein d'traces et d'probèmes Elle pense à toi (ouais, ouais, ouais, ouais) Elle rêve de toi (ouais, ouais, ouais, ouais) Elle est folle de toi (ouais, ouais, ouais, ouais) Elle est faite pour toi (ouais, ouais, ouais, ouais) Même le matin elle pense à toi Et la nuit, elle rêve de toi Tu vois pas, elle est folle de toi Elle t'aime vraiment, elle est faite pour toi Même le matin elle pense à toi Et la nuit, elle rêve de toi Tu vois pas, elle est folle de toi Elle t'aime vraiment, elle est faite pour toi Elle fait tout le temps sa jalouse Tout le temps elle te boude Elle veut te pousser à bout Elle t'appelle: mon amour Elle veut son bisou sur la bouche Elle pensait tout le temps a vous Elle ta touchée, tu vois plus tes gars Chaque fois qu'tu bouges, elle demande où tu vas Oh oui qu'elle t'aime, ne t'en fait pas Où tu iras elle ira, elle fera c'que tu voudras Elle pense à toi (ouais, ouais, ouais, ouais) Elle rêve de toi (ouais, ouais, ouais, ouais) Elle est folle de toi (ouais, ouais, ouais, ouais) Elle est faite pour toi (ouais, ouais, ouais, ouais) Même le matin elle pense à toi Et la nuit, elle rêve de toi Tu vois pas, elle est folle de toi Elle t'aime vraiment, elle est faite pour toi Même le matin elle pense à toi Et la nuit, elle rêve de toi Tu vois pas, elle est folle de toi Elle t'aime vraiment, elle est faite pour toi Toto et Ninetta, Toto et Ninetta, ensemble à vie Toto et Ninetta, Toto et Ninetta, ensemble à vie Toto et Ninetta, Toto et Ninetta, ensemble à vie Toto et Ninetta, Toto et Ninetta, ensemble à vie Toto et Ninetta, Toto et Ninetta, ensemble à vie Toto et Ninetta, Toto et Ninetta, ensemble à vie Toto et Ninetta, Toto et Ninetta, ensemble à vie Toto et Ninetta, Toto et Ninetta, ensemble à vie Toto et Ninetta, Toto et Ninetta, ensemble à vie Toto et Ninetta, Toto et Ninetta, ensemble à vie Toto et Ninetta, Toto et Ninetta, ensemble à vie Toto et Ninetta, Toto et Ninetta, ensemble à vie Même le matin je pense a toi Et quand je m'endort je rêve de toi Bébé tu es tout pour moi Bébé tu es faite pour moi Même le matin elle pense à toi Et la nuit, elle rêve de toi Tu vois pas, elle est folle de toi Elle t'aime vraiment, elle est faite pour toi Toto et Ninetta, Toto et Ninetta, ensemble à vie Toto et Ninetta, Toto et Ninetta, ensemble à vie Toto et Ninetta, Toto et Ninetta, ensemble à vie Toto et Ninetta, Toto et Ninetta, ensemble à vie\":\"jul\",}"
   ]
  },
  {
   "cell_type": "code",
   "execution_count": 4,
   "metadata": {},
   "outputs": [
    {
     "name": "stdout",
     "output_type": "stream",
     "text": [
      "chargement de 6 vers dans la db\n"
     ]
    }
   ],
   "source": [
    "print('chargement de {} vers dans la db'.format(len(db.keys())))"
   ]
  },
  {
   "cell_type": "code",
   "execution_count": 5,
   "metadata": {},
   "outputs": [],
   "source": [
    "from collections import defaultdict\n",
    "base_artistes = defaultdict(set)\n",
    "for k in db:\n",
    "    base_artistes[db[k]].add(k)"
   ]
  },
  {
   "cell_type": "markdown",
   "metadata": {},
   "source": [
    "### function exploration"
   ]
  },
  {
   "cell_type": "code",
   "execution_count": 6,
   "metadata": {},
   "outputs": [],
   "source": [
    "test = \"Bonjour, je suis un texte d'exemple pour le cours d'Openclassrooms. Soyez attentifs à ce cours !\""
   ]
  },
  {
   "cell_type": "code",
   "execution_count": 7,
   "metadata": {},
   "outputs": [],
   "source": [
    "word_tokenized =nltk.word_tokenize(test, language=\"french\")"
   ]
  },
  {
   "cell_type": "code",
   "execution_count": 8,
   "metadata": {},
   "outputs": [
    {
     "data": {
      "text/plain": [
       "['Bonjour',\n",
       " 'je',\n",
       " 'suis',\n",
       " 'un',\n",
       " 'texte',\n",
       " 'd',\n",
       " 'exemple',\n",
       " 'pour',\n",
       " 'le',\n",
       " 'cours',\n",
       " 'd',\n",
       " 'Openclassrooms',\n",
       " 'Soyez',\n",
       " 'attentifs',\n",
       " 'à',\n",
       " 'ce',\n",
       " 'cours']"
      ]
     },
     "execution_count": 8,
     "metadata": {},
     "output_type": "execute_result"
    }
   ],
   "source": [
    "#alternative\n",
    "tokenizer = nltk.RegexpTokenizer('\\w+')\n",
    "word_regexp_tokenized = tokenizer.tokenize(test)\n",
    "word_regexp_tokenized"
   ]
  },
  {
   "cell_type": "code",
   "execution_count": 9,
   "metadata": {},
   "outputs": [],
   "source": [
    "word_tokenized_lowered = [str.lower(x) for x in word_regexp_tokenized]"
   ]
  },
  {
   "cell_type": "code",
   "execution_count": 10,
   "metadata": {},
   "outputs": [
    {
     "data": {
      "text/plain": [
       "['bonjour',\n",
       " 'je',\n",
       " 'suis',\n",
       " 'un',\n",
       " 'texte',\n",
       " 'd',\n",
       " 'exemple',\n",
       " 'pour',\n",
       " 'le',\n",
       " 'cours',\n",
       " 'd',\n",
       " 'openclassrooms',\n",
       " 'soyez',\n",
       " 'attentifs',\n",
       " 'à',\n",
       " 'ce',\n",
       " 'cours']"
      ]
     },
     "execution_count": 10,
     "metadata": {},
     "output_type": "execute_result"
    }
   ],
   "source": [
    "word_tokenized_lowered"
   ]
  },
  {
   "cell_type": "code",
   "execution_count": 11,
   "metadata": {},
   "outputs": [],
   "source": [
    "import string\n",
    "from nltk.corpus import stopwords"
   ]
  },
  {
   "cell_type": "code",
   "execution_count": 12,
   "metadata": {},
   "outputs": [],
   "source": [
    "stopwords = set(stopwords.words('french'))\n",
    "punctuation = set(nltk.word_tokenize(string.punctuation))|{\".\"}"
   ]
  },
  {
   "cell_type": "code",
   "execution_count": 13,
   "metadata": {},
   "outputs": [],
   "source": [
    "word_tokenized_lowered_cleaned = [word for word in word_tokenized_lowered if word not in stopwords|punctuation]"
   ]
  },
  {
   "cell_type": "code",
   "execution_count": 14,
   "metadata": {},
   "outputs": [
    {
     "data": {
      "text/plain": [
       "['bonjour',\n",
       " 'texte',\n",
       " 'exemple',\n",
       " 'cours',\n",
       " 'openclassrooms',\n",
       " 'attentifs',\n",
       " 'cours']"
      ]
     },
     "execution_count": 14,
     "metadata": {},
     "output_type": "execute_result"
    }
   ],
   "source": [
    "word_tokenized_lowered_cleaned"
   ]
  },
  {
   "cell_type": "code",
   "execution_count": 15,
   "metadata": {},
   "outputs": [],
   "source": [
    "from nltk.stem.snowball import FrenchStemmer\n",
    "def preprocess(string):\n",
    "    tokenizer = nltk.RegexpTokenizer('\\w+')\n",
    "    tmp = [str.lower(word) for word in tokenizer.tokenize(string)]\n",
    "    tmp = [word for word in tmp if word not in stopwords|punctuation] \n",
    "    res = [FrenchStemmer().stem(word) for word in tmp]\n",
    "    return res"
   ]
  },
  {
   "cell_type": "code",
   "execution_count": 16,
   "metadata": {},
   "outputs": [
    {
     "data": {
      "text/plain": [
       "['bonjour', 'text', 'exempl', 'cour', 'openclassroom', 'attent', 'cour']"
      ]
     },
     "execution_count": 16,
     "metadata": {},
     "output_type": "execute_result"
    }
   ],
   "source": [
    "preprocess(test)"
   ]
  },
  {
   "cell_type": "markdown",
   "metadata": {},
   "source": [
    "### back to rappeurs"
   ]
  },
  {
   "cell_type": "code",
   "execution_count": 17,
   "metadata": {},
   "outputs": [],
   "source": [
    "db_preprocessed = {db[key]:preprocess(key) for key in db}"
   ]
  },
  {
   "cell_type": "code",
   "execution_count": 18,
   "metadata": {},
   "outputs": [
    {
     "data": {
      "text/plain": [
       "dict_keys(['iam', 'jul', 'orelsan'])"
      ]
     },
     "execution_count": 18,
     "metadata": {},
     "output_type": "execute_result"
    }
   ],
   "source": [
    "db_preprocessed.keys()"
   ]
  },
  {
   "cell_type": "code",
   "execution_count": 19,
   "metadata": {},
   "outputs": [],
   "source": [
    "from collections import Counter"
   ]
  },
  {
   "cell_type": "code",
   "execution_count": 20,
   "metadata": {},
   "outputs": [],
   "source": [
    "bow = {key:Counter(db_preprocessed[key]).most_common() for key in db_preprocessed}\n",
    "bow_30 = {key:Counter(db_preprocessed[key]).most_common(30) for key in db_preprocessed}"
   ]
  },
  {
   "cell_type": "code",
   "execution_count": 21,
   "metadata": {},
   "outputs": [
    {
     "data": {
      "text/plain": [
       "{'iam': [('dans', 34),\n",
       "  ('mi', 30),\n",
       "  ('le', 21),\n",
       "  ('soir', 9),\n",
       "  ('tout', 7),\n",
       "  ('dj', 7),\n",
       "  ('hey', 6),\n",
       "  ('met', 6),\n",
       "  ('donc', 6),\n",
       "  ('funk', 6),\n",
       "  ('il', 5),\n",
       "  ('pione', 5),\n",
       "  ('fond', 4),\n",
       "  ('brill', 4),\n",
       "  ('tous', 3),\n",
       "  ('têt', 3),\n",
       "  ('mond', 3),\n",
       "  ('fait', 3),\n",
       "  ('pouss', 3),\n",
       "  ('bagu', 3),\n",
       "  ('encor', 3),\n",
       "  ('fill', 3),\n",
       "  ('dis', 3),\n",
       "  ('où', 2),\n",
       "  ('mec', 2),\n",
       "  ('rentr', 2),\n",
       "  ('quart', 2),\n",
       "  ('bras', 2),\n",
       "  ('plus', 2),\n",
       "  ('pass', 2)],\n",
       " 'jul': [('toto', 34),\n",
       "  ('ninet', 34),\n",
       "  ('ouais', 32),\n",
       "  ('ensembl', 17),\n",
       "  ('vi', 16),\n",
       "  ('pens', 14),\n",
       "  ('fait', 13),\n",
       "  ('rêv', 11),\n",
       "  ('matin', 9),\n",
       "  ('foll', 9),\n",
       "  ('aim', 9),\n",
       "  ('vois', 8),\n",
       "  ('nuit', 7),\n",
       "  ('vrai', 7),\n",
       "  ('a', 6),\n",
       "  ('tout', 5),\n",
       "  ('beb', 4),\n",
       "  ('quand', 3),\n",
       "  ('veut', 3),\n",
       "  ('temp', 3),\n",
       "  ('chaqu', 2),\n",
       "  ('fois', 2),\n",
       "  ('donc', 2),\n",
       "  ('où', 2),\n",
       "  ('endor', 1),\n",
       "  ('jour', 1),\n",
       "  ('pass', 1),\n",
       "  ('caus', 1),\n",
       "  ('problem', 1),\n",
       "  ('oubl', 1)],\n",
       " 'orelsan': [('bien', 26),\n",
       "  ('tout', 24),\n",
       "  ('va', 24),\n",
       "  ('si', 8),\n",
       "  ('a', 6),\n",
       "  ('pet', 6),\n",
       "  ('le', 5),\n",
       "  ('dor', 4),\n",
       "  ('jour', 4),\n",
       "  ('disparu', 3),\n",
       "  ('il', 3),\n",
       "  ('amus', 2),\n",
       "  ('fair', 2),\n",
       "  ('jou', 2),\n",
       "  ('part', 2),\n",
       "  ('main', 2),\n",
       "  ('monsieur', 1),\n",
       "  ('dort', 1),\n",
       "  ('dehor', 1),\n",
       "  ('aim', 1),\n",
       "  ('bruit', 1),\n",
       "  ('voitur', 1),\n",
       "  ('mort', 1),\n",
       "  ('statu', 1),\n",
       "  ('devenu', 1),\n",
       "  ('millionnair', 1),\n",
       "  ('sûr', 1),\n",
       "  ('île', 1),\n",
       "  ('palmi', 1),\n",
       "  ('bier', 1)]}"
      ]
     },
     "execution_count": 21,
     "metadata": {},
     "output_type": "execute_result"
    }
   ],
   "source": [
    "bow_30"
   ]
  },
  {
   "cell_type": "code",
   "execution_count": 22,
   "metadata": {},
   "outputs": [
    {
     "name": "stdout",
     "output_type": "stream",
     "text": [
      "Populating the interactive namespace from numpy and matplotlib\n"
     ]
    },
    {
     "name": "stderr",
     "output_type": "stream",
     "text": [
      "C:\\Users\\jdouet\\AppData\\Local\\Continuum\\anaconda3\\lib\\site-packages\\IPython\\core\\magics\\pylab.py:160: UserWarning: pylab import has clobbered these variables: ['test']\n",
      "`%matplotlib` prevents importing * from pylab and numpy\n",
      "  \"\\n`%matplotlib` prevents importing * from pylab and numpy\"\n"
     ]
    },
    {
     "data": {
      "text/plain": [
       "<BarContainer object of 3 artists>"
      ]
     },
     "execution_count": 22,
     "metadata": {},
     "output_type": "execute_result"
    },
    {
     "data": {
      "image/png": "[encoded data removed]",
      "text/plain": [
       "<Figure size 720x216 with 3 Axes>"
      ]
     },
     "metadata": {
      "needs_background": "light"
     },
     "output_type": "display_data"
    }
   ],
   "source": [
    "%pylab inline\n",
    "\n",
    "vocabulary_size = {\"iam\":len(bow[\"iam\"]),\"jul\":len(bow[\"jul\"]),\"orelsan\":len(bow[\"orelsan\"])}\n",
    "word_count = {\"iam\":len(db_preprocessed[\"iam\"]),\"jul\":len(db_preprocessed[\"jul\"]),\n",
    "              \"orelsan\":len(db_preprocessed[\"orelsan\"])}\n",
    "\n",
    "vocabulary_ratio = {\"iam\":0,\"jul\":0,\"orelsan\":0}\n",
    "for key in vocabulary_ratio:\n",
    "    vocabulary_ratio[key] = vocabulary_size[key]/word_count[key]\n",
    "\n",
    "count_30 = {\"iam\":0,\"jul\":0,\"orelsan\":0}\n",
    "for key in count_30:\n",
    "    for i, (x,y) in enumerate(bow_30[key]):\n",
    "        count_30[key] += y\n",
    "\n",
    "plt.figure(figsize=(10,3))\n",
    "plt.subplot(131)\n",
    "plt.bar(word_count.keys(),word_count.values())\n",
    "plt.title(\"Word count\")\n",
    "plt.subplot(132)\n",
    "plt.bar(vocabulary_ratio.keys(),vocabulary_ratio.values())\n",
    "plt.title(\"Vocabulary ratio\")\n",
    "plt.subplot(133)\n",
    "plt.title(\"Occurences of most common 30 words\")\n",
    "plt.bar(count_30.keys(),count_30.values())"
   ]
  }
 ],
 "metadata": {
  "kernelspec": {
   "display_name": "Python 3",
   "language": "python",
   "name": "python3"
  },
  "language_info": {
   "codemirror_mode": {
    "name": "ipython",
    "version": 3
   },
   "file_extension": ".py",
   "mimetype": "text/x-python",
   "name": "python",
   "nbconvert_exporter": "python",
   "pygments_lexer": "ipython3",
   "version": "3.7.1"
  }
 },
 "nbformat": 4,
 "nbformat_minor": 2
}
