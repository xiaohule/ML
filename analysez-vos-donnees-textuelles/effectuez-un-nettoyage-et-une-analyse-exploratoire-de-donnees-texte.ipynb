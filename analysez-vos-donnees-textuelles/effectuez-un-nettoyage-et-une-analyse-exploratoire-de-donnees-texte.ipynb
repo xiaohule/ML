{
 "cells": [
  {
   "cell_type": "markdown",
   "metadata": {},
   "source": [
    "# Consigne\n",
    "\n",
    "Vous devrez effectuer les opérations de traitement suivantes sur le texte, pas forcément dans cet ordre\n",
    "\n",
    "- Créer des paires de document (article, highlights)\n",
    "- Suppression de la ponctuation\n",
    "- Séparation en token en minuscules\n",
    "- Suppression des stopwords pour les articles\n",
    "- Calcul des fréquences et tf-idf sur les deux types de documents\n",
    "- Enregistrement du nouveau jeu de données d’entraînement pour usage ultérieur"
   ]
  },
  {
   "cell_type": "code",
   "execution_count": 1,
   "metadata": {},
   "outputs": [],
   "source": [
    "from nltk import corpus, tokenize\n",
    "corpus_root = './cnn/stories' "
   ]
  },
  {
   "cell_type": "code",
   "execution_count": 2,
   "metadata": {},
   "outputs": [
    {
     "data": {
      "text/plain": [
       "92579"
      ]
     },
     "execution_count": 2,
     "metadata": {},
     "output_type": "execute_result"
    }
   ],
   "source": [
    "wordlists = corpus.PlaintextCorpusReader(corpus_root, '.*')\n",
    "\n",
    "len(wordlists.fileids())"
   ]
  },
  {
   "cell_type": "code",
   "execution_count": 3,
   "metadata": {},
   "outputs": [
    {
     "data": {
      "text/plain": [
       "['0001d1afc246a7964130f43ae940af6bc6c57f01.story',\n",
       " '0002095e55fcbd3a2f366d9bf92a95433dc305ef.story',\n",
       " '00027e965c8264c35cc1bc55556db388da82b07f.story',\n",
       " '0002c17436637c4fe1837c935c04de47adb18e9a.story',\n",
       " '0003ad6ef0c37534f80b55b4235108024b407f0b.story']"
      ]
     },
     "execution_count": 3,
     "metadata": {},
     "output_type": "execute_result"
    }
   ],
   "source": [
    "wordlists.fileids()[:5]"
   ]
  },
  {
   "cell_type": "code",
   "execution_count": 4,
   "metadata": {},
   "outputs": [
    {
     "data": {
      "text/plain": [
       "'It\\'s official: U.S. President Barack Obama wants lawmakers to weigh in on whether to use military force in Syria.\\n\\nObama sent a letter to the heads of the House and Senate on Saturday night, hours after announcing that he believes military action against Syrian targets is the right step to take over the alleged use of chemical weapons.\\n\\nThe proposed legislation from Obama asks Congress to approve the use of military force \"to deter, disrupt, prevent and degrade the potential for future uses of chemical weapons or other weapons of mass destruction.\"\\n\\nIt\\'s a step that is set to turn an international crisis into a fierce domestic political battle.\\n\\nThere are key questions looming over the debate: What did U.N. weapons inspectors find in Syria? What happens if Congress votes no? And how will the Syrian government react?\\n\\nIn a televised address from the White House Rose Garden earlier Saturday, the president said he would take his case to Congress, not because he has to -- but because he wants to.\\n\\n\"While I believe I have the authority to carry out this military action without specific congressional authorization, I know that the country will be stronger if we take this course, and our actions will be even more effective,\" he said. \"We should have this debate, because the issues are too big for business as usual.\"\\n\\nObama said top congressional leaders had agreed to schedule a debate when the body returns to Washington on September 9. The Senate Foreign Relations Committee will hold a hearing over the matter on Tuesday, Sen. Robert Menendez said.\\n\\nTranscript: Read Obama\\'s full remarks\\n\\nSyrian crisis: Latest developments\\n\\nU.N. inspectors leave Syria\\n\\nObama\\'s remarks came shortly after U.N. inspectors left Syria, carrying evidence that will determine whether chemical weapons were used in an attack early last week in a Damascus suburb.\\n\\n\"The aim of the game here, the mandate, is very clear -- and that is to ascertain whether chemical weapons were used -- and not by whom,\" U.N. spokesman Martin Nesirky told reporters on Saturday.\\n\\nBut who used the weapons in the reported toxic gas attack in a Damascus suburb on August 21 has been a key point of global debate over the Syrian crisis.\\n\\nTop U.S. officials have said there\\'s no doubt that the Syrian government was behind it, while Syrian officials have denied responsibility and blamed jihadists fighting with the rebels.\\n\\nBritish and U.S. intelligence reports say the attack involved chemical weapons, but U.N. officials have stressed the importance of waiting for an official report from inspectors.\\n\\nThe inspectors will share their findings with U.N. Secretary-General Ban Ki-moon Ban, who has said he wants to wait until the U.N. team\\'s final report is completed before presenting it to the U.N. Security Council.\\n\\nThe Organization for the Prohibition of Chemical Weapons, which nine of the inspectors belong to, said Saturday that it could take up to three weeks to analyze the evidence they collected.\\n\\n\"It needs time to be able to analyze the information and the samples,\" Nesirky said.\\n\\nHe noted that Ban has repeatedly said there is no alternative to a political solution to the crisis in Syria, and that \"a military solution is not an option.\"\\n\\nBergen:  Syria is a problem from hell for the U.S.\\n\\nObama: \\'This menace must be confronted\\'\\n\\nObama\\'s senior advisers have debated the next steps to take, and the president\\'s comments Saturday came amid mounting political pressure over the situation in Syria. Some U.S. lawmakers have called for immediate action while others warn of stepping into what could become a quagmire.\\n\\nSome global leaders have expressed support, but the British Parliament\\'s vote against military action earlier this week was a blow to Obama\\'s hopes of getting strong backing from key NATO allies.\\n\\nOn Saturday, Obama proposed what he said would be a limited military action against Syrian President Bashar al-Assad. Any military attack would not be open-ended or include U.S. ground forces, he said.\\n\\nSyria\\'s alleged use of chemical weapons earlier this month \"is an assault on human dignity,\" the president said.\\n\\nA failure to respond with force, Obama argued,  \"could lead to escalating use of chemical weapons or their proliferation to terrorist groups who would do our people harm. In a world with many dangers, this menace must be confronted.\"\\n\\nSyria missile strike: What would happen next?\\n\\nMap: U.S. and allied assets around Syria\\n\\nObama decision came Friday night\\n\\nOn Friday night, the president made a last-minute decision to consult lawmakers.\\n\\nWhat will happen if they vote no?\\n\\nIt\\'s unclear. A senior administration official told CNN that Obama has the authority to act without Congress -- even if Congress rejects his request for authorization to use force.\\n\\nObama on Saturday continued to shore up support for a strike on the al-Assad government.\\n\\nHe spoke by phone with French President Francois Hollande before his Rose Garden speech.\\n\\n\"The two leaders agreed that the international community must deliver a resolute message to the Assad regime -- and others who would consider using chemical weapons -- that these crimes are unacceptable and those who violate this international norm will be held accountable by the world,\" the White House said.\\n\\nMeanwhile, as uncertainty loomed over how Congress would weigh in, U.S. military officials said they remained at the ready.\\n\\n5 key assertions: U.S. intelligence report on Syria\\n\\nSyria: Who wants what after chemical weapons horror\\n\\nReactions mixed to Obama\\'s speech\\n\\nA spokesman for the Syrian National Coalition said that the opposition group was disappointed by Obama\\'s announcement.\\n\\n\"Our fear now is that the lack of action could embolden the regime and they repeat his attacks in a more serious way,\" said spokesman Louay Safi. \"So we are quite concerned.\"\\n\\nSome members of Congress applauded Obama\\'s decision.\\n\\nHouse Speaker John Boehner, Majority Leader Eric Cantor, Majority Whip Kevin McCarthy and Conference Chair Cathy McMorris Rodgers issued a statement Saturday praising the president.\\n\\n\"Under the Constitution, the responsibility to declare war lies with Congress,\" the Republican lawmakers said. \"We are glad the president is seeking authorization for any military action in Syria in response to serious, substantive questions being raised.\"\\n\\nMore than 160 legislators, including 63 of Obama\\'s fellow Democrats, had signed letters calling for either a vote or at least a \"full debate\" before any U.S. action.\\n\\nBritish Prime Minister David Cameron, whose own attempt to get lawmakers in his country to support military action in Syria failed earlier this week, responded to Obama\\'s speech in a Twitter post Saturday.\\n\\n\"I understand and support Barack Obama\\'s position on Syria,\" Cameron said.\\n\\nAn influential lawmaker in Russia -- which has stood by Syria and criticized the United States -- had his own theory.\\n\\n\"The main reason Obama is turning to the Congress:  the military operation did not get enough support either in the world, among allies of the US or in the United States itself,\" Alexei Pushkov, chairman of the international-affairs committee of the Russian State Duma, said in a Twitter post.\\n\\nIn the United States, scattered groups of anti-war protesters around the country took to the streets Saturday.\\n\\n\"Like many other Americans...we\\'re just tired of the United States getting involved and invading and bombing other countries,\" said Robin Rosecrans, who was among hundreds at a Los Angeles demonstration.\\n\\nWhat do Syria\\'s neighbors think?\\n\\nWhy Russia, China, Iran stand by Assad\\n\\nSyria\\'s government unfazed\\n\\nAfter Obama\\'s speech, a military and political analyst on Syrian state TV said Obama is \"embarrassed\" that Russia opposes military action against Syria, is \"crying for help\" for someone to come to his rescue and is facing two defeats -- on the political and military levels.\\n\\nSyria\\'s prime minister appeared unfazed by the saber-rattling.\\n\\n\"The Syrian Army\\'s status is on maximum readiness and fingers are on the trigger to confront all challenges,\" Wael Nader al-Halqi said during a meeting with a delegation of Syrian expatriates from Italy, according to a banner on Syria State TV that was broadcast prior to Obama\\'s address.\\n\\nAn anchor on Syrian state television said Obama \"appeared to be preparing for an aggression on Syria based on repeated lies.\"\\n\\nA top Syrian diplomat told the state television network that Obama was facing pressure to take military action from Israel, Turkey, some Arabs and right-wing extremists in the United States.\\n\\n\"I think he has done well by doing what Cameron did in terms of taking the issue to Parliament,\" said Bashar Jaafari, Syria\\'s ambassador to the United Nations.\\n\\nBoth Obama and Cameron, he said, \"climbed to the top of the tree and don\\'t know how to get down.\"\\n\\nThe Syrian government has denied that it used chemical weapons in the August 21 attack, saying that jihadists fighting with the rebels used them in an effort to turn global sentiments against it.\\n\\nBritish intelligence had put the number of people killed in the attack at more than 350.\\n\\nOn Saturday, Obama said \"all told, well over 1,000 people were murdered.\" U.S. Secretary of State John Kerry on Friday cited a death toll of 1,429, more than 400 of them children. No explanation was offered for the discrepancy.\\n\\nIran: U.S. military action in Syria would spark \\'disaster\\'\\n\\nOpinion: Why strikes in Syria are a bad idea\\n\\n@highlight\\n\\nSyrian official: Obama climbed to the top of the tree, \"doesn\\'t know how to get down\"\\n\\n@highlight\\n\\nObama sends a letter to the heads of the House and Senate\\n\\n@highlight\\n\\nObama to seek congressional approval on military action against Syria\\n\\n@highlight\\n\\nAim is to determine whether CW were used, not by whom, says U.N. spokesman'"
      ]
     },
     "execution_count": 4,
     "metadata": {},
     "output_type": "execute_result"
    }
   ],
   "source": [
    "wordlists.raw('0001d1afc246a7964130f43ae940af6bc6c57f01.story')"
   ]
  },
  {
   "cell_type": "markdown",
   "metadata": {},
   "source": [
    "### Fonction de séparation en token en minuscules + suppression des stopwords/éléments de ponctuation + lemmatization"
   ]
  },
  {
   "cell_type": "code",
   "execution_count": 5,
   "metadata": {},
   "outputs": [],
   "source": [
    "import string\n",
    "from nltk.corpus import stopwords\n",
    "from nltk import pos_tag\n",
    "from nltk.stem import WordNetLemmatizer\n",
    "from nltk import word_tokenize\n",
    "\n",
    "stopwords = set(stopwords.words('english'))|{\"'s\"}\n",
    "punctuation = set(word_tokenize(string.punctuation))|{\".\",\"`\",\"``\",\"-\",\"--\"}\n",
    "punctuation.remove(\"@\")\n",
    "#tokenizer = nltk.RegexpTokenizer('\\w+')\n",
    "\n",
    "def penn2morphy(penntag):\n",
    "    \"\"\" Converts Penn Treebank tags to WordNet. \"\"\"\n",
    "    morphy_tag = {'NN':'n', 'JJ':'a',\n",
    "                  'VB':'v', 'RB':'r'}\n",
    "    try:\n",
    "        return morphy_tag[penntag[:2]]\n",
    "    except:\n",
    "        return 'n'\n",
    "\n",
    "def preprocess(string):\n",
    "    tmp = [WordNetLemmatizer().lemmatize(word, pos=penn2morphy(tag)) for word, tag in pos_tag(word_tokenize(string))]\n",
    "    tmp = [str.lower(word) for word in tmp] \n",
    "    res = [word for word in tmp if word not in stopwords|punctuation]\n",
    "    return res"
   ]
  },
  {
   "cell_type": "markdown",
   "metadata": {},
   "source": [
    "### Création des paires de document (article, highlights) et calculs des term frequencies"
   ]
  },
  {
   "cell_type": "code",
   "execution_count": 6,
   "metadata": {},
   "outputs": [],
   "source": [
    "# #décompte du nombre maximum d'highlights dans un article\n",
    "# import re\n",
    "# max_highlight = 0\n",
    "# for fileid in wordlists.fileids():\n",
    "#     highlight_freq = len(re.findall('(@highlight)',wordlists.raw(fileid)))\n",
    "#     if highlight_freq > max_highlight:\n",
    "#         max_highlight = highlight_freq\n",
    "\n",
    "# print(\"At most there are {} highlights in an article\".format(max_highlight)) \n",
    "# #on trouve max_highlight égal à 5"
   ]
  },
  {
   "cell_type": "code",
   "execution_count": 16,
   "metadata": {},
   "outputs": [
    {
     "data": {
      "text/html": [
       "<div>\n",
       "<style scoped>\n",
       "    .dataframe tbody tr th:only-of-type {\n",
       "        vertical-align: middle;\n",
       "    }\n",
       "\n",
       "    .dataframe tbody tr th {\n",
       "        vertical-align: top;\n",
       "    }\n",
       "\n",
       "    .dataframe thead th {\n",
       "        text-align: right;\n",
       "    }\n",
       "</style>\n",
       "<table border=\"1\" class=\"dataframe\">\n",
       "  <thead>\n",
       "    <tr style=\"text-align: right;\">\n",
       "      <th></th>\n",
       "      <th>article_tf</th>\n",
       "      <th>highlight1_tf</th>\n",
       "      <th>highlight2_tf</th>\n",
       "      <th>highlight3_tf</th>\n",
       "      <th>highlight4_tf</th>\n",
       "      <th>highlight5_tf</th>\n",
       "    </tr>\n",
       "  </thead>\n",
       "  <tbody>\n",
       "    <tr>\n",
       "      <th>0001d1afc246a7964130f43ae940af6bc6c57f01.story</th>\n",
       "      <td>NaN</td>\n",
       "      <td>NaN</td>\n",
       "      <td>NaN</td>\n",
       "      <td>NaN</td>\n",
       "      <td>NaN</td>\n",
       "      <td>NaN</td>\n",
       "    </tr>\n",
       "    <tr>\n",
       "      <th>0002095e55fcbd3a2f366d9bf92a95433dc305ef.story</th>\n",
       "      <td>NaN</td>\n",
       "      <td>NaN</td>\n",
       "      <td>NaN</td>\n",
       "      <td>NaN</td>\n",
       "      <td>NaN</td>\n",
       "      <td>NaN</td>\n",
       "    </tr>\n",
       "    <tr>\n",
       "      <th>00027e965c8264c35cc1bc55556db388da82b07f.story</th>\n",
       "      <td>NaN</td>\n",
       "      <td>NaN</td>\n",
       "      <td>NaN</td>\n",
       "      <td>NaN</td>\n",
       "      <td>NaN</td>\n",
       "      <td>NaN</td>\n",
       "    </tr>\n",
       "    <tr>\n",
       "      <th>0002c17436637c4fe1837c935c04de47adb18e9a.story</th>\n",
       "      <td>NaN</td>\n",
       "      <td>NaN</td>\n",
       "      <td>NaN</td>\n",
       "      <td>NaN</td>\n",
       "      <td>NaN</td>\n",
       "      <td>NaN</td>\n",
       "    </tr>\n",
       "    <tr>\n",
       "      <th>0003ad6ef0c37534f80b55b4235108024b407f0b.story</th>\n",
       "      <td>NaN</td>\n",
       "      <td>NaN</td>\n",
       "      <td>NaN</td>\n",
       "      <td>NaN</td>\n",
       "      <td>NaN</td>\n",
       "      <td>NaN</td>\n",
       "    </tr>\n",
       "  </tbody>\n",
       "</table>\n",
       "</div>"
      ],
      "text/plain": [
       "                                               article_tf highlight1_tf  \\\n",
       "0001d1afc246a7964130f43ae940af6bc6c57f01.story        NaN           NaN   \n",
       "0002095e55fcbd3a2f366d9bf92a95433dc305ef.story        NaN           NaN   \n",
       "00027e965c8264c35cc1bc55556db388da82b07f.story        NaN           NaN   \n",
       "0002c17436637c4fe1837c935c04de47adb18e9a.story        NaN           NaN   \n",
       "0003ad6ef0c37534f80b55b4235108024b407f0b.story        NaN           NaN   \n",
       "\n",
       "                                               highlight2_tf highlight3_tf  \\\n",
       "0001d1afc246a7964130f43ae940af6bc6c57f01.story           NaN           NaN   \n",
       "0002095e55fcbd3a2f366d9bf92a95433dc305ef.story           NaN           NaN   \n",
       "00027e965c8264c35cc1bc55556db388da82b07f.story           NaN           NaN   \n",
       "0002c17436637c4fe1837c935c04de47adb18e9a.story           NaN           NaN   \n",
       "0003ad6ef0c37534f80b55b4235108024b407f0b.story           NaN           NaN   \n",
       "\n",
       "                                               highlight4_tf highlight5_tf  \n",
       "0001d1afc246a7964130f43ae940af6bc6c57f01.story           NaN           NaN  \n",
       "0002095e55fcbd3a2f366d9bf92a95433dc305ef.story           NaN           NaN  \n",
       "00027e965c8264c35cc1bc55556db388da82b07f.story           NaN           NaN  \n",
       "0002c17436637c4fe1837c935c04de47adb18e9a.story           NaN           NaN  \n",
       "0003ad6ef0c37534f80b55b4235108024b407f0b.story           NaN           NaN  "
      ]
     },
     "execution_count": 16,
     "metadata": {},
     "output_type": "execute_result"
    }
   ],
   "source": [
    "#on travaille sur un subset du corpus total pour limiter les temps de calcul\n",
    "num_articles_to_work_on = 100 \n",
    "\n",
    "#création du dataframe\n",
    "import pandas as pd\n",
    "columns=[\"article_tf\",\"highlight1_tf\",\"highlight2_tf\",\"highlight3_tf\",\"highlight4_tf\",\"highlight5_tf\"]\n",
    "df = pd.DataFrame(index=wordlists.fileids()[:num_articles_to_work_on], columns=columns)\n",
    "\n",
    "df.head()"
   ]
  },
  {
   "cell_type": "code",
   "execution_count": 17,
   "metadata": {},
   "outputs": [
    {
     "data": {
      "text/html": [
       "<div>\n",
       "<style scoped>\n",
       "    .dataframe tbody tr th:only-of-type {\n",
       "        vertical-align: middle;\n",
       "    }\n",
       "\n",
       "    .dataframe tbody tr th {\n",
       "        vertical-align: top;\n",
       "    }\n",
       "\n",
       "    .dataframe thead th {\n",
       "        text-align: right;\n",
       "    }\n",
       "</style>\n",
       "<table border=\"1\" class=\"dataframe\">\n",
       "  <thead>\n",
       "    <tr style=\"text-align: right;\">\n",
       "      <th></th>\n",
       "      <th>article_tf</th>\n",
       "      <th>highlight1_tf</th>\n",
       "      <th>highlight2_tf</th>\n",
       "      <th>highlight3_tf</th>\n",
       "      <th>highlight4_tf</th>\n",
       "      <th>highlight5_tf</th>\n",
       "    </tr>\n",
       "  </thead>\n",
       "  <tbody>\n",
       "    <tr>\n",
       "      <th>0001d1afc246a7964130f43ae940af6bc6c57f01.story</th>\n",
       "      <td>[(obama, 28), (say, 28), (syria, 25), (militar...</td>\n",
       "      <td>[(syrian, 1), (official, 1), (obama, 1), (clim...</td>\n",
       "      <td>[(obama, 1), (send, 1), (letter, 1), (head, 1)...</td>\n",
       "      <td>[(obama, 1), (seek, 1), (congressional, 1), (a...</td>\n",
       "      <td>[(aim, 1), (determine, 1), (whether, 1), (cw, ...</td>\n",
       "      <td>NaN</td>\n",
       "    </tr>\n",
       "    <tr>\n",
       "      <th>0002095e55fcbd3a2f366d9bf92a95433dc305ef.story</th>\n",
       "      <td>[(bolt, 8), (gold, 7), (second, 7), (champions...</td>\n",
       "      <td>[(usain, 1), (bolt, 1), (win, 1), (third, 1), ...</td>\n",
       "      <td>[(anchors, 1), (jamaica, 1), (4x100m, 1), (rel...</td>\n",
       "      <td>[(eighth, 1), (gold, 1), (championship, 1), (b...</td>\n",
       "      <td>[(jamaica, 1), (double, 1), (woman, 1), (4x100...</td>\n",
       "      <td>NaN</td>\n",
       "    </tr>\n",
       "    <tr>\n",
       "      <th>00027e965c8264c35cc1bc55556db388da82b07f.story</th>\n",
       "      <td>[(gsa, 26), (employee, 16), (kansas, 9), (city...</td>\n",
       "      <td>[(employee, 1), (agency, 1), (kansas, 1), (cit...</td>\n",
       "      <td>[(employee, 1), (travel, 1), (mainland, 1), (u...</td>\n",
       "      <td>[(telecommuting, 1), (program, 1), (like, 1), ...</td>\n",
       "      <td>NaN</td>\n",
       "      <td>NaN</td>\n",
       "    </tr>\n",
       "    <tr>\n",
       "      <th>0002c17436637c4fe1837c935c04de47adb18e9a.story</th>\n",
       "      <td>[(burkhart, 20), (fire, 18), (say, 17), (los, ...</td>\n",
       "      <td>[(new, 1), (canadian, 1), (doctor, 1), (say, 1...</td>\n",
       "      <td>[(new, 1), (diagnosis, 1), (autism, 1), (sever...</td>\n",
       "      <td>[(burkhart, 1), (also, 1), (suspect, 1), (germ...</td>\n",
       "      <td>[(prosecutors, 1), (believe, 1), (german, 1), ...</td>\n",
       "      <td>NaN</td>\n",
       "    </tr>\n",
       "    <tr>\n",
       "      <th>0003ad6ef0c37534f80b55b4235108024b407f0b.story</th>\n",
       "      <td>[(rape, 7), (police, 4), (arrest, 4), (thursda...</td>\n",
       "      <td>[(another, 1), (arrest, 1), (make, 1), (gang, ...</td>\n",
       "      <td>[(investigators, 1), (say, 1), (20, 1), (peopl...</td>\n",
       "      <td>[(four, 1), (suspect, 1), (appear, 1), (court,...</td>\n",
       "      <td>NaN</td>\n",
       "      <td>NaN</td>\n",
       "    </tr>\n",
       "  </tbody>\n",
       "</table>\n",
       "</div>"
      ],
      "text/plain": [
       "                                                                                       article_tf  \\\n",
       "0001d1afc246a7964130f43ae940af6bc6c57f01.story  [(obama, 28), (say, 28), (syria, 25), (militar...   \n",
       "0002095e55fcbd3a2f366d9bf92a95433dc305ef.story  [(bolt, 8), (gold, 7), (second, 7), (champions...   \n",
       "00027e965c8264c35cc1bc55556db388da82b07f.story  [(gsa, 26), (employee, 16), (kansas, 9), (city...   \n",
       "0002c17436637c4fe1837c935c04de47adb18e9a.story  [(burkhart, 20), (fire, 18), (say, 17), (los, ...   \n",
       "0003ad6ef0c37534f80b55b4235108024b407f0b.story  [(rape, 7), (police, 4), (arrest, 4), (thursda...   \n",
       "\n",
       "                                                                                    highlight1_tf  \\\n",
       "0001d1afc246a7964130f43ae940af6bc6c57f01.story  [(syrian, 1), (official, 1), (obama, 1), (clim...   \n",
       "0002095e55fcbd3a2f366d9bf92a95433dc305ef.story  [(usain, 1), (bolt, 1), (win, 1), (third, 1), ...   \n",
       "00027e965c8264c35cc1bc55556db388da82b07f.story  [(employee, 1), (agency, 1), (kansas, 1), (cit...   \n",
       "0002c17436637c4fe1837c935c04de47adb18e9a.story  [(new, 1), (canadian, 1), (doctor, 1), (say, 1...   \n",
       "0003ad6ef0c37534f80b55b4235108024b407f0b.story  [(another, 1), (arrest, 1), (make, 1), (gang, ...   \n",
       "\n",
       "                                                                                    highlight2_tf  \\\n",
       "0001d1afc246a7964130f43ae940af6bc6c57f01.story  [(obama, 1), (send, 1), (letter, 1), (head, 1)...   \n",
       "0002095e55fcbd3a2f366d9bf92a95433dc305ef.story  [(anchors, 1), (jamaica, 1), (4x100m, 1), (rel...   \n",
       "00027e965c8264c35cc1bc55556db388da82b07f.story  [(employee, 1), (travel, 1), (mainland, 1), (u...   \n",
       "0002c17436637c4fe1837c935c04de47adb18e9a.story  [(new, 1), (diagnosis, 1), (autism, 1), (sever...   \n",
       "0003ad6ef0c37534f80b55b4235108024b407f0b.story  [(investigators, 1), (say, 1), (20, 1), (peopl...   \n",
       "\n",
       "                                                                                    highlight3_tf  \\\n",
       "0001d1afc246a7964130f43ae940af6bc6c57f01.story  [(obama, 1), (seek, 1), (congressional, 1), (a...   \n",
       "0002095e55fcbd3a2f366d9bf92a95433dc305ef.story  [(eighth, 1), (gold, 1), (championship, 1), (b...   \n",
       "00027e965c8264c35cc1bc55556db388da82b07f.story  [(telecommuting, 1), (program, 1), (like, 1), ...   \n",
       "0002c17436637c4fe1837c935c04de47adb18e9a.story  [(burkhart, 1), (also, 1), (suspect, 1), (germ...   \n",
       "0003ad6ef0c37534f80b55b4235108024b407f0b.story  [(four, 1), (suspect, 1), (appear, 1), (court,...   \n",
       "\n",
       "                                                                                    highlight4_tf  \\\n",
       "0001d1afc246a7964130f43ae940af6bc6c57f01.story  [(aim, 1), (determine, 1), (whether, 1), (cw, ...   \n",
       "0002095e55fcbd3a2f366d9bf92a95433dc305ef.story  [(jamaica, 1), (double, 1), (woman, 1), (4x100...   \n",
       "00027e965c8264c35cc1bc55556db388da82b07f.story                                                NaN   \n",
       "0002c17436637c4fe1837c935c04de47adb18e9a.story  [(prosecutors, 1), (believe, 1), (german, 1), ...   \n",
       "0003ad6ef0c37534f80b55b4235108024b407f0b.story                                                NaN   \n",
       "\n",
       "                                               highlight5_tf  \n",
       "0001d1afc246a7964130f43ae940af6bc6c57f01.story           NaN  \n",
       "0002095e55fcbd3a2f366d9bf92a95433dc305ef.story           NaN  \n",
       "00027e965c8264c35cc1bc55556db388da82b07f.story           NaN  \n",
       "0002c17436637c4fe1837c935c04de47adb18e9a.story           NaN  \n",
       "0003ad6ef0c37534f80b55b4235108024b407f0b.story           NaN  "
      ]
     },
     "execution_count": 17,
     "metadata": {},
     "output_type": "execute_result"
    }
   ],
   "source": [
    "#remplissage du dataframe\n",
    "\n",
    "from collections import Counter\n",
    "\n",
    "for fileid in df.index:\n",
    "    strings = wordlists.raw(fileid).split(\"@highlight\")\n",
    "    data = [Counter(preprocess(string)).most_common() for string in strings]\n",
    "    df.loc[fileid].iloc[:len(data)] = data\n",
    "\n",
    "df.head()"
   ]
  },
  {
   "cell_type": "code",
   "execution_count": 18,
   "metadata": {},
   "outputs": [
    {
     "data": {
      "text/html": [
       "<div>\n",
       "<style scoped>\n",
       "    .dataframe tbody tr th:only-of-type {\n",
       "        vertical-align: middle;\n",
       "    }\n",
       "\n",
       "    .dataframe tbody tr th {\n",
       "        vertical-align: top;\n",
       "    }\n",
       "\n",
       "    .dataframe thead th {\n",
       "        text-align: right;\n",
       "    }\n",
       "</style>\n",
       "<table border=\"1\" class=\"dataframe\">\n",
       "  <thead>\n",
       "    <tr style=\"text-align: right;\">\n",
       "      <th></th>\n",
       "      <th>article_tf</th>\n",
       "      <th>highlight1_tf</th>\n",
       "      <th>highlight2_tf</th>\n",
       "      <th>highlight3_tf</th>\n",
       "      <th>highlight4_tf</th>\n",
       "      <th>highlight5_tf</th>\n",
       "    </tr>\n",
       "  </thead>\n",
       "  <tbody>\n",
       "    <tr>\n",
       "      <th>count</th>\n",
       "      <td>100</td>\n",
       "      <td>100</td>\n",
       "      <td>100</td>\n",
       "      <td>94</td>\n",
       "      <td>58</td>\n",
       "      <td>0.0</td>\n",
       "    </tr>\n",
       "    <tr>\n",
       "      <th>unique</th>\n",
       "      <td>100</td>\n",
       "      <td>100</td>\n",
       "      <td>100</td>\n",
       "      <td>94</td>\n",
       "      <td>58</td>\n",
       "      <td>0.0</td>\n",
       "    </tr>\n",
       "    <tr>\n",
       "      <th>top</th>\n",
       "      <td>[(mubarak, 10), (charge, 8), (trial, 5), (year...</td>\n",
       "      <td>[(new, 1), (retrial, 1), (former, 1), (preside...</td>\n",
       "      <td>[(retrial, 1), (hold, 1), (mubarak, 1), (son, ...</td>\n",
       "      <td>[(vigil, 1), (hold, 1), (recent, 1), (effort, ...</td>\n",
       "      <td>[(steal, 1), (treasure, 1), (often, 1), (hard,...</td>\n",
       "      <td>NaN</td>\n",
       "    </tr>\n",
       "    <tr>\n",
       "      <th>freq</th>\n",
       "      <td>1</td>\n",
       "      <td>1</td>\n",
       "      <td>1</td>\n",
       "      <td>1</td>\n",
       "      <td>1</td>\n",
       "      <td>NaN</td>\n",
       "    </tr>\n",
       "  </tbody>\n",
       "</table>\n",
       "</div>"
      ],
      "text/plain": [
       "                                               article_tf  \\\n",
       "count                                                 100   \n",
       "unique                                                100   \n",
       "top     [(mubarak, 10), (charge, 8), (trial, 5), (year...   \n",
       "freq                                                    1   \n",
       "\n",
       "                                            highlight1_tf  \\\n",
       "count                                                 100   \n",
       "unique                                                100   \n",
       "top     [(new, 1), (retrial, 1), (former, 1), (preside...   \n",
       "freq                                                    1   \n",
       "\n",
       "                                            highlight2_tf  \\\n",
       "count                                                 100   \n",
       "unique                                                100   \n",
       "top     [(retrial, 1), (hold, 1), (mubarak, 1), (son, ...   \n",
       "freq                                                    1   \n",
       "\n",
       "                                            highlight3_tf  \\\n",
       "count                                                  94   \n",
       "unique                                                 94   \n",
       "top     [(vigil, 1), (hold, 1), (recent, 1), (effort, ...   \n",
       "freq                                                    1   \n",
       "\n",
       "                                            highlight4_tf  highlight5_tf  \n",
       "count                                                  58            0.0  \n",
       "unique                                                 58            0.0  \n",
       "top     [(steal, 1), (treasure, 1), (often, 1), (hard,...            NaN  \n",
       "freq                                                    1            NaN  "
      ]
     },
     "execution_count": 18,
     "metadata": {},
     "output_type": "execute_result"
    }
   ],
   "source": [
    "df.describe()"
   ]
  },
  {
   "cell_type": "markdown",
   "metadata": {},
   "source": [
    "### Calcul des inverse document frequencies"
   ]
  },
  {
   "cell_type": "code",
   "execution_count": null,
   "metadata": {},
   "outputs": [],
   "source": [
    "#enlever les mots les plus présents partout"
   ]
  },
  {
   "cell_type": "code",
   "execution_count": 19,
   "metadata": {},
   "outputs": [
    {
     "ename": "SyntaxError",
     "evalue": "invalid syntax (<ipython-input-19-4c276794fbe6>, line 6)",
     "output_type": "error",
     "traceback": [
      "\u001b[1;36m  File \u001b[1;32m\"<ipython-input-19-4c276794fbe6>\"\u001b[1;36m, line \u001b[1;32m6\u001b[0m\n\u001b[1;33m    return math.log10(len(df_tf.index)/len([x for x in occurence if  ]))\u001b[0m\n\u001b[1;37m                                                                     ^\u001b[0m\n\u001b[1;31mSyntaxError\u001b[0m\u001b[1;31m:\u001b[0m invalid syntax\n"
     ]
    }
   ],
   "source": [
    "import math\n",
    "import numpy as np\n",
    "df[\"article_idf\",\"highlight1_idf\",\"highlight2_idf\",\"highlight3_idf\",\"highlight4_idf\",\"highlight5_idf\"] = np.NaN\n",
    "\n",
    "\n",
    "def idf(tf, df):\n",
    "    \n",
    "    idf_list = [idf for i]\n",
    "    return math.log10(len(df_tf.index)/len([x for x in occurence if  ]))"
   ]
  },
  {
   "cell_type": "code",
   "execution_count": 12,
   "metadata": {},
   "outputs": [
    {
     "ename": "NameError",
     "evalue": "name 'freq_stats_corpora' is not defined",
     "output_type": "error",
     "traceback": [
      "\u001b[1;31m---------------------------------------------------------------------------\u001b[0m",
      "\u001b[1;31mNameError\u001b[0m                                 Traceback (most recent call last)",
      "\u001b[1;32m<ipython-input-12-e2ef67c09b7d>\u001b[0m in \u001b[0;36m<module>\u001b[1;34m\u001b[0m\n\u001b[0;32m      5\u001b[0m \u001b[1;33m\u001b[0m\u001b[0m\n\u001b[0;32m      6\u001b[0m \u001b[1;31m# Récupération des comptages\u001b[0m\u001b[1;33m\u001b[0m\u001b[1;33m\u001b[0m\u001b[1;33m\u001b[0m\u001b[0m\n\u001b[1;32m----> 7\u001b[1;33m \u001b[0mfreq\u001b[0m\u001b[1;33m,\u001b[0m \u001b[0mstats\u001b[0m\u001b[1;33m,\u001b[0m \u001b[0mcorpora\u001b[0m \u001b[1;33m=\u001b[0m \u001b[0mfreq_stats_corpora\u001b[0m\u001b[1;33m(\u001b[0m\u001b[1;33m)\u001b[0m\u001b[1;33m\u001b[0m\u001b[1;33m\u001b[0m\u001b[0m\n\u001b[0m\u001b[0;32m      8\u001b[0m \u001b[0mdf\u001b[0m \u001b[1;33m=\u001b[0m \u001b[0mpd\u001b[0m\u001b[1;33m.\u001b[0m\u001b[0mDataFrame\u001b[0m\u001b[1;33m.\u001b[0m\u001b[0mfrom_dict\u001b[0m\u001b[1;33m(\u001b[0m\u001b[0mstats\u001b[0m\u001b[1;33m,\u001b[0m \u001b[0morient\u001b[0m\u001b[1;33m=\u001b[0m\u001b[1;34m'index'\u001b[0m\u001b[1;33m)\u001b[0m\u001b[1;33m\u001b[0m\u001b[1;33m\u001b[0m\u001b[0m\n\u001b[0;32m      9\u001b[0m \u001b[1;33m\u001b[0m\u001b[0m\n",
      "\u001b[1;31mNameError\u001b[0m: name 'freq_stats_corpora' is not defined"
     ]
    }
   ],
   "source": [
    "from nltk import FreqDist\n",
    "\n",
    "FreqDist()\n",
    "\n",
    "\n",
    "# Récupération des comptages\n",
    "freq, stats, corpora = freq_stats_corpora()\n",
    "df = pd.DataFrame.from_dict(stats, orient='index')\n",
    "\n",
    "# Affichage des fréquences\n",
    "df.sort(columns='total', ascending=False)\n",
    "df.plot(kind='bar', color=\"#f56900\", title='Top 50 Rappeurs par nombre de mots')"
   ]
  },
  {
   "cell_type": "code",
   "execution_count": 13,
   "metadata": {},
   "outputs": [
    {
     "ename": "NameError",
     "evalue": "name 'stop_words' is not defined",
     "output_type": "error",
     "traceback": [
      "\u001b[1;31m---------------------------------------------------------------------------\u001b[0m",
      "\u001b[1;31mNameError\u001b[0m                                 Traceback (most recent call last)",
      "\u001b[1;32m<ipython-input-13-7e2f08de18d5>\u001b[0m in \u001b[0;36m<module>\u001b[1;34m\u001b[0m\n\u001b[0;32m      1\u001b[0m \u001b[1;32mfrom\u001b[0m \u001b[0msklearn\u001b[0m\u001b[1;33m.\u001b[0m\u001b[0mfeature_extraction\u001b[0m\u001b[1;33m.\u001b[0m\u001b[0mtext\u001b[0m \u001b[1;32mimport\u001b[0m \u001b[0mTfidfVectorizer\u001b[0m\u001b[1;33m\u001b[0m\u001b[1;33m\u001b[0m\u001b[0m\n\u001b[0;32m      2\u001b[0m \u001b[1;33m\u001b[0m\u001b[0m\n\u001b[1;32m----> 3\u001b[1;33m \u001b[0mtfidf\u001b[0m \u001b[1;33m=\u001b[0m \u001b[0mTfidfVectorizer\u001b[0m\u001b[1;33m(\u001b[0m\u001b[0mstop_words\u001b[0m\u001b[1;33m=\u001b[0m\u001b[0mstop_words\u001b[0m\u001b[1;33m,\u001b[0m \u001b[0mtokenizer\u001b[0m\u001b[1;33m=\u001b[0m\u001b[0mtokenize\u001b[0m\u001b[1;33m,\u001b[0m \u001b[0mvocabulary\u001b[0m\u001b[1;33m=\u001b[0m\u001b[0mvocabulary\u001b[0m\u001b[1;33m)\u001b[0m\u001b[1;33m\u001b[0m\u001b[1;33m\u001b[0m\u001b[0m\n\u001b[0m\u001b[0;32m      4\u001b[0m \u001b[1;33m\u001b[0m\u001b[0m\n",
      "\u001b[1;31mNameError\u001b[0m: name 'stop_words' is not defined"
     ]
    }
   ],
   "source": [
    "from sklearn.feature_extraction.text import TfidfVectorizer\n",
    " \n",
    "tfidf = TfidfVectorizer(stop_words=stop_words, tokenizer=tokenize, vocabulary=vocabulary)\n",
    " "
   ]
  },
  {
   "cell_type": "code",
   "execution_count": null,
   "metadata": {},
   "outputs": [],
   "source": [
    "# Fit the TfIdf model\n",
    "tfidf.fit([reuters.raw(file_id) for file_id in reuters.fileids()])\n",
    " \n",
    "# Transform a document into TfIdf coordinates\n",
    "X = tfidf.transform([reuters.raw('test/14829')])\n",
    " \n",
    " \n",
    "# Check out some frequencies\n",
    "print X[0, tfidf.vocabulary_['year']]                   # 0.0562524229373\n",
    "print X[0, tfidf.vocabulary_['following']]              # 0.057140265658\n",
    "print X[0, tfidf.vocabulary_['provided']]               # 0.0689364372666\n",
    "print X[0, tfidf.vocabulary_['structural']]             # 0.0900802810906\n",
    "print X[0, tfidf.vocabulary_['japanese']]               # 0.114492409303\n",
    "print X[0, tfidf.vocabulary_['downtrend']]              # 0.111137191743"
   ]
  },
  {
   "cell_type": "code",
   "execution_count": null,
   "metadata": {},
   "outputs": [],
   "source": []
  },
  {
   "cell_type": "code",
   "execution_count": null,
   "metadata": {},
   "outputs": [],
   "source": []
  },
  {
   "cell_type": "code",
   "execution_count": null,
   "metadata": {},
   "outputs": [],
   "source": []
  },
  {
   "cell_type": "code",
   "execution_count": null,
   "metadata": {},
   "outputs": [],
   "source": [
    "# Premièrement, on récupère la fréquence totale de chaque mot sur tout le corpus d'artistes\n",
    "freq_totale = nltk.Counter()\n",
    "for k, v in corpora.iteritems():\n",
    " freq_totale += freq[k]\n",
    "\n",
    "# Deuxièmement on décide manière un peu arbitraire du nombre de mots les plus fréquents à supprimer. On pourrait afficher un graphe d'évolution du nombre de mots pour se rendre compte et avoir une meilleure heuristique. \n",
    "most_freq = zip(*freq2.most_common(100))[0]\n",
    "\n",
    "# On créé notre set de stopwords final qui cumule ainsi les 100 mots les plus fréquents du corpus ainsi que l'ensemble de stopwords par défaut présent dans la librairie NLTK\n",
    "sw = set()\n",
    "sw.update(stopwords)\n",
    "sw.update(tuple(nltk.corpus.stopwords.words('french')))"
   ]
  },
  {
   "cell_type": "markdown",
   "metadata": {},
   "source": [
    "### Enregistrement du nouveau jeu de données d’entraînement pour usage ultérieur"
   ]
  },
  {
   "cell_type": "code",
   "execution_count": null,
   "metadata": {},
   "outputs": [],
   "source": []
  }
 ],
 "metadata": {
  "kernelspec": {
   "display_name": "Python 3",
   "language": "python",
   "name": "python3"
  },
  "language_info": {
   "codemirror_mode": {
    "name": "ipython",
    "version": 3
   },
   "file_extension": ".py",
   "mimetype": "text/x-python",
   "name": "python",
   "nbconvert_exporter": "python",
   "pygments_lexer": "ipython3",
   "version": "3.7.1"
  }
 },
 "nbformat": 4,
 "nbformat_minor": 2
}
