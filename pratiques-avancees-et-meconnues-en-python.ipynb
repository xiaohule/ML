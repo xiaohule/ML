{
 "cells": [
  {
   "cell_type": "code",
   "execution_count": 1,
   "metadata": {},
   "outputs": [],
   "source": [
    "import numpy as np"
   ]
  },
  {
   "cell_type": "code",
   "execution_count": 6,
   "metadata": {},
   "outputs": [],
   "source": [
    "liste=np.random.randint(0,15,10)"
   ]
  },
  {
   "cell_type": "code",
   "execution_count": 7,
   "metadata": {},
   "outputs": [
    {
     "data": {
      "text/plain": [
       "array([14,  7, 12,  4, 10,  7,  1, 14, 13,  9])"
      ]
     },
     "execution_count": 7,
     "metadata": {},
     "output_type": "execute_result"
    }
   ],
   "source": [
    "liste"
   ]
  },
  {
   "cell_type": "code",
   "execution_count": null,
   "metadata": {},
   "outputs": [],
   "source": [
    "for indice, valeur in enumerate(liste):\n",
    "    print(\"liste[%d] = %r\" % (indice, valeur))"
   ]
  },
  {
   "cell_type": "code",
   "execution_count": 8,
   "metadata": {},
   "outputs": [
    {
     "name": "stdout",
     "output_type": "stream",
     "text": [
      "liste[0] = 14\n",
      "liste[1] = 7\n",
      "liste[2] = 12\n",
      "liste[3] = 4\n",
      "liste[4] = 10\n",
      "liste[5] = 7\n",
      "liste[6] = 1\n",
      "liste[7] = 14\n",
      "liste[8] = 13\n",
      "liste[9] = 9\n",
      "liste[0] = 14\n",
      "liste[1] = 7\n",
      "liste[2] = 12\n",
      "liste[3] = 4\n",
      "liste[4] = 10\n",
      "liste[5] = 7\n",
      "liste[6] = 1\n",
      "liste[7] = 14\n",
      "liste[8] = 13\n",
      "liste[9] = 9\n"
     ]
    }
   ],
   "source": [
    "# ou sinon, comme enumerate renvoie une liste de tuples :\n",
    "for indval in enumerate(liste):\n",
    "    print(\"liste[%d] = %r\" % indval)"
   ]
  },
  {
   "cell_type": "code",
   "execution_count": 13,
   "metadata": {},
   "outputs": [],
   "source": [
    "#Une list comprehension a la syntaxe suivante :\n",
    "#[expression for element in liste if predicat]\n",
    "l = [x**2 for x in range(0,10,2) if x > 5]"
   ]
  },
  {
   "cell_type": "code",
   "execution_count": 14,
   "metadata": {},
   "outputs": [
    {
     "data": {
      "text/plain": [
       "[36, 64]"
      ]
     },
     "execution_count": 14,
     "metadata": {},
     "output_type": "execute_result"
    }
   ],
   "source": [
    "l"
   ]
  },
  {
   "cell_type": "code",
   "execution_count": 15,
   "metadata": {},
   "outputs": [],
   "source": [
    "# Maintenant que les list comprehensions n'ont plus de secrets pour vous, voyons leur petite soeur : \n",
    "# les generator expressions.\n",
    "# Ces expressions sont très proches des list comprehensions ; la seule différence est que, \n",
    "# contrairement aux list comprehensions qui renvoient une liste, \n",
    "# la generator expression renvoie un générateur sur lequel on peut itérer pour récupérer les éléments calculés\n",
    "#(expression for element in liste if predicat)\n"
   ]
  },
  {
   "cell_type": "code",
   "execution_count": 19,
   "metadata": {},
   "outputs": [
    {
     "name": "stdout",
     "output_type": "stream",
     "text": [
      "a   d\n",
      "b   e\n",
      "c   f\n"
     ]
    }
   ],
   "source": [
    "for l1,l2 in zip(['a', 'b', 'c'], ['d', 'e', 'f']):\n",
    "    print(l1,\" \",l2)\n"
   ]
  },
  {
   "cell_type": "code",
   "execution_count": 18,
   "metadata": {},
   "outputs": [
    {
     "data": {
      "text/plain": [
       "<zip at 0x230764a7548>"
      ]
     },
     "execution_count": 18,
     "metadata": {},
     "output_type": "execute_result"
    }
   ],
   "source": [
    "l"
   ]
  },
  {
   "cell_type": "code",
   "execution_count": null,
   "metadata": {},
   "outputs": [],
   "source": []
  }
 ],
 "metadata": {
  "kernelspec": {
   "display_name": "Python 3",
   "language": "python",
   "name": "python3"
  },
  "language_info": {
   "codemirror_mode": {
    "name": "ipython",
    "version": 3
   },
   "file_extension": ".py",
   "mimetype": "text/x-python",
   "name": "python",
   "nbconvert_exporter": "python",
   "pygments_lexer": "ipython3",
   "version": "3.7.1"
  }
 },
 "nbformat": 4,
 "nbformat_minor": 2
}
