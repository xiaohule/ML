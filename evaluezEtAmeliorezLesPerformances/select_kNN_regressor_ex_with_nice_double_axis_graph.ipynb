{
 "cells": [
  {
   "cell_type": "code",
   "execution_count": 1,
   "metadata": {},
   "outputs": [],
   "source": [
    "import numpy as np\n",
    "import pandas as pd\n",
    "import matplotlib.pyplot as plt\n",
    "from sklearn.preprocessing import StandardScaler\n",
    "from sklearn.neighbors import KNeighborsRegressor\n",
    "from sklearn.model_selection import train_test_split, GridSearchCV\n",
    "from sklearn.metrics import mean_squared_error, r2_score\n",
    "from sklearn.dummy import DummyRegressor"
   ]
  },
  {
   "cell_type": "markdown",
   "metadata": {},
   "source": [
    "# Chargement et preprocessing des données"
   ]
  },
  {
   "cell_type": "code",
   "execution_count": 2,
   "metadata": {},
   "outputs": [
    {
     "name": "stdout",
     "output_type": "stream",
     "text": [
      "(1599, 12)\n"
     ]
    },
    {
     "data": {
      "text/html": [
       "<div>\n",
       "<style scoped>\n",
       "    .dataframe tbody tr th:only-of-type {\n",
       "        vertical-align: middle;\n",
       "    }\n",
       "\n",
       "    .dataframe tbody tr th {\n",
       "        vertical-align: top;\n",
       "    }\n",
       "\n",
       "    .dataframe thead th {\n",
       "        text-align: right;\n",
       "    }\n",
       "</style>\n",
       "<table border=\"1\" class=\"dataframe\">\n",
       "  <thead>\n",
       "    <tr style=\"text-align: right;\">\n",
       "      <th></th>\n",
       "      <th>fixed acidity</th>\n",
       "      <th>volatile acidity</th>\n",
       "      <th>citric acid</th>\n",
       "      <th>residual sugar</th>\n",
       "      <th>chlorides</th>\n",
       "      <th>free sulfur dioxide</th>\n",
       "      <th>total sulfur dioxide</th>\n",
       "      <th>density</th>\n",
       "      <th>pH</th>\n",
       "      <th>sulphates</th>\n",
       "      <th>alcohol</th>\n",
       "      <th>quality</th>\n",
       "    </tr>\n",
       "  </thead>\n",
       "  <tbody>\n",
       "    <tr>\n",
       "      <th>0</th>\n",
       "      <td>7.4</td>\n",
       "      <td>0.70</td>\n",
       "      <td>0.00</td>\n",
       "      <td>1.9</td>\n",
       "      <td>0.076</td>\n",
       "      <td>11.0</td>\n",
       "      <td>34.0</td>\n",
       "      <td>0.9978</td>\n",
       "      <td>3.51</td>\n",
       "      <td>0.56</td>\n",
       "      <td>9.4</td>\n",
       "      <td>5</td>\n",
       "    </tr>\n",
       "    <tr>\n",
       "      <th>1</th>\n",
       "      <td>7.8</td>\n",
       "      <td>0.88</td>\n",
       "      <td>0.00</td>\n",
       "      <td>2.6</td>\n",
       "      <td>0.098</td>\n",
       "      <td>25.0</td>\n",
       "      <td>67.0</td>\n",
       "      <td>0.9968</td>\n",
       "      <td>3.20</td>\n",
       "      <td>0.68</td>\n",
       "      <td>9.8</td>\n",
       "      <td>5</td>\n",
       "    </tr>\n",
       "    <tr>\n",
       "      <th>2</th>\n",
       "      <td>7.8</td>\n",
       "      <td>0.76</td>\n",
       "      <td>0.04</td>\n",
       "      <td>2.3</td>\n",
       "      <td>0.092</td>\n",
       "      <td>15.0</td>\n",
       "      <td>54.0</td>\n",
       "      <td>0.9970</td>\n",
       "      <td>3.26</td>\n",
       "      <td>0.65</td>\n",
       "      <td>9.8</td>\n",
       "      <td>5</td>\n",
       "    </tr>\n",
       "    <tr>\n",
       "      <th>3</th>\n",
       "      <td>11.2</td>\n",
       "      <td>0.28</td>\n",
       "      <td>0.56</td>\n",
       "      <td>1.9</td>\n",
       "      <td>0.075</td>\n",
       "      <td>17.0</td>\n",
       "      <td>60.0</td>\n",
       "      <td>0.9980</td>\n",
       "      <td>3.16</td>\n",
       "      <td>0.58</td>\n",
       "      <td>9.8</td>\n",
       "      <td>6</td>\n",
       "    </tr>\n",
       "    <tr>\n",
       "      <th>4</th>\n",
       "      <td>7.4</td>\n",
       "      <td>0.70</td>\n",
       "      <td>0.00</td>\n",
       "      <td>1.9</td>\n",
       "      <td>0.076</td>\n",
       "      <td>11.0</td>\n",
       "      <td>34.0</td>\n",
       "      <td>0.9978</td>\n",
       "      <td>3.51</td>\n",
       "      <td>0.56</td>\n",
       "      <td>9.4</td>\n",
       "      <td>5</td>\n",
       "    </tr>\n",
       "  </tbody>\n",
       "</table>\n",
       "</div>"
      ],
      "text/plain": [
       "   fixed acidity  volatile acidity  citric acid  residual sugar  chlorides  \\\n",
       "0            7.4              0.70         0.00             1.9      0.076   \n",
       "1            7.8              0.88         0.00             2.6      0.098   \n",
       "2            7.8              0.76         0.04             2.3      0.092   \n",
       "3           11.2              0.28         0.56             1.9      0.075   \n",
       "4            7.4              0.70         0.00             1.9      0.076   \n",
       "\n",
       "   free sulfur dioxide  total sulfur dioxide  density    pH  sulphates  \\\n",
       "0                 11.0                  34.0   0.9978  3.51       0.56   \n",
       "1                 25.0                  67.0   0.9968  3.20       0.68   \n",
       "2                 15.0                  54.0   0.9970  3.26       0.65   \n",
       "3                 17.0                  60.0   0.9980  3.16       0.58   \n",
       "4                 11.0                  34.0   0.9978  3.51       0.56   \n",
       "\n",
       "   alcohol  quality  \n",
       "0      9.4        5  \n",
       "1      9.8        5  \n",
       "2      9.8        5  \n",
       "3      9.8        6  \n",
       "4      9.4        5  "
      ]
     },
     "execution_count": 2,
     "metadata": {},
     "output_type": "execute_result"
    }
   ],
   "source": [
    "df = pd.read_csv('winequality-red.csv', sep=';')\n",
    "print(df.shape)\n",
    "df.head()"
   ]
  },
  {
   "cell_type": "code",
   "execution_count": 3,
   "metadata": {},
   "outputs": [
    {
     "data": {
      "text/plain": [
       "5    681\n",
       "6    638\n",
       "7    199\n",
       "4     53\n",
       "8     18\n",
       "3     10\n",
       "Name: quality, dtype: int64"
      ]
     },
     "execution_count": 3,
     "metadata": {},
     "output_type": "execute_result"
    }
   ],
   "source": [
    "pd.value_counts(df.quality)"
   ]
  },
  {
   "cell_type": "code",
   "execution_count": 4,
   "metadata": {},
   "outputs": [],
   "source": [
    "X = df.iloc[:, :11]\n",
    "y = df.quality\n",
    "\n",
    "X_train, X_test, y_train, y_test = train_test_split(X, y, test_size=0.3, random_state=1506)\n",
    "\n",
    "sc = StandardScaler()\n",
    "X_train_std = sc.fit_transform(X_train)\n",
    "X_test_std = sc.transform(X_test)"
   ]
  },
  {
   "cell_type": "markdown",
   "metadata": {},
   "source": [
    "# Baseline naives\n",
    "## Valeur de qualité aléatoire\n",
    "La qualité du vin est choisi aléatoirement entre la moins bonne et la meilleure note du jeu d'entrainement."
   ]
  },
  {
   "cell_type": "code",
   "execution_count": 5,
   "metadata": {
    "scrolled": true
   },
   "outputs": [],
   "source": [
    "n = len(X_test)\n",
    "y_pred_aleatoire = y_train.min() + np.random.rand(n) * (y_train.max() - y_train.min())"
   ]
  },
  {
   "cell_type": "markdown",
   "metadata": {},
   "source": [
    "## Valeur moyenne"
   ]
  },
  {
   "cell_type": "code",
   "execution_count": 6,
   "metadata": {},
   "outputs": [],
   "source": [
    "y_pred_moyenne = y_train.mean() * np.ones(n)"
   ]
  },
  {
   "cell_type": "markdown",
   "metadata": {},
   "source": [
    "## Valeur médiane"
   ]
  },
  {
   "cell_type": "code",
   "execution_count": 7,
   "metadata": {},
   "outputs": [],
   "source": [
    "y_pred_mediane = y_train.median() * np.ones(n)"
   ]
  },
  {
   "cell_type": "markdown",
   "metadata": {},
   "source": [
    "# Métriques de performance\n",
    "On utilise 2 métriques pour comparer les performances des régresseurs: la MSE et le R²."
   ]
  },
  {
   "cell_type": "code",
   "execution_count": 8,
   "metadata": {},
   "outputs": [
    {
     "name": "stdout",
     "output_type": "stream",
     "text": [
      "{'aleatoire': 2.6781035079548605, 'moyenne': 0.6221230836130497, 'mediane': 0.7625}\n",
      "{'aleatoire': -3.306498103243997, 'moyenne': -0.0003989284229946044, 'mediane': -0.22613065326633164}\n"
     ]
    }
   ],
   "source": [
    "MSE_dict = {'aleatoire': mean_squared_error(y_test, y_pred_aleatoire),\n",
    "       'moyenne': mean_squared_error(y_test, y_pred_moyenne),\n",
    "       'mediane': mean_squared_error(y_test, y_pred_mediane)}\n",
    "R2_dict = {'aleatoire': r2_score(y_test, y_pred_aleatoire),\n",
    "       'moyenne': r2_score(y_test, y_pred_moyenne),\n",
    "       'mediane': r2_score(y_test, y_pred_mediane)}\n",
    "\n",
    "print(MSE_dict)\n",
    "print(R2_dict)"
   ]
  },
  {
   "cell_type": "markdown",
   "metadata": {},
   "source": [
    "Intriguant: on a un R² négatif pour les 3 régresseurs, d'après la doc de scikit-learn ça serait possible d'avoir un R² négatif.\n",
    "# Implémentation de notre propre régresseur à l'aide de KNeighborsRegressor\n",
    "On peut réutiliser ici une partie du code de l'exercice du premier chapitre du cours."
   ]
  },
  {
   "cell_type": "code",
   "execution_count": 9,
   "metadata": {},
   "outputs": [],
   "source": [
    "def my_grid_search(reg, X, y, param_n_neighbors, cv=5):\n",
    "    MSE = {}\n",
    "    R2 = {}\n",
    "    k_fold_MSE = {}\n",
    "    k_fold_R2 = {}\n",
    "    \n",
    "    n = len(X)\n",
    "    idx_sep = (n/cv * np.arange(cv + 1)).astype('int64')\n",
    "    \n",
    "    for neighbors in param_n_neighbors:\n",
    "        reg.set_params(n_neighbors=neighbors)\n",
    "        k_fold_MSE[neighbors] = []\n",
    "        k_fold_R2[neighbors] = []\n",
    "        for k in np.arange(cv):\n",
    "            mask = (np.arange(n) >= idx_sep[k]) & (np.arange(n) < idx_sep[k + 1])\n",
    "            X_train_k, y_train_k = X[~mask], y[~mask]\n",
    "            X_test_k, y_test_k = X[mask], y[mask]\n",
    "            \n",
    "            reg.fit(X_train_k, y_train_k)\n",
    "            y_pred = reg.predict(X_test_k)\n",
    "            k_fold_MSE[neighbors].append(mean_squared_error(y_test_k, y_pred))\n",
    "            k_fold_R2[neighbors].append(r2_score(y_test_k, y_pred))\n",
    "            \n",
    "        MSE[neighbors] = np.mean(k_fold_MSE[neighbors])\n",
    "        R2[neighbors] = np.mean(k_fold_R2[neighbors])\n",
    "    return(param_n_neighbors, MSE, R2, k_fold_MSE, k_fold_R2) "
   ]
  },
  {
   "cell_type": "code",
   "execution_count": 10,
   "metadata": {},
   "outputs": [],
   "source": [
    "param = [2, 3, 4, 5, 6, 8, 10, 12, 15, 18, 22, 27, 33, 40, 50, 75, 100]\n",
    "(n_neighbors, mse, r2, _ , _) = my_grid_search(KNeighborsRegressor(), X_train_std, y_train, param, cv=5)"
   ]
  },
  {
   "cell_type": "code",
   "execution_count": 11,
   "metadata": {
    "scrolled": false
   },
   "outputs": [
    {
     "data": {
      "image/png": "[encoded data removed]",
      "text/plain": [
       "<Figure size 576x432 with 2 Axes>"
      ]
     },
     "metadata": {
      "needs_background": "light"
     },
     "output_type": "display_data"
    }
   ],
   "source": [
    "fig, ax1 = plt.subplots(figsize=(8, 6))\n",
    "\n",
    "color = 'tab:red'\n",
    "ax1.set_xlabel('Number of neighbors')\n",
    "ax1.set_ylabel('MSE moyen', color=color)\n",
    "ax1.plot(n_neighbors, mse.values(), color=color)\n",
    "ax1.tick_params(axis='y', labelcolor=color)\n",
    "\n",
    "ax2 = ax1.twinx()  # instantiate a second axes that shares the same x-axis\n",
    "\n",
    "color = 'tab:blue'\n",
    "ax2.set_ylabel('R² moyen', color=color)  # we already handled the x-label with ax1\n",
    "ax2.plot(n_neighbors, r2.values(), color=color)\n",
    "ax2.tick_params(axis='y', labelcolor=color)\n",
    "\n",
    "fig.tight_layout()  # otherwise the right y-label is slightly clipped\n",
    "plt.show()"
   ]
  },
  {
   "cell_type": "markdown",
   "metadata": {},
   "source": [
    "Le nombre de voisins optimal est 40. Il présente une MSE la plus faible. On remarque que la MSE est inversement proportionnel au R²."
   ]
  },
  {
   "cell_type": "code",
   "execution_count": 12,
   "metadata": {
    "scrolled": true
   },
   "outputs": [
    {
     "name": "stdout",
     "output_type": "stream",
     "text": [
      "R² score on test set: 0.33111390284757114\n"
     ]
    }
   ],
   "source": [
    "knn = KNeighborsRegressor(n_neighbors=40).fit(X_train_std, y_train)\n",
    "y_pred = knn.predict(X_test_std)\n",
    "MSE_dict['my_grid_40'] = mean_squared_error(y_test, y_pred)\n",
    "R2_dict['my_grid_40'] = r2_score(y_test, y_pred)\n",
    "print('R² score on test set: {}'.format(R2_dict['my_grid_40']))"
   ]
  },
  {
   "cell_type": "markdown",
   "metadata": {},
   "source": [
    "# Equivalent en utilisant la fonction GridSearchCV de scikit-learn"
   ]
  },
  {
   "cell_type": "code",
   "execution_count": 13,
   "metadata": {
    "scrolled": true
   },
   "outputs": [
    {
     "name": "stdout",
     "output_type": "stream",
     "text": [
      "{'n_neighbors': 40}\n",
      "R² score on test set: 0.33111390284757114\n"
     ]
    }
   ],
   "source": [
    "neigh_dict = {'n_neighbors': [2, 3, 4, 5, 6, 8, 10, 12, 15, 18, 22, 27, 33, 40, 50, 75, 100]}\n",
    "score = 'r2'\n",
    "grid_cv = GridSearchCV(KNeighborsRegressor(),\n",
    "                    param_grid=neigh_dict,\n",
    "                    scoring=score,\n",
    "                    cv=5)\n",
    "\n",
    "grid_cv.fit(X_train_std, y_train)\n",
    "print(grid_cv.best_params_)\n",
    "y_pred = grid_cv.predict(X_test_std)\n",
    "MSE_dict['sklearn_best_grid'] = mean_squared_error(y_test, y_pred)\n",
    "R2_dict['sklearn_best_grid'] = r2_score(y_test, y_pred)\n",
    "print('R² score on test set: {}'.format(R2_dict['sklearn_best_grid']))"
   ]
  },
  {
   "cell_type": "markdown",
   "metadata": {},
   "source": [
    "On obtient le même R² avec la fonction implémentée et celle de sklearn.  \n",
    "On utilisera donc comme modèle finale, celui avec 40 voisins qui dépasse nettement les performances des régresseurs naives."
   ]
  },
  {
   "cell_type": "code",
   "execution_count": 14,
   "metadata": {
    "scrolled": true
   },
   "outputs": [
    {
     "name": "stdout",
     "output_type": "stream",
     "text": [
      "MEAN SQUARED ERROR: {'aleatoire': 2.6781035079548605, 'moyenne': 0.6221230836130497, 'mediane': 0.7625, 'my_grid_40': 0.4159635416666667, 'sklearn_best_grid': 0.4159635416666667}\n",
      "R SQUARED: {'aleatoire': -3.306498103243997, 'moyenne': -0.0003989284229946044, 'mediane': -0.22613065326633164, 'my_grid_40': 0.33111390284757114, 'sklearn_best_grid': 0.33111390284757114}\n"
     ]
    }
   ],
   "source": [
    "print('MEAN SQUARED ERROR:', MSE_dict)\n",
    "print('R SQUARED:', R2_dict)"
   ]
  },
  {
   "cell_type": "code",
   "execution_count": 15,
   "metadata": {
    "scrolled": true
   },
   "outputs": [
    {
     "data": {
      "text/plain": [
       "[]"
      ]
     },
     "execution_count": 15,
     "metadata": {},
     "output_type": "execute_result"
    },
    {
     "data": {
      "image/png": "[encoded data removed]",
      "text/plain": [
       "<Figure size 432x288 with 1 Axes>"
      ]
     },
     "metadata": {
      "needs_background": "light"
     },
     "output_type": "display_data"
    }
   ],
   "source": [
    "sizes = {} # clé : coordonnées ; valeur : nombre de points à ces coordonnées\n",
    "for (yt, yp) in zip(list(y_test), list(y_pred)):\n",
    "    if (yt, yp) in sizes.keys():\n",
    "        sizes[(yt, yp)] += 1\n",
    "    else:\n",
    "        sizes[(yt, yp)] = 1\n",
    "\n",
    "keys = sizes.keys()\n",
    "plt.scatter([k[0] for k in keys], # vraie valeur (abscisse)\n",
    "            [k[1] for k in keys], # valeur predite (ordonnee)\n",
    "            s=[sizes[k] * 3 for k in keys], # taille du marqueur\n",
    "            color='coral')\n",
    "plt.xlabel('True quality')\n",
    "plt.ylabel('Predicted quality')\n",
    "plt.plot()"
   ]
  }
 ],
 "metadata": {
  "kernelspec": {
   "display_name": "Python 3",
   "language": "python",
   "name": "python3"
  },
  "language_info": {
   "codemirror_mode": {
    "name": "ipython",
    "version": 3
   },
   "file_extension": ".py",
   "mimetype": "text/x-python",
   "name": "python",
   "nbconvert_exporter": "python",
   "pygments_lexer": "ipython3",
   "version": "3.7.1"
  }
 },
 "nbformat": 4,
 "nbformat_minor": 2
}
