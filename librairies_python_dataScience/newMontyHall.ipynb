{
 "cells": [
  {
   "cell_type": "code",
   "execution_count": 70,
   "metadata": {},
   "outputs": [],
   "source": [
    "%matplotlib inline\n",
    "import numpy as np\n",
    "import pandas as pd\n",
    "import seaborn as sns\n",
    "from enum import Enum"
   ]
  },
  {
   "cell_type": "code",
   "execution_count": 76,
   "metadata": {},
   "outputs": [],
   "source": [
    "class Strategie(Enum):\n",
    "    GARDER=0\n",
    "    CHANGER=1"
   ]
  },
  {
   "cell_type": "code",
   "execution_count": 174,
   "metadata": {},
   "outputs": [],
   "source": [
    "nb_tours=10\n",
    "liste_porte=[np.random.choice([\"voiture\", \"chevre\", \"chevre\"], 3, replace=False) for i in np.arange(nb_tours)]"
   ]
  },
  {
   "cell_type": "code",
   "execution_count": 175,
   "metadata": {},
   "outputs": [],
   "source": [
    "portes=pd.DataFrame(liste_porte,columns=[\"gauche\",\"centrale\",\"droite\"])"
   ]
  },
  {
   "cell_type": "code",
   "execution_count": 177,
   "metadata": {},
   "outputs": [],
   "source": [
    "for i in np.arange(nb_tours):\n",
    "    portes.iloc[i][np.random.choice([\"gauche\", \"centrale\", \"droite\"])]+=\"_1er_choix\""
   ]
  },
  {
   "cell_type": "code",
   "execution_count": 178,
   "metadata": {},
   "outputs": [
    {
     "data": {
      "text/html": [
       "<div>\n",
       "<style scoped>\n",
       "    .dataframe tbody tr th:only-of-type {\n",
       "        vertical-align: middle;\n",
       "    }\n",
       "\n",
       "    .dataframe tbody tr th {\n",
       "        vertical-align: top;\n",
       "    }\n",
       "\n",
       "    .dataframe thead th {\n",
       "        text-align: right;\n",
       "    }\n",
       "</style>\n",
       "<table border=\"1\" class=\"dataframe\">\n",
       "  <thead>\n",
       "    <tr style=\"text-align: right;\">\n",
       "      <th></th>\n",
       "      <th>gauche</th>\n",
       "      <th>centrale</th>\n",
       "      <th>droite</th>\n",
       "    </tr>\n",
       "  </thead>\n",
       "  <tbody>\n",
       "    <tr>\n",
       "      <th>0</th>\n",
       "      <td>voiture</td>\n",
       "      <td>chevre</td>\n",
       "      <td>chevre_1er_choix</td>\n",
       "    </tr>\n",
       "    <tr>\n",
       "      <th>1</th>\n",
       "      <td>voiture</td>\n",
       "      <td>chevre</td>\n",
       "      <td>chevre_1er_choix</td>\n",
       "    </tr>\n",
       "    <tr>\n",
       "      <th>2</th>\n",
       "      <td>chevre_1er_choix</td>\n",
       "      <td>voiture</td>\n",
       "      <td>chevre</td>\n",
       "    </tr>\n",
       "    <tr>\n",
       "      <th>3</th>\n",
       "      <td>voiture</td>\n",
       "      <td>chevre</td>\n",
       "      <td>chevre_1er_choix</td>\n",
       "    </tr>\n",
       "    <tr>\n",
       "      <th>4</th>\n",
       "      <td>chevre</td>\n",
       "      <td>voiture_1er_choix</td>\n",
       "      <td>chevre</td>\n",
       "    </tr>\n",
       "    <tr>\n",
       "      <th>5</th>\n",
       "      <td>voiture</td>\n",
       "      <td>chevre_1er_choix</td>\n",
       "      <td>chevre</td>\n",
       "    </tr>\n",
       "    <tr>\n",
       "      <th>6</th>\n",
       "      <td>chevre</td>\n",
       "      <td>chevre</td>\n",
       "      <td>voiture_1er_choix</td>\n",
       "    </tr>\n",
       "    <tr>\n",
       "      <th>7</th>\n",
       "      <td>chevre</td>\n",
       "      <td>voiture_1er_choix</td>\n",
       "      <td>chevre</td>\n",
       "    </tr>\n",
       "    <tr>\n",
       "      <th>8</th>\n",
       "      <td>chevre_1er_choix</td>\n",
       "      <td>voiture</td>\n",
       "      <td>chevre</td>\n",
       "    </tr>\n",
       "    <tr>\n",
       "      <th>9</th>\n",
       "      <td>chevre_1er_choix</td>\n",
       "      <td>chevre</td>\n",
       "      <td>voiture</td>\n",
       "    </tr>\n",
       "  </tbody>\n",
       "</table>\n",
       "</div>"
      ],
      "text/plain": [
       "             gauche           centrale             droite\n",
       "0           voiture             chevre   chevre_1er_choix\n",
       "1           voiture             chevre   chevre_1er_choix\n",
       "2  chevre_1er_choix            voiture             chevre\n",
       "3           voiture             chevre   chevre_1er_choix\n",
       "4            chevre  voiture_1er_choix             chevre\n",
       "5           voiture   chevre_1er_choix             chevre\n",
       "6            chevre             chevre  voiture_1er_choix\n",
       "7            chevre  voiture_1er_choix             chevre\n",
       "8  chevre_1er_choix            voiture             chevre\n",
       "9  chevre_1er_choix             chevre            voiture"
      ]
     },
     "execution_count": 178,
     "metadata": {},
     "output_type": "execute_result"
    }
   ],
   "source": [
    "portes"
   ]
  },
  {
   "cell_type": "code",
   "execution_count": null,
   "metadata": {},
   "outputs": [],
   "source": [
    "for i in np.arange(nb_tours):\n",
    "    portes.iloc[i][np.random.choice([\"gauche\", \"centrale\", \"droite\"])]+=\"_1er_choix\""
   ]
  }
 ],
 "metadata": {
  "kernelspec": {
   "display_name": "Python 3",
   "language": "python",
   "name": "python3"
  },
  "language_info": {
   "codemirror_mode": {
    "name": "ipython",
    "version": 3
   },
   "file_extension": ".py",
   "mimetype": "text/x-python",
   "name": "python",
   "nbconvert_exporter": "python",
   "pygments_lexer": "ipython3",
   "version": "3.7.1"
  }
 },
 "nbformat": 4,
 "nbformat_minor": 2
}
